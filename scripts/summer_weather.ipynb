{
 "cells": [
  {
   "cell_type": "code",
   "execution_count": 1,
   "id": "31efa52b",
   "metadata": {},
   "outputs": [],
   "source": [
    "import requests\n",
    "import pandas as pd\n",
    "from bs4 import BeautifulSoup as BS\n",
    "import json\n",
    "import seaborn as sns\n",
    "import re\n",
    "from IPython.core.display import HTML"
   ]
  },
  {
   "cell_type": "code",
   "execution_count": 2,
   "id": "35f195b2",
   "metadata": {},
   "outputs": [],
   "source": [
    "summer_2013 = pd.read_csv('../data/summer_2013_weather.csv')\n",
    "summer_2014 = pd.read_csv('../data/summer_2014_weather.csv')\n",
    "summer_2015 = pd.read_csv('../data/summer_2015_weather.csv')\n",
    "summer_2016 = pd.read_csv('../data/summer_2016_weather.csv')\n",
    "summer_2017 = pd.read_csv('../data/summer_2017_weather.csv')\n",
    "summer_2018 = pd.read_csv('../data/summer_2018_weather.csv')\n",
    "summer_2019 = pd.read_csv('../data/summer_2019_weather.csv')\n",
    "summer_2020 = pd.read_csv('../data/summer_2020_weather.csv')\n",
    "summer_2021 = pd.read_csv('../data/summer_2021_weather.csv')\n",
    "summer_2022 = pd.read_csv('../data/summer_2022_weather.csv')"
   ]
  },
  {
   "cell_type": "markdown",
   "id": "eb786235",
   "metadata": {},
   "source": [
    "# 2013"
   ]
  },
  {
   "cell_type": "code",
   "execution_count": 3,
   "id": "d7e50a33",
   "metadata": {},
   "outputs": [],
   "source": [
    "summer_2013 = summer_2013.drop(columns={'feelslikemax',\n",
    "       'feelslikemin', 'feelslike', 'dew', 'snow', 'snowdepth', 'winddir', 'sealevelpressure', 'visibility',\n",
    "       'solarradiation', 'solarenergy', 'uvindex', 'severerisk', 'moonphase', 'icon', 'stations', 'windgust',\n",
    "        'description', 'sunrise', 'sunset', 'cloudcover', 'precip', 'precipcover'})"
   ]
  },
  {
   "cell_type": "code",
   "execution_count": 4,
   "id": "48af4b58",
   "metadata": {},
   "outputs": [],
   "source": [
    "summer_2013['location'] = summer_2013['name'].apply(lambda x: 'Gulfport Beach' if x == 39501 else ('Isle of Palms' if x == 29451 else 'Panama City Beach' if x == 32407 else 'Dauphin Island' if x == 36528 else 'Orange Beach' if x == 36561 else 'Miramar Beach' if x == 32550 else 'Tybee Island'))"
   ]
  },
  {
   "cell_type": "markdown",
   "id": "7f312e77",
   "metadata": {},
   "source": [
    "# 2014"
   ]
  },
  {
   "cell_type": "code",
   "execution_count": 5,
   "id": "e07bef2e",
   "metadata": {},
   "outputs": [],
   "source": [
    "summer_2014 = summer_2014.drop(columns={'feelslikemax',\n",
    "       'feelslikemin', 'feelslike', 'dew', 'snow', 'snowdepth', 'winddir', 'sealevelpressure', 'visibility',\n",
    "       'solarradiation', 'solarenergy', 'uvindex', 'severerisk', 'moonphase', 'icon', 'stations', 'windgust',\n",
    "        'description', 'sunrise', 'sunset', 'cloudcover', 'precip', 'precipcover'})"
   ]
  },
  {
   "cell_type": "code",
   "execution_count": 6,
   "id": "64e8178c",
   "metadata": {},
   "outputs": [],
   "source": [
    "summer_2014['location'] = summer_2014['name'].apply(lambda x: 'Gulfport Beach' if x == 39501 else ('Isle of Palms' if x == 29451 else 'Panama City Beach' if x == 32407 else 'Dauphin Island' if x == 36528 else 'Orange Beach' if x == 36561 else 'Miramar Beach' if x == 32550 else 'Tybee Island'))"
   ]
  },
  {
   "cell_type": "markdown",
   "id": "ccdafac0",
   "metadata": {},
   "source": [
    "# 2015"
   ]
  },
  {
   "cell_type": "code",
   "execution_count": 7,
   "id": "6d5ec9a5",
   "metadata": {},
   "outputs": [],
   "source": [
    "summer_2015 = summer_2015.drop(columns={'feelslikemax',\n",
    "       'feelslikemin', 'feelslike', 'dew', 'snow', 'snowdepth', 'winddir', 'sealevelpressure', 'visibility',\n",
    "       'solarradiation', 'solarenergy', 'uvindex', 'severerisk', 'moonphase', 'icon', 'stations', 'windgust',\n",
    "        'description', 'sunrise', 'sunset', 'cloudcover', 'precip', 'precipcover'})"
   ]
  },
  {
   "cell_type": "code",
   "execution_count": 8,
   "id": "57f05ccf",
   "metadata": {},
   "outputs": [],
   "source": [
    "summer_2015['location'] = summer_2015['name'].apply(lambda x: 'Gulfport Beach' if x == 39501 else ('Isle of Palms' if x == 29451 else 'Panama City Beach' if x == 32407 else 'Dauphin Island' if x == 36528 else 'Orange Beach' if x == 36561 else 'Miramar Beach' if x == 32550 else 'Tybee Island'))"
   ]
  },
  {
   "cell_type": "markdown",
   "id": "dc41988e",
   "metadata": {},
   "source": [
    "# 2016"
   ]
  },
  {
   "cell_type": "code",
   "execution_count": 9,
   "id": "52184811",
   "metadata": {},
   "outputs": [],
   "source": [
    "summer_2016 = summer_2016.drop(columns={'feelslikemax',\n",
    "       'feelslikemin', 'feelslike', 'dew', 'snow', 'snowdepth', 'winddir', 'sealevelpressure', 'visibility',\n",
    "       'solarradiation', 'solarenergy', 'uvindex', 'severerisk', 'moonphase', 'icon', 'stations', 'windgust',\n",
    "        'description', 'sunrise', 'sunset', 'cloudcover', 'precip', 'precipcover'})"
   ]
  },
  {
   "cell_type": "code",
   "execution_count": 10,
   "id": "bcdecf29",
   "metadata": {},
   "outputs": [],
   "source": [
    "summer_2016['location'] = summer_2016['name'].apply(lambda x: 'Gulfport Beach' if x == 39501 else ('Isle of Palms' if x == 29451 else 'Panama City Beach' if x == 32407 else 'Dauphin Island' if x == 36528 else 'Orange Beach' if x == 36561 else 'Miramar Beach' if x == 32550 else 'Tybee Island'))"
   ]
  },
  {
   "cell_type": "markdown",
   "id": "8b011e2f",
   "metadata": {},
   "source": [
    "# 2017"
   ]
  },
  {
   "cell_type": "code",
   "execution_count": 11,
   "id": "ee455bef",
   "metadata": {},
   "outputs": [],
   "source": [
    "summer_2017 = summer_2017.drop(columns={'feelslikemax',\n",
    "       'feelslikemin', 'feelslike', 'dew', 'snow', 'snowdepth', 'winddir', 'sealevelpressure', 'visibility',\n",
    "       'solarradiation', 'solarenergy', 'uvindex', 'severerisk', 'moonphase', 'icon', 'stations', 'windgust',\n",
    "        'description', 'sunrise', 'sunset', 'cloudcover', 'precip', 'precipcover'})"
   ]
  },
  {
   "cell_type": "code",
   "execution_count": 12,
   "id": "f1ed06d5",
   "metadata": {},
   "outputs": [],
   "source": [
    "summer_2017['location'] = summer_2017['name'].apply(lambda x: 'Gulfport Beach' if x == 39501 else ('Isle of Palms' if x == 29451 else 'Panama City Beach' if x == 32407 else 'Dauphin Island' if x == 36528 else 'Orange Beach' if x == 36561 else 'Miramar Beach' if x == 32550 else 'Tybee Island'))"
   ]
  },
  {
   "cell_type": "markdown",
   "id": "127e0099",
   "metadata": {},
   "source": [
    "# 2018"
   ]
  },
  {
   "cell_type": "code",
   "execution_count": 13,
   "id": "9af7ca76",
   "metadata": {},
   "outputs": [],
   "source": [
    "summer_2018 = summer_2018.drop(columns={'feelslikemax',\n",
    "       'feelslikemin', 'feelslike', 'dew', 'snow', 'snowdepth', 'winddir', 'sealevelpressure', 'visibility',\n",
    "       'solarradiation', 'solarenergy', 'uvindex', 'severerisk', 'moonphase', 'icon', 'stations', 'windgust',\n",
    "        'description', 'sunrise', 'sunset', 'cloudcover', 'precip', 'precipcover'})"
   ]
  },
  {
   "cell_type": "code",
   "execution_count": 14,
   "id": "43309494",
   "metadata": {},
   "outputs": [],
   "source": [
    "summer_2018['location'] = summer_2018['name'].apply(lambda x: 'Gulfport Beach' if x == 39501 else ('Isle of Palms' if x == 29451 else 'Panama City Beach' if x == 32407 else 'Dauphin Island' if x == 36528 else 'Orange Beach' if x == 36561 else 'Miramar Beach' if x == 32550 else 'Tybee Island'))"
   ]
  },
  {
   "cell_type": "markdown",
   "id": "93f30853",
   "metadata": {},
   "source": [
    "# 2019"
   ]
  },
  {
   "cell_type": "code",
   "execution_count": 15,
   "id": "3d9e5a64",
   "metadata": {},
   "outputs": [],
   "source": [
    "summer_2019 = summer_2019.drop(columns={'feelslikemax',\n",
    "       'feelslikemin', 'feelslike', 'dew', 'snow', 'snowdepth', 'winddir', 'sealevelpressure', 'visibility',\n",
    "       'solarradiation', 'solarenergy', 'uvindex', 'severerisk', 'moonphase', 'icon', 'stations', 'windgust',\n",
    "        'description', 'sunrise', 'sunset', 'cloudcover', 'precip', 'precipcover'})"
   ]
  },
  {
   "cell_type": "code",
   "execution_count": 16,
   "id": "cc15e239",
   "metadata": {},
   "outputs": [],
   "source": [
    "summer_2019['location'] = summer_2019['name'].apply(lambda x: 'Gulfport Beach' if x == 39501 else ('Isle of Palms' if x == 29451 else 'Panama City Beach' if x == 32407 else 'Dauphin Island' if x == 36528 else 'Orange Beach' if x == 36561 else 'Miramar Beach' if x == 32550 else 'Tybee Island'))"
   ]
  },
  {
   "cell_type": "markdown",
   "id": "be24a3d9",
   "metadata": {},
   "source": [
    "# 2020"
   ]
  },
  {
   "cell_type": "code",
   "execution_count": 17,
   "id": "f5010796",
   "metadata": {},
   "outputs": [],
   "source": [
    "summer_2020 = summer_2020.drop(columns={'feelslikemax',\n",
    "       'feelslikemin', 'feelslike', 'dew', 'snow', 'snowdepth', 'winddir', 'sealevelpressure', 'visibility',\n",
    "       'solarradiation', 'solarenergy', 'uvindex', 'severerisk', 'moonphase', 'icon', 'stations', 'windgust',\n",
    "        'description', 'sunrise', 'sunset', 'cloudcover', 'precip', 'precipcover'})"
   ]
  },
  {
   "cell_type": "code",
   "execution_count": 18,
   "id": "f9d166d2",
   "metadata": {},
   "outputs": [],
   "source": [
    "summer_2020['location'] = summer_2020['name'].apply(lambda x: 'Gulfport Beach' if x == 39501 else ('Isle of Palms' if x == 29451 else 'Panama City Beach' if x == 32407 else 'Dauphin Island' if x == 36528 else 'Orange Beach' if x == 36561 else 'Miramar Beach' if x == 32550 else 'Tybee Island'))"
   ]
  },
  {
   "cell_type": "markdown",
   "id": "1a0f8509",
   "metadata": {},
   "source": [
    "# 2021"
   ]
  },
  {
   "cell_type": "code",
   "execution_count": 19,
   "id": "6e4c1d93",
   "metadata": {},
   "outputs": [],
   "source": [
    "summer_2021 = summer_2021.drop(columns={'feelslikemax',\n",
    "       'feelslikemin', 'feelslike', 'dew', 'snow', 'snowdepth', 'winddir', 'sealevelpressure', 'visibility',\n",
    "       'solarradiation', 'solarenergy', 'uvindex', 'severerisk', 'moonphase', 'icon', 'stations', 'windgust',\n",
    "        'description', 'sunrise', 'sunset', 'cloudcover', 'precip', 'precipcover'})"
   ]
  },
  {
   "cell_type": "code",
   "execution_count": 20,
   "id": "c4e6a16a",
   "metadata": {},
   "outputs": [],
   "source": [
    "summer_2021['location'] = summer_2021['name'].apply(lambda x: 'Gulfport Beach' if x == 39501 else ('Isle of Palms' if x == 29451 else 'Panama City Beach' if x == 32407 else 'Dauphin Island' if x == 36528 else 'Orange Beach' if x == 36561 else 'Miramar Beach' if x == 32550 else 'Tybee Island'))"
   ]
  },
  {
   "cell_type": "markdown",
   "id": "4ac4a20d",
   "metadata": {},
   "source": [
    "# 2022"
   ]
  },
  {
   "cell_type": "code",
   "execution_count": 21,
   "id": "fad441d0",
   "metadata": {},
   "outputs": [],
   "source": [
    "summer_2022 = summer_2022.drop(columns={'feelslikemax',\n",
    "       'feelslikemin', 'feelslike', 'dew', 'snow', 'snowdepth', 'winddir', 'sealevelpressure', 'visibility',\n",
    "       'solarradiation', 'solarenergy', 'uvindex', 'severerisk', 'moonphase', 'icon', 'stations', 'windgust',\n",
    "        'description', 'sunrise', 'sunset', 'cloudcover', 'precip', 'precipcover'})"
   ]
  },
  {
   "cell_type": "code",
   "execution_count": 22,
   "id": "efdd0ce7",
   "metadata": {},
   "outputs": [],
   "source": [
    "summer_2022['location'] = summer_2022['name'].apply(lambda x: 'Gulfport Beach' if x == 39501 else ('Isle of Palms' if x == 29451 else 'Panama City Beach' if x == 32407 else 'Dauphin Island' if x == 36528 else 'Orange Beach' if x == 36561 else 'Miramar Beach' if x == 32550 else 'Tybee Island'))"
   ]
  },
  {
   "cell_type": "markdown",
   "id": "e0fd0a57",
   "metadata": {},
   "source": [
    "# All Summer Weather"
   ]
  },
  {
   "cell_type": "code",
   "execution_count": 23,
   "id": "b07cd878",
   "metadata": {},
   "outputs": [],
   "source": [
    "summer_weather = pd.merge(summer_2013, summer_2014,\n",
    "        on=('name', 'datetime', 'tempmax', 'tempmin', 'temp', 'humidity', 'precipprob', 'preciptype', 'windspeed', 'conditions', 'location'),\n",
    "        how='outer')\n",
    "summer_weather = pd.merge(summer_weather, summer_2015,\n",
    "        on=('name', 'datetime', 'tempmax', 'tempmin', 'temp', 'humidity', 'precipprob', 'preciptype', 'windspeed', 'conditions', 'location'),\n",
    "        how='outer')\n",
    "summer_weather = pd.merge(summer_weather, summer_2016,\n",
    "        on=('name', 'datetime', 'tempmax', 'tempmin', 'temp', 'humidity', 'precipprob', 'preciptype', 'windspeed', 'conditions', 'location'),\n",
    "        how='outer')\n",
    "summer_weather = pd.merge(summer_weather, summer_2017,\n",
    "        on=('name', 'datetime', 'tempmax', 'tempmin', 'temp', 'humidity', 'precipprob', 'preciptype', 'windspeed', 'conditions', 'location'),\n",
    "        how='outer')\n",
    "summer_weather = pd.merge(summer_weather, summer_2018,\n",
    "        on=('name', 'datetime', 'tempmax', 'tempmin', 'temp', 'humidity', 'precipprob', 'preciptype', 'windspeed', 'conditions', 'location'),\n",
    "        how='outer')\n",
    "summer_weather = pd.merge(summer_weather, summer_2019,\n",
    "        on=('name', 'datetime', 'tempmax', 'tempmin', 'temp', 'humidity', 'precipprob', 'preciptype', 'windspeed', 'conditions', 'location'),\n",
    "        how='outer')\n",
    "summer_weather = pd.merge(summer_weather, summer_2020,\n",
    "        on=('name', 'datetime', 'tempmax', 'tempmin', 'temp', 'humidity', 'precipprob', 'preciptype', 'windspeed', 'conditions', 'location'),\n",
    "        how='outer')\n",
    "summer_weather = pd.merge(summer_weather, summer_2021,\n",
    "        on=('name', 'datetime', 'tempmax', 'tempmin', 'temp', 'humidity', 'precipprob', 'preciptype', 'windspeed', 'conditions', 'location'),\n",
    "        how='outer')\n",
    "summer_weather = pd.merge(summer_weather, summer_2022,\n",
    "        on=('name', 'datetime', 'tempmax', 'tempmin', 'temp', 'humidity', 'precipprob', 'preciptype', 'windspeed', 'conditions', 'location'),\n",
    "        how='outer')"
   ]
  },
  {
   "cell_type": "code",
   "execution_count": 24,
   "id": "570eca4a",
   "metadata": {},
   "outputs": [],
   "source": [
    "summer_weather['month_day'] = summer_weather['datetime'].str.slice(-5)"
   ]
  },
  {
   "cell_type": "code",
   "execution_count": 25,
   "id": "fdc621c6",
   "metadata": {},
   "outputs": [],
   "source": [
    "summer_weather['datetime'] = pd.to_datetime(summer_weather[\"datetime\"])"
   ]
  },
  {
   "cell_type": "code",
   "execution_count": 26,
   "id": "fe1b6918",
   "metadata": {},
   "outputs": [],
   "source": [
    "summer_weather['month'] = summer_weather['datetime'].dt.month_name()\n",
    "summer_weather['month_num'] = summer_weather['datetime'].dt.month\n",
    "summer_weather['day'] = summer_weather['datetime'].dt.day"
   ]
  },
  {
   "cell_type": "code",
   "execution_count": 27,
   "id": "0eddf44d",
   "metadata": {},
   "outputs": [
    {
     "name": "stderr",
     "output_type": "stream",
     "text": [
      "C:\\Users\\bswil\\AppData\\Local\\Temp\\ipykernel_8704\\4145097392.py:1: FutureWarning: Indexing with multiple keys (implicitly converted to a tuple of keys) will be deprecated, use a list instead.\n",
      "  summer_weather_avgs = summer_weather.groupby(['location', 'month_num', 'day'])['temp', 'tempmax', 'tempmin', 'humidity', 'windspeed', 'precipprob'].mean().reset_index()\n"
     ]
    }
   ],
   "source": [
    "summer_weather_avgs = summer_weather.groupby(['location', 'month_num', 'day'])['temp', 'tempmax', 'tempmin', 'humidity', 'windspeed', 'precipprob'].mean().reset_index()"
   ]
  },
  {
   "cell_type": "code",
   "execution_count": 28,
   "id": "698940ed",
   "metadata": {},
   "outputs": [],
   "source": [
    "summer_weather_avgs['precipprob'] = summer_weather_avgs['precipprob']/10\n",
    "summer_weather_avgs = summer_weather_avgs.rename(columns = {'precipprob':'days_with_rain_10_years'})"
   ]
  },
  {
   "cell_type": "code",
   "execution_count": 29,
   "id": "3c9210df",
   "metadata": {},
   "outputs": [],
   "source": [
    "clear_weather = summer_weather.loc[summer_weather['conditions']=='Clear'].groupby(['location', 'month_num', 'day'])['name'].count().to_frame().reset_index().rename(columns={'name':'days_clear_10_years'})"
   ]
  },
  {
   "cell_type": "code",
   "execution_count": 30,
   "id": "1069f7c1",
   "metadata": {},
   "outputs": [],
   "source": [
    "summer_weather_avgs = pd.merge(summer_weather_avgs, clear_weather,\n",
    "        on=('location', 'month_num', 'day'),\n",
    "        how='left')"
   ]
  },
  {
   "cell_type": "code",
   "execution_count": 31,
   "id": "3a315911",
   "metadata": {
    "scrolled": false
   },
   "outputs": [
    {
     "data": {
      "text/html": [
       "<div>\n",
       "<style scoped>\n",
       "    .dataframe tbody tr th:only-of-type {\n",
       "        vertical-align: middle;\n",
       "    }\n",
       "\n",
       "    .dataframe tbody tr th {\n",
       "        vertical-align: top;\n",
       "    }\n",
       "\n",
       "    .dataframe thead th {\n",
       "        text-align: right;\n",
       "    }\n",
       "</style>\n",
       "<table border=\"1\" class=\"dataframe\">\n",
       "  <thead>\n",
       "    <tr style=\"text-align: right;\">\n",
       "      <th></th>\n",
       "      <th>location</th>\n",
       "      <th>month_num</th>\n",
       "      <th>day</th>\n",
       "      <th>temp</th>\n",
       "      <th>tempmax</th>\n",
       "      <th>tempmin</th>\n",
       "      <th>humidity</th>\n",
       "      <th>windspeed</th>\n",
       "      <th>days_with_rain_10_years</th>\n",
       "      <th>days_clear_10_years</th>\n",
       "    </tr>\n",
       "  </thead>\n",
       "  <tbody>\n",
       "    <tr>\n",
       "      <th>0</th>\n",
       "      <td>Dauphin Island</td>\n",
       "      <td>5</td>\n",
       "      <td>1</td>\n",
       "      <td>69.66</td>\n",
       "      <td>77.92</td>\n",
       "      <td>61.17</td>\n",
       "      <td>74.67</td>\n",
       "      <td>12.00</td>\n",
       "      <td>5.0</td>\n",
       "      <td>3.0</td>\n",
       "    </tr>\n",
       "    <tr>\n",
       "      <th>1</th>\n",
       "      <td>Dauphin Island</td>\n",
       "      <td>5</td>\n",
       "      <td>2</td>\n",
       "      <td>69.08</td>\n",
       "      <td>78.04</td>\n",
       "      <td>59.42</td>\n",
       "      <td>78.95</td>\n",
       "      <td>10.51</td>\n",
       "      <td>5.0</td>\n",
       "      <td>3.0</td>\n",
       "    </tr>\n",
       "    <tr>\n",
       "      <th>2</th>\n",
       "      <td>Dauphin Island</td>\n",
       "      <td>5</td>\n",
       "      <td>3</td>\n",
       "      <td>69.87</td>\n",
       "      <td>78.45</td>\n",
       "      <td>59.91</td>\n",
       "      <td>81.96</td>\n",
       "      <td>11.92</td>\n",
       "      <td>5.0</td>\n",
       "      <td>4.0</td>\n",
       "    </tr>\n",
       "    <tr>\n",
       "      <th>3</th>\n",
       "      <td>Dauphin Island</td>\n",
       "      <td>5</td>\n",
       "      <td>4</td>\n",
       "      <td>69.18</td>\n",
       "      <td>78.41</td>\n",
       "      <td>59.56</td>\n",
       "      <td>77.98</td>\n",
       "      <td>12.64</td>\n",
       "      <td>4.0</td>\n",
       "      <td>4.0</td>\n",
       "    </tr>\n",
       "    <tr>\n",
       "      <th>4</th>\n",
       "      <td>Dauphin Island</td>\n",
       "      <td>5</td>\n",
       "      <td>5</td>\n",
       "      <td>69.14</td>\n",
       "      <td>77.48</td>\n",
       "      <td>59.80</td>\n",
       "      <td>73.48</td>\n",
       "      <td>11.12</td>\n",
       "      <td>3.0</td>\n",
       "      <td>3.0</td>\n",
       "    </tr>\n",
       "    <tr>\n",
       "      <th>...</th>\n",
       "      <td>...</td>\n",
       "      <td>...</td>\n",
       "      <td>...</td>\n",
       "      <td>...</td>\n",
       "      <td>...</td>\n",
       "      <td>...</td>\n",
       "      <td>...</td>\n",
       "      <td>...</td>\n",
       "      <td>...</td>\n",
       "      <td>...</td>\n",
       "    </tr>\n",
       "    <tr>\n",
       "      <th>856</th>\n",
       "      <td>Tybee Island</td>\n",
       "      <td>8</td>\n",
       "      <td>27</td>\n",
       "      <td>79.65</td>\n",
       "      <td>87.29</td>\n",
       "      <td>73.19</td>\n",
       "      <td>79.75</td>\n",
       "      <td>11.96</td>\n",
       "      <td>4.0</td>\n",
       "      <td>1.0</td>\n",
       "    </tr>\n",
       "    <tr>\n",
       "      <th>857</th>\n",
       "      <td>Tybee Island</td>\n",
       "      <td>8</td>\n",
       "      <td>28</td>\n",
       "      <td>79.67</td>\n",
       "      <td>86.93</td>\n",
       "      <td>73.71</td>\n",
       "      <td>80.17</td>\n",
       "      <td>11.94</td>\n",
       "      <td>6.0</td>\n",
       "      <td>1.0</td>\n",
       "    </tr>\n",
       "    <tr>\n",
       "      <th>858</th>\n",
       "      <td>Tybee Island</td>\n",
       "      <td>8</td>\n",
       "      <td>29</td>\n",
       "      <td>79.50</td>\n",
       "      <td>86.89</td>\n",
       "      <td>73.29</td>\n",
       "      <td>80.53</td>\n",
       "      <td>11.19</td>\n",
       "      <td>4.0</td>\n",
       "      <td>4.0</td>\n",
       "    </tr>\n",
       "    <tr>\n",
       "      <th>859</th>\n",
       "      <td>Tybee Island</td>\n",
       "      <td>8</td>\n",
       "      <td>30</td>\n",
       "      <td>79.64</td>\n",
       "      <td>87.37</td>\n",
       "      <td>73.41</td>\n",
       "      <td>82.72</td>\n",
       "      <td>11.45</td>\n",
       "      <td>6.0</td>\n",
       "      <td>NaN</td>\n",
       "    </tr>\n",
       "    <tr>\n",
       "      <th>860</th>\n",
       "      <td>Tybee Island</td>\n",
       "      <td>8</td>\n",
       "      <td>31</td>\n",
       "      <td>80.30</td>\n",
       "      <td>87.73</td>\n",
       "      <td>74.70</td>\n",
       "      <td>83.34</td>\n",
       "      <td>11.42</td>\n",
       "      <td>7.0</td>\n",
       "      <td>1.0</td>\n",
       "    </tr>\n",
       "  </tbody>\n",
       "</table>\n",
       "<p>861 rows × 10 columns</p>\n",
       "</div>"
      ],
      "text/plain": [
       "           location  month_num  day   temp  tempmax  tempmin  humidity  \\\n",
       "0    Dauphin Island          5    1  69.66    77.92    61.17     74.67   \n",
       "1    Dauphin Island          5    2  69.08    78.04    59.42     78.95   \n",
       "2    Dauphin Island          5    3  69.87    78.45    59.91     81.96   \n",
       "3    Dauphin Island          5    4  69.18    78.41    59.56     77.98   \n",
       "4    Dauphin Island          5    5  69.14    77.48    59.80     73.48   \n",
       "..              ...        ...  ...    ...      ...      ...       ...   \n",
       "856    Tybee Island          8   27  79.65    87.29    73.19     79.75   \n",
       "857    Tybee Island          8   28  79.67    86.93    73.71     80.17   \n",
       "858    Tybee Island          8   29  79.50    86.89    73.29     80.53   \n",
       "859    Tybee Island          8   30  79.64    87.37    73.41     82.72   \n",
       "860    Tybee Island          8   31  80.30    87.73    74.70     83.34   \n",
       "\n",
       "     windspeed  days_with_rain_10_years  days_clear_10_years  \n",
       "0        12.00                      5.0                  3.0  \n",
       "1        10.51                      5.0                  3.0  \n",
       "2        11.92                      5.0                  4.0  \n",
       "3        12.64                      4.0                  4.0  \n",
       "4        11.12                      3.0                  3.0  \n",
       "..         ...                      ...                  ...  \n",
       "856      11.96                      4.0                  1.0  \n",
       "857      11.94                      6.0                  1.0  \n",
       "858      11.19                      4.0                  4.0  \n",
       "859      11.45                      6.0                  NaN  \n",
       "860      11.42                      7.0                  1.0  \n",
       "\n",
       "[861 rows x 10 columns]"
      ]
     },
     "execution_count": 31,
     "metadata": {},
     "output_type": "execute_result"
    }
   ],
   "source": [
    "summer_weather_avgs"
   ]
  },
  {
   "cell_type": "code",
   "execution_count": null,
   "id": "5cdf8118",
   "metadata": {},
   "outputs": [],
   "source": []
  }
 ],
 "metadata": {
  "kernelspec": {
   "display_name": "Python 3 (ipykernel)",
   "language": "python",
   "name": "python3"
  },
  "language_info": {
   "codemirror_mode": {
    "name": "ipython",
    "version": 3
   },
   "file_extension": ".py",
   "mimetype": "text/x-python",
   "name": "python",
   "nbconvert_exporter": "python",
   "pygments_lexer": "ipython3",
   "version": "3.9.13"
  }
 },
 "nbformat": 4,
 "nbformat_minor": 5
}
