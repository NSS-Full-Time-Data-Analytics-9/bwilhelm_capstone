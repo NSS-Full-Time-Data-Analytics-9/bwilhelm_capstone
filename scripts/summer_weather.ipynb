{
 "cells": [
  {
   "cell_type": "code",
   "execution_count": 1,
   "id": "4ec66e81",
   "metadata": {},
   "outputs": [],
   "source": [
    "import requests\n",
    "import pandas as pd\n",
    "from bs4 import BeautifulSoup as BS\n",
    "import json\n",
    "import seaborn as sns\n",
    "import re\n",
    "from IPython.core.display import HTML"
   ]
  },
  {
   "cell_type": "code",
   "execution_count": 2,
   "id": "1b7cd9f7",
   "metadata": {},
   "outputs": [],
   "source": [
    "summer_2013 = pd.read_csv('../data/summer_2013_weather.csv')\n",
    "summer_2014 = pd.read_csv('../data/summer_2014_weather.csv')\n",
    "summer_2015 = pd.read_csv('../data/summer_2015_weather.csv')\n",
    "summer_2016 = pd.read_csv('../data/summer_2016_weather.csv')\n",
    "summer_2017 = pd.read_csv('../data/summer_2017_weather.csv')\n",
    "summer_2018 = pd.read_csv('../data/summer_2018_weather.csv')\n",
    "summer_2019 = pd.read_csv('../data/summer_2019_weather.csv')\n",
    "summer_2020 = pd.read_csv('../data/summer_2020_weather.csv')\n",
    "summer_2021 = pd.read_csv('../data/summer_2021_weather.csv')\n",
    "summer_2022 = pd.read_csv('../data/summer_2022_weather.csv')"
   ]
  },
  {
   "cell_type": "markdown",
   "id": "ce34443f",
   "metadata": {},
   "source": [
    "# 2013"
   ]
  },
  {
   "cell_type": "code",
   "execution_count": 3,
   "id": "547119f8",
   "metadata": {},
   "outputs": [],
   "source": [
    "summer_2013 = summer_2013.drop(columns={'feelslikemax',\n",
    "       'feelslikemin', 'feelslike', 'dew', 'snow', 'snowdepth', 'winddir', 'sealevelpressure', 'visibility',\n",
    "       'solarradiation', 'solarenergy', 'uvindex', 'severerisk', 'moonphase', 'icon', 'stations', 'windgust',\n",
    "        'description', 'sunrise', 'sunset', 'cloudcover', 'precip', 'precipcover'})"
   ]
  },
  {
   "cell_type": "code",
   "execution_count": 4,
   "id": "ad6a7155",
   "metadata": {},
   "outputs": [],
   "source": [
    "summer_2013['location'] = summer_2013['name'].apply(lambda x: 'Gulfport Beach' if x == 39501 else ('Isle of Palms' if x == 29451 else 'Panama City Beach' if x == 32407 else 'Dauphin Island' if x == 36528 else 'Orange Beach' if x == 36561 else 'Miramar Beach' if x == 32550 else 'Tybee Island'))"
   ]
  },
  {
   "cell_type": "markdown",
   "id": "fb520385",
   "metadata": {},
   "source": [
    "# 2014"
   ]
  },
  {
   "cell_type": "code",
   "execution_count": 5,
   "id": "6ee643c9",
   "metadata": {},
   "outputs": [],
   "source": [
    "summer_2014 = summer_2014.drop(columns={'feelslikemax',\n",
    "       'feelslikemin', 'feelslike', 'dew', 'snow', 'snowdepth', 'winddir', 'sealevelpressure', 'visibility',\n",
    "       'solarradiation', 'solarenergy', 'uvindex', 'severerisk', 'moonphase', 'icon', 'stations', 'windgust',\n",
    "        'description', 'sunrise', 'sunset', 'cloudcover', 'precip', 'precipcover'})"
   ]
  },
  {
   "cell_type": "code",
   "execution_count": 6,
   "id": "5971ca85",
   "metadata": {},
   "outputs": [],
   "source": [
    "summer_2014['location'] = summer_2014['name'].apply(lambda x: 'Gulfport Beach' if x == 39501 else ('Isle of Palms' if x == 29451 else 'Panama City Beach' if x == 32407 else 'Dauphin Island' if x == 36528 else 'Orange Beach' if x == 36561 else 'Miramar Beach' if x == 32550 else 'Tybee Island'))"
   ]
  },
  {
   "cell_type": "markdown",
   "id": "d1e0f0d8",
   "metadata": {},
   "source": [
    "# 2015"
   ]
  },
  {
   "cell_type": "code",
   "execution_count": 7,
   "id": "cf7d1193",
   "metadata": {},
   "outputs": [],
   "source": [
    "summer_2015 = summer_2015.drop(columns={'feelslikemax',\n",
    "       'feelslikemin', 'feelslike', 'dew', 'snow', 'snowdepth', 'winddir', 'sealevelpressure', 'visibility',\n",
    "       'solarradiation', 'solarenergy', 'uvindex', 'severerisk', 'moonphase', 'icon', 'stations', 'windgust',\n",
    "        'description', 'sunrise', 'sunset', 'cloudcover', 'precip', 'precipcover'})"
   ]
  },
  {
   "cell_type": "code",
   "execution_count": 8,
   "id": "26fc8e7f",
   "metadata": {},
   "outputs": [],
   "source": [
    "summer_2015['location'] = summer_2015['name'].apply(lambda x: 'Gulfport Beach' if x == 39501 else ('Isle of Palms' if x == 29451 else 'Panama City Beach' if x == 32407 else 'Dauphin Island' if x == 36528 else 'Orange Beach' if x == 36561 else 'Miramar Beach' if x == 32550 else 'Tybee Island'))"
   ]
  },
  {
   "cell_type": "markdown",
   "id": "fb11e94f",
   "metadata": {},
   "source": [
    "# 2016"
   ]
  },
  {
   "cell_type": "code",
   "execution_count": 9,
   "id": "84747bd0",
   "metadata": {},
   "outputs": [],
   "source": [
    "summer_2016 = summer_2016.drop(columns={'feelslikemax',\n",
    "       'feelslikemin', 'feelslike', 'dew', 'snow', 'snowdepth', 'winddir', 'sealevelpressure', 'visibility',\n",
    "       'solarradiation', 'solarenergy', 'uvindex', 'severerisk', 'moonphase', 'icon', 'stations', 'windgust',\n",
    "        'description', 'sunrise', 'sunset', 'cloudcover', 'precip', 'precipcover'})"
   ]
  },
  {
   "cell_type": "code",
   "execution_count": 10,
   "id": "0bd66ae9",
   "metadata": {},
   "outputs": [],
   "source": [
    "summer_2016['location'] = summer_2016['name'].apply(lambda x: 'Gulfport Beach' if x == 39501 else ('Isle of Palms' if x == 29451 else 'Panama City Beach' if x == 32407 else 'Dauphin Island' if x == 36528 else 'Orange Beach' if x == 36561 else 'Miramar Beach' if x == 32550 else 'Tybee Island'))"
   ]
  },
  {
   "cell_type": "markdown",
   "id": "0abe11a8",
   "metadata": {},
   "source": [
    "# 2017"
   ]
  },
  {
   "cell_type": "code",
   "execution_count": 11,
   "id": "dd4f4d3c",
   "metadata": {},
   "outputs": [],
   "source": [
    "summer_2017 = summer_2017.drop(columns={'feelslikemax',\n",
    "       'feelslikemin', 'feelslike', 'dew', 'snow', 'snowdepth', 'winddir', 'sealevelpressure', 'visibility',\n",
    "       'solarradiation', 'solarenergy', 'uvindex', 'severerisk', 'moonphase', 'icon', 'stations', 'windgust',\n",
    "        'description', 'sunrise', 'sunset', 'cloudcover', 'precip', 'precipcover'})"
   ]
  },
  {
   "cell_type": "code",
   "execution_count": 12,
   "id": "d2569b6b",
   "metadata": {},
   "outputs": [],
   "source": [
    "summer_2017['location'] = summer_2017['name'].apply(lambda x: 'Gulfport Beach' if x == 39501 else ('Isle of Palms' if x == 29451 else 'Panama City Beach' if x == 32407 else 'Dauphin Island' if x == 36528 else 'Orange Beach' if x == 36561 else 'Miramar Beach' if x == 32550 else 'Tybee Island'))"
   ]
  },
  {
   "cell_type": "markdown",
   "id": "ff74edad",
   "metadata": {},
   "source": [
    "# 2018"
   ]
  },
  {
   "cell_type": "code",
   "execution_count": 13,
   "id": "4d03ad2e",
   "metadata": {},
   "outputs": [],
   "source": [
    "summer_2018 = summer_2018.drop(columns={'feelslikemax',\n",
    "       'feelslikemin', 'feelslike', 'dew', 'snow', 'snowdepth', 'winddir', 'sealevelpressure', 'visibility',\n",
    "       'solarradiation', 'solarenergy', 'uvindex', 'severerisk', 'moonphase', 'icon', 'stations', 'windgust',\n",
    "        'description', 'sunrise', 'sunset', 'cloudcover', 'precip', 'precipcover'})"
   ]
  },
  {
   "cell_type": "code",
   "execution_count": 14,
   "id": "59d1909a",
   "metadata": {},
   "outputs": [],
   "source": [
    "summer_2018['location'] = summer_2018['name'].apply(lambda x: 'Gulfport Beach' if x == 39501 else ('Isle of Palms' if x == 29451 else 'Panama City Beach' if x == 32407 else 'Dauphin Island' if x == 36528 else 'Orange Beach' if x == 36561 else 'Miramar Beach' if x == 32550 else 'Tybee Island'))"
   ]
  },
  {
   "cell_type": "markdown",
   "id": "198c7698",
   "metadata": {},
   "source": [
    "# 2019"
   ]
  },
  {
   "cell_type": "code",
   "execution_count": 15,
   "id": "bfb653b9",
   "metadata": {},
   "outputs": [],
   "source": [
    "summer_2019 = summer_2019.drop(columns={'feelslikemax',\n",
    "       'feelslikemin', 'feelslike', 'dew', 'snow', 'snowdepth', 'winddir', 'sealevelpressure', 'visibility',\n",
    "       'solarradiation', 'solarenergy', 'uvindex', 'severerisk', 'moonphase', 'icon', 'stations', 'windgust',\n",
    "        'description', 'sunrise', 'sunset', 'cloudcover', 'precip', 'precipcover'})"
   ]
  },
  {
   "cell_type": "code",
   "execution_count": 16,
   "id": "ea333f58",
   "metadata": {},
   "outputs": [],
   "source": [
    "summer_2019['location'] = summer_2019['name'].apply(lambda x: 'Gulfport Beach' if x == 39501 else ('Isle of Palms' if x == 29451 else 'Panama City Beach' if x == 32407 else 'Dauphin Island' if x == 36528 else 'Orange Beach' if x == 36561 else 'Miramar Beach' if x == 32550 else 'Tybee Island'))"
   ]
  },
  {
   "cell_type": "markdown",
   "id": "949d55eb",
   "metadata": {},
   "source": [
    "# 2020"
   ]
  },
  {
   "cell_type": "code",
   "execution_count": 17,
   "id": "e5422154",
   "metadata": {},
   "outputs": [],
   "source": [
    "summer_2020 = summer_2020.drop(columns={'feelslikemax',\n",
    "       'feelslikemin', 'feelslike', 'dew', 'snow', 'snowdepth', 'winddir', 'sealevelpressure', 'visibility',\n",
    "       'solarradiation', 'solarenergy', 'uvindex', 'severerisk', 'moonphase', 'icon', 'stations', 'windgust',\n",
    "        'description', 'sunrise', 'sunset', 'cloudcover', 'precip', 'precipcover'})"
   ]
  },
  {
   "cell_type": "code",
   "execution_count": 18,
   "id": "576c7c67",
   "metadata": {},
   "outputs": [],
   "source": [
    "summer_2020['location'] = summer_2020['name'].apply(lambda x: 'Gulfport Beach' if x == 39501 else ('Isle of Palms' if x == 29451 else 'Panama City Beach' if x == 32407 else 'Dauphin Island' if x == 36528 else 'Orange Beach' if x == 36561 else 'Miramar Beach' if x == 32550 else 'Tybee Island'))"
   ]
  },
  {
   "cell_type": "markdown",
   "id": "a94798cb",
   "metadata": {},
   "source": [
    "# 2021"
   ]
  },
  {
   "cell_type": "code",
   "execution_count": 19,
   "id": "32ffab32",
   "metadata": {},
   "outputs": [],
   "source": [
    "summer_2021 = summer_2021.drop(columns={'feelslikemax',\n",
    "       'feelslikemin', 'feelslike', 'dew', 'snow', 'snowdepth', 'winddir', 'sealevelpressure', 'visibility',\n",
    "       'solarradiation', 'solarenergy', 'uvindex', 'severerisk', 'moonphase', 'icon', 'stations', 'windgust',\n",
    "        'description', 'sunrise', 'sunset', 'cloudcover', 'precip', 'precipcover'})"
   ]
  },
  {
   "cell_type": "code",
   "execution_count": 20,
   "id": "33598b5a",
   "metadata": {},
   "outputs": [],
   "source": [
    "summer_2021['location'] = summer_2021['name'].apply(lambda x: 'Gulfport Beach' if x == 39501 else ('Isle of Palms' if x == 29451 else 'Panama City Beach' if x == 32407 else 'Dauphin Island' if x == 36528 else 'Orange Beach' if x == 36561 else 'Miramar Beach' if x == 32550 else 'Tybee Island'))"
   ]
  },
  {
   "cell_type": "markdown",
   "id": "e1bbd9e2",
   "metadata": {},
   "source": [
    "# 2022"
   ]
  },
  {
   "cell_type": "code",
   "execution_count": 21,
   "id": "83cf13b8",
   "metadata": {},
   "outputs": [],
   "source": [
    "summer_2022 = summer_2022.drop(columns={'feelslikemax',\n",
    "       'feelslikemin', 'feelslike', 'dew', 'snow', 'snowdepth', 'winddir', 'sealevelpressure', 'visibility',\n",
    "       'solarradiation', 'solarenergy', 'uvindex', 'severerisk', 'moonphase', 'icon', 'stations', 'windgust',\n",
    "        'description', 'sunrise', 'sunset', 'cloudcover', 'precip', 'precipcover'})"
   ]
  },
  {
   "cell_type": "code",
   "execution_count": 22,
   "id": "66a12310",
   "metadata": {},
   "outputs": [],
   "source": [
    "summer_2022['location'] = summer_2022['name'].apply(lambda x: 'Gulfport Beach' if x == 39501 else ('Isle of Palms' if x == 29451 else 'Panama City Beach' if x == 32407 else 'Dauphin Island' if x == 36528 else 'Orange Beach' if x == 36561 else 'Miramar Beach' if x == 32550 else 'Tybee Island'))"
   ]
  },
  {
   "cell_type": "markdown",
   "id": "89f71df6",
   "metadata": {},
   "source": [
    "# All Summer Weather"
   ]
  },
  {
   "cell_type": "code",
   "execution_count": 23,
   "id": "54702651",
   "metadata": {},
   "outputs": [],
   "source": [
    "summer_weather = pd.merge(summer_2013, summer_2014,\n",
    "        on=('name', 'datetime', 'tempmax', 'tempmin', 'temp', 'humidity', 'precipprob', 'preciptype', 'windspeed', 'conditions', 'location'),\n",
    "        how='outer')\n",
    "summer_weather = pd.merge(summer_weather, summer_2015,\n",
    "        on=('name', 'datetime', 'tempmax', 'tempmin', 'temp', 'humidity', 'precipprob', 'preciptype', 'windspeed', 'conditions', 'location'),\n",
    "        how='outer')\n",
    "summer_weather = pd.merge(summer_weather, summer_2016,\n",
    "        on=('name', 'datetime', 'tempmax', 'tempmin', 'temp', 'humidity', 'precipprob', 'preciptype', 'windspeed', 'conditions', 'location'),\n",
    "        how='outer')\n",
    "summer_weather = pd.merge(summer_weather, summer_2017,\n",
    "        on=('name', 'datetime', 'tempmax', 'tempmin', 'temp', 'humidity', 'precipprob', 'preciptype', 'windspeed', 'conditions', 'location'),\n",
    "        how='outer')\n",
    "summer_weather = pd.merge(summer_weather, summer_2018,\n",
    "        on=('name', 'datetime', 'tempmax', 'tempmin', 'temp', 'humidity', 'precipprob', 'preciptype', 'windspeed', 'conditions', 'location'),\n",
    "        how='outer')\n",
    "summer_weather = pd.merge(summer_weather, summer_2019,\n",
    "        on=('name', 'datetime', 'tempmax', 'tempmin', 'temp', 'humidity', 'precipprob', 'preciptype', 'windspeed', 'conditions', 'location'),\n",
    "        how='outer')\n",
    "summer_weather = pd.merge(summer_weather, summer_2020,\n",
    "        on=('name', 'datetime', 'tempmax', 'tempmin', 'temp', 'humidity', 'precipprob', 'preciptype', 'windspeed', 'conditions', 'location'),\n",
    "        how='outer')\n",
    "summer_weather = pd.merge(summer_weather, summer_2021,\n",
    "        on=('name', 'datetime', 'tempmax', 'tempmin', 'temp', 'humidity', 'precipprob', 'preciptype', 'windspeed', 'conditions', 'location'),\n",
    "        how='outer')\n",
    "summer_weather = pd.merge(summer_weather, summer_2022,\n",
    "        on=('name', 'datetime', 'tempmax', 'tempmin', 'temp', 'humidity', 'precipprob', 'preciptype', 'windspeed', 'conditions', 'location'),\n",
    "        how='outer')"
   ]
  },
  {
   "cell_type": "code",
   "execution_count": 24,
   "id": "77bcd243",
   "metadata": {},
   "outputs": [],
   "source": [
    "summer_weather['month_day'] = summer_weather['datetime'].str.slice(-5)"
   ]
  },
  {
   "cell_type": "code",
   "execution_count": 25,
   "id": "9be8ada1",
   "metadata": {},
   "outputs": [
    {
     "data": {
      "text/html": [
       "<div>\n",
       "<style scoped>\n",
       "    .dataframe tbody tr th:only-of-type {\n",
       "        vertical-align: middle;\n",
       "    }\n",
       "\n",
       "    .dataframe tbody tr th {\n",
       "        vertical-align: top;\n",
       "    }\n",
       "\n",
       "    .dataframe thead th {\n",
       "        text-align: right;\n",
       "    }\n",
       "</style>\n",
       "<table border=\"1\" class=\"dataframe\">\n",
       "  <thead>\n",
       "    <tr style=\"text-align: right;\">\n",
       "      <th></th>\n",
       "      <th>name</th>\n",
       "      <th>datetime</th>\n",
       "      <th>tempmax</th>\n",
       "      <th>tempmin</th>\n",
       "      <th>temp</th>\n",
       "      <th>humidity</th>\n",
       "      <th>precipprob</th>\n",
       "      <th>preciptype</th>\n",
       "      <th>windspeed</th>\n",
       "      <th>conditions</th>\n",
       "      <th>location</th>\n",
       "      <th>month_day</th>\n",
       "    </tr>\n",
       "  </thead>\n",
       "  <tbody>\n",
       "    <tr>\n",
       "      <th>0</th>\n",
       "      <td>39501</td>\n",
       "      <td>2013-05-01</td>\n",
       "      <td>77.0</td>\n",
       "      <td>64.7</td>\n",
       "      <td>70.1</td>\n",
       "      <td>89.2</td>\n",
       "      <td>100</td>\n",
       "      <td>rain</td>\n",
       "      <td>19.6</td>\n",
       "      <td>Rain, Overcast</td>\n",
       "      <td>Gulfport Beach</td>\n",
       "      <td>05-01</td>\n",
       "    </tr>\n",
       "    <tr>\n",
       "      <th>1</th>\n",
       "      <td>39501</td>\n",
       "      <td>2013-05-02</td>\n",
       "      <td>74.9</td>\n",
       "      <td>64.7</td>\n",
       "      <td>68.3</td>\n",
       "      <td>85.5</td>\n",
       "      <td>100</td>\n",
       "      <td>rain</td>\n",
       "      <td>16.8</td>\n",
       "      <td>Rain, Partially cloudy</td>\n",
       "      <td>Gulfport Beach</td>\n",
       "      <td>05-02</td>\n",
       "    </tr>\n",
       "    <tr>\n",
       "      <th>2</th>\n",
       "      <td>39501</td>\n",
       "      <td>2013-05-03</td>\n",
       "      <td>73.2</td>\n",
       "      <td>50.0</td>\n",
       "      <td>64.4</td>\n",
       "      <td>84.5</td>\n",
       "      <td>100</td>\n",
       "      <td>rain</td>\n",
       "      <td>21.7</td>\n",
       "      <td>Rain, Overcast</td>\n",
       "      <td>Gulfport Beach</td>\n",
       "      <td>05-03</td>\n",
       "    </tr>\n",
       "    <tr>\n",
       "      <th>3</th>\n",
       "      <td>39501</td>\n",
       "      <td>2013-05-04</td>\n",
       "      <td>69.9</td>\n",
       "      <td>43.0</td>\n",
       "      <td>57.6</td>\n",
       "      <td>58.2</td>\n",
       "      <td>0</td>\n",
       "      <td>NaN</td>\n",
       "      <td>16.0</td>\n",
       "      <td>Clear</td>\n",
       "      <td>Gulfport Beach</td>\n",
       "      <td>05-04</td>\n",
       "    </tr>\n",
       "    <tr>\n",
       "      <th>4</th>\n",
       "      <td>39501</td>\n",
       "      <td>2013-05-05</td>\n",
       "      <td>66.0</td>\n",
       "      <td>52.1</td>\n",
       "      <td>61.7</td>\n",
       "      <td>56.7</td>\n",
       "      <td>0</td>\n",
       "      <td>NaN</td>\n",
       "      <td>17.0</td>\n",
       "      <td>Clear</td>\n",
       "      <td>Gulfport Beach</td>\n",
       "      <td>05-05</td>\n",
       "    </tr>\n",
       "    <tr>\n",
       "      <th>...</th>\n",
       "      <td>...</td>\n",
       "      <td>...</td>\n",
       "      <td>...</td>\n",
       "      <td>...</td>\n",
       "      <td>...</td>\n",
       "      <td>...</td>\n",
       "      <td>...</td>\n",
       "      <td>...</td>\n",
       "      <td>...</td>\n",
       "      <td>...</td>\n",
       "      <td>...</td>\n",
       "      <td>...</td>\n",
       "    </tr>\n",
       "    <tr>\n",
       "      <th>8605</th>\n",
       "      <td>29451</td>\n",
       "      <td>2022-08-27</td>\n",
       "      <td>87.3</td>\n",
       "      <td>74.5</td>\n",
       "      <td>80.2</td>\n",
       "      <td>87.0</td>\n",
       "      <td>0</td>\n",
       "      <td>NaN</td>\n",
       "      <td>8.9</td>\n",
       "      <td>Partially cloudy</td>\n",
       "      <td>Isle of Palms</td>\n",
       "      <td>08-27</td>\n",
       "    </tr>\n",
       "    <tr>\n",
       "      <th>8606</th>\n",
       "      <td>29451</td>\n",
       "      <td>2022-08-28</td>\n",
       "      <td>84.1</td>\n",
       "      <td>73.8</td>\n",
       "      <td>79.0</td>\n",
       "      <td>91.1</td>\n",
       "      <td>0</td>\n",
       "      <td>NaN</td>\n",
       "      <td>10.7</td>\n",
       "      <td>Partially cloudy</td>\n",
       "      <td>Isle of Palms</td>\n",
       "      <td>08-28</td>\n",
       "    </tr>\n",
       "    <tr>\n",
       "      <th>8607</th>\n",
       "      <td>29451</td>\n",
       "      <td>2022-08-29</td>\n",
       "      <td>78.6</td>\n",
       "      <td>72.1</td>\n",
       "      <td>75.6</td>\n",
       "      <td>99.0</td>\n",
       "      <td>100</td>\n",
       "      <td>rain</td>\n",
       "      <td>6.0</td>\n",
       "      <td>Rain, Partially cloudy</td>\n",
       "      <td>Isle of Palms</td>\n",
       "      <td>08-29</td>\n",
       "    </tr>\n",
       "    <tr>\n",
       "      <th>8608</th>\n",
       "      <td>29451</td>\n",
       "      <td>2022-08-30</td>\n",
       "      <td>86.1</td>\n",
       "      <td>73.6</td>\n",
       "      <td>78.5</td>\n",
       "      <td>93.8</td>\n",
       "      <td>100</td>\n",
       "      <td>rain</td>\n",
       "      <td>10.1</td>\n",
       "      <td>Rain, Partially cloudy</td>\n",
       "      <td>Isle of Palms</td>\n",
       "      <td>08-30</td>\n",
       "    </tr>\n",
       "    <tr>\n",
       "      <th>8609</th>\n",
       "      <td>29451</td>\n",
       "      <td>2022-08-31</td>\n",
       "      <td>88.1</td>\n",
       "      <td>75.4</td>\n",
       "      <td>81.7</td>\n",
       "      <td>90.4</td>\n",
       "      <td>100</td>\n",
       "      <td>rain</td>\n",
       "      <td>6.1</td>\n",
       "      <td>Rain, Partially cloudy</td>\n",
       "      <td>Isle of Palms</td>\n",
       "      <td>08-31</td>\n",
       "    </tr>\n",
       "  </tbody>\n",
       "</table>\n",
       "<p>8610 rows × 12 columns</p>\n",
       "</div>"
      ],
      "text/plain": [
       "       name    datetime  tempmax  tempmin  temp  humidity  precipprob  \\\n",
       "0     39501  2013-05-01     77.0     64.7  70.1      89.2         100   \n",
       "1     39501  2013-05-02     74.9     64.7  68.3      85.5         100   \n",
       "2     39501  2013-05-03     73.2     50.0  64.4      84.5         100   \n",
       "3     39501  2013-05-04     69.9     43.0  57.6      58.2           0   \n",
       "4     39501  2013-05-05     66.0     52.1  61.7      56.7           0   \n",
       "...     ...         ...      ...      ...   ...       ...         ...   \n",
       "8605  29451  2022-08-27     87.3     74.5  80.2      87.0           0   \n",
       "8606  29451  2022-08-28     84.1     73.8  79.0      91.1           0   \n",
       "8607  29451  2022-08-29     78.6     72.1  75.6      99.0         100   \n",
       "8608  29451  2022-08-30     86.1     73.6  78.5      93.8         100   \n",
       "8609  29451  2022-08-31     88.1     75.4  81.7      90.4         100   \n",
       "\n",
       "     preciptype  windspeed              conditions        location month_day  \n",
       "0          rain       19.6          Rain, Overcast  Gulfport Beach     05-01  \n",
       "1          rain       16.8  Rain, Partially cloudy  Gulfport Beach     05-02  \n",
       "2          rain       21.7          Rain, Overcast  Gulfport Beach     05-03  \n",
       "3           NaN       16.0                   Clear  Gulfport Beach     05-04  \n",
       "4           NaN       17.0                   Clear  Gulfport Beach     05-05  \n",
       "...         ...        ...                     ...             ...       ...  \n",
       "8605        NaN        8.9        Partially cloudy   Isle of Palms     08-27  \n",
       "8606        NaN       10.7        Partially cloudy   Isle of Palms     08-28  \n",
       "8607       rain        6.0  Rain, Partially cloudy   Isle of Palms     08-29  \n",
       "8608       rain       10.1  Rain, Partially cloudy   Isle of Palms     08-30  \n",
       "8609       rain        6.1  Rain, Partially cloudy   Isle of Palms     08-31  \n",
       "\n",
       "[8610 rows x 12 columns]"
      ]
     },
     "execution_count": 25,
     "metadata": {},
     "output_type": "execute_result"
    }
   ],
   "source": [
    "summer_weather"
   ]
  },
  {
   "cell_type": "code",
   "execution_count": 26,
   "id": "6360868f",
   "metadata": {},
   "outputs": [
    {
     "name": "stderr",
     "output_type": "stream",
     "text": [
      "C:\\Users\\bswil\\AppData\\Local\\Temp\\ipykernel_25880\\2603932379.py:1: FutureWarning: Indexing with multiple keys (implicitly converted to a tuple of keys) will be deprecated, use a list instead.\n",
      "  summer_weather_avgs = summer_weather.groupby(['location', 'month_day'])['temp', 'tempmax', 'tempmin', 'humidity', 'windspeed', 'precipprob'].mean().reset_index()\n"
     ]
    }
   ],
   "source": [
    "summer_weather_avgs = summer_weather.groupby(['location', 'month_day'])['temp', 'tempmax', 'tempmin', 'humidity', 'windspeed', 'precipprob'].mean().reset_index()"
   ]
  },
  {
   "cell_type": "code",
   "execution_count": 27,
   "id": "58e36876",
   "metadata": {},
   "outputs": [],
   "source": [
    "summer_weather_avgs['precipprob'] = summer_weather_avgs['precipprob']/10\n",
    "summer_weather_avgs = summer_weather_avgs.rename(columns = {'precipprob':'days_with_rain_10_years'})"
   ]
  },
  {
   "cell_type": "code",
   "execution_count": 28,
   "id": "811dacf2",
   "metadata": {},
   "outputs": [],
   "source": [
    "clear_weather = summer_weather.loc[summer_weather['conditions']=='Clear'].groupby(['location', 'month_day'])['name'].count().to_frame().reset_index().rename(columns={'name':'days_clear_10_years'})"
   ]
  },
  {
   "cell_type": "code",
   "execution_count": 29,
   "id": "5951604c",
   "metadata": {},
   "outputs": [],
   "source": [
    "summer_weather_avgs = pd.merge(summer_weather_avgs, clear_weather,\n",
    "        on=('location', 'month_day'),\n",
    "        how='inner')"
   ]
  },
  {
   "cell_type": "code",
   "execution_count": 30,
   "id": "478c25b3",
   "metadata": {},
   "outputs": [
    {
     "data": {
      "text/html": [
       "<div>\n",
       "<style scoped>\n",
       "    .dataframe tbody tr th:only-of-type {\n",
       "        vertical-align: middle;\n",
       "    }\n",
       "\n",
       "    .dataframe tbody tr th {\n",
       "        vertical-align: top;\n",
       "    }\n",
       "\n",
       "    .dataframe thead th {\n",
       "        text-align: right;\n",
       "    }\n",
       "</style>\n",
       "<table border=\"1\" class=\"dataframe\">\n",
       "  <thead>\n",
       "    <tr style=\"text-align: right;\">\n",
       "      <th></th>\n",
       "      <th>location</th>\n",
       "      <th>month_day</th>\n",
       "      <th>temp</th>\n",
       "      <th>tempmax</th>\n",
       "      <th>tempmin</th>\n",
       "      <th>humidity</th>\n",
       "      <th>windspeed</th>\n",
       "      <th>days_with_rain_10_years</th>\n",
       "      <th>days_clear_10_years</th>\n",
       "    </tr>\n",
       "  </thead>\n",
       "  <tbody>\n",
       "    <tr>\n",
       "      <th>0</th>\n",
       "      <td>Dauphin Island</td>\n",
       "      <td>05-01</td>\n",
       "      <td>69.66</td>\n",
       "      <td>77.92</td>\n",
       "      <td>61.17</td>\n",
       "      <td>74.67</td>\n",
       "      <td>12.00</td>\n",
       "      <td>5.0</td>\n",
       "      <td>3</td>\n",
       "    </tr>\n",
       "    <tr>\n",
       "      <th>1</th>\n",
       "      <td>Dauphin Island</td>\n",
       "      <td>05-02</td>\n",
       "      <td>69.08</td>\n",
       "      <td>78.04</td>\n",
       "      <td>59.42</td>\n",
       "      <td>78.95</td>\n",
       "      <td>10.51</td>\n",
       "      <td>5.0</td>\n",
       "      <td>3</td>\n",
       "    </tr>\n",
       "    <tr>\n",
       "      <th>2</th>\n",
       "      <td>Dauphin Island</td>\n",
       "      <td>05-03</td>\n",
       "      <td>69.87</td>\n",
       "      <td>78.45</td>\n",
       "      <td>59.91</td>\n",
       "      <td>81.96</td>\n",
       "      <td>11.92</td>\n",
       "      <td>5.0</td>\n",
       "      <td>4</td>\n",
       "    </tr>\n",
       "    <tr>\n",
       "      <th>3</th>\n",
       "      <td>Dauphin Island</td>\n",
       "      <td>05-04</td>\n",
       "      <td>69.18</td>\n",
       "      <td>78.41</td>\n",
       "      <td>59.56</td>\n",
       "      <td>77.98</td>\n",
       "      <td>12.64</td>\n",
       "      <td>4.0</td>\n",
       "      <td>4</td>\n",
       "    </tr>\n",
       "    <tr>\n",
       "      <th>4</th>\n",
       "      <td>Dauphin Island</td>\n",
       "      <td>05-05</td>\n",
       "      <td>69.14</td>\n",
       "      <td>77.48</td>\n",
       "      <td>59.80</td>\n",
       "      <td>73.48</td>\n",
       "      <td>11.12</td>\n",
       "      <td>3.0</td>\n",
       "      <td>3</td>\n",
       "    </tr>\n",
       "    <tr>\n",
       "      <th>...</th>\n",
       "      <td>...</td>\n",
       "      <td>...</td>\n",
       "      <td>...</td>\n",
       "      <td>...</td>\n",
       "      <td>...</td>\n",
       "      <td>...</td>\n",
       "      <td>...</td>\n",
       "      <td>...</td>\n",
       "      <td>...</td>\n",
       "    </tr>\n",
       "    <tr>\n",
       "      <th>769</th>\n",
       "      <td>Tybee Island</td>\n",
       "      <td>08-25</td>\n",
       "      <td>79.73</td>\n",
       "      <td>87.04</td>\n",
       "      <td>73.40</td>\n",
       "      <td>78.54</td>\n",
       "      <td>11.38</td>\n",
       "      <td>5.0</td>\n",
       "      <td>1</td>\n",
       "    </tr>\n",
       "    <tr>\n",
       "      <th>770</th>\n",
       "      <td>Tybee Island</td>\n",
       "      <td>08-27</td>\n",
       "      <td>79.65</td>\n",
       "      <td>87.29</td>\n",
       "      <td>73.19</td>\n",
       "      <td>79.75</td>\n",
       "      <td>11.96</td>\n",
       "      <td>4.0</td>\n",
       "      <td>1</td>\n",
       "    </tr>\n",
       "    <tr>\n",
       "      <th>771</th>\n",
       "      <td>Tybee Island</td>\n",
       "      <td>08-28</td>\n",
       "      <td>79.67</td>\n",
       "      <td>86.93</td>\n",
       "      <td>73.71</td>\n",
       "      <td>80.17</td>\n",
       "      <td>11.94</td>\n",
       "      <td>6.0</td>\n",
       "      <td>1</td>\n",
       "    </tr>\n",
       "    <tr>\n",
       "      <th>772</th>\n",
       "      <td>Tybee Island</td>\n",
       "      <td>08-29</td>\n",
       "      <td>79.50</td>\n",
       "      <td>86.89</td>\n",
       "      <td>73.29</td>\n",
       "      <td>80.53</td>\n",
       "      <td>11.19</td>\n",
       "      <td>4.0</td>\n",
       "      <td>4</td>\n",
       "    </tr>\n",
       "    <tr>\n",
       "      <th>773</th>\n",
       "      <td>Tybee Island</td>\n",
       "      <td>08-31</td>\n",
       "      <td>80.30</td>\n",
       "      <td>87.73</td>\n",
       "      <td>74.70</td>\n",
       "      <td>83.34</td>\n",
       "      <td>11.42</td>\n",
       "      <td>7.0</td>\n",
       "      <td>1</td>\n",
       "    </tr>\n",
       "  </tbody>\n",
       "</table>\n",
       "<p>774 rows × 9 columns</p>\n",
       "</div>"
      ],
      "text/plain": [
       "           location month_day   temp  tempmax  tempmin  humidity  windspeed  \\\n",
       "0    Dauphin Island     05-01  69.66    77.92    61.17     74.67      12.00   \n",
       "1    Dauphin Island     05-02  69.08    78.04    59.42     78.95      10.51   \n",
       "2    Dauphin Island     05-03  69.87    78.45    59.91     81.96      11.92   \n",
       "3    Dauphin Island     05-04  69.18    78.41    59.56     77.98      12.64   \n",
       "4    Dauphin Island     05-05  69.14    77.48    59.80     73.48      11.12   \n",
       "..              ...       ...    ...      ...      ...       ...        ...   \n",
       "769    Tybee Island     08-25  79.73    87.04    73.40     78.54      11.38   \n",
       "770    Tybee Island     08-27  79.65    87.29    73.19     79.75      11.96   \n",
       "771    Tybee Island     08-28  79.67    86.93    73.71     80.17      11.94   \n",
       "772    Tybee Island     08-29  79.50    86.89    73.29     80.53      11.19   \n",
       "773    Tybee Island     08-31  80.30    87.73    74.70     83.34      11.42   \n",
       "\n",
       "     days_with_rain_10_years  days_clear_10_years  \n",
       "0                        5.0                    3  \n",
       "1                        5.0                    3  \n",
       "2                        5.0                    4  \n",
       "3                        4.0                    4  \n",
       "4                        3.0                    3  \n",
       "..                       ...                  ...  \n",
       "769                      5.0                    1  \n",
       "770                      4.0                    1  \n",
       "771                      6.0                    1  \n",
       "772                      4.0                    4  \n",
       "773                      7.0                    1  \n",
       "\n",
       "[774 rows x 9 columns]"
      ]
     },
     "execution_count": 30,
     "metadata": {},
     "output_type": "execute_result"
    }
   ],
   "source": [
    "summer_weather_avgs"
   ]
  },
  {
   "cell_type": "code",
   "execution_count": null,
   "id": "6264d0a1",
   "metadata": {},
   "outputs": [],
   "source": []
  }
 ],
 "metadata": {
  "kernelspec": {
   "display_name": "Python 3 (ipykernel)",
   "language": "python",
   "name": "python3"
  },
  "language_info": {
   "codemirror_mode": {
    "name": "ipython",
    "version": 3
   },
   "file_extension": ".py",
   "mimetype": "text/x-python",
   "name": "python",
   "nbconvert_exporter": "python",
   "pygments_lexer": "ipython3",
   "version": "3.9.13"
  }
 },
 "nbformat": 4,
 "nbformat_minor": 5
}
