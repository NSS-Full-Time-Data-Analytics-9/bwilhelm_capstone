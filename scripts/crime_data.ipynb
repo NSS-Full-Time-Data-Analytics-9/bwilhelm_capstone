{
 "cells": [
  {
   "cell_type": "code",
   "execution_count": 1,
   "id": "0e9207a8",
   "metadata": {},
   "outputs": [],
   "source": [
    "import requests\n",
    "import pandas as pd\n",
    "from bs4 import BeautifulSoup as BS\n",
    "import matplotlib.pyplot as plt\n",
    "import json\n",
    "import seaborn as sns\n",
    "import re\n",
    "from IPython.core.display import HTML\n",
    "\n",
    "%matplotlib inline"
   ]
  },
  {
   "cell_type": "code",
   "execution_count": 2,
   "id": "da6faddb",
   "metadata": {},
   "outputs": [],
   "source": [
    "URL = 'https://www.city-data.com/crime/crime-Panama-City-Beach-Florida.html'"
   ]
  },
  {
   "cell_type": "code",
   "execution_count": 3,
   "id": "3cd6a126",
   "metadata": {},
   "outputs": [],
   "source": [
    "response = requests.get(URL)"
   ]
  },
  {
   "cell_type": "code",
   "execution_count": 4,
   "id": "48aaf144",
   "metadata": {},
   "outputs": [
    {
     "data": {
      "text/plain": [
       "200"
      ]
     },
     "execution_count": 4,
     "metadata": {},
     "output_type": "execute_result"
    }
   ],
   "source": [
    "response.status_code"
   ]
  },
  {
   "cell_type": "code",
   "execution_count": 5,
   "id": "e605c351",
   "metadata": {},
   "outputs": [],
   "source": [
    "soup = BS(response.text)"
   ]
  },
  {
   "cell_type": "code",
   "execution_count": 6,
   "id": "a17ad4b8",
   "metadata": {
    "scrolled": true
   },
   "outputs": [
    {
     "data": {
      "text/plain": [
       "<table class=\"table tabBlue tblsort tblsticky sortable\" id=\"crimeTab\">\n",
       "<caption>Crime rates in Panama City Beach by year</caption>\n",
       "<thead>\n",
       "<tr><th width=\"200\"><h4>Type</h4></th>\n",
       "<th><h4>2007</h4></th>\n",
       "<th><h4>2008</h4></th>\n",
       "<th><h4>2009</h4></th>\n",
       "<th><h4>2010</h4></th>\n",
       "<th><h4>2011</h4></th>\n",
       "<th><h4>2012</h4></th>\n",
       "<th><h4>2013</h4></th>\n",
       "<th><h4>2014</h4></th>\n",
       "<th><h4>2015</h4></th>\n",
       "<th><h4>2016</h4></th>\n",
       "<th><h4>2017</h4></th>\n",
       "<th><h4>2018</h4></th>\n",
       "<th><h4>2019</h4></th>\n",
       "<th><h4>2020</h4></th>\n",
       "</tr>\n",
       "</thead>\n",
       "<tbody>\n",
       "<tr class=\"g0\"><td><b>Murders</b><br/><small>(per 100,000)</small></td><td>0<br/><small>(0.0)</small></td><td>0<br/><small>(0.0)</small></td><td>0<br/><small>(0.0)</small></td><td>0<br/><small>(0.0)</small></td><td>1<br/><small>(8.2)</small></td><td>0<br/><small>(0.0)</small></td><td>0<br/><small>(0.0)</small></td><td>2<br/><small>(16.4)</small></td><td>1<br/><small>(7.9)</small></td><td>1<br/><small>(7.8)</small></td><td>1<br/><small>(7.7)</small></td><td>2<br/><small>(15.5)</small></td><td>2<br/><small>(15.1)</small></td><td>2<br/><small>(15.7)</small></td></tr>\n",
       "<tr class=\"g1\"><td><b>Rapes</b><br/><small>(per 100,000)</small></td><td>14<br/><small>(94.9)</small></td><td>16<br/><small>(103.5)</small></td><td>15<br/><small>(95.2)</small></td><td>14<br/><small>(116.5)</small></td><td>10<br/><small>(82.1)</small></td><td>10<br/><small>(81.6)</small></td><td>19<br/><small>(159.8)</small></td><td>20<br/><small>(164.1)</small></td><td>18<br/><small>(142.6)</small></td><td>19<br/><small>(147.9)</small></td><td>12<br/><small>(92.4)</small></td><td>20<br/><small>(154.6)</small></td><td>20<br/><small>(150.8)</small></td><td>12<br/><small>(94.5)</small></td></tr>\n",
       "<tr class=\"g2\"><td><b>Robberies</b><br/><small>(per 100,000)</small></td><td>23<br/><small>(155.9)</small></td><td>17<br/><small>(110.0)</small></td><td>13<br/><small>(82.5)</small></td><td>21<br/><small>(174.7)</small></td><td>18<br/><small>(147.8)</small></td><td>25<br/><small>(204.0)</small></td><td>32<br/><small>(269.1)</small></td><td>37<br/><small>(303.6)</small></td><td>33<br/><small>(261.4)</small></td><td>25<br/><small>(194.6)</small></td><td>13<br/><small>(100.1)</small></td><td>21<br/><small>(162.4)</small></td><td>16<br/><small>(120.6)</small></td><td>10<br/><small>(78.7)</small></td></tr>\n",
       "<tr class=\"g3\"><td><b>Assaults</b><br/><small>(per 100,000)</small></td><td>60<br/><small>(406.6)</small></td><td>48<br/><small>(310.6)</small></td><td>55<br/><small>(349.0)</small></td><td>59<br/><small>(490.9)</small></td><td>55<br/><small>(451.5)</small></td><td>67<br/><small>(546.6)</small></td><td>48<br/><small>(403.7)</small></td><td>64<br/><small>(525.2)</small></td><td>83<br/><small>(657.5)</small></td><td>73<br/><small>(568.4)</small></td><td>83<br/><small>(639.1)</small></td><td>67<br/><small>(518.0)</small></td><td>95<br/><small>(716.1)</small></td><td>107<br/><small>(842.3)</small></td></tr>\n",
       "<tr class=\"g4\"><td><b>Burglaries</b><br/><small>(per 100,000)</small></td><td>257<br/><small>(1,742)</small></td><td>198<br/><small>(1,281)</small></td><td>210<br/><small>(1,333)</small></td><td>156<br/><small>(1,298)</small></td><td>194<br/><small>(1,593)</small></td><td>200<br/><small>(1,632)</small></td><td>222<br/><small>(1,867)</small></td><td>159<br/><small>(1,305)</small></td><td>165<br/><small>(1,307)</small></td><td>113<br/><small>(879.8)</small></td><td>122<br/><small>(939.4)</small></td><td>90<br/><small>(695.8)</small></td><td>90<br/><small>(678.4)</small></td><td>56<br/><small>(440.8)</small></td></tr>\n",
       "<tr class=\"g5\"><td><b>Thefts</b><br/><small>(per 100,000)</small></td><td>783<br/><small>(5,307)</small></td><td>795<br/><small>(5,145)</small></td><td>902<br/><small>(5,724)</small></td><td>911<br/><small>(7,580)</small></td><td>911<br/><small>(7,478)</small></td><td>1,090<br/><small>(8,893)</small></td><td>1,015<br/><small>(8,537)</small></td><td>931<br/><small>(7,640)</small></td><td>934<br/><small>(7,399)</small></td><td>993<br/><small>(7,731)</small></td><td>811<br/><small>(6,245)</small></td><td>866<br/><small>(6,695)</small></td><td>748<br/><small>(5,638)</small></td><td>689<br/><small>(5,424)</small></td></tr>\n",
       "<tr class=\"g6\"><td><b>Auto thefts</b><br/><small>(per 100,000)</small></td><td>3<br/><small>(20.3)</small></td><td>0<br/><small>(0.0)</small></td><td>4<br/><small>(25.4)</small></td><td>2<br/><small>(16.6)</small></td><td>6<br/><small>(49.3)</small></td><td>2<br/><small>(16.3)</small></td><td>1<br/><small>(8.4)</small></td><td>12<br/><small>(98.5)</small></td><td>9<br/><small>(71.3)</small></td><td>10<br/><small>(77.9)</small></td><td>5<br/><small>(38.5)</small></td><td>4<br/><small>(30.9)</small></td><td>4<br/><small>(30.2)</small></td><td>11<br/><small>(86.6)</small></td></tr>\n",
       "<tr class=\"g7\"><td><b>Arson</b><br/><small>(per 100,000)</small></td><td>2<br/><small>(13.6)</small></td><td>4<br/><small>(25.9)</small></td><td>3<br/><small>(19.0)</small></td><td>4<br/><small>(33.3)</small></td><td>1<br/><small>(8.2)</small></td><td>1<br/><small>(8.2)</small></td><td>3<br/><small>(25.2)</small></td><td>1<br/><small>(8.2)</small></td><td>0<br/><small>(0.0)</small></td><td>2<br/><small>(15.6)</small></td><td>3<br/><small>(23.1)</small></td><td>1<br/><small>(7.7)</small></td><td>0<br/><small>(0.0)</small></td><td>0<br/><small>(0.0)</small></td></tr>\n",
       "</tbody><tfoot class=\"g8\"><tr class=\"nosort\"><td style=\"white-space:normal\"><b>City-Data.com crime index</b></td><td>539.8</td><td>473.4</td><td>495.0</td><td>639.2</td><td>631.3</td><td>707.0</td><td>762.2</td><td>765.1</td><td>733.0</td><td>683.0</td><td>565.8</td><td>625.9</td><td>605.6</td><td>553.9</td></tr>\n",
       "</tfoot>\n",
       "</table>"
      ]
     },
     "execution_count": 6,
     "metadata": {},
     "output_type": "execute_result"
    }
   ],
   "source": [
    "soup.find('table', attrs={'class' : 'table tabBlue tblsort tblsticky sortable'})"
   ]
  },
  {
   "cell_type": "code",
   "execution_count": 7,
   "id": "6cbfd3c1",
   "metadata": {},
   "outputs": [],
   "source": [
    "table_html = str(soup.find('table', attrs={'class' : 'table tabBlue tblsort tblsticky sortable'}))"
   ]
  },
  {
   "cell_type": "code",
   "execution_count": 8,
   "id": "40fb6e59",
   "metadata": {},
   "outputs": [
    {
     "data": {
      "text/html": [
       "<table class=\"table tabBlue tblsort tblsticky sortable\" id=\"crimeTab\">\n",
       "<caption>Crime rates in Panama City Beach by year</caption>\n",
       "<thead>\n",
       "<tr><th width=\"200\"><h4>Type</h4></th>\n",
       "<th><h4>2007</h4></th>\n",
       "<th><h4>2008</h4></th>\n",
       "<th><h4>2009</h4></th>\n",
       "<th><h4>2010</h4></th>\n",
       "<th><h4>2011</h4></th>\n",
       "<th><h4>2012</h4></th>\n",
       "<th><h4>2013</h4></th>\n",
       "<th><h4>2014</h4></th>\n",
       "<th><h4>2015</h4></th>\n",
       "<th><h4>2016</h4></th>\n",
       "<th><h4>2017</h4></th>\n",
       "<th><h4>2018</h4></th>\n",
       "<th><h4>2019</h4></th>\n",
       "<th><h4>2020</h4></th>\n",
       "</tr>\n",
       "</thead>\n",
       "<tbody>\n",
       "<tr class=\"g0\"><td><b>Murders</b><br/><small>(per 100,000)</small></td><td>0<br/><small>(0.0)</small></td><td>0<br/><small>(0.0)</small></td><td>0<br/><small>(0.0)</small></td><td>0<br/><small>(0.0)</small></td><td>1<br/><small>(8.2)</small></td><td>0<br/><small>(0.0)</small></td><td>0<br/><small>(0.0)</small></td><td>2<br/><small>(16.4)</small></td><td>1<br/><small>(7.9)</small></td><td>1<br/><small>(7.8)</small></td><td>1<br/><small>(7.7)</small></td><td>2<br/><small>(15.5)</small></td><td>2<br/><small>(15.1)</small></td><td>2<br/><small>(15.7)</small></td></tr>\n",
       "<tr class=\"g1\"><td><b>Rapes</b><br/><small>(per 100,000)</small></td><td>14<br/><small>(94.9)</small></td><td>16<br/><small>(103.5)</small></td><td>15<br/><small>(95.2)</small></td><td>14<br/><small>(116.5)</small></td><td>10<br/><small>(82.1)</small></td><td>10<br/><small>(81.6)</small></td><td>19<br/><small>(159.8)</small></td><td>20<br/><small>(164.1)</small></td><td>18<br/><small>(142.6)</small></td><td>19<br/><small>(147.9)</small></td><td>12<br/><small>(92.4)</small></td><td>20<br/><small>(154.6)</small></td><td>20<br/><small>(150.8)</small></td><td>12<br/><small>(94.5)</small></td></tr>\n",
       "<tr class=\"g2\"><td><b>Robberies</b><br/><small>(per 100,000)</small></td><td>23<br/><small>(155.9)</small></td><td>17<br/><small>(110.0)</small></td><td>13<br/><small>(82.5)</small></td><td>21<br/><small>(174.7)</small></td><td>18<br/><small>(147.8)</small></td><td>25<br/><small>(204.0)</small></td><td>32<br/><small>(269.1)</small></td><td>37<br/><small>(303.6)</small></td><td>33<br/><small>(261.4)</small></td><td>25<br/><small>(194.6)</small></td><td>13<br/><small>(100.1)</small></td><td>21<br/><small>(162.4)</small></td><td>16<br/><small>(120.6)</small></td><td>10<br/><small>(78.7)</small></td></tr>\n",
       "<tr class=\"g3\"><td><b>Assaults</b><br/><small>(per 100,000)</small></td><td>60<br/><small>(406.6)</small></td><td>48<br/><small>(310.6)</small></td><td>55<br/><small>(349.0)</small></td><td>59<br/><small>(490.9)</small></td><td>55<br/><small>(451.5)</small></td><td>67<br/><small>(546.6)</small></td><td>48<br/><small>(403.7)</small></td><td>64<br/><small>(525.2)</small></td><td>83<br/><small>(657.5)</small></td><td>73<br/><small>(568.4)</small></td><td>83<br/><small>(639.1)</small></td><td>67<br/><small>(518.0)</small></td><td>95<br/><small>(716.1)</small></td><td>107<br/><small>(842.3)</small></td></tr>\n",
       "<tr class=\"g4\"><td><b>Burglaries</b><br/><small>(per 100,000)</small></td><td>257<br/><small>(1,742)</small></td><td>198<br/><small>(1,281)</small></td><td>210<br/><small>(1,333)</small></td><td>156<br/><small>(1,298)</small></td><td>194<br/><small>(1,593)</small></td><td>200<br/><small>(1,632)</small></td><td>222<br/><small>(1,867)</small></td><td>159<br/><small>(1,305)</small></td><td>165<br/><small>(1,307)</small></td><td>113<br/><small>(879.8)</small></td><td>122<br/><small>(939.4)</small></td><td>90<br/><small>(695.8)</small></td><td>90<br/><small>(678.4)</small></td><td>56<br/><small>(440.8)</small></td></tr>\n",
       "<tr class=\"g5\"><td><b>Thefts</b><br/><small>(per 100,000)</small></td><td>783<br/><small>(5,307)</small></td><td>795<br/><small>(5,145)</small></td><td>902<br/><small>(5,724)</small></td><td>911<br/><small>(7,580)</small></td><td>911<br/><small>(7,478)</small></td><td>1,090<br/><small>(8,893)</small></td><td>1,015<br/><small>(8,537)</small></td><td>931<br/><small>(7,640)</small></td><td>934<br/><small>(7,399)</small></td><td>993<br/><small>(7,731)</small></td><td>811<br/><small>(6,245)</small></td><td>866<br/><small>(6,695)</small></td><td>748<br/><small>(5,638)</small></td><td>689<br/><small>(5,424)</small></td></tr>\n",
       "<tr class=\"g6\"><td><b>Auto thefts</b><br/><small>(per 100,000)</small></td><td>3<br/><small>(20.3)</small></td><td>0<br/><small>(0.0)</small></td><td>4<br/><small>(25.4)</small></td><td>2<br/><small>(16.6)</small></td><td>6<br/><small>(49.3)</small></td><td>2<br/><small>(16.3)</small></td><td>1<br/><small>(8.4)</small></td><td>12<br/><small>(98.5)</small></td><td>9<br/><small>(71.3)</small></td><td>10<br/><small>(77.9)</small></td><td>5<br/><small>(38.5)</small></td><td>4<br/><small>(30.9)</small></td><td>4<br/><small>(30.2)</small></td><td>11<br/><small>(86.6)</small></td></tr>\n",
       "<tr class=\"g7\"><td><b>Arson</b><br/><small>(per 100,000)</small></td><td>2<br/><small>(13.6)</small></td><td>4<br/><small>(25.9)</small></td><td>3<br/><small>(19.0)</small></td><td>4<br/><small>(33.3)</small></td><td>1<br/><small>(8.2)</small></td><td>1<br/><small>(8.2)</small></td><td>3<br/><small>(25.2)</small></td><td>1<br/><small>(8.2)</small></td><td>0<br/><small>(0.0)</small></td><td>2<br/><small>(15.6)</small></td><td>3<br/><small>(23.1)</small></td><td>1<br/><small>(7.7)</small></td><td>0<br/><small>(0.0)</small></td><td>0<br/><small>(0.0)</small></td></tr>\n",
       "</tbody><tfoot class=\"g8\"><tr class=\"nosort\"><td style=\"white-space:normal\"><b>City-Data.com crime index</b></td><td>539.8</td><td>473.4</td><td>495.0</td><td>639.2</td><td>631.3</td><td>707.0</td><td>762.2</td><td>765.1</td><td>733.0</td><td>683.0</td><td>565.8</td><td>625.9</td><td>605.6</td><td>553.9</td></tr>\n",
       "</tfoot>\n",
       "</table>"
      ],
      "text/plain": [
       "<IPython.core.display.HTML object>"
      ]
     },
     "execution_count": 8,
     "metadata": {},
     "output_type": "execute_result"
    }
   ],
   "source": [
    "HTML(table_html)"
   ]
  },
  {
   "cell_type": "markdown",
   "id": "4dba853f",
   "metadata": {},
   "source": [
    "# Panama City crime data"
   ]
  },
  {
   "cell_type": "code",
   "execution_count": 9,
   "id": "a881c893",
   "metadata": {
    "scrolled": false
   },
   "outputs": [],
   "source": [
    "panama_crime = pd.read_html(str(soup.find('table', attrs={'class' : 'table tabBlue tblsort tblsticky sortable'})))[0]"
   ]
  },
  {
   "cell_type": "code",
   "execution_count": 10,
   "id": "4c1ab364",
   "metadata": {},
   "outputs": [
    {
     "name": "stderr",
     "output_type": "stream",
     "text": [
      "C:\\Users\\bswil\\AppData\\Local\\Temp\\ipykernel_11008\\307224903.py:3: FutureWarning: The default value of regex will change from True to False in a future version.\n",
      "  panama_crime['2007_per_100k'] = panama_crime['2007_per_100k'].str.replace('[),]', '').astype(float)\n",
      "C:\\Users\\bswil\\AppData\\Local\\Temp\\ipykernel_11008\\307224903.py:5: FutureWarning: The default value of regex will change from True to False in a future version.\n",
      "  panama_crime['2008_per_100k'] = panama_crime['2008_per_100k'].str.replace('[),]', '').astype(float)\n",
      "C:\\Users\\bswil\\AppData\\Local\\Temp\\ipykernel_11008\\307224903.py:7: FutureWarning: The default value of regex will change from True to False in a future version.\n",
      "  panama_crime['2009_per_100k'] = panama_crime['2009_per_100k'].str.replace('[),]', '').astype(float)\n",
      "C:\\Users\\bswil\\AppData\\Local\\Temp\\ipykernel_11008\\307224903.py:9: FutureWarning: The default value of regex will change from True to False in a future version.\n",
      "  panama_crime['2010_per_100k'] = panama_crime['2010_per_100k'].str.replace('[),]', '').astype(float)\n",
      "C:\\Users\\bswil\\AppData\\Local\\Temp\\ipykernel_11008\\307224903.py:11: FutureWarning: The default value of regex will change from True to False in a future version.\n",
      "  panama_crime['2011_per_100k'] = panama_crime['2011_per_100k'].str.replace('[),]', '').astype(float)\n",
      "C:\\Users\\bswil\\AppData\\Local\\Temp\\ipykernel_11008\\307224903.py:13: FutureWarning: The default value of regex will change from True to False in a future version.\n",
      "  panama_crime['2012_per_100k'] = panama_crime['2012_per_100k'].str.replace('[),]', '').astype(float)\n",
      "C:\\Users\\bswil\\AppData\\Local\\Temp\\ipykernel_11008\\307224903.py:15: FutureWarning: The default value of regex will change from True to False in a future version.\n",
      "  panama_crime['2013_per_100k'] = panama_crime['2013_per_100k'].str.replace('[),]', '').astype(float)\n",
      "C:\\Users\\bswil\\AppData\\Local\\Temp\\ipykernel_11008\\307224903.py:17: FutureWarning: The default value of regex will change from True to False in a future version.\n",
      "  panama_crime['2014_per_100k'] = panama_crime['2014_per_100k'].str.replace('[),]', '').astype(float)\n",
      "C:\\Users\\bswil\\AppData\\Local\\Temp\\ipykernel_11008\\307224903.py:19: FutureWarning: The default value of regex will change from True to False in a future version.\n",
      "  panama_crime['2015_per_100k'] = panama_crime['2015_per_100k'].str.replace('[),]', '').astype(float)\n",
      "C:\\Users\\bswil\\AppData\\Local\\Temp\\ipykernel_11008\\307224903.py:21: FutureWarning: The default value of regex will change from True to False in a future version.\n",
      "  panama_crime['2016_per_100k'] = panama_crime['2016_per_100k'].str.replace('[),]', '').astype(float)\n",
      "C:\\Users\\bswil\\AppData\\Local\\Temp\\ipykernel_11008\\307224903.py:23: FutureWarning: The default value of regex will change from True to False in a future version.\n",
      "  panama_crime['2017_per_100k'] = panama_crime['2017_per_100k'].str.replace('[),]', '').astype(float)\n",
      "C:\\Users\\bswil\\AppData\\Local\\Temp\\ipykernel_11008\\307224903.py:25: FutureWarning: The default value of regex will change from True to False in a future version.\n",
      "  panama_crime['2018_per_100k'] = panama_crime['2018_per_100k'].str.replace('[),]', '').astype(float)\n",
      "C:\\Users\\bswil\\AppData\\Local\\Temp\\ipykernel_11008\\307224903.py:27: FutureWarning: The default value of regex will change from True to False in a future version.\n",
      "  panama_crime['2019_per_100k'] = panama_crime['2019_per_100k'].str.replace('[),]', '').astype(float)\n",
      "C:\\Users\\bswil\\AppData\\Local\\Temp\\ipykernel_11008\\307224903.py:29: FutureWarning: The default value of regex will change from True to False in a future version.\n",
      "  panama_crime['2020_per_100k'] = panama_crime['2020_per_100k'].str.replace('[),]', '').astype(float)\n"
     ]
    }
   ],
   "source": [
    "panama_crime[['Type', 'delete']] = panama_crime['Type'].str.split('\\(', expand=True)\n",
    "panama_crime[['2007', '2007_per_100k']] = panama_crime['2007'].str.split('\\(', expand=True)\n",
    "panama_crime['2007_per_100k'] = panama_crime['2007_per_100k'].str.replace('[),]', '').astype(float)\n",
    "panama_crime[['2008', '2008_per_100k']] = panama_crime['2008'].str.split('\\(', expand=True)\n",
    "panama_crime['2008_per_100k'] = panama_crime['2008_per_100k'].str.replace('[),]', '').astype(float)\n",
    "panama_crime[['2009', '2009_per_100k']] = panama_crime['2009'].str.split('\\(', expand=True)\n",
    "panama_crime['2009_per_100k'] = panama_crime['2009_per_100k'].str.replace('[),]', '').astype(float)\n",
    "panama_crime[['2010', '2010_per_100k']] = panama_crime['2010'].str.split('\\(', expand=True)\n",
    "panama_crime['2010_per_100k'] = panama_crime['2010_per_100k'].str.replace('[),]', '').astype(float)\n",
    "panama_crime[['2011', '2011_per_100k']] = panama_crime['2011'].str.split('\\(', expand=True)\n",
    "panama_crime['2011_per_100k'] = panama_crime['2011_per_100k'].str.replace('[),]', '').astype(float)\n",
    "panama_crime[['2012', '2012_per_100k']] = panama_crime['2012'].str.split('\\(', expand=True)\n",
    "panama_crime['2012_per_100k'] = panama_crime['2012_per_100k'].str.replace('[),]', '').astype(float)\n",
    "panama_crime[['2013', '2013_per_100k']] = panama_crime['2013'].str.split('\\(', expand=True)\n",
    "panama_crime['2013_per_100k'] = panama_crime['2013_per_100k'].str.replace('[),]', '').astype(float)\n",
    "panama_crime[['2014', '2014_per_100k']] = panama_crime['2014'].str.split('\\(', expand=True)\n",
    "panama_crime['2014_per_100k'] = panama_crime['2014_per_100k'].str.replace('[),]', '').astype(float)\n",
    "panama_crime[['2015', '2015_per_100k']] = panama_crime['2015'].str.split('\\(', expand=True)\n",
    "panama_crime['2015_per_100k'] = panama_crime['2015_per_100k'].str.replace('[),]', '').astype(float)\n",
    "panama_crime[['2016', '2016_per_100k']] = panama_crime['2016'].str.split('\\(', expand=True)\n",
    "panama_crime['2016_per_100k'] = panama_crime['2016_per_100k'].str.replace('[),]', '').astype(float)\n",
    "panama_crime[['2017', '2017_per_100k']] = panama_crime['2017'].str.split('\\(', expand=True)\n",
    "panama_crime['2017_per_100k'] = panama_crime['2017_per_100k'].str.replace('[),]', '').astype(float)\n",
    "panama_crime[['2018', '2018_per_100k']] = panama_crime['2018'].str.split('\\(', expand=True)\n",
    "panama_crime['2018_per_100k'] = panama_crime['2018_per_100k'].str.replace('[),]', '').astype(float)\n",
    "panama_crime[['2019', '2019_per_100k']] = panama_crime['2019'].str.split('\\(', expand=True)\n",
    "panama_crime['2019_per_100k'] = panama_crime['2019_per_100k'].str.replace('[),]', '').astype(float)\n",
    "panama_crime[['2020', '2020_per_100k']] = panama_crime['2020'].str.split('\\(', expand=True)\n",
    "panama_crime['2020_per_100k'] = panama_crime['2020_per_100k'].str.replace('[),]', '').astype(float)\n",
    "panama_crime = panama_crime.drop(columns = 'delete')"
   ]
  },
  {
   "cell_type": "code",
   "execution_count": 11,
   "id": "b49b3caf",
   "metadata": {},
   "outputs": [],
   "source": [
    "panama_crime['2007'] = panama_crime['2007'].str.replace(',', '').astype(float)\n",
    "panama_crime['2008'] = panama_crime['2008'].str.replace(',', '').astype(float)\n",
    "panama_crime['2009'] = panama_crime['2009'].str.replace(',', '').astype(float)\n",
    "panama_crime['2010'] = panama_crime['2010'].str.replace(',', '').astype(float)\n",
    "panama_crime['2011'] = panama_crime['2011'].str.replace(',', '').astype(float)\n",
    "panama_crime['2012'] = panama_crime['2012'].str.replace(',', '').astype(float)\n",
    "panama_crime['2013'] = panama_crime['2013'].str.replace(',', '').astype(float)\n",
    "panama_crime['2014'] = panama_crime['2014'].str.replace(',', '').astype(float)\n",
    "panama_crime['2015'] = panama_crime['2015'].str.replace(',', '').astype(float)\n",
    "panama_crime['2016'] = panama_crime['2016'].str.replace(',', '').astype(float)\n",
    "panama_crime['2017'] = panama_crime['2017'].str.replace(',', '').astype(float)\n",
    "panama_crime['2018'] = panama_crime['2018'].str.replace(',', '').astype(float)\n",
    "panama_crime['2019'] = panama_crime['2019'].str.replace(',', '').astype(float)\n",
    "panama_crime['2020'] = panama_crime['2020'].str.replace(',', '').astype(float)"
   ]
  },
  {
   "cell_type": "code",
   "execution_count": 12,
   "id": "3d2b789a",
   "metadata": {},
   "outputs": [],
   "source": [
    "panama_crime['location'] = 'Panama City Beach'"
   ]
  },
  {
   "cell_type": "markdown",
   "id": "4b3985fa",
   "metadata": {},
   "source": [
    "# Isle of Palms crime data"
   ]
  },
  {
   "cell_type": "code",
   "execution_count": 13,
   "id": "7f5063f9",
   "metadata": {},
   "outputs": [],
   "source": [
    "URL = 'https://www.city-data.com/crime/crime-Isle-of-Palms-South-Carolina.html'"
   ]
  },
  {
   "cell_type": "code",
   "execution_count": 14,
   "id": "a2885602",
   "metadata": {},
   "outputs": [],
   "source": [
    "response = requests.get(URL)\n",
    "soup = BS(response.text)"
   ]
  },
  {
   "cell_type": "code",
   "execution_count": 15,
   "id": "5c6f2f59",
   "metadata": {},
   "outputs": [],
   "source": [
    "isle_palms_crime = pd.read_html(str(soup.find('table', attrs={'class' : 'table tabBlue tblsort tblsticky sortable'})))[0]"
   ]
  },
  {
   "cell_type": "code",
   "execution_count": 16,
   "id": "cf53a180",
   "metadata": {},
   "outputs": [
    {
     "name": "stderr",
     "output_type": "stream",
     "text": [
      "C:\\Users\\bswil\\AppData\\Local\\Temp\\ipykernel_11008\\2658187084.py:3: FutureWarning: The default value of regex will change from True to False in a future version.\n",
      "  isle_palms_crime['2007_per_100k'] = isle_palms_crime['2007_per_100k'].str.replace('[),]', '').astype(float)\n",
      "C:\\Users\\bswil\\AppData\\Local\\Temp\\ipykernel_11008\\2658187084.py:5: FutureWarning: The default value of regex will change from True to False in a future version.\n",
      "  isle_palms_crime['2008_per_100k'] = isle_palms_crime['2008_per_100k'].str.replace('[),]', '').astype(float)\n",
      "C:\\Users\\bswil\\AppData\\Local\\Temp\\ipykernel_11008\\2658187084.py:7: FutureWarning: The default value of regex will change from True to False in a future version.\n",
      "  isle_palms_crime['2009_per_100k'] = isle_palms_crime['2009_per_100k'].str.replace('[),]', '').astype(float)\n",
      "C:\\Users\\bswil\\AppData\\Local\\Temp\\ipykernel_11008\\2658187084.py:9: FutureWarning: The default value of regex will change from True to False in a future version.\n",
      "  isle_palms_crime['2010_per_100k'] = isle_palms_crime['2010_per_100k'].str.replace('[),]', '').astype(float)\n",
      "C:\\Users\\bswil\\AppData\\Local\\Temp\\ipykernel_11008\\2658187084.py:11: FutureWarning: The default value of regex will change from True to False in a future version.\n",
      "  isle_palms_crime['2011_per_100k'] = isle_palms_crime['2011_per_100k'].str.replace('[),]', '').astype(float)\n",
      "C:\\Users\\bswil\\AppData\\Local\\Temp\\ipykernel_11008\\2658187084.py:13: FutureWarning: The default value of regex will change from True to False in a future version.\n",
      "  isle_palms_crime['2012_per_100k'] = isle_palms_crime['2012_per_100k'].str.replace('[),]', '').astype(float)\n",
      "C:\\Users\\bswil\\AppData\\Local\\Temp\\ipykernel_11008\\2658187084.py:15: FutureWarning: The default value of regex will change from True to False in a future version.\n",
      "  isle_palms_crime['2013_per_100k'] = isle_palms_crime['2013_per_100k'].str.replace('[),]', '').astype(float)\n",
      "C:\\Users\\bswil\\AppData\\Local\\Temp\\ipykernel_11008\\2658187084.py:17: FutureWarning: The default value of regex will change from True to False in a future version.\n",
      "  isle_palms_crime['2014_per_100k'] = isle_palms_crime['2014_per_100k'].str.replace('[),]', '').astype(float)\n",
      "C:\\Users\\bswil\\AppData\\Local\\Temp\\ipykernel_11008\\2658187084.py:19: FutureWarning: The default value of regex will change from True to False in a future version.\n",
      "  isle_palms_crime['2015_per_100k'] = isle_palms_crime['2015_per_100k'].str.replace('[),]', '').astype(float)\n",
      "C:\\Users\\bswil\\AppData\\Local\\Temp\\ipykernel_11008\\2658187084.py:21: FutureWarning: The default value of regex will change from True to False in a future version.\n",
      "  isle_palms_crime['2016_per_100k'] = isle_palms_crime['2016_per_100k'].str.replace('[),]', '').astype(float)\n",
      "C:\\Users\\bswil\\AppData\\Local\\Temp\\ipykernel_11008\\2658187084.py:23: FutureWarning: The default value of regex will change from True to False in a future version.\n",
      "  isle_palms_crime['2017_per_100k'] = isle_palms_crime['2017_per_100k'].str.replace('[),]', '').astype(float)\n",
      "C:\\Users\\bswil\\AppData\\Local\\Temp\\ipykernel_11008\\2658187084.py:25: FutureWarning: The default value of regex will change from True to False in a future version.\n",
      "  isle_palms_crime['2018_per_100k'] = isle_palms_crime['2018_per_100k'].str.replace('[),]', '').astype(float)\n",
      "C:\\Users\\bswil\\AppData\\Local\\Temp\\ipykernel_11008\\2658187084.py:27: FutureWarning: The default value of regex will change from True to False in a future version.\n",
      "  isle_palms_crime['2019_per_100k'] = isle_palms_crime['2019_per_100k'].str.replace('[),]', '').astype(float)\n",
      "C:\\Users\\bswil\\AppData\\Local\\Temp\\ipykernel_11008\\2658187084.py:29: FutureWarning: The default value of regex will change from True to False in a future version.\n",
      "  isle_palms_crime['2020_per_100k'] = isle_palms_crime['2020_per_100k'].str.replace('[),]', '').astype(float)\n"
     ]
    }
   ],
   "source": [
    "isle_palms_crime[['Type', 'delete']] = isle_palms_crime['Type'].str.split('\\(', expand=True)\n",
    "isle_palms_crime[['2007', '2007_per_100k']] = isle_palms_crime['2007'].str.split('\\(', expand=True)\n",
    "isle_palms_crime['2007_per_100k'] = isle_palms_crime['2007_per_100k'].str.replace('[),]', '').astype(float)\n",
    "isle_palms_crime[['2008', '2008_per_100k']] = isle_palms_crime['2008'].str.split('\\(', expand=True)\n",
    "isle_palms_crime['2008_per_100k'] = isle_palms_crime['2008_per_100k'].str.replace('[),]', '').astype(float)\n",
    "isle_palms_crime[['2009', '2009_per_100k']] = isle_palms_crime['2009'].str.split('\\(', expand=True)\n",
    "isle_palms_crime['2009_per_100k'] = isle_palms_crime['2009_per_100k'].str.replace('[),]', '').astype(float)\n",
    "isle_palms_crime[['2010', '2010_per_100k']] = isle_palms_crime['2010'].str.split('\\(', expand=True)\n",
    "isle_palms_crime['2010_per_100k'] = isle_palms_crime['2010_per_100k'].str.replace('[),]', '').astype(float)\n",
    "isle_palms_crime[['2011', '2011_per_100k']] = isle_palms_crime['2011'].str.split('\\(', expand=True)\n",
    "isle_palms_crime['2011_per_100k'] = isle_palms_crime['2011_per_100k'].str.replace('[),]', '').astype(float)\n",
    "isle_palms_crime[['2012', '2012_per_100k']] = isle_palms_crime['2012'].str.split('\\(', expand=True)\n",
    "isle_palms_crime['2012_per_100k'] = isle_palms_crime['2012_per_100k'].str.replace('[),]', '').astype(float)\n",
    "isle_palms_crime[['2013', '2013_per_100k']] = isle_palms_crime['2013'].str.split('\\(', expand=True)\n",
    "isle_palms_crime['2013_per_100k'] = isle_palms_crime['2013_per_100k'].str.replace('[),]', '').astype(float)\n",
    "isle_palms_crime[['2014', '2014_per_100k']] = isle_palms_crime['2014'].str.split('\\(', expand=True)\n",
    "isle_palms_crime['2014_per_100k'] = isle_palms_crime['2014_per_100k'].str.replace('[),]', '').astype(float)\n",
    "isle_palms_crime[['2015', '2015_per_100k']] = isle_palms_crime['2015'].str.split('\\(', expand=True)\n",
    "isle_palms_crime['2015_per_100k'] = isle_palms_crime['2015_per_100k'].str.replace('[),]', '').astype(float)\n",
    "isle_palms_crime[['2016', '2016_per_100k']] = isle_palms_crime['2016'].str.split('\\(', expand=True)\n",
    "isle_palms_crime['2016_per_100k'] = isle_palms_crime['2016_per_100k'].str.replace('[),]', '').astype(float)\n",
    "isle_palms_crime[['2017', '2017_per_100k']] = isle_palms_crime['2017'].str.split('\\(', expand=True)\n",
    "isle_palms_crime['2017_per_100k'] = isle_palms_crime['2017_per_100k'].str.replace('[),]', '').astype(float)\n",
    "isle_palms_crime[['2018', '2018_per_100k']] = isle_palms_crime['2018'].str.split('\\(', expand=True)\n",
    "isle_palms_crime['2018_per_100k'] = isle_palms_crime['2018_per_100k'].str.replace('[),]', '').astype(float)\n",
    "isle_palms_crime[['2019', '2019_per_100k']] = isle_palms_crime['2019'].str.split('\\(', expand=True)\n",
    "isle_palms_crime['2019_per_100k'] = isle_palms_crime['2019_per_100k'].str.replace('[),]', '').astype(float)\n",
    "isle_palms_crime[['2020', '2020_per_100k']] = isle_palms_crime['2020'].str.split('\\(', expand=True)\n",
    "isle_palms_crime['2020_per_100k'] = isle_palms_crime['2020_per_100k'].str.replace('[),]', '').astype(float)\n",
    "isle_palms_crime = isle_palms_crime.drop(columns = 'delete')"
   ]
  },
  {
   "cell_type": "code",
   "execution_count": 17,
   "id": "7261ed36",
   "metadata": {},
   "outputs": [],
   "source": [
    "isle_palms_crime['2007'] = isle_palms_crime['2007'].str.replace(',', '').astype(float)\n",
    "isle_palms_crime['2008'] = isle_palms_crime['2008'].str.replace(',', '').astype(float)\n",
    "isle_palms_crime['2009'] = isle_palms_crime['2009'].str.replace(',', '').astype(float)\n",
    "isle_palms_crime['2010'] = isle_palms_crime['2010'].str.replace(',', '').astype(float)\n",
    "isle_palms_crime['2011'] = isle_palms_crime['2011'].str.replace(',', '').astype(float)\n",
    "isle_palms_crime['2012'] = isle_palms_crime['2012'].str.replace(',', '').astype(float)\n",
    "isle_palms_crime['2013'] = isle_palms_crime['2013'].str.replace(',', '').astype(float)\n",
    "isle_palms_crime['2014'] = isle_palms_crime['2014'].str.replace(',', '').astype(float)\n",
    "isle_palms_crime['2015'] = isle_palms_crime['2015'].str.replace(',', '').astype(float)\n",
    "isle_palms_crime['2016'] = isle_palms_crime['2016'].str.replace(',', '').astype(float)\n",
    "isle_palms_crime['2017'] = isle_palms_crime['2017'].str.replace(',', '').astype(float)\n",
    "isle_palms_crime['2018'] = isle_palms_crime['2018'].str.replace(',', '').astype(float)\n",
    "isle_palms_crime['2019'] = isle_palms_crime['2019'].str.replace(',', '').astype(float)\n",
    "isle_palms_crime['2020'] = isle_palms_crime['2020'].str.replace(',', '').astype(float)"
   ]
  },
  {
   "cell_type": "code",
   "execution_count": 18,
   "id": "6365f1a1",
   "metadata": {},
   "outputs": [],
   "source": [
    "isle_palms_crime['location'] = 'Isle of Palms'"
   ]
  },
  {
   "cell_type": "markdown",
   "id": "9493c3bb",
   "metadata": {},
   "source": [
    "# Gulfport crime data"
   ]
  },
  {
   "cell_type": "code",
   "execution_count": 19,
   "id": "d5244352",
   "metadata": {},
   "outputs": [],
   "source": [
    "URL = 'https://www.city-data.com/crime/crime-Gulfport-Mississippi.html'"
   ]
  },
  {
   "cell_type": "code",
   "execution_count": 20,
   "id": "b98e7262",
   "metadata": {},
   "outputs": [],
   "source": [
    "response = requests.get(URL)\n",
    "soup = BS(response.text)"
   ]
  },
  {
   "cell_type": "code",
   "execution_count": 21,
   "id": "6132f723",
   "metadata": {
    "scrolled": true
   },
   "outputs": [],
   "source": [
    "gulfport_crime = pd.read_html(str(soup.find('table', attrs={'class' : 'table tabBlue tblsort tblsticky sortable'})))[0]"
   ]
  },
  {
   "cell_type": "code",
   "execution_count": 22,
   "id": "4d6edeb3",
   "metadata": {},
   "outputs": [
    {
     "name": "stderr",
     "output_type": "stream",
     "text": [
      "C:\\Users\\bswil\\AppData\\Local\\Temp\\ipykernel_11008\\180030399.py:3: FutureWarning: The default value of regex will change from True to False in a future version.\n",
      "  gulfport_crime['2007_per_100k'] = gulfport_crime['2007_per_100k'].str.replace('[),]', '').astype(float)\n",
      "C:\\Users\\bswil\\AppData\\Local\\Temp\\ipykernel_11008\\180030399.py:5: FutureWarning: The default value of regex will change from True to False in a future version.\n",
      "  gulfport_crime['2008_per_100k'] = gulfport_crime['2008_per_100k'].str.replace('[),]', '').astype(float)\n",
      "C:\\Users\\bswil\\AppData\\Local\\Temp\\ipykernel_11008\\180030399.py:7: FutureWarning: The default value of regex will change from True to False in a future version.\n",
      "  gulfport_crime['2009_per_100k'] = gulfport_crime['2009_per_100k'].str.replace('[),]', '').astype(float)\n",
      "C:\\Users\\bswil\\AppData\\Local\\Temp\\ipykernel_11008\\180030399.py:9: FutureWarning: The default value of regex will change from True to False in a future version.\n",
      "  gulfport_crime['2010_per_100k'] = gulfport_crime['2010_per_100k'].str.replace('[),]', '').astype(float)\n",
      "C:\\Users\\bswil\\AppData\\Local\\Temp\\ipykernel_11008\\180030399.py:11: FutureWarning: The default value of regex will change from True to False in a future version.\n",
      "  gulfport_crime['2011_per_100k'] = gulfport_crime['2011_per_100k'].str.replace('[),]', '').astype(float)\n",
      "C:\\Users\\bswil\\AppData\\Local\\Temp\\ipykernel_11008\\180030399.py:13: FutureWarning: The default value of regex will change from True to False in a future version.\n",
      "  gulfport_crime['2012_per_100k'] = gulfport_crime['2012_per_100k'].str.replace('[),]', '').astype(float)\n",
      "C:\\Users\\bswil\\AppData\\Local\\Temp\\ipykernel_11008\\180030399.py:15: FutureWarning: The default value of regex will change from True to False in a future version.\n",
      "  gulfport_crime['2013_per_100k'] = gulfport_crime['2013_per_100k'].str.replace('[),]', '').astype(float)\n",
      "C:\\Users\\bswil\\AppData\\Local\\Temp\\ipykernel_11008\\180030399.py:17: FutureWarning: The default value of regex will change from True to False in a future version.\n",
      "  gulfport_crime['2014_per_100k'] = gulfport_crime['2014_per_100k'].str.replace('[),]', '').astype(float)\n",
      "C:\\Users\\bswil\\AppData\\Local\\Temp\\ipykernel_11008\\180030399.py:19: FutureWarning: The default value of regex will change from True to False in a future version.\n",
      "  gulfport_crime['2015_per_100k'] = gulfport_crime['2015_per_100k'].str.replace('[),]', '').astype(float)\n",
      "C:\\Users\\bswil\\AppData\\Local\\Temp\\ipykernel_11008\\180030399.py:21: FutureWarning: The default value of regex will change from True to False in a future version.\n",
      "  gulfport_crime['2016_per_100k'] = gulfport_crime['2016_per_100k'].str.replace('[),]', '').astype(float)\n",
      "C:\\Users\\bswil\\AppData\\Local\\Temp\\ipykernel_11008\\180030399.py:23: FutureWarning: The default value of regex will change from True to False in a future version.\n",
      "  gulfport_crime['2017_per_100k'] = gulfport_crime['2017_per_100k'].str.replace('[),]', '').astype(float)\n",
      "C:\\Users\\bswil\\AppData\\Local\\Temp\\ipykernel_11008\\180030399.py:25: FutureWarning: The default value of regex will change from True to False in a future version.\n",
      "  gulfport_crime['2018_per_100k'] = gulfport_crime['2018_per_100k'].str.replace('[),]', '').astype(float)\n",
      "C:\\Users\\bswil\\AppData\\Local\\Temp\\ipykernel_11008\\180030399.py:27: FutureWarning: The default value of regex will change from True to False in a future version.\n",
      "  gulfport_crime['2019_per_100k'] = gulfport_crime['2019_per_100k'].str.replace('[),]', '').astype(float)\n",
      "C:\\Users\\bswil\\AppData\\Local\\Temp\\ipykernel_11008\\180030399.py:29: FutureWarning: The default value of regex will change from True to False in a future version.\n",
      "  gulfport_crime['2020_per_100k'] = gulfport_crime['2020_per_100k'].str.replace('[),]', '').astype(float)\n"
     ]
    }
   ],
   "source": [
    "gulfport_crime[['Type', 'delete']] = gulfport_crime['Type'].str.split('\\(', expand=True)\n",
    "gulfport_crime[['2007', '2007_per_100k']] = gulfport_crime['2007'].str.split('\\(', expand=True)\n",
    "gulfport_crime['2007_per_100k'] = gulfport_crime['2007_per_100k'].str.replace('[),]', '').astype(float)\n",
    "gulfport_crime[['2008', '2008_per_100k']] = gulfport_crime['2008'].str.split('\\(', expand=True)\n",
    "gulfport_crime['2008_per_100k'] = gulfport_crime['2008_per_100k'].str.replace('[),]', '').astype(float)\n",
    "gulfport_crime[['2009', '2009_per_100k']] = gulfport_crime['2009'].str.split('\\(', expand=True)\n",
    "gulfport_crime['2009_per_100k'] = gulfport_crime['2009_per_100k'].str.replace('[),]', '').astype(float)\n",
    "gulfport_crime[['2010', '2010_per_100k']] = gulfport_crime['2010'].str.split('\\(', expand=True)\n",
    "gulfport_crime['2010_per_100k'] = gulfport_crime['2010_per_100k'].str.replace('[),]', '').astype(float)\n",
    "gulfport_crime[['2011', '2011_per_100k']] = gulfport_crime['2011'].str.split('\\(', expand=True)\n",
    "gulfport_crime['2011_per_100k'] = gulfport_crime['2011_per_100k'].str.replace('[),]', '').astype(float)\n",
    "gulfport_crime[['2012', '2012_per_100k']] = gulfport_crime['2012'].str.split('\\(', expand=True)\n",
    "gulfport_crime['2012_per_100k'] = gulfport_crime['2012_per_100k'].str.replace('[),]', '').astype(float)\n",
    "gulfport_crime[['2013', '2013_per_100k']] = gulfport_crime['2013'].str.split('\\(', expand=True)\n",
    "gulfport_crime['2013_per_100k'] = gulfport_crime['2013_per_100k'].str.replace('[),]', '').astype(float)\n",
    "gulfport_crime[['2014', '2014_per_100k']] = gulfport_crime['2014'].str.split('\\(', expand=True)\n",
    "gulfport_crime['2014_per_100k'] = gulfport_crime['2014_per_100k'].str.replace('[),]', '').astype(float)\n",
    "gulfport_crime[['2015', '2015_per_100k']] = gulfport_crime['2015'].str.split('\\(', expand=True)\n",
    "gulfport_crime['2015_per_100k'] = gulfport_crime['2015_per_100k'].str.replace('[),]', '').astype(float)\n",
    "gulfport_crime[['2016', '2016_per_100k']] = gulfport_crime['2016'].str.split('\\(', expand=True)\n",
    "gulfport_crime['2016_per_100k'] = gulfport_crime['2016_per_100k'].str.replace('[),]', '').astype(float)\n",
    "gulfport_crime[['2017', '2017_per_100k']] = gulfport_crime['2017'].str.split('\\(', expand=True)\n",
    "gulfport_crime['2017_per_100k'] = gulfport_crime['2017_per_100k'].str.replace('[),]', '').astype(float)\n",
    "gulfport_crime[['2018', '2018_per_100k']] = gulfport_crime['2018'].str.split('\\(', expand=True)\n",
    "gulfport_crime['2018_per_100k'] = gulfport_crime['2018_per_100k'].str.replace('[),]', '').astype(float)\n",
    "gulfport_crime[['2019', '2019_per_100k']] = gulfport_crime['2019'].str.split('\\(', expand=True)\n",
    "gulfport_crime['2019_per_100k'] = gulfport_crime['2019_per_100k'].str.replace('[),]', '').astype(float)\n",
    "gulfport_crime[['2020', '2020_per_100k']] = gulfport_crime['2020'].str.split('\\(', expand=True)\n",
    "gulfport_crime['2020_per_100k'] = gulfport_crime['2020_per_100k'].str.replace('[),]', '').astype(float)\n",
    "gulfport_crime = gulfport_crime.drop(columns = 'delete')"
   ]
  },
  {
   "cell_type": "code",
   "execution_count": 23,
   "id": "f34630e4",
   "metadata": {},
   "outputs": [],
   "source": [
    "gulfport_crime['2007'] = gulfport_crime['2007'].str.replace(',', '').astype(float)\n",
    "gulfport_crime['2008'] = gulfport_crime['2008'].str.replace(',', '').astype(float)\n",
    "gulfport_crime['2009'] = gulfport_crime['2009'].str.replace(',', '').astype(float)\n",
    "gulfport_crime['2010'] = gulfport_crime['2010'].str.replace(',', '').astype(float)\n",
    "gulfport_crime['2011'] = gulfport_crime['2011'].str.replace(',', '').astype(float)\n",
    "gulfport_crime['2012'] = gulfport_crime['2012'].str.replace(',', '').astype(float)\n",
    "gulfport_crime['2013'] = gulfport_crime['2013'].str.replace(',', '').astype(float)\n",
    "gulfport_crime['2014'] = gulfport_crime['2014'].str.replace(',', '').astype(float)\n",
    "gulfport_crime['2015'] = gulfport_crime['2015'].str.replace(',', '').astype(float)\n",
    "gulfport_crime['2016'] = gulfport_crime['2016'].str.replace(',', '').astype(float)\n",
    "gulfport_crime['2017'] = gulfport_crime['2017'].str.replace(',', '').astype(float)\n",
    "gulfport_crime['2018'] = gulfport_crime['2018'].str.replace(',', '').astype(float)\n",
    "gulfport_crime['2019'] = gulfport_crime['2019'].str.replace(',', '').astype(float)\n",
    "gulfport_crime['2020'] = gulfport_crime['2020'].str.replace(',', '').astype(float)"
   ]
  },
  {
   "cell_type": "code",
   "execution_count": 24,
   "id": "21d03b69",
   "metadata": {},
   "outputs": [],
   "source": [
    "gulfport_crime['location'] = 'Gulfport Beach'"
   ]
  },
  {
   "cell_type": "markdown",
   "id": "666d624c",
   "metadata": {},
   "source": [
    "# Tybee Island crime data"
   ]
  },
  {
   "cell_type": "code",
   "execution_count": 25,
   "id": "86a1cfe6",
   "metadata": {},
   "outputs": [],
   "source": [
    "URL = 'https://www.city-data.com/crime/crime-Tybee-Island-Georgia.html'"
   ]
  },
  {
   "cell_type": "code",
   "execution_count": 26,
   "id": "bac4a7f7",
   "metadata": {},
   "outputs": [],
   "source": [
    "response = requests.get(URL)\n",
    "soup = BS(response.text)"
   ]
  },
  {
   "cell_type": "code",
   "execution_count": 27,
   "id": "7b3060d7",
   "metadata": {},
   "outputs": [],
   "source": [
    "tybee_crime = pd.read_html(str(soup.find('table', attrs={'class' : 'table tabBlue tblsort tblsticky sortable'})))[0]"
   ]
  },
  {
   "cell_type": "code",
   "execution_count": 28,
   "id": "a794052a",
   "metadata": {},
   "outputs": [
    {
     "name": "stderr",
     "output_type": "stream",
     "text": [
      "C:\\Users\\bswil\\AppData\\Local\\Temp\\ipykernel_11008\\3548184235.py:3: FutureWarning: The default value of regex will change from True to False in a future version.\n",
      "  tybee_crime['2007_per_100k'] = tybee_crime['2007_per_100k'].str.replace('[),]', '').astype(float)\n",
      "C:\\Users\\bswil\\AppData\\Local\\Temp\\ipykernel_11008\\3548184235.py:5: FutureWarning: The default value of regex will change from True to False in a future version.\n",
      "  tybee_crime['2008_per_100k'] = tybee_crime['2008_per_100k'].str.replace('[),]', '').astype(float)\n",
      "C:\\Users\\bswil\\AppData\\Local\\Temp\\ipykernel_11008\\3548184235.py:7: FutureWarning: The default value of regex will change from True to False in a future version.\n",
      "  tybee_crime['2009_per_100k'] = tybee_crime['2009_per_100k'].str.replace('[),]', '').astype(float)\n",
      "C:\\Users\\bswil\\AppData\\Local\\Temp\\ipykernel_11008\\3548184235.py:9: FutureWarning: The default value of regex will change from True to False in a future version.\n",
      "  tybee_crime['2010_per_100k'] = tybee_crime['2010_per_100k'].str.replace('[),]', '').astype(float)\n",
      "C:\\Users\\bswil\\AppData\\Local\\Temp\\ipykernel_11008\\3548184235.py:11: FutureWarning: The default value of regex will change from True to False in a future version.\n",
      "  tybee_crime['2011_per_100k'] = tybee_crime['2011_per_100k'].str.replace('[),]', '').astype(float)\n",
      "C:\\Users\\bswil\\AppData\\Local\\Temp\\ipykernel_11008\\3548184235.py:13: FutureWarning: The default value of regex will change from True to False in a future version.\n",
      "  tybee_crime['2012_per_100k'] = tybee_crime['2012_per_100k'].str.replace('[),]', '').astype(float)\n",
      "C:\\Users\\bswil\\AppData\\Local\\Temp\\ipykernel_11008\\3548184235.py:15: FutureWarning: The default value of regex will change from True to False in a future version.\n",
      "  tybee_crime['2013_per_100k'] = tybee_crime['2013_per_100k'].str.replace('[),]', '').astype(float)\n",
      "C:\\Users\\bswil\\AppData\\Local\\Temp\\ipykernel_11008\\3548184235.py:17: FutureWarning: The default value of regex will change from True to False in a future version.\n",
      "  tybee_crime['2014_per_100k'] = tybee_crime['2014_per_100k'].str.replace('[),]', '').astype(float)\n",
      "C:\\Users\\bswil\\AppData\\Local\\Temp\\ipykernel_11008\\3548184235.py:19: FutureWarning: The default value of regex will change from True to False in a future version.\n",
      "  tybee_crime['2015_per_100k'] = tybee_crime['2015_per_100k'].str.replace('[),]', '').astype(float)\n",
      "C:\\Users\\bswil\\AppData\\Local\\Temp\\ipykernel_11008\\3548184235.py:21: FutureWarning: The default value of regex will change from True to False in a future version.\n",
      "  tybee_crime['2016_per_100k'] = tybee_crime['2016_per_100k'].str.replace('[),]', '').astype(float)\n",
      "C:\\Users\\bswil\\AppData\\Local\\Temp\\ipykernel_11008\\3548184235.py:23: FutureWarning: The default value of regex will change from True to False in a future version.\n",
      "  tybee_crime['2017_per_100k'] = tybee_crime['2017_per_100k'].str.replace('[),]', '').astype(float)\n",
      "C:\\Users\\bswil\\AppData\\Local\\Temp\\ipykernel_11008\\3548184235.py:25: FutureWarning: The default value of regex will change from True to False in a future version.\n",
      "  tybee_crime['2018_per_100k'] = tybee_crime['2018_per_100k'].str.replace('[),]', '').astype(float)\n",
      "C:\\Users\\bswil\\AppData\\Local\\Temp\\ipykernel_11008\\3548184235.py:27: FutureWarning: The default value of regex will change from True to False in a future version.\n",
      "  tybee_crime['2019_per_100k'] = tybee_crime['2019_per_100k'].str.replace('[),]', '').astype(float)\n",
      "C:\\Users\\bswil\\AppData\\Local\\Temp\\ipykernel_11008\\3548184235.py:29: FutureWarning: The default value of regex will change from True to False in a future version.\n",
      "  tybee_crime['2020_per_100k'] = tybee_crime['2020_per_100k'].str.replace('[),]', '').astype(float)\n"
     ]
    }
   ],
   "source": [
    "tybee_crime[['Type', 'delete']] = tybee_crime['Type'].str.split('\\(', expand=True)\n",
    "tybee_crime[['2007', '2007_per_100k']] = tybee_crime['2007'].str.split('\\(', expand=True)\n",
    "tybee_crime['2007_per_100k'] = tybee_crime['2007_per_100k'].str.replace('[),]', '').astype(float)\n",
    "tybee_crime[['2008', '2008_per_100k']] = tybee_crime['2008'].str.split('\\(', expand=True)\n",
    "tybee_crime['2008_per_100k'] = tybee_crime['2008_per_100k'].str.replace('[),]', '').astype(float)\n",
    "tybee_crime[['2009', '2009_per_100k']] = tybee_crime['2009'].str.split('\\(', expand=True)\n",
    "tybee_crime['2009_per_100k'] = tybee_crime['2009_per_100k'].str.replace('[),]', '').astype(float)\n",
    "tybee_crime[['2010', '2010_per_100k']] = tybee_crime['2010'].str.split('\\(', expand=True)\n",
    "tybee_crime['2010_per_100k'] = tybee_crime['2010_per_100k'].str.replace('[),]', '').astype(float)\n",
    "tybee_crime[['2011', '2011_per_100k']] = tybee_crime['2011'].str.split('\\(', expand=True)\n",
    "tybee_crime['2011_per_100k'] = tybee_crime['2011_per_100k'].str.replace('[),]', '').astype(float)\n",
    "tybee_crime[['2012', '2012_per_100k']] = tybee_crime['2012'].str.split('\\(', expand=True)\n",
    "tybee_crime['2012_per_100k'] = tybee_crime['2012_per_100k'].str.replace('[),]', '').astype(float)\n",
    "tybee_crime[['2013', '2013_per_100k']] = tybee_crime['2013'].str.split('\\(', expand=True)\n",
    "tybee_crime['2013_per_100k'] = tybee_crime['2013_per_100k'].str.replace('[),]', '').astype(float)\n",
    "tybee_crime[['2014', '2014_per_100k']] = tybee_crime['2014'].str.split('\\(', expand=True)\n",
    "tybee_crime['2014_per_100k'] = tybee_crime['2014_per_100k'].str.replace('[),]', '').astype(float)\n",
    "tybee_crime[['2015', '2015_per_100k']] = tybee_crime['2015'].str.split('\\(', expand=True)\n",
    "tybee_crime['2015_per_100k'] = tybee_crime['2015_per_100k'].str.replace('[),]', '').astype(float)\n",
    "tybee_crime[['2016', '2016_per_100k']] = tybee_crime['2016'].str.split('\\(', expand=True)\n",
    "tybee_crime['2016_per_100k'] = tybee_crime['2016_per_100k'].str.replace('[),]', '').astype(float)\n",
    "tybee_crime[['2017', '2017_per_100k']] = tybee_crime['2017'].str.split('\\(', expand=True)\n",
    "tybee_crime['2017_per_100k'] = tybee_crime['2017_per_100k'].str.replace('[),]', '').astype(float)\n",
    "tybee_crime[['2018', '2018_per_100k']] = tybee_crime['2018'].str.split('\\(', expand=True)\n",
    "tybee_crime['2018_per_100k'] = tybee_crime['2018_per_100k'].str.replace('[),]', '').astype(float)\n",
    "tybee_crime[['2019', '2019_per_100k']] = tybee_crime['2019'].str.split('\\(', expand=True)\n",
    "tybee_crime['2019_per_100k'] = tybee_crime['2019_per_100k'].str.replace('[),]', '').astype(float)\n",
    "tybee_crime[['2020', '2020_per_100k']] = tybee_crime['2020'].str.split('\\(', expand=True)\n",
    "tybee_crime['2020_per_100k'] = tybee_crime['2020_per_100k'].str.replace('[),]', '').astype(float)\n",
    "tybee_crime = tybee_crime.drop(columns = 'delete')"
   ]
  },
  {
   "cell_type": "code",
   "execution_count": 29,
   "id": "ab94227f",
   "metadata": {},
   "outputs": [],
   "source": [
    "tybee_crime['2007'] = tybee_crime['2007'].str.replace(',', '').astype(float)\n",
    "tybee_crime['2008'] = tybee_crime['2008'].str.replace(',', '').astype(float)\n",
    "tybee_crime['2009'] = tybee_crime['2009'].str.replace(',', '').astype(float)\n",
    "tybee_crime['2010'] = tybee_crime['2010'].str.replace(',', '').astype(float)\n",
    "tybee_crime['2011'] = tybee_crime['2011'].str.replace(',', '').astype(float)\n",
    "tybee_crime['2012'] = tybee_crime['2012'].str.replace(',', '').astype(float)\n",
    "tybee_crime['2013'] = tybee_crime['2013'].str.replace(',', '').astype(float)\n",
    "tybee_crime['2014'] = tybee_crime['2014'].str.replace(',', '').astype(float)\n",
    "tybee_crime['2015'] = tybee_crime['2015'].str.replace(',', '').astype(float)\n",
    "tybee_crime['2016'] = tybee_crime['2016'].str.replace(',', '').astype(float)\n",
    "tybee_crime['2017'] = tybee_crime['2017'].str.replace(',', '').astype(float)\n",
    "tybee_crime['2018'] = tybee_crime['2018'].str.replace(',', '').astype(float)\n",
    "tybee_crime['2019'] = tybee_crime['2019'].str.replace(',', '').astype(float)\n",
    "tybee_crime['2020'] = tybee_crime['2020'].str.replace(',', '').astype(float)"
   ]
  },
  {
   "cell_type": "code",
   "execution_count": 30,
   "id": "c3b8b557",
   "metadata": {},
   "outputs": [],
   "source": [
    "tybee_crime['location'] = 'Tybee Island'"
   ]
  },
  {
   "cell_type": "markdown",
   "id": "b31e79af",
   "metadata": {},
   "source": [
    "# Miramar crime data"
   ]
  },
  {
   "cell_type": "code",
   "execution_count": 31,
   "id": "3e575ac4",
   "metadata": {},
   "outputs": [],
   "source": [
    "URL = 'https://www.city-data.com/crime/crime-Miramar-Florida.html'"
   ]
  },
  {
   "cell_type": "code",
   "execution_count": 32,
   "id": "0f9f66c2",
   "metadata": {},
   "outputs": [],
   "source": [
    "response = requests.get(URL)\n",
    "soup = BS(response.text)"
   ]
  },
  {
   "cell_type": "code",
   "execution_count": 33,
   "id": "1ea62a84",
   "metadata": {},
   "outputs": [],
   "source": [
    "miramar_crime = pd.read_html(str(soup.find('table', attrs={'class' : 'table tabBlue tblsort tblsticky sortable'})))[0]"
   ]
  },
  {
   "cell_type": "code",
   "execution_count": 34,
   "id": "25555e62",
   "metadata": {},
   "outputs": [
    {
     "name": "stderr",
     "output_type": "stream",
     "text": [
      "C:\\Users\\bswil\\AppData\\Local\\Temp\\ipykernel_11008\\771339242.py:3: FutureWarning: The default value of regex will change from True to False in a future version.\n",
      "  miramar_crime['2007_per_100k'] = miramar_crime['2007_per_100k'].str.replace('[),]', '').astype(float)\n",
      "C:\\Users\\bswil\\AppData\\Local\\Temp\\ipykernel_11008\\771339242.py:5: FutureWarning: The default value of regex will change from True to False in a future version.\n",
      "  miramar_crime['2008_per_100k'] = miramar_crime['2008_per_100k'].str.replace('[),]', '').astype(float)\n",
      "C:\\Users\\bswil\\AppData\\Local\\Temp\\ipykernel_11008\\771339242.py:7: FutureWarning: The default value of regex will change from True to False in a future version.\n",
      "  miramar_crime['2009_per_100k'] = miramar_crime['2009_per_100k'].str.replace('[),]', '').astype(float)\n",
      "C:\\Users\\bswil\\AppData\\Local\\Temp\\ipykernel_11008\\771339242.py:9: FutureWarning: The default value of regex will change from True to False in a future version.\n",
      "  miramar_crime['2010_per_100k'] = miramar_crime['2010_per_100k'].str.replace('[),]', '').astype(float)\n",
      "C:\\Users\\bswil\\AppData\\Local\\Temp\\ipykernel_11008\\771339242.py:11: FutureWarning: The default value of regex will change from True to False in a future version.\n",
      "  miramar_crime['2011_per_100k'] = miramar_crime['2011_per_100k'].str.replace('[),]', '').astype(float)\n",
      "C:\\Users\\bswil\\AppData\\Local\\Temp\\ipykernel_11008\\771339242.py:13: FutureWarning: The default value of regex will change from True to False in a future version.\n",
      "  miramar_crime['2012_per_100k'] = miramar_crime['2012_per_100k'].str.replace('[),]', '').astype(float)\n",
      "C:\\Users\\bswil\\AppData\\Local\\Temp\\ipykernel_11008\\771339242.py:15: FutureWarning: The default value of regex will change from True to False in a future version.\n",
      "  miramar_crime['2013_per_100k'] = miramar_crime['2013_per_100k'].str.replace('[),]', '').astype(float)\n",
      "C:\\Users\\bswil\\AppData\\Local\\Temp\\ipykernel_11008\\771339242.py:17: FutureWarning: The default value of regex will change from True to False in a future version.\n",
      "  miramar_crime['2014_per_100k'] = miramar_crime['2014_per_100k'].str.replace('[),]', '').astype(float)\n",
      "C:\\Users\\bswil\\AppData\\Local\\Temp\\ipykernel_11008\\771339242.py:19: FutureWarning: The default value of regex will change from True to False in a future version.\n",
      "  miramar_crime['2015_per_100k'] = miramar_crime['2015_per_100k'].str.replace('[),]', '').astype(float)\n",
      "C:\\Users\\bswil\\AppData\\Local\\Temp\\ipykernel_11008\\771339242.py:21: FutureWarning: The default value of regex will change from True to False in a future version.\n",
      "  miramar_crime['2016_per_100k'] = miramar_crime['2016_per_100k'].str.replace('[),]', '').astype(float)\n",
      "C:\\Users\\bswil\\AppData\\Local\\Temp\\ipykernel_11008\\771339242.py:23: FutureWarning: The default value of regex will change from True to False in a future version.\n",
      "  miramar_crime['2017_per_100k'] = miramar_crime['2017_per_100k'].str.replace('[),]', '').astype(float)\n",
      "C:\\Users\\bswil\\AppData\\Local\\Temp\\ipykernel_11008\\771339242.py:25: FutureWarning: The default value of regex will change from True to False in a future version.\n",
      "  miramar_crime['2018_per_100k'] = miramar_crime['2018_per_100k'].str.replace('[),]', '').astype(float)\n",
      "C:\\Users\\bswil\\AppData\\Local\\Temp\\ipykernel_11008\\771339242.py:27: FutureWarning: The default value of regex will change from True to False in a future version.\n",
      "  miramar_crime['2019_per_100k'] = miramar_crime['2019_per_100k'].str.replace('[),]', '').astype(float)\n",
      "C:\\Users\\bswil\\AppData\\Local\\Temp\\ipykernel_11008\\771339242.py:29: FutureWarning: The default value of regex will change from True to False in a future version.\n",
      "  miramar_crime['2020_per_100k'] = miramar_crime['2020_per_100k'].str.replace('[),]', '').astype(float)\n"
     ]
    }
   ],
   "source": [
    "miramar_crime[['Type', 'delete']] = miramar_crime['Type'].str.split('\\(', expand=True)\n",
    "miramar_crime[['2007', '2007_per_100k']] = miramar_crime['2007'].str.split('\\(', expand=True)\n",
    "miramar_crime['2007_per_100k'] = miramar_crime['2007_per_100k'].str.replace('[),]', '').astype(float)\n",
    "miramar_crime[['2008', '2008_per_100k']] = miramar_crime['2008'].str.split('\\(', expand=True)\n",
    "miramar_crime['2008_per_100k'] = miramar_crime['2008_per_100k'].str.replace('[),]', '').astype(float)\n",
    "miramar_crime[['2009', '2009_per_100k']] = miramar_crime['2009'].str.split('\\(', expand=True)\n",
    "miramar_crime['2009_per_100k'] = miramar_crime['2009_per_100k'].str.replace('[),]', '').astype(float)\n",
    "miramar_crime[['2010', '2010_per_100k']] = miramar_crime['2010'].str.split('\\(', expand=True)\n",
    "miramar_crime['2010_per_100k'] = miramar_crime['2010_per_100k'].str.replace('[),]', '').astype(float)\n",
    "miramar_crime[['2011', '2011_per_100k']] = miramar_crime['2011'].str.split('\\(', expand=True)\n",
    "miramar_crime['2011_per_100k'] = miramar_crime['2011_per_100k'].str.replace('[),]', '').astype(float)\n",
    "miramar_crime[['2012', '2012_per_100k']] = miramar_crime['2012'].str.split('\\(', expand=True)\n",
    "miramar_crime['2012_per_100k'] = miramar_crime['2012_per_100k'].str.replace('[),]', '').astype(float)\n",
    "miramar_crime[['2013', '2013_per_100k']] = miramar_crime['2013'].str.split('\\(', expand=True)\n",
    "miramar_crime['2013_per_100k'] = miramar_crime['2013_per_100k'].str.replace('[),]', '').astype(float)\n",
    "miramar_crime[['2014', '2014_per_100k']] = miramar_crime['2014'].str.split('\\(', expand=True)\n",
    "miramar_crime['2014_per_100k'] = miramar_crime['2014_per_100k'].str.replace('[),]', '').astype(float)\n",
    "miramar_crime[['2015', '2015_per_100k']] = miramar_crime['2015'].str.split('\\(', expand=True)\n",
    "miramar_crime['2015_per_100k'] = miramar_crime['2015_per_100k'].str.replace('[),]', '').astype(float)\n",
    "miramar_crime[['2016', '2016_per_100k']] = miramar_crime['2016'].str.split('\\(', expand=True)\n",
    "miramar_crime['2016_per_100k'] = miramar_crime['2016_per_100k'].str.replace('[),]', '').astype(float)\n",
    "miramar_crime[['2017', '2017_per_100k']] = miramar_crime['2017'].str.split('\\(', expand=True)\n",
    "miramar_crime['2017_per_100k'] = miramar_crime['2017_per_100k'].str.replace('[),]', '').astype(float)\n",
    "miramar_crime[['2018', '2018_per_100k']] = miramar_crime['2018'].str.split('\\(', expand=True)\n",
    "miramar_crime['2018_per_100k'] = miramar_crime['2018_per_100k'].str.replace('[),]', '').astype(float)\n",
    "miramar_crime[['2019', '2019_per_100k']] = miramar_crime['2019'].str.split('\\(', expand=True)\n",
    "miramar_crime['2019_per_100k'] = miramar_crime['2019_per_100k'].str.replace('[),]', '').astype(float)\n",
    "miramar_crime[['2020', '2020_per_100k']] = miramar_crime['2020'].str.split('\\(', expand=True)\n",
    "miramar_crime['2020_per_100k'] = miramar_crime['2020_per_100k'].str.replace('[),]', '').astype(float)\n",
    "miramar_crime = miramar_crime.drop(columns = 'delete')"
   ]
  },
  {
   "cell_type": "code",
   "execution_count": 35,
   "id": "b1cbd0ff",
   "metadata": {},
   "outputs": [],
   "source": [
    "miramar_crime['2007'] = miramar_crime['2007'].str.replace(',', '').astype(float)\n",
    "miramar_crime['2008'] = miramar_crime['2008'].str.replace(',', '').astype(float)\n",
    "miramar_crime['2009'] = miramar_crime['2009'].str.replace(',', '').astype(float)\n",
    "miramar_crime['2010'] = miramar_crime['2010'].str.replace(',', '').astype(float)\n",
    "miramar_crime['2011'] = miramar_crime['2011'].str.replace(',', '').astype(float)\n",
    "miramar_crime['2012'] = miramar_crime['2012'].str.replace(',', '').astype(float)\n",
    "miramar_crime['2013'] = miramar_crime['2013'].str.replace(',', '').astype(float)\n",
    "miramar_crime['2014'] = miramar_crime['2014'].str.replace(',', '').astype(float)\n",
    "miramar_crime['2015'] = miramar_crime['2015'].str.replace(',', '').astype(float)\n",
    "miramar_crime['2016'] = miramar_crime['2016'].str.replace(',', '').astype(float)\n",
    "miramar_crime['2017'] = miramar_crime['2017'].str.replace(',', '').astype(float)\n",
    "miramar_crime['2018'] = miramar_crime['2018'].str.replace(',', '').astype(float)\n",
    "miramar_crime['2019'] = miramar_crime['2019'].str.replace(',', '').astype(float)\n",
    "miramar_crime['2020'] = miramar_crime['2020'].str.replace(',', '').astype(float)"
   ]
  },
  {
   "cell_type": "code",
   "execution_count": 36,
   "id": "65b06bb7",
   "metadata": {},
   "outputs": [],
   "source": [
    "miramar_crime['location'] = 'Miramar Beach'"
   ]
  },
  {
   "cell_type": "markdown",
   "id": "64d0a9d6",
   "metadata": {},
   "source": [
    "# Orange Beach crime data"
   ]
  },
  {
   "cell_type": "code",
   "execution_count": 37,
   "id": "9f48c551",
   "metadata": {},
   "outputs": [],
   "source": [
    "URL = 'https://www.city-data.com/crime/crime-Orange-Beach-Alabama.html'"
   ]
  },
  {
   "cell_type": "code",
   "execution_count": 38,
   "id": "bb6a9716",
   "metadata": {},
   "outputs": [],
   "source": [
    "response = requests.get(URL)\n",
    "soup = BS(response.text)"
   ]
  },
  {
   "cell_type": "code",
   "execution_count": 39,
   "id": "81c5f2eb",
   "metadata": {},
   "outputs": [],
   "source": [
    "orange_crime = pd.read_html(str(soup.find('table', attrs={'class' : 'table tabBlue tblsort tblsticky sortable'})))[0]"
   ]
  },
  {
   "cell_type": "code",
   "execution_count": 40,
   "id": "d8af463c",
   "metadata": {},
   "outputs": [
    {
     "name": "stderr",
     "output_type": "stream",
     "text": [
      "C:\\Users\\bswil\\AppData\\Local\\Temp\\ipykernel_11008\\3101869197.py:3: FutureWarning: The default value of regex will change from True to False in a future version.\n",
      "  orange_crime['2007_per_100k'] = orange_crime['2007_per_100k'].str.replace('[),]', '').astype(float)\n",
      "C:\\Users\\bswil\\AppData\\Local\\Temp\\ipykernel_11008\\3101869197.py:5: FutureWarning: The default value of regex will change from True to False in a future version.\n",
      "  orange_crime['2008_per_100k'] = orange_crime['2008_per_100k'].str.replace('[),]', '').astype(float)\n",
      "C:\\Users\\bswil\\AppData\\Local\\Temp\\ipykernel_11008\\3101869197.py:7: FutureWarning: The default value of regex will change from True to False in a future version.\n",
      "  orange_crime['2009_per_100k'] = orange_crime['2009_per_100k'].str.replace('[),]', '').astype(float)\n",
      "C:\\Users\\bswil\\AppData\\Local\\Temp\\ipykernel_11008\\3101869197.py:9: FutureWarning: The default value of regex will change from True to False in a future version.\n",
      "  orange_crime['2010_per_100k'] = orange_crime['2010_per_100k'].str.replace('[),]', '').astype(float)\n",
      "C:\\Users\\bswil\\AppData\\Local\\Temp\\ipykernel_11008\\3101869197.py:11: FutureWarning: The default value of regex will change from True to False in a future version.\n",
      "  orange_crime['2011_per_100k'] = orange_crime['2011_per_100k'].str.replace('[),]', '').astype(float)\n",
      "C:\\Users\\bswil\\AppData\\Local\\Temp\\ipykernel_11008\\3101869197.py:13: FutureWarning: The default value of regex will change from True to False in a future version.\n",
      "  orange_crime['2012_per_100k'] = orange_crime['2012_per_100k'].str.replace('[),]', '').astype(float)\n",
      "C:\\Users\\bswil\\AppData\\Local\\Temp\\ipykernel_11008\\3101869197.py:15: FutureWarning: The default value of regex will change from True to False in a future version.\n",
      "  orange_crime['2013_per_100k'] = orange_crime['2013_per_100k'].str.replace('[),]', '').astype(float)\n",
      "C:\\Users\\bswil\\AppData\\Local\\Temp\\ipykernel_11008\\3101869197.py:17: FutureWarning: The default value of regex will change from True to False in a future version.\n",
      "  orange_crime['2015_per_100k'] = orange_crime['2015_per_100k'].str.replace('[),]', '').astype(float)\n",
      "C:\\Users\\bswil\\AppData\\Local\\Temp\\ipykernel_11008\\3101869197.py:19: FutureWarning: The default value of regex will change from True to False in a future version.\n",
      "  orange_crime['2016_per_100k'] = orange_crime['2016_per_100k'].str.replace('[),]', '').astype(float)\n",
      "C:\\Users\\bswil\\AppData\\Local\\Temp\\ipykernel_11008\\3101869197.py:21: FutureWarning: The default value of regex will change from True to False in a future version.\n",
      "  orange_crime['2017_per_100k'] = orange_crime['2017_per_100k'].str.replace('[),]', '').astype(float)\n",
      "C:\\Users\\bswil\\AppData\\Local\\Temp\\ipykernel_11008\\3101869197.py:23: FutureWarning: The default value of regex will change from True to False in a future version.\n",
      "  orange_crime['2018_per_100k'] = orange_crime['2018_per_100k'].str.replace('[),]', '').astype(float)\n",
      "C:\\Users\\bswil\\AppData\\Local\\Temp\\ipykernel_11008\\3101869197.py:25: FutureWarning: The default value of regex will change from True to False in a future version.\n",
      "  orange_crime['2019_per_100k'] = orange_crime['2019_per_100k'].str.replace('[),]', '').astype(float)\n",
      "C:\\Users\\bswil\\AppData\\Local\\Temp\\ipykernel_11008\\3101869197.py:27: FutureWarning: The default value of regex will change from True to False in a future version.\n",
      "  orange_crime['2020_per_100k'] = orange_crime['2020_per_100k'].str.replace('[),]', '').astype(float)\n"
     ]
    }
   ],
   "source": [
    "orange_crime[['Type', 'delete']] = orange_crime['Type'].str.split('\\(', expand=True)\n",
    "orange_crime[['2007', '2007_per_100k']] = orange_crime['2007'].str.split('\\(', expand=True)\n",
    "orange_crime['2007_per_100k'] = orange_crime['2007_per_100k'].str.replace('[),]', '').astype(float)\n",
    "orange_crime[['2008', '2008_per_100k']] = orange_crime['2008'].str.split('\\(', expand=True)\n",
    "orange_crime['2008_per_100k'] = orange_crime['2008_per_100k'].str.replace('[),]', '').astype(float)\n",
    "orange_crime[['2009', '2009_per_100k']] = orange_crime['2009'].str.split('\\(', expand=True)\n",
    "orange_crime['2009_per_100k'] = orange_crime['2009_per_100k'].str.replace('[),]', '').astype(float)\n",
    "orange_crime[['2010', '2010_per_100k']] = orange_crime['2010'].str.split('\\(', expand=True)\n",
    "orange_crime['2010_per_100k'] = orange_crime['2010_per_100k'].str.replace('[),]', '').astype(float)\n",
    "orange_crime[['2011', '2011_per_100k']] = orange_crime['2011'].str.split('\\(', expand=True)\n",
    "orange_crime['2011_per_100k'] = orange_crime['2011_per_100k'].str.replace('[),]', '').astype(float)\n",
    "orange_crime[['2012', '2012_per_100k']] = orange_crime['2012'].str.split('\\(', expand=True)\n",
    "orange_crime['2012_per_100k'] = orange_crime['2012_per_100k'].str.replace('[),]', '').astype(float)\n",
    "orange_crime[['2013', '2013_per_100k']] = orange_crime['2013'].str.split('\\(', expand=True)\n",
    "orange_crime['2013_per_100k'] = orange_crime['2013_per_100k'].str.replace('[),]', '').astype(float)\n",
    "orange_crime[['2015', '2015_per_100k']] = orange_crime['2015'].str.split('\\(', expand=True)\n",
    "orange_crime['2015_per_100k'] = orange_crime['2015_per_100k'].str.replace('[),]', '').astype(float)\n",
    "orange_crime[['2016', '2016_per_100k']] = orange_crime['2016'].str.split('\\(', expand=True)\n",
    "orange_crime['2016_per_100k'] = orange_crime['2016_per_100k'].str.replace('[),]', '').astype(float)\n",
    "orange_crime[['2017', '2017_per_100k']] = orange_crime['2017'].str.split('\\(', expand=True)\n",
    "orange_crime['2017_per_100k'] = orange_crime['2017_per_100k'].str.replace('[),]', '').astype(float)\n",
    "orange_crime[['2018', '2018_per_100k']] = orange_crime['2018'].str.split('\\(', expand=True)\n",
    "orange_crime['2018_per_100k'] = orange_crime['2018_per_100k'].str.replace('[),]', '').astype(float)\n",
    "orange_crime[['2019', '2019_per_100k']] = orange_crime['2019'].str.split('\\(', expand=True)\n",
    "orange_crime['2019_per_100k'] = orange_crime['2019_per_100k'].str.replace('[),]', '').astype(float)\n",
    "orange_crime[['2020', '2020_per_100k']] = orange_crime['2020'].str.split('\\(', expand=True)\n",
    "orange_crime['2020_per_100k'] = orange_crime['2020_per_100k'].str.replace('[),]', '').astype(float)\n",
    "orange_crime = orange_crime.drop(columns = 'delete')"
   ]
  },
  {
   "cell_type": "code",
   "execution_count": 41,
   "id": "6723b807",
   "metadata": {},
   "outputs": [],
   "source": [
    "orange_crime['2007'] = orange_crime['2007'].str.replace(',', '').astype(float)\n",
    "orange_crime['2008'] = orange_crime['2008'].str.replace(',', '').astype(float)\n",
    "orange_crime['2009'] = orange_crime['2009'].str.replace(',', '').astype(float)\n",
    "orange_crime['2010'] = orange_crime['2010'].str.replace(',', '').astype(float)\n",
    "orange_crime['2011'] = orange_crime['2011'].str.replace(',', '').astype(float)\n",
    "orange_crime['2012'] = orange_crime['2012'].str.replace(',', '').astype(float)\n",
    "orange_crime['2013'] = orange_crime['2013'].str.replace(',', '').astype(float)\n",
    "orange_crime['2015'] = orange_crime['2015'].str.replace(',', '').astype(float)\n",
    "orange_crime['2016'] = orange_crime['2016'].str.replace(',', '').astype(float)\n",
    "orange_crime['2017'] = orange_crime['2017'].str.replace(',', '').astype(float)\n",
    "orange_crime['2018'] = orange_crime['2018'].str.replace(',', '').astype(float)\n",
    "orange_crime['2019'] = orange_crime['2019'].str.replace(',', '').astype(float)\n",
    "orange_crime['2020'] = orange_crime['2020'].str.replace(',', '').astype(float)"
   ]
  },
  {
   "cell_type": "code",
   "execution_count": 42,
   "id": "53e35fd4",
   "metadata": {},
   "outputs": [],
   "source": [
    "orange_crime['location'] = 'Orange Beach'"
   ]
  },
  {
   "cell_type": "markdown",
   "id": "ef54e891",
   "metadata": {},
   "source": [
    "# Dauphin Island crime data"
   ]
  },
  {
   "cell_type": "code",
   "execution_count": 43,
   "id": "19be468c",
   "metadata": {},
   "outputs": [],
   "source": [
    "URL = 'https://www.city-data.com/crime/crime-Dauphin-Island-Alabama.html'"
   ]
  },
  {
   "cell_type": "code",
   "execution_count": 44,
   "id": "4a00222d",
   "metadata": {},
   "outputs": [],
   "source": [
    "response = requests.get(URL)\n",
    "soup = BS(response.text)"
   ]
  },
  {
   "cell_type": "code",
   "execution_count": 45,
   "id": "ca3b604a",
   "metadata": {},
   "outputs": [],
   "source": [
    "dauphin_crime = pd.read_html(str(soup.find('table', attrs={'class' : 'table tabBlue tblsort tblsticky sortable'})))[0]"
   ]
  },
  {
   "cell_type": "code",
   "execution_count": 46,
   "id": "21e78b70",
   "metadata": {},
   "outputs": [
    {
     "name": "stderr",
     "output_type": "stream",
     "text": [
      "C:\\Users\\bswil\\AppData\\Local\\Temp\\ipykernel_11008\\1855950070.py:3: FutureWarning: The default value of regex will change from True to False in a future version.\n",
      "  dauphin_crime['2007_per_100k'] = dauphin_crime['2007_per_100k'].str.replace('[),]', '').astype(float)\n",
      "C:\\Users\\bswil\\AppData\\Local\\Temp\\ipykernel_11008\\1855950070.py:5: FutureWarning: The default value of regex will change from True to False in a future version.\n",
      "  dauphin_crime['2008_per_100k'] = dauphin_crime['2008_per_100k'].str.replace('[),]', '').astype(float)\n",
      "C:\\Users\\bswil\\AppData\\Local\\Temp\\ipykernel_11008\\1855950070.py:7: FutureWarning: The default value of regex will change from True to False in a future version.\n",
      "  dauphin_crime['2009_per_100k'] = dauphin_crime['2009_per_100k'].str.replace('[),]', '').astype(float)\n",
      "C:\\Users\\bswil\\AppData\\Local\\Temp\\ipykernel_11008\\1855950070.py:9: FutureWarning: The default value of regex will change from True to False in a future version.\n",
      "  dauphin_crime['2010_per_100k'] = dauphin_crime['2010_per_100k'].str.replace('[),]', '').astype(float)\n",
      "C:\\Users\\bswil\\AppData\\Local\\Temp\\ipykernel_11008\\1855950070.py:11: FutureWarning: The default value of regex will change from True to False in a future version.\n",
      "  dauphin_crime['2011_per_100k'] = dauphin_crime['2011_per_100k'].str.replace('[),]', '').astype(float)\n",
      "C:\\Users\\bswil\\AppData\\Local\\Temp\\ipykernel_11008\\1855950070.py:13: FutureWarning: The default value of regex will change from True to False in a future version.\n",
      "  dauphin_crime['2012_per_100k'] = dauphin_crime['2012_per_100k'].str.replace('[),]', '').astype(float)\n",
      "C:\\Users\\bswil\\AppData\\Local\\Temp\\ipykernel_11008\\1855950070.py:15: FutureWarning: The default value of regex will change from True to False in a future version.\n",
      "  dauphin_crime['2013_per_100k'] = dauphin_crime['2013_per_100k'].str.replace('[),]', '').astype(float)\n",
      "C:\\Users\\bswil\\AppData\\Local\\Temp\\ipykernel_11008\\1855950070.py:17: FutureWarning: The default value of regex will change from True to False in a future version.\n",
      "  dauphin_crime['2014_per_100k'] = dauphin_crime['2014_per_100k'].str.replace('[),]', '').astype(float)\n",
      "C:\\Users\\bswil\\AppData\\Local\\Temp\\ipykernel_11008\\1855950070.py:19: FutureWarning: The default value of regex will change from True to False in a future version.\n",
      "  dauphin_crime['2015_per_100k'] = dauphin_crime['2015_per_100k'].str.replace('[),]', '').astype(float)\n",
      "C:\\Users\\bswil\\AppData\\Local\\Temp\\ipykernel_11008\\1855950070.py:21: FutureWarning: The default value of regex will change from True to False in a future version.\n",
      "  dauphin_crime['2016_per_100k'] = dauphin_crime['2016_per_100k'].str.replace('[),]', '').astype(float)\n",
      "C:\\Users\\bswil\\AppData\\Local\\Temp\\ipykernel_11008\\1855950070.py:23: FutureWarning: The default value of regex will change from True to False in a future version.\n",
      "  dauphin_crime['2017_per_100k'] = dauphin_crime['2017_per_100k'].str.replace('[),]', '').astype(float)\n",
      "C:\\Users\\bswil\\AppData\\Local\\Temp\\ipykernel_11008\\1855950070.py:25: FutureWarning: The default value of regex will change from True to False in a future version.\n",
      "  dauphin_crime['2018_per_100k'] = dauphin_crime['2018_per_100k'].str.replace('[),]', '').astype(float)\n",
      "C:\\Users\\bswil\\AppData\\Local\\Temp\\ipykernel_11008\\1855950070.py:27: FutureWarning: The default value of regex will change from True to False in a future version.\n",
      "  dauphin_crime['2019_per_100k'] = dauphin_crime['2019_per_100k'].str.replace('[),]', '').astype(float)\n",
      "C:\\Users\\bswil\\AppData\\Local\\Temp\\ipykernel_11008\\1855950070.py:29: FutureWarning: The default value of regex will change from True to False in a future version.\n",
      "  dauphin_crime['2020_per_100k'] = dauphin_crime['2020_per_100k'].str.replace('[),]', '').astype(float)\n"
     ]
    }
   ],
   "source": [
    "dauphin_crime[['Type', 'delete']] = dauphin_crime['Type'].str.split('\\(', expand=True)\n",
    "dauphin_crime[['2007', '2007_per_100k']] = dauphin_crime['2007'].str.split('\\(', expand=True)\n",
    "dauphin_crime['2007_per_100k'] = dauphin_crime['2007_per_100k'].str.replace('[),]', '').astype(float)\n",
    "dauphin_crime[['2008', '2008_per_100k']] = dauphin_crime['2008'].str.split('\\(', expand=True)\n",
    "dauphin_crime['2008_per_100k'] = dauphin_crime['2008_per_100k'].str.replace('[),]', '').astype(float)\n",
    "dauphin_crime[['2009', '2009_per_100k']] = dauphin_crime['2009'].str.split('\\(', expand=True)\n",
    "dauphin_crime['2009_per_100k'] = dauphin_crime['2009_per_100k'].str.replace('[),]', '').astype(float)\n",
    "dauphin_crime[['2010', '2010_per_100k']] = dauphin_crime['2010'].str.split('\\(', expand=True)\n",
    "dauphin_crime['2010_per_100k'] = dauphin_crime['2010_per_100k'].str.replace('[),]', '').astype(float)\n",
    "dauphin_crime[['2011', '2011_per_100k']] = dauphin_crime['2011'].str.split('\\(', expand=True)\n",
    "dauphin_crime['2011_per_100k'] = dauphin_crime['2011_per_100k'].str.replace('[),]', '').astype(float)\n",
    "dauphin_crime[['2012', '2012_per_100k']] = dauphin_crime['2012'].str.split('\\(', expand=True)\n",
    "dauphin_crime['2012_per_100k'] = dauphin_crime['2012_per_100k'].str.replace('[),]', '').astype(float)\n",
    "dauphin_crime[['2013', '2013_per_100k']] = dauphin_crime['2013'].str.split('\\(', expand=True)\n",
    "dauphin_crime['2013_per_100k'] = dauphin_crime['2013_per_100k'].str.replace('[),]', '').astype(float)\n",
    "dauphin_crime[['2014', '2014_per_100k']] = dauphin_crime['2014'].str.split('\\(', expand=True)\n",
    "dauphin_crime['2014_per_100k'] = dauphin_crime['2014_per_100k'].str.replace('[),]', '').astype(float)\n",
    "dauphin_crime[['2015', '2015_per_100k']] = dauphin_crime['2015'].str.split('\\(', expand=True)\n",
    "dauphin_crime['2015_per_100k'] = dauphin_crime['2015_per_100k'].str.replace('[),]', '').astype(float)\n",
    "dauphin_crime[['2016', '2016_per_100k']] = dauphin_crime['2016'].str.split('\\(', expand=True)\n",
    "dauphin_crime['2016_per_100k'] = dauphin_crime['2016_per_100k'].str.replace('[),]', '').astype(float)\n",
    "dauphin_crime[['2017', '2017_per_100k']] = dauphin_crime['2017'].str.split('\\(', expand=True)\n",
    "dauphin_crime['2017_per_100k'] = dauphin_crime['2017_per_100k'].str.replace('[),]', '').astype(float)\n",
    "dauphin_crime[['2018', '2018_per_100k']] = dauphin_crime['2018'].str.split('\\(', expand=True)\n",
    "dauphin_crime['2018_per_100k'] = dauphin_crime['2018_per_100k'].str.replace('[),]', '').astype(float)\n",
    "dauphin_crime[['2019', '2019_per_100k']] = dauphin_crime['2019'].str.split('\\(', expand=True)\n",
    "dauphin_crime['2019_per_100k'] = dauphin_crime['2019_per_100k'].str.replace('[),]', '').astype(float)\n",
    "dauphin_crime[['2020', '2020_per_100k']] = dauphin_crime['2020'].str.split('\\(', expand=True)\n",
    "dauphin_crime['2020_per_100k'] = dauphin_crime['2020_per_100k'].str.replace('[),]', '').astype(float)\n",
    "dauphin_crime = dauphin_crime.drop(columns = 'delete')"
   ]
  },
  {
   "cell_type": "code",
   "execution_count": 47,
   "id": "98e40c35",
   "metadata": {},
   "outputs": [],
   "source": [
    "dauphin_crime['2007'] = dauphin_crime['2007'].str.replace(',', '').astype(float)\n",
    "dauphin_crime['2008'] = dauphin_crime['2008'].str.replace(',', '').astype(float)\n",
    "dauphin_crime['2009'] = dauphin_crime['2009'].str.replace(',', '').astype(float)\n",
    "dauphin_crime['2010'] = dauphin_crime['2010'].str.replace(',', '').astype(float)\n",
    "dauphin_crime['2011'] = dauphin_crime['2011'].str.replace(',', '').astype(float)\n",
    "dauphin_crime['2012'] = dauphin_crime['2012'].str.replace(',', '').astype(float)\n",
    "dauphin_crime['2013'] = dauphin_crime['2013'].str.replace(',', '').astype(float)\n",
    "dauphin_crime['2014'] = dauphin_crime['2014'].str.replace(',', '').astype(float)\n",
    "dauphin_crime['2015'] = dauphin_crime['2015'].str.replace(',', '').astype(float)\n",
    "dauphin_crime['2016'] = dauphin_crime['2016'].str.replace(',', '').astype(float)\n",
    "dauphin_crime['2017'] = dauphin_crime['2017'].str.replace(',', '').astype(float)\n",
    "dauphin_crime['2018'] = dauphin_crime['2018'].str.replace(',', '').astype(float)\n",
    "dauphin_crime['2019'] = dauphin_crime['2019'].str.replace(',', '').astype(float)\n",
    "dauphin_crime['2020'] = dauphin_crime['2020'].str.replace(',', '').astype(float)"
   ]
  },
  {
   "cell_type": "code",
   "execution_count": 48,
   "id": "7acafa10",
   "metadata": {},
   "outputs": [],
   "source": [
    "dauphin_crime['location'] = 'Dauphin Island'"
   ]
  },
  {
   "cell_type": "code",
   "execution_count": null,
   "id": "c05af44d",
   "metadata": {},
   "outputs": [],
   "source": []
  }
 ],
 "metadata": {
  "kernelspec": {
   "display_name": "Python 3 (ipykernel)",
   "language": "python",
   "name": "python3"
  },
  "language_info": {
   "codemirror_mode": {
    "name": "ipython",
    "version": 3
   },
   "file_extension": ".py",
   "mimetype": "text/x-python",
   "name": "python",
   "nbconvert_exporter": "python",
   "pygments_lexer": "ipython3",
   "version": "3.9.13"
  }
 },
 "nbformat": 4,
 "nbformat_minor": 5
}
