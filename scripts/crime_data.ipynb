{
 "cells": [
  {
   "cell_type": "code",
   "execution_count": null,
   "id": "0e9207a8",
   "metadata": {},
   "outputs": [],
   "source": [
    "import requests\n",
    "import pandas as pd\n",
    "from bs4 import BeautifulSoup as BS\n",
    "import matplotlib.pyplot as plt\n",
    "import json\n",
    "import seaborn as sns\n",
    "import re\n",
    "from IPython.core.display import HTML\n",
    "\n",
    "%matplotlib inline"
   ]
  },
  {
   "cell_type": "code",
   "execution_count": null,
   "id": "da6faddb",
   "metadata": {},
   "outputs": [],
   "source": [
    "URL = 'https://www.city-data.com/crime/crime-Panama-City-Beach-Florida.html'"
   ]
  },
  {
   "cell_type": "code",
   "execution_count": null,
   "id": "3cd6a126",
   "metadata": {},
   "outputs": [],
   "source": [
    "response = requests.get(URL)"
   ]
  },
  {
   "cell_type": "code",
   "execution_count": null,
   "id": "48aaf144",
   "metadata": {},
   "outputs": [],
   "source": [
    "response.status_code"
   ]
  },
  {
   "cell_type": "code",
   "execution_count": null,
   "id": "e605c351",
   "metadata": {},
   "outputs": [],
   "source": [
    "soup = BS(response.text)"
   ]
  },
  {
   "cell_type": "code",
   "execution_count": null,
   "id": "a17ad4b8",
   "metadata": {
    "scrolled": true
   },
   "outputs": [],
   "source": [
    "soup.find('table', attrs={'class' : 'table tabBlue tblsort tblsticky sortable'})"
   ]
  },
  {
   "cell_type": "code",
   "execution_count": null,
   "id": "6cbfd3c1",
   "metadata": {},
   "outputs": [],
   "source": [
    "table_html = str(soup.find('table', attrs={'class' : 'table tabBlue tblsort tblsticky sortable'}))"
   ]
  },
  {
   "cell_type": "code",
   "execution_count": null,
   "id": "40fb6e59",
   "metadata": {},
   "outputs": [],
   "source": [
    "HTML(table_html)"
   ]
  },
  {
   "cell_type": "markdown",
   "id": "4dba853f",
   "metadata": {},
   "source": [
    "# Panama City crime data"
   ]
  },
  {
   "cell_type": "code",
   "execution_count": null,
   "id": "a881c893",
   "metadata": {
    "scrolled": false
   },
   "outputs": [],
   "source": [
    "panama_crime = pd.read_html(str(soup.find('table', attrs={'class' : 'table tabBlue tblsort tblsticky sortable'})))[0]"
   ]
  },
  {
   "cell_type": "code",
   "execution_count": null,
   "id": "23596dc6",
   "metadata": {
    "scrolled": true
   },
   "outputs": [],
   "source": [
    "panama_crime = panama_crime.T\n",
    "new_header = panama_crime.iloc[0] #grab the first row for the header\n",
    "panama_crime = panama_crime[1:] #take the data less the header row\n",
    "panama_crime.columns = new_header"
   ]
  },
  {
   "cell_type": "code",
   "execution_count": null,
   "id": "8d3fb99f",
   "metadata": {
    "scrolled": false
   },
   "outputs": [],
   "source": [
    "panama_crime = panama_crime.reset_index().rename(columns = {'index':'Year'})"
   ]
  },
  {
   "cell_type": "code",
   "execution_count": null,
   "id": "4c1ab364",
   "metadata": {
    "scrolled": false
   },
   "outputs": [],
   "source": [
    "panama_crime[['Murders', 'Murders (per 100,000)']] = panama_crime['Murders(per 100,000)'].str.split('\\(', expand=True)\n",
    "panama_crime['Murders (per 100,000)'] = panama_crime['Murders (per 100,000)'].str.replace('[),]', '').astype(float)\n",
    "panama_crime[['Rapes', 'Rapes (per 100,000)']] = panama_crime['Rapes(per 100,000)'].str.split('\\(', expand=True)\n",
    "panama_crime['Rapes (per 100,000)'] = panama_crime['Rapes (per 100,000)'].str.replace('[),]', '').astype(float)\n",
    "panama_crime[['Robberies', 'Robberies (per 100,000)']] = panama_crime['Robberies(per 100,000)'].str.split('\\(', expand=True)\n",
    "panama_crime['Robberies (per 100,000)'] = panama_crime['Robberies (per 100,000)'].str.replace('[),]', '').astype(float)\n",
    "panama_crime[['Assaults', 'Assaults (per 100,000)']] = panama_crime['Assaults(per 100,000)'].str.split('\\(', expand=True)\n",
    "panama_crime['Assaults (per 100,000)'] = panama_crime['Assaults (per 100,000)'].str.replace('[),]', '').astype(float)\n",
    "panama_crime[['Burglaries', 'Burglaries (per 100,000)']] = panama_crime['Burglaries(per 100,000)'].str.split('\\(', expand=True)\n",
    "panama_crime['Burglaries (per 100,000)'] = panama_crime['Burglaries (per 100,000)'].str.replace('[),]', '').astype(float)\n",
    "panama_crime[['Thefts', 'Thefts (per 100,000)']] = panama_crime['Thefts(per 100,000)'].str.split('\\(', expand=True)\n",
    "panama_crime['Thefts (per 100,000)'] = panama_crime['Thefts (per 100,000)'].str.replace('[),]', '').astype(float)\n",
    "panama_crime[['Auto Thefts', 'Auto Thefts (per 100,000)']] = panama_crime['Auto thefts(per 100,000)'].str.split('\\(', expand=True)\n",
    "panama_crime['Auto Thefts (per 100,000)'] = panama_crime['Auto Thefts (per 100,000)'].str.replace('[),]', '').astype(float)\n",
    "panama_crime[['Arson', 'Arson (per 100,000)']] = panama_crime['Arson(per 100,000)'].str.split('\\(', expand=True)\n",
    "panama_crime['Arson (per 100,000)'] = panama_crime['Arson (per 100,000)'].str.replace('[),]', '').astype(float)\n",
    "panama_crime = panama_crime.drop(columns={'Murders(per 100,000)', 'Rapes(per 100,000)', 'Robberies(per 100,000)',\n",
    "       'Assaults(per 100,000)', 'Burglaries(per 100,000)',\n",
    "       'Thefts(per 100,000)', 'Auto thefts(per 100,000)', 'Arson(per 100,000)'})\n",
    "panama_crime = panama_crime.rename(columns = {'City-Data.com crime index':'Crime Index'})\n",
    "panama_crime = panama_crime.rename(columns = {'Type':'Year'})\n",
    "panama_crime['location'] = 'Panama City Beach'"
   ]
  },
  {
   "cell_type": "markdown",
   "id": "4b3985fa",
   "metadata": {},
   "source": [
    "# Isle of Palms crime data"
   ]
  },
  {
   "cell_type": "code",
   "execution_count": null,
   "id": "7f5063f9",
   "metadata": {},
   "outputs": [],
   "source": [
    "URL = 'https://www.city-data.com/crime/crime-Isle-of-Palms-South-Carolina.html'"
   ]
  },
  {
   "cell_type": "code",
   "execution_count": null,
   "id": "a2885602",
   "metadata": {},
   "outputs": [],
   "source": [
    "response = requests.get(URL)\n",
    "soup = BS(response.text)"
   ]
  },
  {
   "cell_type": "code",
   "execution_count": null,
   "id": "5c6f2f59",
   "metadata": {},
   "outputs": [],
   "source": [
    "isle_palms_crime = pd.read_html(str(soup.find('table', attrs={'class' : 'table tabBlue tblsort tblsticky sortable'})))[0]"
   ]
  },
  {
   "cell_type": "code",
   "execution_count": null,
   "id": "2ec174c8",
   "metadata": {},
   "outputs": [],
   "source": [
    "isle_palms_crime = isle_palms_crime.T\n",
    "new_header = isle_palms_crime.iloc[0] #grab the first row for the header\n",
    "isle_palms_crime = isle_palms_crime[1:] #take the data less the header row\n",
    "isle_palms_crime.columns = new_header"
   ]
  },
  {
   "cell_type": "code",
   "execution_count": null,
   "id": "7b4f536f",
   "metadata": {},
   "outputs": [],
   "source": [
    "isle_palms_crime = isle_palms_crime.reset_index().rename(columns = {'index':'Year'})"
   ]
  },
  {
   "cell_type": "code",
   "execution_count": null,
   "id": "a7ca3f70",
   "metadata": {},
   "outputs": [],
   "source": [
    "isle_palms_crime[['Murders', 'Murders (per 100,000)']] = isle_palms_crime['Murders(per 100,000)'].str.split('\\(', expand=True)\n",
    "isle_palms_crime['Murders (per 100,000)'] = isle_palms_crime['Murders (per 100,000)'].str.replace('[),]', '').astype(float)\n",
    "isle_palms_crime[['Rapes', 'Rapes (per 100,000)']] = isle_palms_crime['Rapes(per 100,000)'].str.split('\\(', expand=True)\n",
    "isle_palms_crime['Rapes (per 100,000)'] = isle_palms_crime['Rapes (per 100,000)'].str.replace('[),]', '').astype(float)\n",
    "isle_palms_crime[['Robberies', 'Robberies (per 100,000)']] = isle_palms_crime['Robberies(per 100,000)'].str.split('\\(', expand=True)\n",
    "isle_palms_crime['Robberies (per 100,000)'] = isle_palms_crime['Robberies (per 100,000)'].str.replace('[),]', '').astype(float)\n",
    "isle_palms_crime[['Assaults', 'Assaults (per 100,000)']] = isle_palms_crime['Assaults(per 100,000)'].str.split('\\(', expand=True)\n",
    "isle_palms_crime['Assaults (per 100,000)'] = isle_palms_crime['Assaults (per 100,000)'].str.replace('[),]', '').astype(float)\n",
    "isle_palms_crime[['Burglaries', 'Burglaries (per 100,000)']] = isle_palms_crime['Burglaries(per 100,000)'].str.split('\\(', expand=True)\n",
    "isle_palms_crime['Burglaries (per 100,000)'] = isle_palms_crime['Burglaries (per 100,000)'].str.replace('[),]', '').astype(float)\n",
    "isle_palms_crime[['Thefts', 'Thefts (per 100,000)']] = isle_palms_crime['Thefts(per 100,000)'].str.split('\\(', expand=True)\n",
    "isle_palms_crime['Thefts (per 100,000)'] = isle_palms_crime['Thefts (per 100,000)'].str.replace('[),]', '').astype(float)\n",
    "isle_palms_crime[['Auto Thefts', 'Auto Thefts (per 100,000)']] = isle_palms_crime['Auto thefts(per 100,000)'].str.split('\\(', expand=True)\n",
    "isle_palms_crime['Auto Thefts (per 100,000)'] = isle_palms_crime['Auto Thefts (per 100,000)'].str.replace('[),]', '').astype(float)\n",
    "isle_palms_crime[['Arson', 'Arson (per 100,000)']] = isle_palms_crime['Arson(per 100,000)'].str.split('\\(', expand=True)\n",
    "isle_palms_crime['Arson (per 100,000)'] = isle_palms_crime['Arson (per 100,000)'].str.replace('[),]', '').astype(float)\n",
    "isle_palms_crime = isle_palms_crime.drop(columns={'Murders(per 100,000)', 'Rapes(per 100,000)', 'Robberies(per 100,000)',\n",
    "       'Assaults(per 100,000)', 'Burglaries(per 100,000)',\n",
    "       'Thefts(per 100,000)', 'Auto thefts(per 100,000)', 'Arson(per 100,000)'})\n",
    "isle_palms_crime = isle_palms_crime.rename(columns = {'City-Data.com crime index':'Crime Index'})\n",
    "isle_palms_crime = isle_palms_crime.rename(columns = {'Type':'Year'})\n",
    "isle_palms_crime['location'] = 'Isle of Palms'"
   ]
  },
  {
   "cell_type": "markdown",
   "id": "9493c3bb",
   "metadata": {},
   "source": [
    "# Gulfport crime data"
   ]
  },
  {
   "cell_type": "code",
   "execution_count": null,
   "id": "d5244352",
   "metadata": {},
   "outputs": [],
   "source": [
    "URL = 'https://www.city-data.com/crime/crime-Gulfport-Mississippi.html'"
   ]
  },
  {
   "cell_type": "code",
   "execution_count": null,
   "id": "b98e7262",
   "metadata": {},
   "outputs": [],
   "source": [
    "response = requests.get(URL)\n",
    "soup = BS(response.text)"
   ]
  },
  {
   "cell_type": "code",
   "execution_count": null,
   "id": "6132f723",
   "metadata": {
    "scrolled": true
   },
   "outputs": [],
   "source": [
    "gulfport_crime = pd.read_html(str(soup.find('table', attrs={'class' : 'table tabBlue tblsort tblsticky sortable'})))[0]"
   ]
  },
  {
   "cell_type": "code",
   "execution_count": null,
   "id": "ab4f4b82",
   "metadata": {},
   "outputs": [],
   "source": [
    "gulfport_crime = gulfport_crime.T\n",
    "new_header = gulfport_crime.iloc[0] #grab the first row for the header\n",
    "gulfport_crime = gulfport_crime[1:] #take the data less the header row\n",
    "gulfport_crime.columns = new_header"
   ]
  },
  {
   "cell_type": "code",
   "execution_count": null,
   "id": "d78428f6",
   "metadata": {},
   "outputs": [],
   "source": [
    "gulfport_crime = gulfport_crime.reset_index().rename(columns = {'index':'Year'})"
   ]
  },
  {
   "cell_type": "code",
   "execution_count": null,
   "id": "505bec47",
   "metadata": {},
   "outputs": [],
   "source": [
    "gulfport_crime[['Murders', 'Murders (per 100,000)']] = gulfport_crime['Murders(per 100,000)'].str.split('\\(', expand=True)\n",
    "gulfport_crime['Murders (per 100,000)'] = gulfport_crime['Murders (per 100,000)'].str.replace('[),]', '').astype(float)\n",
    "gulfport_crime[['Rapes', 'Rapes (per 100,000)']] = gulfport_crime['Rapes(per 100,000)'].str.split('\\(', expand=True)\n",
    "gulfport_crime['Rapes (per 100,000)'] = gulfport_crime['Rapes (per 100,000)'].str.replace('[),]', '').astype(float)\n",
    "gulfport_crime[['Robberies', 'Robberies (per 100,000)']] = gulfport_crime['Robberies(per 100,000)'].str.split('\\(', expand=True)\n",
    "gulfport_crime['Robberies (per 100,000)'] = gulfport_crime['Robberies (per 100,000)'].str.replace('[),]', '').astype(float)\n",
    "gulfport_crime[['Assaults', 'Assaults (per 100,000)']] = gulfport_crime['Assaults(per 100,000)'].str.split('\\(', expand=True)\n",
    "gulfport_crime['Assaults (per 100,000)'] = gulfport_crime['Assaults (per 100,000)'].str.replace('[),]', '').astype(float)\n",
    "gulfport_crime[['Burglaries', 'Burglaries (per 100,000)']] = gulfport_crime['Burglaries(per 100,000)'].str.split('\\(', expand=True)\n",
    "gulfport_crime['Burglaries (per 100,000)'] = gulfport_crime['Burglaries (per 100,000)'].str.replace('[),]', '').astype(float)\n",
    "gulfport_crime[['Thefts', 'Thefts (per 100,000)']] = gulfport_crime['Thefts(per 100,000)'].str.split('\\(', expand=True)\n",
    "gulfport_crime['Thefts (per 100,000)'] = gulfport_crime['Thefts (per 100,000)'].str.replace('[),]', '').astype(float)\n",
    "gulfport_crime[['Auto Thefts', 'Auto Thefts (per 100,000)']] = gulfport_crime['Auto thefts(per 100,000)'].str.split('\\(', expand=True)\n",
    "gulfport_crime['Auto Thefts (per 100,000)'] = gulfport_crime['Auto Thefts (per 100,000)'].str.replace('[),]', '').astype(float)\n",
    "gulfport_crime[['Arson', 'Arson (per 100,000)']] = gulfport_crime['Arson(per 100,000)'].str.split('\\(', expand=True)\n",
    "gulfport_crime['Arson (per 100,000)'] = gulfport_crime['Arson (per 100,000)'].str.replace('[),]', '').astype(float)\n",
    "gulfport_crime = gulfport_crime.drop(columns={'Murders(per 100,000)', 'Rapes(per 100,000)', 'Robberies(per 100,000)',\n",
    "       'Assaults(per 100,000)', 'Burglaries(per 100,000)',\n",
    "       'Thefts(per 100,000)', 'Auto thefts(per 100,000)', 'Arson(per 100,000)'})\n",
    "gulfport_crime = gulfport_crime.rename(columns = {'City-Data.com crime index':'Crime Index'})\n",
    "gulfport_crime = gulfport_crime.rename(columns = {'Type':'Year'})\n",
    "gulfport_crime['location'] = 'Gulfport Beach'"
   ]
  },
  {
   "cell_type": "markdown",
   "id": "666d624c",
   "metadata": {},
   "source": [
    "# Tybee Island crime data"
   ]
  },
  {
   "cell_type": "code",
   "execution_count": null,
   "id": "86a1cfe6",
   "metadata": {},
   "outputs": [],
   "source": [
    "URL = 'https://www.city-data.com/crime/crime-Tybee-Island-Georgia.html'"
   ]
  },
  {
   "cell_type": "code",
   "execution_count": null,
   "id": "bac4a7f7",
   "metadata": {},
   "outputs": [],
   "source": [
    "response = requests.get(URL)\n",
    "soup = BS(response.text)"
   ]
  },
  {
   "cell_type": "code",
   "execution_count": null,
   "id": "7b3060d7",
   "metadata": {},
   "outputs": [],
   "source": [
    "tybee_crime = pd.read_html(str(soup.find('table', attrs={'class' : 'table tabBlue tblsort tblsticky sortable'})))[0]"
   ]
  },
  {
   "cell_type": "code",
   "execution_count": null,
   "id": "cdc2574a",
   "metadata": {},
   "outputs": [],
   "source": [
    "tybee_crime = tybee_crime.T\n",
    "new_header = tybee_crime.iloc[0] #grab the first row for the header\n",
    "tybee_crime = tybee_crime[1:] #take the data less the header row\n",
    "tybee_crime.columns = new_header"
   ]
  },
  {
   "cell_type": "code",
   "execution_count": null,
   "id": "70d037ab",
   "metadata": {},
   "outputs": [],
   "source": [
    "tybee_crime = tybee_crime.reset_index().rename(columns = {'index':'Year'})"
   ]
  },
  {
   "cell_type": "code",
   "execution_count": null,
   "id": "e1f67b78",
   "metadata": {},
   "outputs": [],
   "source": [
    "tybee_crime[['Murders', 'Murders (per 100,000)']] = tybee_crime['Murders(per 100,000)'].str.split('\\(', expand=True)\n",
    "tybee_crime['Murders (per 100,000)'] = tybee_crime['Murders (per 100,000)'].str.replace('[),]', '').astype(float)\n",
    "tybee_crime[['Rapes', 'Rapes (per 100,000)']] = tybee_crime['Rapes(per 100,000)'].str.split('\\(', expand=True)\n",
    "tybee_crime['Rapes (per 100,000)'] = tybee_crime['Rapes (per 100,000)'].str.replace('[),]', '').astype(float)\n",
    "tybee_crime[['Robberies', 'Robberies (per 100,000)']] = tybee_crime['Robberies(per 100,000)'].str.split('\\(', expand=True)\n",
    "tybee_crime['Robberies (per 100,000)'] = tybee_crime['Robberies (per 100,000)'].str.replace('[),]', '').astype(float)\n",
    "tybee_crime[['Assaults', 'Assaults (per 100,000)']] = tybee_crime['Assaults(per 100,000)'].str.split('\\(', expand=True)\n",
    "tybee_crime['Assaults (per 100,000)'] = tybee_crime['Assaults (per 100,000)'].str.replace('[),]', '').astype(float)\n",
    "tybee_crime[['Burglaries', 'Burglaries (per 100,000)']] = tybee_crime['Burglaries(per 100,000)'].str.split('\\(', expand=True)\n",
    "tybee_crime['Burglaries (per 100,000)'] = tybee_crime['Burglaries (per 100,000)'].str.replace('[),]', '').astype(float)\n",
    "tybee_crime[['Thefts', 'Thefts (per 100,000)']] = tybee_crime['Thefts(per 100,000)'].str.split('\\(', expand=True)\n",
    "tybee_crime['Thefts (per 100,000)'] = tybee_crime['Thefts (per 100,000)'].str.replace('[),]', '').astype(float)\n",
    "tybee_crime[['Auto Thefts', 'Auto Thefts (per 100,000)']] = tybee_crime['Auto thefts(per 100,000)'].str.split('\\(', expand=True)\n",
    "tybee_crime['Auto Thefts (per 100,000)'] = tybee_crime['Auto Thefts (per 100,000)'].str.replace('[),]', '').astype(float)\n",
    "tybee_crime[['Arson', 'Arson (per 100,000)']] = tybee_crime['Arson(per 100,000)'].str.split('\\(', expand=True)\n",
    "tybee_crime['Arson (per 100,000)'] = tybee_crime['Arson (per 100,000)'].str.replace('[),]', '').astype(float)\n",
    "tybee_crime = tybee_crime.drop(columns={'Murders(per 100,000)', 'Rapes(per 100,000)', 'Robberies(per 100,000)',\n",
    "       'Assaults(per 100,000)', 'Burglaries(per 100,000)',\n",
    "       'Thefts(per 100,000)', 'Auto thefts(per 100,000)', 'Arson(per 100,000)'})\n",
    "tybee_crime = tybee_crime.rename(columns = {'City-Data.com crime index':'Crime Index'})\n",
    "tybee_crime = tybee_crime.rename(columns = {'Type':'Year'})\n",
    "tybee_crime['location'] = 'Tybee Island'"
   ]
  },
  {
   "cell_type": "markdown",
   "id": "b31e79af",
   "metadata": {},
   "source": [
    "# Miramar crime data"
   ]
  },
  {
   "cell_type": "code",
   "execution_count": null,
   "id": "3e575ac4",
   "metadata": {},
   "outputs": [],
   "source": [
    "URL = 'https://www.city-data.com/crime/crime-Miramar-Florida.html'"
   ]
  },
  {
   "cell_type": "code",
   "execution_count": null,
   "id": "0f9f66c2",
   "metadata": {},
   "outputs": [],
   "source": [
    "response = requests.get(URL)\n",
    "soup = BS(response.text)"
   ]
  },
  {
   "cell_type": "code",
   "execution_count": null,
   "id": "1ea62a84",
   "metadata": {},
   "outputs": [],
   "source": [
    "miramar_crime = pd.read_html(str(soup.find('table', attrs={'class' : 'table tabBlue tblsort tblsticky sortable'})))[0]"
   ]
  },
  {
   "cell_type": "code",
   "execution_count": null,
   "id": "d4230201",
   "metadata": {},
   "outputs": [],
   "source": [
    "miramar_crime = miramar_crime.T\n",
    "new_header = miramar_crime.iloc[0] #grab the first row for the header\n",
    "miramar_crime = miramar_crime[1:] #take the data less the header row\n",
    "miramar_crime.columns = new_header"
   ]
  },
  {
   "cell_type": "code",
   "execution_count": null,
   "id": "fedbc516",
   "metadata": {},
   "outputs": [],
   "source": [
    "miramar_crime = miramar_crime.reset_index().rename(columns = {'index':'Year'})"
   ]
  },
  {
   "cell_type": "code",
   "execution_count": null,
   "id": "69b29b1d",
   "metadata": {},
   "outputs": [],
   "source": [
    "miramar_crime[['Murders', 'Murders (per 100,000)']] = miramar_crime['Murders(per 100,000)'].str.split('\\(', expand=True)\n",
    "miramar_crime['Murders (per 100,000)'] = miramar_crime['Murders (per 100,000)'].str.replace('[),]', '').astype(float)\n",
    "miramar_crime[['Rapes', 'Rapes (per 100,000)']] = miramar_crime['Rapes(per 100,000)'].str.split('\\(', expand=True)\n",
    "miramar_crime['Rapes (per 100,000)'] = miramar_crime['Rapes (per 100,000)'].str.replace('[),]', '').astype(float)\n",
    "miramar_crime[['Robberies', 'Robberies (per 100,000)']] = miramar_crime['Robberies(per 100,000)'].str.split('\\(', expand=True)\n",
    "miramar_crime['Robberies (per 100,000)'] = miramar_crime['Robberies (per 100,000)'].str.replace('[),]', '').astype(float)\n",
    "miramar_crime[['Assaults', 'Assaults (per 100,000)']] = miramar_crime['Assaults(per 100,000)'].str.split('\\(', expand=True)\n",
    "miramar_crime['Assaults (per 100,000)'] = miramar_crime['Assaults (per 100,000)'].str.replace('[),]', '').astype(float)\n",
    "miramar_crime[['Burglaries', 'Burglaries (per 100,000)']] = miramar_crime['Burglaries(per 100,000)'].str.split('\\(', expand=True)\n",
    "miramar_crime['Burglaries (per 100,000)'] = miramar_crime['Burglaries (per 100,000)'].str.replace('[),]', '').astype(float)\n",
    "miramar_crime[['Thefts', 'Thefts (per 100,000)']] = miramar_crime['Thefts(per 100,000)'].str.split('\\(', expand=True)\n",
    "miramar_crime['Thefts (per 100,000)'] = miramar_crime['Thefts (per 100,000)'].str.replace('[),]', '').astype(float)\n",
    "miramar_crime[['Auto Thefts', 'Auto Thefts (per 100,000)']] = miramar_crime['Auto thefts(per 100,000)'].str.split('\\(', expand=True)\n",
    "miramar_crime['Auto Thefts (per 100,000)'] = miramar_crime['Auto Thefts (per 100,000)'].str.replace('[),]', '').astype(float)\n",
    "miramar_crime[['Arson', 'Arson (per 100,000)']] = miramar_crime['Arson(per 100,000)'].str.split('\\(', expand=True)\n",
    "miramar_crime['Arson (per 100,000)'] = miramar_crime['Arson (per 100,000)'].str.replace('[),]', '').astype(float)\n",
    "miramar_crime = miramar_crime.drop(columns={'Murders(per 100,000)', 'Rapes(per 100,000)', 'Robberies(per 100,000)',\n",
    "       'Assaults(per 100,000)', 'Burglaries(per 100,000)',\n",
    "       'Thefts(per 100,000)', 'Auto thefts(per 100,000)', 'Arson(per 100,000)'})\n",
    "miramar_crime = miramar_crime.rename(columns = {'City-Data.com crime index':'Crime Index'})\n",
    "miramar_crime = miramar_crime.rename(columns = {'Type':'Year'})\n",
    "miramar_crime['location'] = 'Miramar Beach'"
   ]
  },
  {
   "cell_type": "markdown",
   "id": "64d0a9d6",
   "metadata": {},
   "source": [
    "# Orange Beach crime data"
   ]
  },
  {
   "cell_type": "code",
   "execution_count": null,
   "id": "9f48c551",
   "metadata": {},
   "outputs": [],
   "source": [
    "URL = 'https://www.city-data.com/crime/crime-Orange-Beach-Alabama.html'"
   ]
  },
  {
   "cell_type": "code",
   "execution_count": null,
   "id": "bb6a9716",
   "metadata": {},
   "outputs": [],
   "source": [
    "response = requests.get(URL)\n",
    "soup = BS(response.text)"
   ]
  },
  {
   "cell_type": "code",
   "execution_count": null,
   "id": "81c5f2eb",
   "metadata": {},
   "outputs": [],
   "source": [
    "orange_crime = pd.read_html(str(soup.find('table', attrs={'class' : 'table tabBlue tblsort tblsticky sortable'})))[0]"
   ]
  },
  {
   "cell_type": "code",
   "execution_count": null,
   "id": "c81d8205",
   "metadata": {},
   "outputs": [],
   "source": [
    "orange_crime = orange_crime.T\n",
    "new_header = orange_crime.iloc[0] #grab the first row for the header\n",
    "orange_crime = orange_crime[1:] #take the data less the header row\n",
    "orange_crime.columns = new_header"
   ]
  },
  {
   "cell_type": "code",
   "execution_count": null,
   "id": "61e056f1",
   "metadata": {},
   "outputs": [],
   "source": [
    "orange_crime = orange_crime.reset_index().rename(columns = {'index':'Year'})"
   ]
  },
  {
   "cell_type": "code",
   "execution_count": null,
   "id": "ca049f9d",
   "metadata": {},
   "outputs": [],
   "source": [
    "orange_crime[['Murders', 'Murders (per 100,000)']] = orange_crime['Murders(per 100,000)'].str.split('\\(', expand=True)\n",
    "orange_crime['Murders (per 100,000)'] = orange_crime['Murders (per 100,000)'].str.replace('[),]', '').astype(float)\n",
    "orange_crime[['Rapes', 'Rapes (per 100,000)']] = orange_crime['Rapes(per 100,000)'].str.split('\\(', expand=True)\n",
    "orange_crime['Rapes (per 100,000)'] = orange_crime['Rapes (per 100,000)'].str.replace('[),]', '').astype(float)\n",
    "orange_crime[['Robberies', 'Robberies (per 100,000)']] = orange_crime['Robberies(per 100,000)'].str.split('\\(', expand=True)\n",
    "orange_crime['Robberies (per 100,000)'] = orange_crime['Robberies (per 100,000)'].str.replace('[),]', '').astype(float)\n",
    "orange_crime[['Assaults', 'Assaults (per 100,000)']] = orange_crime['Assaults(per 100,000)'].str.split('\\(', expand=True)\n",
    "orange_crime['Assaults (per 100,000)'] = orange_crime['Assaults (per 100,000)'].str.replace('[),]', '').astype(float)\n",
    "orange_crime[['Burglaries', 'Burglaries (per 100,000)']] = orange_crime['Burglaries(per 100,000)'].str.split('\\(', expand=True)\n",
    "orange_crime['Burglaries (per 100,000)'] = orange_crime['Burglaries (per 100,000)'].str.replace('[),]', '').astype(float)\n",
    "orange_crime[['Thefts', 'Thefts (per 100,000)']] = orange_crime['Thefts(per 100,000)'].str.split('\\(', expand=True)\n",
    "orange_crime['Thefts (per 100,000)'] = orange_crime['Thefts (per 100,000)'].str.replace('[),]', '').astype(float)\n",
    "orange_crime[['Auto Thefts', 'Auto Thefts (per 100,000)']] = orange_crime['Auto thefts(per 100,000)'].str.split('\\(', expand=True)\n",
    "orange_crime['Auto Thefts (per 100,000)'] = orange_crime['Auto Thefts (per 100,000)'].str.replace('[),]', '').astype(float)\n",
    "orange_crime[['Arson', 'Arson (per 100,000)']] = orange_crime['Arson(per 100,000)'].str.split('\\(', expand=True)\n",
    "orange_crime['Arson (per 100,000)'] = orange_crime['Arson (per 100,000)'].str.replace('[),]', '').astype(float)\n",
    "orange_crime = orange_crime.drop(columns={'Murders(per 100,000)', 'Rapes(per 100,000)', 'Robberies(per 100,000)',\n",
    "       'Assaults(per 100,000)', 'Burglaries(per 100,000)',\n",
    "       'Thefts(per 100,000)', 'Auto thefts(per 100,000)', 'Arson(per 100,000)'})\n",
    "orange_crime = orange_crime.rename(columns = {'City-Data.com crime index':'Crime Index'})\n",
    "orange_crime = orange_crime.rename(columns = {'Type':'Year'})\n",
    "orange_crime['location'] = 'Orange Beach'"
   ]
  },
  {
   "cell_type": "markdown",
   "id": "ef54e891",
   "metadata": {},
   "source": [
    "# Dauphin Island crime data"
   ]
  },
  {
   "cell_type": "code",
   "execution_count": null,
   "id": "19be468c",
   "metadata": {},
   "outputs": [],
   "source": [
    "URL = 'https://www.city-data.com/crime/crime-Dauphin-Island-Alabama.html'"
   ]
  },
  {
   "cell_type": "code",
   "execution_count": null,
   "id": "4a00222d",
   "metadata": {},
   "outputs": [],
   "source": [
    "response = requests.get(URL)\n",
    "soup = BS(response.text)"
   ]
  },
  {
   "cell_type": "code",
   "execution_count": null,
   "id": "ca3b604a",
   "metadata": {},
   "outputs": [],
   "source": [
    "dauphin_crime = pd.read_html(str(soup.find('table', attrs={'class' : 'table tabBlue tblsort tblsticky sortable'})))[0]"
   ]
  },
  {
   "cell_type": "code",
   "execution_count": null,
   "id": "77c0c99b",
   "metadata": {},
   "outputs": [],
   "source": [
    "dauphin_crime = dauphin_crime.T\n",
    "new_header = dauphin_crime.iloc[0] #grab the first row for the header\n",
    "dauphin_crime = dauphin_crime[1:] #take the data less the header row\n",
    "dauphin_crime.columns = new_header"
   ]
  },
  {
   "cell_type": "code",
   "execution_count": null,
   "id": "9da7398c",
   "metadata": {},
   "outputs": [],
   "source": [
    "dauphin_crime = dauphin_crime.reset_index().rename(columns = {'index':'Year'})"
   ]
  },
  {
   "cell_type": "code",
   "execution_count": null,
   "id": "39751948",
   "metadata": {},
   "outputs": [],
   "source": [
    "dauphin_crime[['Murders', 'Murders (per 100,000)']] = dauphin_crime['Murders(per 100,000)'].str.split('\\(', expand=True)\n",
    "dauphin_crime['Murders (per 100,000)'] = dauphin_crime['Murders (per 100,000)'].str.replace('[),]', '').astype(float)\n",
    "dauphin_crime[['Rapes', 'Rapes (per 100,000)']] = dauphin_crime['Rapes(per 100,000)'].str.split('\\(', expand=True)\n",
    "dauphin_crime['Rapes (per 100,000)'] = dauphin_crime['Rapes (per 100,000)'].str.replace('[),]', '').astype(float)\n",
    "dauphin_crime[['Robberies', 'Robberies (per 100,000)']] = dauphin_crime['Robberies(per 100,000)'].str.split('\\(', expand=True)\n",
    "dauphin_crime['Robberies (per 100,000)'] = dauphin_crime['Robberies (per 100,000)'].str.replace('[),]', '').astype(float)\n",
    "dauphin_crime[['Assaults', 'Assaults (per 100,000)']] = dauphin_crime['Assaults(per 100,000)'].str.split('\\(', expand=True)\n",
    "dauphin_crime['Assaults (per 100,000)'] = dauphin_crime['Assaults (per 100,000)'].str.replace('[),]', '').astype(float)\n",
    "dauphin_crime[['Burglaries', 'Burglaries (per 100,000)']] = dauphin_crime['Burglaries(per 100,000)'].str.split('\\(', expand=True)\n",
    "dauphin_crime['Burglaries (per 100,000)'] = dauphin_crime['Burglaries (per 100,000)'].str.replace('[),]', '').astype(float)\n",
    "dauphin_crime[['Thefts', 'Thefts (per 100,000)']] = dauphin_crime['Thefts(per 100,000)'].str.split('\\(', expand=True)\n",
    "dauphin_crime['Thefts (per 100,000)'] = dauphin_crime['Thefts (per 100,000)'].str.replace('[),]', '').astype(float)\n",
    "dauphin_crime[['Auto Thefts', 'Auto Thefts (per 100,000)']] = dauphin_crime['Auto thefts(per 100,000)'].str.split('\\(', expand=True)\n",
    "dauphin_crime['Auto Thefts (per 100,000)'] = dauphin_crime['Auto Thefts (per 100,000)'].str.replace('[),]', '').astype(float)\n",
    "dauphin_crime[['Arson', 'Arson (per 100,000)']] = dauphin_crime['Arson(per 100,000)'].str.split('\\(', expand=True)\n",
    "dauphin_crime['Arson (per 100,000)'] = dauphin_crime['Arson (per 100,000)'].str.replace('[),]', '').astype(float)\n",
    "dauphin_crime = dauphin_crime.drop(columns={'Murders(per 100,000)', 'Rapes(per 100,000)', 'Robberies(per 100,000)',\n",
    "       'Assaults(per 100,000)', 'Burglaries(per 100,000)',\n",
    "       'Thefts(per 100,000)', 'Auto thefts(per 100,000)', 'Arson(per 100,000)'})\n",
    "dauphin_crime = dauphin_crime.rename(columns = {'City-Data.com crime index':'Crime Index'})\n",
    "dauphin_crime = dauphin_crime.rename(columns = {'Type':'Year'})\n",
    "dauphin_crime['location'] = 'Dauphin Island'"
   ]
  },
  {
   "cell_type": "markdown",
   "id": "0c06abc1",
   "metadata": {},
   "source": [
    "# Merging All Beaches"
   ]
  },
  {
   "cell_type": "code",
   "execution_count": null,
   "id": "be343ed8",
   "metadata": {
    "scrolled": false
   },
   "outputs": [],
   "source": [
    "all_crime_beaches = pd.merge(dauphin_crime, gulfport_crime,\n",
    "         on = ('Year', 'Crime Index', 'Murders', 'Murders (per 100,000)', 'Rapes',\n",
    "       'Rapes (per 100,000)', 'Robberies', 'Robberies (per 100,000)',\n",
    "       'Assaults', 'Assaults (per 100,000)', 'Burglaries',\n",
    "       'Burglaries (per 100,000)', 'Thefts', 'Thefts (per 100,000)',\n",
    "       'Auto Thefts', 'Auto Thefts (per 100,000)', 'Arson',\n",
    "       'Arson (per 100,000)', 'location'),\n",
    "         how = 'outer')\n",
    "all_crime_beaches = pd.merge(all_crime_beaches, isle_palms_crime,\n",
    "                            on = ('Year', 'Crime Index', 'Murders', 'Murders (per 100,000)', 'Rapes',\n",
    "       'Rapes (per 100,000)', 'Robberies', 'Robberies (per 100,000)',\n",
    "       'Assaults', 'Assaults (per 100,000)', 'Burglaries',\n",
    "       'Burglaries (per 100,000)', 'Thefts', 'Thefts (per 100,000)',\n",
    "       'Auto Thefts', 'Auto Thefts (per 100,000)', 'Arson',\n",
    "       'Arson (per 100,000)', 'location'),\n",
    "         how = 'outer')\n",
    "all_crime_beaches = pd.merge(all_crime_beaches, miramar_crime,\n",
    "                            on = ('Year', 'Crime Index', 'Murders', 'Murders (per 100,000)', 'Rapes',\n",
    "       'Rapes (per 100,000)', 'Robberies', 'Robberies (per 100,000)',\n",
    "       'Assaults', 'Assaults (per 100,000)', 'Burglaries',\n",
    "       'Burglaries (per 100,000)', 'Thefts', 'Thefts (per 100,000)',\n",
    "       'Auto Thefts', 'Auto Thefts (per 100,000)', 'Arson',\n",
    "       'Arson (per 100,000)', 'location'),\n",
    "         how = 'outer')\n",
    "all_crime_beaches = pd.merge(all_crime_beaches, orange_crime,\n",
    "                            on = ('Year', 'Crime Index', 'Murders', 'Murders (per 100,000)', 'Rapes',\n",
    "       'Rapes (per 100,000)', 'Robberies', 'Robberies (per 100,000)',\n",
    "       'Assaults', 'Assaults (per 100,000)', 'Burglaries',\n",
    "       'Burglaries (per 100,000)', 'Thefts', 'Thefts (per 100,000)',\n",
    "       'Auto Thefts', 'Auto Thefts (per 100,000)', 'Arson',\n",
    "       'Arson (per 100,000)', 'location'),\n",
    "         how = 'outer')\n",
    "all_crime_beaches = pd.merge(all_crime_beaches, panama_crime,\n",
    "                            on = ('Year', 'Crime Index', 'Murders', 'Murders (per 100,000)', 'Rapes',\n",
    "       'Rapes (per 100,000)', 'Robberies', 'Robberies (per 100,000)',\n",
    "       'Assaults', 'Assaults (per 100,000)', 'Burglaries',\n",
    "       'Burglaries (per 100,000)', 'Thefts', 'Thefts (per 100,000)',\n",
    "       'Auto Thefts', 'Auto Thefts (per 100,000)', 'Arson',\n",
    "       'Arson (per 100,000)', 'location'),\n",
    "         how = 'outer')\n",
    "all_crime_beaches = pd.merge(all_crime_beaches, tybee_crime,\n",
    "                            on = ('Year', 'Crime Index', 'Murders', 'Murders (per 100,000)', 'Rapes',\n",
    "       'Rapes (per 100,000)', 'Robberies', 'Robberies (per 100,000)',\n",
    "       'Assaults', 'Assaults (per 100,000)', 'Burglaries',\n",
    "       'Burglaries (per 100,000)', 'Thefts', 'Thefts (per 100,000)',\n",
    "       'Auto Thefts', 'Auto Thefts (per 100,000)', 'Arson',\n",
    "       'Arson (per 100,000)', 'location'),\n",
    "         how = 'outer')"
   ]
  },
  {
   "cell_type": "code",
   "execution_count": null,
   "id": "73a564d2",
   "metadata": {},
   "outputs": [],
   "source": [
    "all_crime_beaches['Year'] = all_crime_beaches['Year'].astype(int)\n",
    "all_crime_beaches['Crime Index'] = all_crime_beaches['Crime Index'].astype(float)\n",
    "all_crime_beaches['Murders'] = all_crime_beaches['Murders'].astype(int)\n",
    "all_crime_beaches['Rapes'] = all_crime_beaches['Rapes'].astype(int)\n",
    "all_crime_beaches['Robberies'] = all_crime_beaches['Robberies'].astype(int)\n",
    "all_crime_beaches['Assaults'] = all_crime_beaches['Assaults'].astype(int)\n",
    "all_crime_beaches['Thefts'] = all_crime_beaches['Thefts'].str.replace(',', '').astype(int)\n",
    "all_crime_beaches['Burglaries'] = all_crime_beaches['Burglaries'].str.replace(',', '').astype(int)\n",
    "all_crime_beaches['Auto Thefts'] = all_crime_beaches['Auto Thefts'].astype(int)\n",
    "all_crime_beaches['Arson'] = all_crime_beaches['Arson'].astype(int)"
   ]
  },
  {
   "cell_type": "code",
   "execution_count": null,
   "id": "3c895ae8",
   "metadata": {},
   "outputs": [],
   "source": [
    "all_crime_beaches"
   ]
  },
  {
   "cell_type": "code",
   "execution_count": null,
   "id": "70d2a182",
   "metadata": {},
   "outputs": [],
   "source": [
    "crimes_agg = all_crime_beaches.groupby(['location'])['Murders (per 100,000)', 'Rapes (per 100,000)', 'Robberies (per 100,000)',\n",
    "       'Assaults (per 100,000)', 'Burglaries (per 100,000)', 'Thefts (per 100,000)', 'Auto Thefts (per 100,000)', \n",
    "        'Arson (per 100,000)'].mean()\n",
    "crimes_agg"
   ]
  },
  {
   "cell_type": "code",
   "execution_count": null,
   "id": "2ba7fa0c",
   "metadata": {
    "scrolled": false
   },
   "outputs": [],
   "source": [
    "no_murder = all_crime_beaches.loc[all_crime_beaches['Murders']==0].groupby(['location'])['Year'].count().to_frame().reset_index().rename(columns={'Year':'Years_No_Murder'})\n",
    "no_rape = all_crime_beaches.loc[all_crime_beaches['Rapes']==0].groupby(['location'])['Year'].count().to_frame().reset_index().rename(columns={'Year':'Years_No_Rape'})\n",
    "no_robberies = all_crime_beaches.loc[all_crime_beaches['Robberies']==0].groupby(['location'])['Year'].count().to_frame().reset_index().rename(columns={'Year':'Years_No_Robberies'})\n",
    "no_assaults = all_crime_beaches.loc[all_crime_beaches['Assaults']==0].groupby(['location'])['Year'].count().to_frame().reset_index().rename(columns={'Year':'Years_No_Assaults'})\n",
    "no_burglaries = all_crime_beaches.loc[all_crime_beaches['Burglaries']==0].groupby(['location'])['Year'].count().to_frame().reset_index().rename(columns={'Year':'Years_No_Burglaries'})\n",
    "no_thefts = all_crime_beaches.loc[all_crime_beaches['Thefts']==0].groupby(['location'])['Year'].count().to_frame().reset_index().rename(columns={'Year':'Years_No_Thefts'})\n",
    "no_auto_thefts = all_crime_beaches.loc[all_crime_beaches['Auto Thefts']==0].groupby(['location'])['Year'].count().to_frame().reset_index().rename(columns={'Year':'Years_No_Auto_Thefts'})\n",
    "no_arson = all_crime_beaches.loc[all_crime_beaches['Arson']==0].groupby(['location'])['Year'].count().to_frame().reset_index().rename(columns={'Year':'Years_No_Arson'})"
   ]
  },
  {
   "cell_type": "code",
   "execution_count": null,
   "id": "8823ad64",
   "metadata": {},
   "outputs": [],
   "source": [
    "crimes_agg = pd.merge(crimes_agg, no_murder,\n",
    "                        on='location', how='outer')\n",
    "crimes_agg = pd.merge(crimes_agg, no_rape,\n",
    "                        on='location', how='outer')\n",
    "crimes_agg = pd.merge(crimes_agg, no_robberies,\n",
    "                        on='location', how='outer')\n",
    "crimes_agg = pd.merge(crimes_agg, no_assaults,\n",
    "                        on='location', how='outer')\n",
    "crimes_agg = pd.merge(crimes_agg, no_burglaries,\n",
    "                        on='location', how='outer')\n",
    "crimes_agg = pd.merge(crimes_agg, no_thefts,\n",
    "                        on='location', how='outer')\n",
    "crimes_agg = pd.merge(crimes_agg, no_auto_thefts,\n",
    "                        on='location', how='outer')\n",
    "crimes_agg = pd.merge(crimes_agg, no_arson,\n",
    "                        on='location', how='outer')"
   ]
  },
  {
   "cell_type": "code",
   "execution_count": null,
   "id": "429e63cd",
   "metadata": {},
   "outputs": [],
   "source": [
    "crimes_agg"
   ]
  },
  {
   "cell_type": "code",
   "execution_count": null,
   "id": "8dc7b3e3",
   "metadata": {},
   "outputs": [],
   "source": [
    "murder = crimes_agg['Murders (per 100,000)'].rank(method='min').to_frame().rename(columns = {'Murders (per 100,000)':'Murder_Rank'})\n",
    "rapes = crimes_agg['Rapes (per 100,000)'].rank(method='min').to_frame().rename(columns = {'Rapes (per 100,000)':'Rapes_Rank'})\n",
    "robberies = crimes_agg['Robberies (per 100,000)'].rank(method='min').to_frame().rename(columns = {'Robberies (per 100,000)':'Robberies_Rank'})\n",
    "assaults = crimes_agg['Assaults (per 100,000)'].rank(method='min').to_frame().rename(columns = {'Assaults (per 100,000)':'Assaults_Rank'})\n",
    "burglaries = crimes_agg['Burglaries (per 100,000)'].rank(method='min').to_frame().rename(columns = {'Burglaries (per 100,000)':'Burglaries_Rank'})\n",
    "thefts = crimes_agg['Thefts (per 100,000)'].rank(method='min').to_frame().rename(columns = {'Thefts (per 100,000)':'Thefts_Rank'})\n",
    "auto_thefts = crimes_agg['Auto Thefts (per 100,000)'].rank(method='min').to_frame().rename(columns = {'Auto Thefts (per 100,000)':'Auto_Thefts_Rank'})\n",
    "arson = crimes_agg['Arson (per 100,000)'].rank(method='min').to_frame().rename(columns = {'Arson (per 100,000)':'Arson_Rank'})"
   ]
  },
  {
   "cell_type": "code",
   "execution_count": null,
   "id": "be15cb02",
   "metadata": {},
   "outputs": [],
   "source": [
    "loc = crimes_agg['location'].tolist()\n",
    "murder = crimes_agg['Murders (per 100,000)'].rank(method='min').tolist()\n",
    "rapes = crimes_agg['Rapes (per 100,000)'].rank(method='min').tolist()\n",
    "robberies = crimes_agg['Robberies (per 100,000)'].rank(method='min').tolist()\n",
    "assaults = crimes_agg['Assaults (per 100,000)'].rank(method='min').tolist()\n",
    "burglaries = crimes_agg['Burglaries (per 100,000)'].rank(method='min').tolist()\n",
    "thefts = crimes_agg['Thefts (per 100,000)'].rank(method='min').tolist()\n",
    "auto_thefts = crimes_agg['Auto Thefts (per 100,000)'].rank(method='min').tolist()\n",
    "arson = crimes_agg['Arson (per 100,000)'].rank(method='min').tolist()"
   ]
  },
  {
   "cell_type": "code",
   "execution_count": null,
   "id": "89664521",
   "metadata": {},
   "outputs": [],
   "source": [
    "locations_ranked = pd.DataFrame({'location': loc, 'murder_rank': murder, 'rapes_rank': rapes, 'robberies_rank': robberies,\n",
    "                                 'assaults_rank': assaults, 'burglaries_rank': burglaries, 'thefts_rank': thefts,\n",
    "                                 'auto_thefts_rank': auto_thefts, 'arson_rank': arson})"
   ]
  },
  {
   "cell_type": "code",
   "execution_count": null,
   "id": "352530f8",
   "metadata": {},
   "outputs": [],
   "source": [
    "locations_ranked['average_rank'] = (locations_ranked['murder_rank']+locations_ranked['rapes_rank']+locations_ranked['robberies_rank']+locations_ranked['assaults_rank']+locations_ranked['burglaries_rank']+locations_ranked['thefts_rank']+locations_ranked['auto_thefts_rank']+locations_ranked['arson_rank'])/8"
   ]
  },
  {
   "cell_type": "code",
   "execution_count": null,
   "id": "91a35cc2",
   "metadata": {},
   "outputs": [],
   "source": [
    "locations_ranked"
   ]
  },
  {
   "cell_type": "code",
   "execution_count": null,
   "id": "a5a6e00f",
   "metadata": {},
   "outputs": [],
   "source": [
    "crimes_agg['Years_No_Murder'] = (crimes_agg['Years_No_Murder']/14)*100\n",
    "crimes_agg['Years_No_Rape'] = (crimes_agg['Years_No_Rape']/14)*100\n",
    "crimes_agg['Years_No_Robberies'] = (crimes_agg['Years_No_Robberies']/14)*100\n",
    "crimes_agg['Years_No_Assaults'] = (crimes_agg['Years_No_Assaults']/14)*100\n",
    "crimes_agg['Years_No_Burglaries'] = (crimes_agg['Years_No_Burglaries']/14)*100\n",
    "crimes_agg['Years_No_Thefts'] = (crimes_agg['Years_No_Thefts']/14)*100\n",
    "crimes_agg['Years_No_Auto_Thefts'] = (crimes_agg['Years_No_Auto_Thefts']/14)*100\n",
    "crimes_agg['Years_No_Arson'] = (crimes_agg['Years_No_Arson']/14)*100"
   ]
  },
  {
   "cell_type": "code",
   "execution_count": null,
   "id": "b62fde8b",
   "metadata": {},
   "outputs": [],
   "source": [
    "all_crime_beaches"
   ]
  },
  {
   "cell_type": "markdown",
   "id": "ed6fa1aa",
   "metadata": {},
   "source": [
    "# AVG Crime Reports Each Year"
   ]
  },
  {
   "cell_type": "code",
   "execution_count": null,
   "id": "b9b08ebd",
   "metadata": {},
   "outputs": [],
   "source": [
    "test = (all_crime_beaches['Murders'])+(all_crime_beaches['Rapes'])+(all_crime_beaches['Robberies'])+(all_crime_beaches['Assaults'])+(all_crime_beaches['Burglaries'])+(all_crime_beaches['Thefts'])+(all_crime_beaches['Auto Thefts'])+(all_crime_beaches['Arson'])"
   ]
  },
  {
   "cell_type": "code",
   "execution_count": null,
   "id": "a63366a0",
   "metadata": {},
   "outputs": [],
   "source": [
    "test.sum()/14"
   ]
  },
  {
   "cell_type": "code",
   "execution_count": null,
   "id": "f79616e0",
   "metadata": {},
   "outputs": [],
   "source": [
    "all_crime_beaches['Assaults'].sum()"
   ]
  },
  {
   "cell_type": "code",
   "execution_count": null,
   "id": "fb5bdbb0",
   "metadata": {},
   "outputs": [],
   "source": []
  },
  {
   "cell_type": "code",
   "execution_count": null,
   "id": "dde67d18",
   "metadata": {},
   "outputs": [],
   "source": []
  }
 ],
 "metadata": {
  "kernelspec": {
   "display_name": "Python 3 (ipykernel)",
   "language": "python",
   "name": "python3"
  },
  "language_info": {
   "codemirror_mode": {
    "name": "ipython",
    "version": 3
   },
   "file_extension": ".py",
   "mimetype": "text/x-python",
   "name": "python",
   "nbconvert_exporter": "python",
   "pygments_lexer": "ipython3",
   "version": "3.9.13"
  }
 },
 "nbformat": 4,
 "nbformat_minor": 5
}
