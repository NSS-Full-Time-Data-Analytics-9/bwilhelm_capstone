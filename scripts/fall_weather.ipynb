{
 "cells": [
  {
   "cell_type": "code",
   "execution_count": 1,
   "id": "0bf5a36e",
   "metadata": {},
   "outputs": [],
   "source": [
    "import requests\n",
    "import pandas as pd\n",
    "from bs4 import BeautifulSoup as BS\n",
    "import json\n",
    "import seaborn as sns\n",
    "import re\n",
    "from IPython.core.display import HTML"
   ]
  },
  {
   "cell_type": "code",
   "execution_count": 2,
   "id": "6ebfbe10",
   "metadata": {},
   "outputs": [],
   "source": [
    "fall_2013 = pd.read_csv('../data/fall_2013_weather.csv')\n",
    "fall_2014 = pd.read_csv('../data/fall_2014_weather.csv')\n",
    "fall_2015 = pd.read_csv('../data/fall_2015_weather.csv')\n",
    "fall_2016 = pd.read_csv('../data/fall_2016_weather.csv')\n",
    "fall_2017 = pd.read_csv('../data/fall_2017_weather.csv')\n",
    "fall_2018 = pd.read_csv('../data/fall_2018_weather.csv')\n",
    "fall_2019 = pd.read_csv('../data/fall_2019_weather.csv')\n",
    "fall_2020 = pd.read_csv('../data/fall_2020_weather.csv')\n",
    "fall_2021 = pd.read_csv('../data/fall_2021_weather.csv')\n",
    "fall_2022 = pd.read_csv('../data/fall_2022_weather.csv')"
   ]
  },
  {
   "cell_type": "markdown",
   "id": "9b057bd1",
   "metadata": {},
   "source": [
    "# 2013"
   ]
  },
  {
   "cell_type": "code",
   "execution_count": 3,
   "id": "21c4dc79",
   "metadata": {},
   "outputs": [],
   "source": [
    "fall_2013 = fall_2013.drop(columns={'feelslikemax',\n",
    "       'feelslikemin', 'feelslike', 'dew', 'snow', 'snowdepth', 'winddir', 'sealevelpressure', 'visibility',\n",
    "       'solarradiation', 'solarenergy', 'uvindex', 'severerisk', 'moonphase', 'icon', 'stations', 'windgust',\n",
    "        'description', 'sunrise', 'sunset', 'cloudcover', 'precip', 'precipcover'})"
   ]
  },
  {
   "cell_type": "code",
   "execution_count": 4,
   "id": "7d44f248",
   "metadata": {},
   "outputs": [],
   "source": [
    "fall_2013['location'] = fall_2013['name'].apply(lambda x: 'Gulfport Beach' if x == 39501 else ('Isle of Palms' if x == 29451 else 'Panama City Beach' if x == 32407 else 'Dauphin Island' if x == 36528 else 'Orange Beach' if x == 36561 else 'Miramar Beach' if x == 32550 else 'Tybee Island'))"
   ]
  },
  {
   "cell_type": "markdown",
   "id": "7d1fa9f8",
   "metadata": {},
   "source": [
    "# 2014"
   ]
  },
  {
   "cell_type": "code",
   "execution_count": 5,
   "id": "dca1978b",
   "metadata": {},
   "outputs": [],
   "source": [
    "fall_2014 = fall_2014.drop(columns={'feelslikemax',\n",
    "       'feelslikemin', 'feelslike', 'dew', 'snow', 'snowdepth', 'winddir', 'sealevelpressure', 'visibility',\n",
    "       'solarradiation', 'solarenergy', 'uvindex', 'severerisk', 'moonphase', 'icon', 'stations', 'windgust',\n",
    "        'description', 'sunrise', 'sunset', 'cloudcover', 'precip', 'precipcover'})"
   ]
  },
  {
   "cell_type": "code",
   "execution_count": 6,
   "id": "3a285f86",
   "metadata": {},
   "outputs": [],
   "source": [
    "fall_2014['location'] = fall_2014['name'].apply(lambda x: 'Gulfport Beach' if x == 39501 else ('Isle of Palms' if x == 29451 else 'Panama City Beach' if x == 32407 else 'Dauphin Island' if x == 36528 else 'Orange Beach' if x == 36561 else 'Miramar Beach' if x == 32550 else 'Tybee Island'))"
   ]
  },
  {
   "cell_type": "markdown",
   "id": "f9862ce5",
   "metadata": {},
   "source": [
    "# 2015"
   ]
  },
  {
   "cell_type": "code",
   "execution_count": 7,
   "id": "57146066",
   "metadata": {},
   "outputs": [],
   "source": [
    "fall_2015 = fall_2015.drop(columns={'feelslikemax',\n",
    "       'feelslikemin', 'feelslike', 'dew', 'snow', 'snowdepth', 'winddir', 'sealevelpressure', 'visibility',\n",
    "       'solarradiation', 'solarenergy', 'uvindex', 'severerisk', 'moonphase', 'icon', 'stations', 'windgust',\n",
    "        'description', 'sunrise', 'sunset', 'cloudcover', 'precip', 'precipcover'})"
   ]
  },
  {
   "cell_type": "code",
   "execution_count": 8,
   "id": "988d75d0",
   "metadata": {},
   "outputs": [],
   "source": [
    "fall_2015['location'] = fall_2015['name'].apply(lambda x: 'Gulfport Beach' if x == 39501 else ('Isle of Palms' if x == 29451 else 'Panama City Beach' if x == 32407 else 'Dauphin Island' if x == 36528 else 'Orange Beach' if x == 36561 else 'Miramar Beach' if x == 32550 else 'Tybee Island'))"
   ]
  },
  {
   "cell_type": "markdown",
   "id": "4e3eafc6",
   "metadata": {},
   "source": [
    "# 2016"
   ]
  },
  {
   "cell_type": "code",
   "execution_count": 9,
   "id": "b34136f5",
   "metadata": {},
   "outputs": [],
   "source": [
    "fall_2016 = fall_2016.drop(columns={'feelslikemax',\n",
    "       'feelslikemin', 'feelslike', 'dew', 'snow', 'snowdepth', 'winddir', 'sealevelpressure', 'visibility',\n",
    "       'solarradiation', 'solarenergy', 'uvindex', 'severerisk', 'moonphase', 'icon', 'stations', 'windgust',\n",
    "        'description', 'sunrise', 'sunset', 'cloudcover', 'precip', 'precipcover'})"
   ]
  },
  {
   "cell_type": "code",
   "execution_count": 10,
   "id": "e88781af",
   "metadata": {},
   "outputs": [],
   "source": [
    "fall_2016['location'] = fall_2016['name'].apply(lambda x: 'Gulfport Beach' if x == 39501 else ('Isle of Palms' if x == 29451 else 'Panama City Beach' if x == 32407 else 'Dauphin Island' if x == 36528 else 'Orange Beach' if x == 36561 else 'Miramar Beach' if x == 32550 else 'Tybee Island'))"
   ]
  },
  {
   "cell_type": "markdown",
   "id": "09cebc07",
   "metadata": {},
   "source": [
    "# 2017"
   ]
  },
  {
   "cell_type": "code",
   "execution_count": 11,
   "id": "a7d53930",
   "metadata": {},
   "outputs": [],
   "source": [
    "fall_2017 = fall_2017.drop(columns={'feelslikemax',\n",
    "       'feelslikemin', 'feelslike', 'dew', 'snow', 'snowdepth', 'winddir', 'sealevelpressure', 'visibility',\n",
    "       'solarradiation', 'solarenergy', 'uvindex', 'severerisk', 'moonphase', 'icon', 'stations', 'windgust',\n",
    "        'description', 'sunrise', 'sunset', 'cloudcover', 'precip', 'precipcover'})"
   ]
  },
  {
   "cell_type": "code",
   "execution_count": 12,
   "id": "fe5fe4e6",
   "metadata": {},
   "outputs": [],
   "source": [
    "fall_2017['location'] = fall_2017['name'].apply(lambda x: 'Gulfport Beach' if x == 39501 else ('Isle of Palms' if x == 29451 else 'Panama City Beach' if x == 32407 else 'Dauphin Island' if x == 36528 else 'Orange Beach' if x == 36561 else 'Miramar Beach' if x == 32550 else 'Tybee Island'))"
   ]
  },
  {
   "cell_type": "markdown",
   "id": "2030b389",
   "metadata": {},
   "source": [
    "# 2018"
   ]
  },
  {
   "cell_type": "code",
   "execution_count": 13,
   "id": "d2b4aa35",
   "metadata": {},
   "outputs": [],
   "source": [
    "fall_2018 = fall_2018.drop(columns={'feelslikemax',\n",
    "       'feelslikemin', 'feelslike', 'dew', 'snow', 'snowdepth', 'winddir', 'sealevelpressure', 'visibility',\n",
    "       'solarradiation', 'solarenergy', 'uvindex', 'severerisk', 'moonphase', 'icon', 'stations', 'windgust',\n",
    "        'description', 'sunrise', 'sunset', 'cloudcover', 'precip', 'precipcover'})"
   ]
  },
  {
   "cell_type": "code",
   "execution_count": 14,
   "id": "b1160b89",
   "metadata": {},
   "outputs": [],
   "source": [
    "fall_2018['location'] = fall_2018['name'].apply(lambda x: 'Gulfport Beach' if x == 39501 else ('Isle of Palms' if x == 29451 else 'Panama City Beach' if x == 32407 else 'Dauphin Island' if x == 36528 else 'Orange Beach' if x == 36561 else 'Miramar Beach' if x == 32550 else 'Tybee Island'))"
   ]
  },
  {
   "cell_type": "markdown",
   "id": "9328a08e",
   "metadata": {},
   "source": [
    "# 2019"
   ]
  },
  {
   "cell_type": "code",
   "execution_count": 15,
   "id": "c67d2913",
   "metadata": {
    "scrolled": true
   },
   "outputs": [],
   "source": [
    "fall_2019 = fall_2019.drop(columns={'feelslikemax',\n",
    "       'feelslikemin', 'feelslike', 'dew', 'snow', 'snowdepth', 'winddir', 'sealevelpressure', 'visibility',\n",
    "       'solarradiation', 'solarenergy', 'uvindex', 'severerisk', 'moonphase', 'icon', 'stations', 'windgust',\n",
    "        'description', 'sunrise', 'sunset', 'cloudcover', 'precip', 'precipcover'})"
   ]
  },
  {
   "cell_type": "code",
   "execution_count": 16,
   "id": "a7f85225",
   "metadata": {},
   "outputs": [],
   "source": [
    "fall_2019['location'] = fall_2019['name'].apply(lambda x: 'Gulfport Beach' if x == 39501 else ('Isle of Palms' if x == 29451 else 'Panama City Beach' if x == 32407 else 'Dauphin Island' if x == 36528 else 'Orange Beach' if x == 36561 else 'Miramar Beach' if x == 32550 else 'Tybee Island'))"
   ]
  },
  {
   "cell_type": "markdown",
   "id": "b43aab08",
   "metadata": {},
   "source": [
    "# 2020"
   ]
  },
  {
   "cell_type": "code",
   "execution_count": 17,
   "id": "0afacf2e",
   "metadata": {},
   "outputs": [],
   "source": [
    "fall_2020 = fall_2020.drop(columns={'feelslikemax',\n",
    "       'feelslikemin', 'feelslike', 'dew', 'snow', 'snowdepth', 'winddir', 'sealevelpressure', 'visibility',\n",
    "       'solarradiation', 'solarenergy', 'uvindex', 'severerisk', 'moonphase', 'icon', 'stations', 'windgust',\n",
    "        'description', 'sunrise', 'sunset', 'cloudcover', 'precip', 'precipcover'})"
   ]
  },
  {
   "cell_type": "code",
   "execution_count": 18,
   "id": "8770baa5",
   "metadata": {},
   "outputs": [],
   "source": [
    "fall_2020['location'] = fall_2020['name'].apply(lambda x: 'Gulfport Beach' if x == 39501 else ('Isle of Palms' if x == 29451 else 'Panama City Beach' if x == 32407 else 'Dauphin Island' if x == 36528 else 'Orange Beach' if x == 36561 else 'Miramar Beach' if x == 32550 else 'Tybee Island'))"
   ]
  },
  {
   "cell_type": "markdown",
   "id": "4d19abb3",
   "metadata": {},
   "source": [
    "# 2021"
   ]
  },
  {
   "cell_type": "code",
   "execution_count": 19,
   "id": "a85f60e0",
   "metadata": {},
   "outputs": [],
   "source": [
    "fall_2021 = fall_2021.drop(columns={'feelslikemax',\n",
    "       'feelslikemin', 'feelslike', 'dew', 'snow', 'snowdepth', 'winddir', 'sealevelpressure', 'visibility',\n",
    "       'solarradiation', 'solarenergy', 'uvindex', 'severerisk', 'moonphase', 'icon', 'stations', 'windgust',\n",
    "        'description', 'sunrise', 'sunset', 'cloudcover', 'precip', 'precipcover'})"
   ]
  },
  {
   "cell_type": "code",
   "execution_count": 20,
   "id": "442c7048",
   "metadata": {},
   "outputs": [],
   "source": [
    "fall_2021['location'] = fall_2021['name'].apply(lambda x: 'Gulfport Beach' if x == 39501 else ('Isle of Palms' if x == 29451 else 'Panama City Beach' if x == 32407 else 'Dauphin Island' if x == 36528 else 'Orange Beach' if x == 36561 else 'Miramar Beach' if x == 32550 else 'Tybee Island'))"
   ]
  },
  {
   "cell_type": "markdown",
   "id": "621c4ece",
   "metadata": {},
   "source": [
    "# 2022"
   ]
  },
  {
   "cell_type": "code",
   "execution_count": 21,
   "id": "6e2efa19",
   "metadata": {},
   "outputs": [],
   "source": [
    "fall_2022 = fall_2022.drop(columns={'feelslikemax',\n",
    "       'feelslikemin', 'feelslike', 'dew', 'snow', 'snowdepth', 'winddir', 'sealevelpressure', 'visibility',\n",
    "       'solarradiation', 'solarenergy', 'uvindex', 'severerisk', 'moonphase', 'icon', 'stations', 'windgust',\n",
    "        'description', 'sunrise', 'sunset', 'cloudcover', 'precip', 'precipcover'})"
   ]
  },
  {
   "cell_type": "code",
   "execution_count": 22,
   "id": "e783e0a8",
   "metadata": {},
   "outputs": [],
   "source": [
    "fall_2022['location'] = fall_2022['name'].apply(lambda x: 'Gulfport Beach' if x == 39501 else ('Isle of Palms' if x == 29451 else 'Panama City Beach' if x == 32407 else 'Dauphin Island' if x == 36528 else 'Orange Beach' if x == 36561 else 'Miramar Beach' if x == 32550 else 'Tybee Island'))"
   ]
  },
  {
   "cell_type": "markdown",
   "id": "627f1dcd",
   "metadata": {},
   "source": [
    "# All Fall Weather"
   ]
  },
  {
   "cell_type": "code",
   "execution_count": 23,
   "id": "ee34a152",
   "metadata": {},
   "outputs": [],
   "source": [
    "fall_weather = pd.merge(fall_2013, fall_2014,\n",
    "        on=('name', 'datetime', 'tempmax', 'tempmin', 'temp', 'humidity', 'precipprob', 'preciptype', 'windspeed', 'conditions', 'location'),\n",
    "        how='outer')\n",
    "fall_weather = pd.merge(fall_weather, fall_2015,\n",
    "        on=('name', 'datetime', 'tempmax', 'tempmin', 'temp', 'humidity', 'precipprob', 'preciptype', 'windspeed', 'conditions', 'location'),\n",
    "        how='outer')\n",
    "fall_weather = pd.merge(fall_weather, fall_2016,\n",
    "        on=('name', 'datetime', 'tempmax', 'tempmin', 'temp', 'humidity', 'precipprob', 'preciptype', 'windspeed', 'conditions', 'location'),\n",
    "        how='outer')\n",
    "fall_weather = pd.merge(fall_weather, fall_2017,\n",
    "        on=('name', 'datetime', 'tempmax', 'tempmin', 'temp', 'humidity', 'precipprob', 'preciptype', 'windspeed', 'conditions', 'location'),\n",
    "        how='outer')\n",
    "fall_weather = pd.merge(fall_weather, fall_2018,\n",
    "        on=('name', 'datetime', 'tempmax', 'tempmin', 'temp', 'humidity', 'precipprob', 'preciptype', 'windspeed', 'conditions', 'location'),\n",
    "        how='outer')\n",
    "fall_weather = pd.merge(fall_weather, fall_2019,\n",
    "        on=('name', 'datetime', 'tempmax', 'tempmin', 'temp', 'humidity', 'precipprob', 'preciptype', 'windspeed', 'conditions', 'location'),\n",
    "        how='outer')\n",
    "fall_weather = pd.merge(fall_weather, fall_2020,\n",
    "        on=('name', 'datetime', 'tempmax', 'tempmin', 'temp', 'humidity', 'precipprob', 'preciptype', 'windspeed', 'conditions', 'location'),\n",
    "        how='outer')\n",
    "fall_weather = pd.merge(fall_weather, fall_2021,\n",
    "        on=('name', 'datetime', 'tempmax', 'tempmin', 'temp', 'humidity', 'precipprob', 'preciptype', 'windspeed', 'conditions', 'location'),\n",
    "        how='outer')\n",
    "fall_weather = pd.merge(fall_weather, fall_2022,\n",
    "        on=('name', 'datetime', 'tempmax', 'tempmin', 'temp', 'humidity', 'precipprob', 'preciptype', 'windspeed', 'conditions', 'location'),\n",
    "        how='outer')"
   ]
  },
  {
   "cell_type": "code",
   "execution_count": 24,
   "id": "ea33154b",
   "metadata": {},
   "outputs": [],
   "source": [
    "fall_weather['month_day'] = fall_weather['datetime'].str.slice(-5)"
   ]
  },
  {
   "cell_type": "code",
   "execution_count": 25,
   "id": "3e9e796e",
   "metadata": {},
   "outputs": [],
   "source": [
    "fall_weather['datetime'] = pd.to_datetime(fall_weather[\"datetime\"])"
   ]
  },
  {
   "cell_type": "code",
   "execution_count": 26,
   "id": "7d613d33",
   "metadata": {},
   "outputs": [],
   "source": [
    "fall_weather['month'] = fall_weather['datetime'].dt.month_name()\n",
    "fall_weather['month_num'] = fall_weather['datetime'].dt.month\n",
    "fall_weather['day'] = fall_weather['datetime'].dt.day"
   ]
  },
  {
   "cell_type": "code",
   "execution_count": 27,
   "id": "3a2e7b60",
   "metadata": {
    "scrolled": true
   },
   "outputs": [
    {
     "name": "stderr",
     "output_type": "stream",
     "text": [
      "C:\\Users\\bswil\\AppData\\Local\\Temp\\ipykernel_17520\\362380495.py:1: FutureWarning: Indexing with multiple keys (implicitly converted to a tuple of keys) will be deprecated, use a list instead.\n",
      "  fall_weather_avgs = fall_weather.groupby(['location', 'month_num', 'day'])['temp', 'tempmax', 'tempmin', 'humidity', 'windspeed', 'precipprob'].mean().reset_index()\n"
     ]
    }
   ],
   "source": [
    "fall_weather_avgs = fall_weather.groupby(['location', 'month_num', 'day'])['temp', 'tempmax', 'tempmin', 'humidity', 'windspeed', 'precipprob'].mean().reset_index()"
   ]
  },
  {
   "cell_type": "code",
   "execution_count": 28,
   "id": "851f0f61",
   "metadata": {},
   "outputs": [],
   "source": [
    "fall_weather_avgs['precipprob'] = fall_weather_avgs['precipprob']/10\n",
    "fall_weather_avgs = fall_weather_avgs.rename(columns = {'precipprob':'days_with_rain_10_years'})"
   ]
  },
  {
   "cell_type": "code",
   "execution_count": 29,
   "id": "419e2216",
   "metadata": {},
   "outputs": [],
   "source": [
    "clear_weather = fall_weather.loc[fall_weather['conditions']=='Clear'].groupby(['location', 'month_num', 'day'])['name'].count().to_frame().reset_index().rename(columns={'name':'days_clear_10_years'})"
   ]
  },
  {
   "cell_type": "code",
   "execution_count": 30,
   "id": "e5551966",
   "metadata": {},
   "outputs": [],
   "source": [
    "fall_weather_avgs = pd.merge(fall_weather_avgs, clear_weather,\n",
    "        on=('location', 'month_num', 'day'),\n",
    "        how='left')"
   ]
  },
  {
   "cell_type": "code",
   "execution_count": 31,
   "id": "e01a13d0",
   "metadata": {},
   "outputs": [],
   "source": [
    "fall_weather_avgs['days_with_rain_10_years'] = fall_weather_avgs['days_with_rain_10_years']*10\n",
    "fall_weather_avgs['days_clear_10_years'] = fall_weather_avgs['days_clear_10_years']*10"
   ]
  },
  {
   "cell_type": "code",
   "execution_count": 32,
   "id": "4899da66",
   "metadata": {},
   "outputs": [
    {
     "name": "stderr",
     "output_type": "stream",
     "text": [
      "C:\\Users\\bswil\\AppData\\Local\\Temp\\ipykernel_17520\\489088346.py:1: FutureWarning: Indexing with multiple keys (implicitly converted to a tuple of keys) will be deprecated, use a list instead.\n",
      "  fall_weather_averages = fall_weather_avgs.groupby(['location'])['temp', 'humidity', 'windspeed', 'days_with_rain_10_years', 'days_clear_10_years'].mean().reset_index()\n"
     ]
    }
   ],
   "source": [
    "fall_weather_averages = fall_weather_avgs.groupby(['location'])['temp', 'humidity', 'windspeed', 'days_with_rain_10_years', 'days_clear_10_years'].mean().reset_index() "
   ]
  },
  {
   "cell_type": "code",
   "execution_count": 33,
   "id": "c7157782",
   "metadata": {},
   "outputs": [
    {
     "data": {
      "text/html": [
       "<div>\n",
       "<style scoped>\n",
       "    .dataframe tbody tr th:only-of-type {\n",
       "        vertical-align: middle;\n",
       "    }\n",
       "\n",
       "    .dataframe tbody tr th {\n",
       "        vertical-align: top;\n",
       "    }\n",
       "\n",
       "    .dataframe thead th {\n",
       "        text-align: right;\n",
       "    }\n",
       "</style>\n",
       "<table border=\"1\" class=\"dataframe\">\n",
       "  <thead>\n",
       "    <tr style=\"text-align: right;\">\n",
       "      <th></th>\n",
       "      <th>location</th>\n",
       "      <th>temp</th>\n",
       "      <th>humidity</th>\n",
       "      <th>windspeed</th>\n",
       "      <th>days_with_rain_10_years</th>\n",
       "      <th>days_clear_10_years</th>\n",
       "    </tr>\n",
       "  </thead>\n",
       "  <tbody>\n",
       "    <tr>\n",
       "      <th>0</th>\n",
       "      <td>Dauphin Island</td>\n",
       "      <td>72.87500</td>\n",
       "      <td>78.88750</td>\n",
       "      <td>10.21500</td>\n",
       "      <td>30.00</td>\n",
       "      <td>46.25</td>\n",
       "    </tr>\n",
       "    <tr>\n",
       "      <th>1</th>\n",
       "      <td>Gulfport Beach</td>\n",
       "      <td>75.20750</td>\n",
       "      <td>74.96125</td>\n",
       "      <td>13.69250</td>\n",
       "      <td>27.50</td>\n",
       "      <td>47.50</td>\n",
       "    </tr>\n",
       "    <tr>\n",
       "      <th>2</th>\n",
       "      <td>Isle of Palms</td>\n",
       "      <td>72.26625</td>\n",
       "      <td>84.41250</td>\n",
       "      <td>9.98625</td>\n",
       "      <td>35.00</td>\n",
       "      <td>25.00</td>\n",
       "    </tr>\n",
       "    <tr>\n",
       "      <th>3</th>\n",
       "      <td>Miramar Beach</td>\n",
       "      <td>76.84000</td>\n",
       "      <td>70.89625</td>\n",
       "      <td>11.45750</td>\n",
       "      <td>23.75</td>\n",
       "      <td>48.75</td>\n",
       "    </tr>\n",
       "    <tr>\n",
       "      <th>4</th>\n",
       "      <td>Orange Beach</td>\n",
       "      <td>73.99750</td>\n",
       "      <td>78.20750</td>\n",
       "      <td>12.10625</td>\n",
       "      <td>23.75</td>\n",
       "      <td>36.25</td>\n",
       "    </tr>\n",
       "    <tr>\n",
       "      <th>5</th>\n",
       "      <td>Panama City Beach</td>\n",
       "      <td>75.59250</td>\n",
       "      <td>73.27000</td>\n",
       "      <td>13.80750</td>\n",
       "      <td>32.50</td>\n",
       "      <td>47.50</td>\n",
       "    </tr>\n",
       "    <tr>\n",
       "      <th>6</th>\n",
       "      <td>Tybee Island</td>\n",
       "      <td>73.32000</td>\n",
       "      <td>79.88375</td>\n",
       "      <td>11.86625</td>\n",
       "      <td>35.00</td>\n",
       "      <td>28.75</td>\n",
       "    </tr>\n",
       "  </tbody>\n",
       "</table>\n",
       "</div>"
      ],
      "text/plain": [
       "            location      temp  humidity  windspeed  days_with_rain_10_years  \\\n",
       "0     Dauphin Island  72.87500  78.88750   10.21500                    30.00   \n",
       "1     Gulfport Beach  75.20750  74.96125   13.69250                    27.50   \n",
       "2      Isle of Palms  72.26625  84.41250    9.98625                    35.00   \n",
       "3      Miramar Beach  76.84000  70.89625   11.45750                    23.75   \n",
       "4       Orange Beach  73.99750  78.20750   12.10625                    23.75   \n",
       "5  Panama City Beach  75.59250  73.27000   13.80750                    32.50   \n",
       "6       Tybee Island  73.32000  79.88375   11.86625                    35.00   \n",
       "\n",
       "   days_clear_10_years  \n",
       "0                46.25  \n",
       "1                47.50  \n",
       "2                25.00  \n",
       "3                48.75  \n",
       "4                36.25  \n",
       "5                47.50  \n",
       "6                28.75  "
      ]
     },
     "execution_count": 33,
     "metadata": {},
     "output_type": "execute_result"
    }
   ],
   "source": [
    "fall_weather_averages"
   ]
  },
  {
   "cell_type": "code",
   "execution_count": null,
   "id": "e1a7e47c",
   "metadata": {},
   "outputs": [],
   "source": []
  }
 ],
 "metadata": {
  "kernelspec": {
   "display_name": "Python 3 (ipykernel)",
   "language": "python",
   "name": "python3"
  },
  "language_info": {
   "codemirror_mode": {
    "name": "ipython",
    "version": 3
   },
   "file_extension": ".py",
   "mimetype": "text/x-python",
   "name": "python",
   "nbconvert_exporter": "python",
   "pygments_lexer": "ipython3",
   "version": "3.9.13"
  }
 },
 "nbformat": 4,
 "nbformat_minor": 5
}
