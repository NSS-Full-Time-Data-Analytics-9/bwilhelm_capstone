{
 "cells": [
  {
   "cell_type": "code",
   "execution_count": null,
   "id": "9c7fab60",
   "metadata": {},
   "outputs": [],
   "source": [
    "import requests\n",
    "import pandas as pd\n",
    "from bs4 import BeautifulSoup as BS\n",
    "import json\n",
    "import seaborn as sns\n",
    "import re\n",
    "from IPython.core.display import HTML"
   ]
  },
  {
   "cell_type": "code",
   "execution_count": null,
   "id": "3591173a",
   "metadata": {},
   "outputs": [],
   "source": [
    "traffic = pd.read_csv('../data/crime_nhtsa.csv')\n",
    "traffic_state = pd.read_csv('../data/traffic_fatalities_state.csv')"
   ]
  },
  {
   "cell_type": "code",
   "execution_count": null,
   "id": "bec1930a",
   "metadata": {
    "scrolled": true
   },
   "outputs": [],
   "source": [
    "traffic['location'] = traffic['zipcode'].apply(lambda x: 'Gulfport Beach' if x == 39501 else ('Isle of Palms' if x == 29451 else 'Panama City Beach' if x == 32407 else 'Dauphin Island' if x == 36528 else 'Orange Beach' if x == 36561 else 'Miramar Beach' if x == 32550 else 'Tybee Island'))"
   ]
  },
  {
   "cell_type": "code",
   "execution_count": null,
   "id": "ad028938",
   "metadata": {},
   "outputs": [],
   "source": [
    "traffic"
   ]
  },
  {
   "cell_type": "code",
   "execution_count": null,
   "id": "c1069a32",
   "metadata": {
    "scrolled": true
   },
   "outputs": [],
   "source": [
    "traffic['Crash'] = traffic['Crash'].apply(lambda x: 'Alcohol Impaired' if x == '(1) Alcohol-Impaired Driving (BAC=.08+) Fatalities'\\\n",
    "                                                   else ('Single Vehicle' if x == '(2) Single Vehicle Crash Fatalities'\\\n",
    "                                                        else 'Large Truck Involved' if x == '(3) Large Truck Involved Crash Fatalities'\\\n",
    "                                                        else 'Speeding' if x == '(4) Speeding Involved Crash Fatalities'\\\n",
    "                                                        else 'Rollover' if x == '(5) Rollover Involved Crash Fatalities '\\\n",
    "                                                        else 'Roadway Departure' if x == '(6) Roadway Departure Involved Crash Fatalities'\\\n",
    "                                                        else 'Intersection' if x == '(7) Intersection (or Intersection Related) Crash Fatalities'\\\n",
    "                                                        else 'Bicyclist' if x == 'Bicyclist (or Other Cyclist) Fatalities'\\\n",
    "                                                        else 'Light Truck' if x == 'Light Truck Occupant Fatalities'\\\n",
    "                                                        else 'Motorcyclist' if x == 'Motorcyclist Fatalities'\\\n",
    "                                                        else 'Passenger Car' if x == 'Passenger Car Occupant Fatalities'\\\n",
    "                                                        else 'Pedestrian' if x == 'Pedestrian Fatalities'\\\n",
    "                                                        else 'Total Fatalities'))"
   ]
  },
  {
   "cell_type": "code",
   "execution_count": null,
   "id": "a5e60ffc",
   "metadata": {},
   "outputs": [],
   "source": [
    "traffic = traffic.rename(columns = {'Crash':'crash_type'})"
   ]
  },
  {
   "cell_type": "code",
   "execution_count": null,
   "id": "33c9d550",
   "metadata": {},
   "outputs": [],
   "source": [
    "traffic"
   ]
  },
  {
   "cell_type": "markdown",
   "id": "0483f94c",
   "metadata": {},
   "source": [
    "# Dauphin Traffic"
   ]
  },
  {
   "cell_type": "code",
   "execution_count": null,
   "id": "1fad9c5b",
   "metadata": {
    "scrolled": false
   },
   "outputs": [],
   "source": [
    "dauphin_traffic = traffic.loc[traffic['location']=='Dauphin Island']"
   ]
  },
  {
   "cell_type": "code",
   "execution_count": null,
   "id": "9b670c19",
   "metadata": {},
   "outputs": [],
   "source": [
    "dauphin_traffic = dauphin_traffic.T\n",
    "dauphin_traffic = dauphin_traffic[1:]\n",
    "dauphin_traffic = dauphin_traffic.reset_index()\n",
    "new_header = dauphin_traffic.iloc[0]\n",
    "dauphin_traffic = dauphin_traffic[1:]\n",
    "dauphin_traffic = dauphin_traffic[:-1]\n",
    "dauphin_traffic.columns = new_header"
   ]
  },
  {
   "cell_type": "code",
   "execution_count": null,
   "id": "bdf9ba71",
   "metadata": {},
   "outputs": [],
   "source": [
    "dauphin_traffic.columns = ['crash_type', 'Total Fatalities', 'Alcohol Impaired', 'Single Vehicle',\n",
    "       'Large Truck Involved', 'Speeding', 'DELETE',\n",
    "       'Roadway Departure', 'Intersection', 'Passenger Car', 'Light Truck',\n",
    "       'Motorcyclist', 'Pedestrian', 'Bicyclist']\n",
    "dauphin_traffic = dauphin_traffic.drop(columns = {'DELETE'})"
   ]
  },
  {
   "cell_type": "code",
   "execution_count": null,
   "id": "e08b2173",
   "metadata": {
    "scrolled": false
   },
   "outputs": [],
   "source": [
    "test = dauphin_traffic.iloc[5:]\n",
    "test['crash_type'] = test['crash_type'].str.extract('(\\d{4})')"
   ]
  },
  {
   "cell_type": "code",
   "execution_count": null,
   "id": "182a512f",
   "metadata": {},
   "outputs": [],
   "source": [
    "test.columns = ['crash_type', 'Total Fatalities (per 100,000)', 'Alcohol Impaired (per 100,000)', 'Single Vehicle (per 100,000)',\n",
    "       'Large Truck Involved (per 100,000)', 'Speeding (per 100,000)',\n",
    "       'Roadway Departure (per 100,000)', 'Intersection (per 100,000)', 'Passenger Car (per 100,000)', 'Light Truck (per 100,000)',\n",
    "       'Motorcyclist (per 100,000)', 'Pedestrian (per 100,000)', 'Bicyclist (per 100,000)']"
   ]
  },
  {
   "cell_type": "code",
   "execution_count": null,
   "id": "bf7b8416",
   "metadata": {},
   "outputs": [],
   "source": [
    "dauphin_traffic = pd.merge(dauphin_traffic, test,\n",
    "                            on='crash_type', how='inner')\n",
    "dauphin_traffic = dauphin_traffic.rename(columns={'crash_type':'year'})\n",
    "dauphin_traffic['location'] = 'Dauphin Island'"
   ]
  },
  {
   "cell_type": "markdown",
   "id": "f02028d0",
   "metadata": {},
   "source": [
    "# Gulfport"
   ]
  },
  {
   "cell_type": "code",
   "execution_count": null,
   "id": "eb4abbbe",
   "metadata": {},
   "outputs": [],
   "source": [
    "gulfport = traffic.loc[traffic['location']=='Gulfport Beach']"
   ]
  },
  {
   "cell_type": "code",
   "execution_count": null,
   "id": "7964704a",
   "metadata": {},
   "outputs": [],
   "source": [
    "gulfport = gulfport.T\n",
    "gulfport = gulfport[1:]\n",
    "gulfport = gulfport.reset_index()\n",
    "new_header = gulfport.iloc[0]\n",
    "gulfport = gulfport[1:]\n",
    "gulfport = gulfport[:-1]\n",
    "gulfport.columns = new_header"
   ]
  },
  {
   "cell_type": "code",
   "execution_count": null,
   "id": "c1a12359",
   "metadata": {},
   "outputs": [],
   "source": [
    "gulfport.columns = ['crash_type', 'Total Fatalities', 'Alcohol Impaired', 'Single Vehicle',\n",
    "       'Large Truck Involved', 'Speeding', 'DELETE',\n",
    "       'Roadway Departure', 'Intersection', 'Passenger Car', 'Light Truck',\n",
    "       'Motorcyclist', 'Pedestrian', 'Bicyclist']\n",
    "gulfport = gulfport.drop(columns = {'DELETE'})"
   ]
  },
  {
   "cell_type": "code",
   "execution_count": null,
   "id": "b3eacf6f",
   "metadata": {},
   "outputs": [],
   "source": [
    "test = gulfport.iloc[5:]\n",
    "test['crash_type'] = test['crash_type'].str.extract('(\\d{4})')"
   ]
  },
  {
   "cell_type": "code",
   "execution_count": null,
   "id": "16146e91",
   "metadata": {},
   "outputs": [],
   "source": [
    "test.columns = ['crash_type', 'Total Fatalities (per 100,000)', 'Alcohol Impaired (per 100,000)', 'Single Vehicle (per 100,000)',\n",
    "       'Large Truck Involved (per 100,000)', 'Speeding (per 100,000)',\n",
    "       'Roadway Departure (per 100,000)', 'Intersection (per 100,000)', 'Passenger Car (per 100,000)', 'Light Truck (per 100,000)',\n",
    "       'Motorcyclist (per 100,000)', 'Pedestrian (per 100,000)', 'Bicyclist (per 100,000)']"
   ]
  },
  {
   "cell_type": "code",
   "execution_count": null,
   "id": "31fdd10a",
   "metadata": {
    "scrolled": false
   },
   "outputs": [],
   "source": [
    "gulfport = pd.merge(gulfport, test,\n",
    "                            on='crash_type', how='inner')\n",
    "gulfport = gulfport.rename(columns={'crash_type':'year'})\n",
    "gulfport['location'] = 'Gulfport Beach'"
   ]
  },
  {
   "cell_type": "markdown",
   "id": "21f0bf0c",
   "metadata": {},
   "source": [
    "# Isle of Palms"
   ]
  },
  {
   "cell_type": "code",
   "execution_count": null,
   "id": "3563bb6f",
   "metadata": {},
   "outputs": [],
   "source": [
    "palms = traffic.loc[traffic['location']=='Isle of Palms']"
   ]
  },
  {
   "cell_type": "code",
   "execution_count": null,
   "id": "0328866e",
   "metadata": {},
   "outputs": [],
   "source": [
    "palms = palms.T\n",
    "palms = palms[1:]\n",
    "palms = palms.reset_index()\n",
    "new_header = palms.iloc[0]\n",
    "palms = palms[1:]\n",
    "palms = palms[:-1]\n",
    "palms.columns = new_header"
   ]
  },
  {
   "cell_type": "code",
   "execution_count": null,
   "id": "56ca200e",
   "metadata": {},
   "outputs": [],
   "source": [
    "palms.columns = ['crash_type', 'Total Fatalities', 'Alcohol Impaired', 'Single Vehicle',\n",
    "       'Large Truck Involved', 'Speeding', 'DELETE',\n",
    "       'Roadway Departure', 'Intersection', 'Passenger Car', 'Light Truck',\n",
    "       'Motorcyclist', 'Pedestrian', 'Bicyclist']\n",
    "palms = palms.drop(columns = {'DELETE'})"
   ]
  },
  {
   "cell_type": "code",
   "execution_count": null,
   "id": "8868e0cb",
   "metadata": {},
   "outputs": [],
   "source": [
    "test = palms.iloc[5:]\n",
    "test['crash_type'] = test['crash_type'].str.extract('(\\d{4})')"
   ]
  },
  {
   "cell_type": "code",
   "execution_count": null,
   "id": "3c9511fb",
   "metadata": {},
   "outputs": [],
   "source": [
    "test.columns = ['crash_type', 'Total Fatalities (per 100,000)', 'Alcohol Impaired (per 100,000)', 'Single Vehicle (per 100,000)',\n",
    "       'Large Truck Involved (per 100,000)', 'Speeding (per 100,000)',\n",
    "       'Roadway Departure (per 100,000)', 'Intersection (per 100,000)', 'Passenger Car (per 100,000)', 'Light Truck (per 100,000)',\n",
    "       'Motorcyclist (per 100,000)', 'Pedestrian (per 100,000)', 'Bicyclist (per 100,000)']"
   ]
  },
  {
   "cell_type": "code",
   "execution_count": null,
   "id": "bd1406fa",
   "metadata": {},
   "outputs": [],
   "source": [
    "palms = pd.merge(palms, test,\n",
    "                            on='crash_type', how='inner')\n",
    "palms = palms.rename(columns={'crash_type':'year'})\n",
    "palms['location'] = 'Isle of Palms'"
   ]
  },
  {
   "cell_type": "markdown",
   "id": "44681553",
   "metadata": {},
   "source": [
    "# Miramar Beach"
   ]
  },
  {
   "cell_type": "code",
   "execution_count": null,
   "id": "c0bd7cce",
   "metadata": {},
   "outputs": [],
   "source": [
    "miramar = traffic.loc[traffic['location']=='Miramar Beach']"
   ]
  },
  {
   "cell_type": "code",
   "execution_count": null,
   "id": "ead9c997",
   "metadata": {},
   "outputs": [],
   "source": [
    "miramar = miramar.T\n",
    "miramar = miramar[1:]\n",
    "miramar = miramar.reset_index()\n",
    "new_header = miramar.iloc[0]\n",
    "miramar = miramar[1:]\n",
    "miramar = miramar[:-1]\n",
    "miramar.columns = new_header"
   ]
  },
  {
   "cell_type": "code",
   "execution_count": null,
   "id": "3da87bc6",
   "metadata": {},
   "outputs": [],
   "source": [
    "miramar.columns = ['crash_type', 'Total Fatalities', 'Alcohol Impaired', 'Single Vehicle',\n",
    "       'Large Truck Involved', 'Speeding', 'DELETE',\n",
    "       'Roadway Departure', 'Intersection', 'Passenger Car', 'Light Truck',\n",
    "       'Motorcyclist', 'Pedestrian', 'Bicyclist']\n",
    "miramar = miramar.drop(columns = {'DELETE'})"
   ]
  },
  {
   "cell_type": "code",
   "execution_count": null,
   "id": "0946b3b2",
   "metadata": {},
   "outputs": [],
   "source": [
    "test = miramar.iloc[5:]\n",
    "test['crash_type'] = test['crash_type'].str.extract('(\\d{4})')"
   ]
  },
  {
   "cell_type": "code",
   "execution_count": null,
   "id": "0cb47814",
   "metadata": {},
   "outputs": [],
   "source": [
    "test.columns = ['crash_type', 'Total Fatalities (per 100,000)', 'Alcohol Impaired (per 100,000)', 'Single Vehicle (per 100,000)',\n",
    "       'Large Truck Involved (per 100,000)', 'Speeding (per 100,000)',\n",
    "       'Roadway Departure (per 100,000)', 'Intersection (per 100,000)', 'Passenger Car (per 100,000)', 'Light Truck (per 100,000)',\n",
    "       'Motorcyclist (per 100,000)', 'Pedestrian (per 100,000)', 'Bicyclist (per 100,000)']"
   ]
  },
  {
   "cell_type": "code",
   "execution_count": null,
   "id": "37a8641f",
   "metadata": {},
   "outputs": [],
   "source": [
    "miramar = pd.merge(miramar, test,\n",
    "                            on='crash_type', how='inner')\n",
    "miramar = miramar.rename(columns={'crash_type':'year'})\n",
    "miramar['location'] = 'Miramar Beach'"
   ]
  },
  {
   "cell_type": "markdown",
   "id": "2bcb0798",
   "metadata": {},
   "source": [
    "# Orange Beach"
   ]
  },
  {
   "cell_type": "code",
   "execution_count": null,
   "id": "d611c737",
   "metadata": {},
   "outputs": [],
   "source": [
    "orange = traffic.loc[traffic['location']=='Orange Beach']"
   ]
  },
  {
   "cell_type": "code",
   "execution_count": null,
   "id": "064a51b9",
   "metadata": {},
   "outputs": [],
   "source": [
    "orange = orange.T\n",
    "orange = orange[1:]\n",
    "orange = orange.reset_index()\n",
    "new_header = orange.iloc[0]\n",
    "orange = orange[1:]\n",
    "orange = orange[:-1]\n",
    "orange.columns = new_header"
   ]
  },
  {
   "cell_type": "code",
   "execution_count": null,
   "id": "c408896f",
   "metadata": {},
   "outputs": [],
   "source": [
    "orange.columns = ['crash_type', 'Total Fatalities', 'Alcohol Impaired', 'Single Vehicle',\n",
    "       'Large Truck Involved', 'Speeding', 'DELETE',\n",
    "       'Roadway Departure', 'Intersection', 'Passenger Car', 'Light Truck',\n",
    "       'Motorcyclist', 'Pedestrian', 'Bicyclist']\n",
    "orange = orange.drop(columns = {'DELETE'})"
   ]
  },
  {
   "cell_type": "code",
   "execution_count": null,
   "id": "460a672c",
   "metadata": {},
   "outputs": [],
   "source": [
    "test = orange.iloc[5:]\n",
    "test['crash_type'] = test['crash_type'].str.extract('(\\d{4})')"
   ]
  },
  {
   "cell_type": "code",
   "execution_count": null,
   "id": "c9cac964",
   "metadata": {},
   "outputs": [],
   "source": [
    "test.columns = ['crash_type', 'Total Fatalities (per 100,000)', 'Alcohol Impaired (per 100,000)', 'Single Vehicle (per 100,000)',\n",
    "       'Large Truck Involved (per 100,000)', 'Speeding (per 100,000)',\n",
    "       'Roadway Departure (per 100,000)', 'Intersection (per 100,000)', 'Passenger Car (per 100,000)', 'Light Truck (per 100,000)',\n",
    "       'Motorcyclist (per 100,000)', 'Pedestrian (per 100,000)', 'Bicyclist (per 100,000)']"
   ]
  },
  {
   "cell_type": "code",
   "execution_count": null,
   "id": "969f19b5",
   "metadata": {},
   "outputs": [],
   "source": [
    "orange = pd.merge(orange, test,\n",
    "                            on='crash_type', how='inner')\n",
    "orange = orange.rename(columns={'crash_type':'year'})\n",
    "orange['location'] = 'Orange Beach'"
   ]
  },
  {
   "cell_type": "markdown",
   "id": "29f86a0b",
   "metadata": {},
   "source": [
    "# Panama"
   ]
  },
  {
   "cell_type": "code",
   "execution_count": null,
   "id": "ec70a9e0",
   "metadata": {},
   "outputs": [],
   "source": [
    "panama = traffic.loc[traffic['location']=='Panama City Beach']"
   ]
  },
  {
   "cell_type": "code",
   "execution_count": null,
   "id": "376139e9",
   "metadata": {},
   "outputs": [],
   "source": [
    "panama = panama.T\n",
    "panama = panama[1:]\n",
    "panama = panama.reset_index()\n",
    "new_header = panama.iloc[0]\n",
    "panama = panama[1:]\n",
    "panama = panama[:-1]\n",
    "panama.columns = new_header"
   ]
  },
  {
   "cell_type": "code",
   "execution_count": null,
   "id": "867d421d",
   "metadata": {},
   "outputs": [],
   "source": [
    "panama.columns = ['crash_type', 'Total Fatalities', 'Alcohol Impaired', 'Single Vehicle',\n",
    "       'Large Truck Involved', 'Speeding', 'DELETE',\n",
    "       'Roadway Departure', 'Intersection', 'Passenger Car', 'Light Truck',\n",
    "       'Motorcyclist', 'Pedestrian', 'Bicyclist']\n",
    "panama = panama.drop(columns = {'DELETE'})"
   ]
  },
  {
   "cell_type": "code",
   "execution_count": null,
   "id": "917f3b01",
   "metadata": {},
   "outputs": [],
   "source": [
    "test = panama.iloc[5:]\n",
    "test['crash_type'] = test['crash_type'].str.extract('(\\d{4})')"
   ]
  },
  {
   "cell_type": "code",
   "execution_count": null,
   "id": "ba61d85e",
   "metadata": {},
   "outputs": [],
   "source": [
    "test.columns = ['crash_type', 'Total Fatalities (per 100,000)', 'Alcohol Impaired (per 100,000)', 'Single Vehicle (per 100,000)',\n",
    "       'Large Truck Involved (per 100,000)', 'Speeding (per 100,000)', \n",
    "       'Roadway Departure (per 100,000)', 'Intersection (per 100,000)', 'Passenger Car (per 100,000)', 'Light Truck (per 100,000)',\n",
    "       'Motorcyclist (per 100,000)', 'Pedestrian (per 100,000)', 'Bicyclist (per 100,000)']"
   ]
  },
  {
   "cell_type": "code",
   "execution_count": null,
   "id": "fb6150e5",
   "metadata": {},
   "outputs": [],
   "source": [
    "panama = pd.merge(panama, test,\n",
    "                            on='crash_type', how='inner')\n",
    "panama = panama.rename(columns={'crash_type':'year'})\n",
    "panama['location'] = 'Panama City Beach'"
   ]
  },
  {
   "cell_type": "markdown",
   "id": "9a745312",
   "metadata": {},
   "source": [
    "# Tybee"
   ]
  },
  {
   "cell_type": "code",
   "execution_count": null,
   "id": "449f22e7",
   "metadata": {},
   "outputs": [],
   "source": [
    "tybee = traffic.loc[traffic['location']=='Tybee Island']"
   ]
  },
  {
   "cell_type": "code",
   "execution_count": null,
   "id": "1b898d64",
   "metadata": {},
   "outputs": [],
   "source": [
    "tybee = tybee.T\n",
    "tybee = tybee[1:]\n",
    "tybee = tybee.reset_index()\n",
    "new_header = tybee.iloc[0]\n",
    "tybee = tybee[1:]\n",
    "tybee = tybee[:-1]\n",
    "tybee.columns = new_header"
   ]
  },
  {
   "cell_type": "code",
   "execution_count": null,
   "id": "efe0c0a5",
   "metadata": {},
   "outputs": [],
   "source": [
    "tybee.columns = ['crash_type', 'Total Fatalities', 'Alcohol Impaired', 'Single Vehicle',\n",
    "       'Large Truck Involved', 'Speeding', 'DELETE',\n",
    "       'Roadway Departure', 'Intersection', 'Passenger Car', 'Light Truck',\n",
    "       'Motorcyclist', 'Pedestrian', 'Bicyclist']\n",
    "tybee = tybee.drop(columns = {'DELETE'})"
   ]
  },
  {
   "cell_type": "code",
   "execution_count": null,
   "id": "74d4206b",
   "metadata": {},
   "outputs": [],
   "source": [
    "test = tybee.iloc[5:]\n",
    "test['crash_type'] = test['crash_type'].str.extract('(\\d{4})')"
   ]
  },
  {
   "cell_type": "code",
   "execution_count": null,
   "id": "65a53e63",
   "metadata": {},
   "outputs": [],
   "source": [
    "test.columns = ['crash_type', 'Total Fatalities (per 100,000)', 'Alcohol Impaired (per 100,000)', 'Single Vehicle (per 100,000)',\n",
    "       'Large Truck Involved (per 100,000)', 'Speeding (per 100,000)', \n",
    "       'Roadway Departure (per 100,000)', 'Intersection (per 100,000)', 'Passenger Car (per 100,000)', 'Light Truck (per 100,000)',\n",
    "       'Motorcyclist (per 100,000)', 'Pedestrian (per 100,000)', 'Bicyclist (per 100,000)']"
   ]
  },
  {
   "cell_type": "code",
   "execution_count": null,
   "id": "f9d7a864",
   "metadata": {},
   "outputs": [],
   "source": [
    "tybee = pd.merge(tybee, test,\n",
    "                            on='crash_type', how='inner')\n",
    "tybee = tybee.rename(columns={'crash_type':'year'})\n",
    "tybee['location'] = 'Tybee Island'"
   ]
  },
  {
   "cell_type": "code",
   "execution_count": null,
   "id": "d710ac89",
   "metadata": {},
   "outputs": [],
   "source": []
  },
  {
   "cell_type": "code",
   "execution_count": null,
   "id": "dceaf973",
   "metadata": {
    "scrolled": true
   },
   "outputs": [],
   "source": [
    "all_traffic = pd.merge(dauphin_traffic, gulfport,\n",
    "        on = ('year', 'Total Fatalities', 'Alcohol Impaired', 'Single Vehicle',\n",
    "       'Large Truck Involved', 'Speeding', 'Total Fatalities',\n",
    "       'Roadway Departure', 'Intersection', 'Passenger Car', 'Light Truck',\n",
    "       'Motorcyclist', 'Pedestrian', 'Bicyclist',\n",
    "       'Total Fatalities (per 100,000)', 'Alcohol Impaired (per 100,000)',\n",
    "       'Single Vehicle (per 100,000)', 'Large Truck Involved (per 100,000)',\n",
    "       'Speeding (per 100,000)',\n",
    "       'Roadway Departure (per 100,000)', 'Intersection (per 100,000)',\n",
    "       'Passenger Car (per 100,000)', 'Light Truck (per 100,000)',\n",
    "       'Motorcyclist (per 100,000)', 'Pedestrian (per 100,000)',\n",
    "       'Bicyclist (per 100,000)', 'location'), \n",
    "         how='outer')\n",
    "all_traffic = pd.merge(all_traffic, miramar,\n",
    "        on = ('year', 'Total Fatalities', 'Alcohol Impaired', 'Single Vehicle',\n",
    "       'Large Truck Involved', 'Speeding', 'Total Fatalities',\n",
    "       'Roadway Departure', 'Intersection', 'Passenger Car', 'Light Truck',\n",
    "       'Motorcyclist', 'Pedestrian', 'Bicyclist',\n",
    "       'Total Fatalities (per 100,000)', 'Alcohol Impaired (per 100,000)',\n",
    "       'Single Vehicle (per 100,000)', 'Large Truck Involved (per 100,000)',\n",
    "       'Speeding (per 100,000)',\n",
    "       'Roadway Departure (per 100,000)', 'Intersection (per 100,000)',\n",
    "       'Passenger Car (per 100,000)', 'Light Truck (per 100,000)',\n",
    "       'Motorcyclist (per 100,000)', 'Pedestrian (per 100,000)',\n",
    "       'Bicyclist (per 100,000)', 'location'), \n",
    "         how='outer')\n",
    "all_traffic = pd.merge(all_traffic, orange,\n",
    "        on = ('year', 'Total Fatalities', 'Alcohol Impaired', 'Single Vehicle',\n",
    "       'Large Truck Involved', 'Speeding', 'Total Fatalities',\n",
    "       'Roadway Departure', 'Intersection', 'Passenger Car', 'Light Truck',\n",
    "       'Motorcyclist', 'Pedestrian', 'Bicyclist',\n",
    "       'Total Fatalities (per 100,000)', 'Alcohol Impaired (per 100,000)',\n",
    "       'Single Vehicle (per 100,000)', 'Large Truck Involved (per 100,000)',\n",
    "       'Speeding (per 100,000)',\n",
    "       'Roadway Departure (per 100,000)', 'Intersection (per 100,000)',\n",
    "       'Passenger Car (per 100,000)', 'Light Truck (per 100,000)',\n",
    "       'Motorcyclist (per 100,000)', 'Pedestrian (per 100,000)',\n",
    "       'Bicyclist (per 100,000)', 'location'), \n",
    "         how='outer')\n",
    "all_traffic = pd.merge(all_traffic, palms,\n",
    "        on = ('year', 'Total Fatalities', 'Alcohol Impaired', 'Single Vehicle',\n",
    "       'Large Truck Involved', 'Speeding', 'Total Fatalities',\n",
    "       'Roadway Departure', 'Intersection', 'Passenger Car', 'Light Truck',\n",
    "       'Motorcyclist', 'Pedestrian', 'Bicyclist',\n",
    "       'Total Fatalities (per 100,000)', 'Alcohol Impaired (per 100,000)',\n",
    "       'Single Vehicle (per 100,000)', 'Large Truck Involved (per 100,000)',\n",
    "       'Speeding (per 100,000)',\n",
    "       'Roadway Departure (per 100,000)', 'Intersection (per 100,000)',\n",
    "       'Passenger Car (per 100,000)', 'Light Truck (per 100,000)',\n",
    "       'Motorcyclist (per 100,000)', 'Pedestrian (per 100,000)',\n",
    "       'Bicyclist (per 100,000)', 'location'), \n",
    "         how='outer')\n",
    "all_traffic = pd.merge(all_traffic, panama,\n",
    "        on = ('year', 'Total Fatalities', 'Alcohol Impaired', 'Single Vehicle',\n",
    "       'Large Truck Involved', 'Speeding', 'Total Fatalities',\n",
    "       'Roadway Departure', 'Intersection', 'Passenger Car', 'Light Truck',\n",
    "       'Motorcyclist', 'Pedestrian', 'Bicyclist',\n",
    "       'Total Fatalities (per 100,000)', 'Alcohol Impaired (per 100,000)',\n",
    "       'Single Vehicle (per 100,000)', 'Large Truck Involved (per 100,000)',\n",
    "       'Speeding (per 100,000)',\n",
    "       'Roadway Departure (per 100,000)', 'Intersection (per 100,000)',\n",
    "       'Passenger Car (per 100,000)', 'Light Truck (per 100,000)',\n",
    "       'Motorcyclist (per 100,000)', 'Pedestrian (per 100,000)',\n",
    "       'Bicyclist (per 100,000)', 'location'), \n",
    "         how='outer')\n",
    "all_traffic = pd.merge(all_traffic, tybee,\n",
    "        on = ('year', 'Total Fatalities', 'Alcohol Impaired', 'Single Vehicle',\n",
    "       'Large Truck Involved', 'Speeding', 'Total Fatalities',\n",
    "       'Roadway Departure', 'Intersection', 'Passenger Car', 'Light Truck',\n",
    "       'Motorcyclist', 'Pedestrian', 'Bicyclist',\n",
    "       'Total Fatalities (per 100,000)', 'Alcohol Impaired (per 100,000)',\n",
    "       'Single Vehicle (per 100,000)', 'Large Truck Involved (per 100,000)',\n",
    "       'Speeding (per 100,000)',\n",
    "       'Roadway Departure (per 100,000)', 'Intersection (per 100,000)',\n",
    "       'Passenger Car (per 100,000)', 'Light Truck (per 100,000)',\n",
    "       'Motorcyclist (per 100,000)', 'Pedestrian (per 100,000)',\n",
    "       'Bicyclist (per 100,000)', 'location'), \n",
    "         how='outer')"
   ]
  },
  {
   "cell_type": "code",
   "execution_count": null,
   "id": "9fcd1d81",
   "metadata": {
    "scrolled": true
   },
   "outputs": [],
   "source": [
    "all_traffic"
   ]
  },
  {
   "cell_type": "markdown",
   "id": "14876a59",
   "metadata": {},
   "source": [
    "# Aggregation"
   ]
  },
  {
   "cell_type": "code",
   "execution_count": null,
   "id": "1e578178",
   "metadata": {},
   "outputs": [],
   "source": [
    "all_traffic.columns"
   ]
  },
  {
   "cell_type": "code",
   "execution_count": null,
   "id": "867582f6",
   "metadata": {
    "scrolled": true
   },
   "outputs": [],
   "source": [
    "traffic_agg = all_traffic.groupby(['location'])['Total Fatalities (per 100,000)',\n",
    "       'Alcohol Impaired (per 100,000)', 'Single Vehicle (per 100,000)',\n",
    "       'Large Truck Involved (per 100,000)', 'Speeding (per 100,000)',\n",
    "       'Roadway Departure (per 100,000)', 'Intersection (per 100,000)',\n",
    "       'Passenger Car (per 100,000)', 'Light Truck (per 100,000)',\n",
    "       'Motorcyclist (per 100,000)', 'Pedestrian (per 100,000)',\n",
    "       'Bicyclist (per 100,000)'].mean()\n",
    "traffic_agg = traffic_agg.reset_index()"
   ]
  },
  {
   "cell_type": "code",
   "execution_count": null,
   "id": "bc9e5637",
   "metadata": {},
   "outputs": [],
   "source": [
    "alcohol = traffic_agg['Alcohol Impaired (per 100,000)'].rank(method='min').tolist()\n",
    "single = traffic_agg['Single Vehicle (per 100,000)'].rank(method='min').tolist()\n",
    "large = traffic_agg['Large Truck Involved (per 100,000)'].rank(method='min').tolist()\n",
    "speeding = traffic_agg['Speeding (per 100,000)'].rank(method='min').tolist()\n",
    "roadway = traffic_agg['Roadway Departure (per 100,000)'].rank(method='min').tolist()\n",
    "intersection = traffic_agg['Intersection (per 100,000)'].rank(method='min').tolist()\n",
    "passenger = traffic_agg['Passenger Car (per 100,000)'].rank(method='min').tolist()\n",
    "light = traffic_agg['Light Truck (per 100,000)'].rank(method='min').tolist()\n",
    "motor = traffic_agg['Motorcyclist (per 100,000)'].rank(method='min').tolist()\n",
    "pedestrian = traffic_agg['Pedestrian (per 100,000)'].rank(method='min').tolist()\n",
    "bike = traffic_agg['Bicyclist (per 100,000)'].rank(method='min').tolist()\n",
    "loc = traffic_agg['location'].tolist()"
   ]
  },
  {
   "cell_type": "code",
   "execution_count": null,
   "id": "468e2c6b",
   "metadata": {},
   "outputs": [],
   "source": [
    "traffic_locations_ranked = pd.DataFrame({'location': loc, 'alcohol_impaired_rank': alcohol, 'single_vehicle_rank': single, 'large_truck_involved_rank': large,\n",
    "                                 'speeding_rank': speeding, 'roadway_departure_rank': roadway, 'intersection_rank': intersection,\n",
    "                                 'passenger_car_rank': passenger, 'light_truck_rank': light, 'motorcyclist_rank':motor,\n",
    "                                    'pedestrian_rank':pedestrian, 'bicyclist_rank':bike})"
   ]
  },
  {
   "cell_type": "code",
   "execution_count": null,
   "id": "fbcbd9e7",
   "metadata": {},
   "outputs": [],
   "source": [
    "traffic_locations_ranked['average_rank'] = (traffic_locations_ranked['alcohol_impaired_rank']+traffic_locations_ranked['single_vehicle_rank']+traffic_locations_ranked['large_truck_involved_rank']+traffic_locations_ranked['speeding_rank']+traffic_locations_ranked['roadway_departure_rank']+traffic_locations_ranked['intersection_rank']+traffic_locations_ranked['passenger_car_rank']+traffic_locations_ranked['light_truck_rank']+traffic_locations_ranked['motorcyclist_rank']+traffic_locations_ranked['pedestrian_rank']+traffic_locations_ranked['bicyclist_rank'])/11"
   ]
  },
  {
   "cell_type": "code",
   "execution_count": null,
   "id": "c9a15065",
   "metadata": {},
   "outputs": [],
   "source": [
    "travel_time = ['7:00', '7:30', '8:45', '7:00', '7:10', '7:45', '8:10']"
   ]
  },
  {
   "cell_type": "code",
   "execution_count": null,
   "id": "43b13c3c",
   "metadata": {
    "scrolled": true
   },
   "outputs": [],
   "source": [
    "traffic_locations_ranked['travel_time'] = travel_time\n",
    "traffic_locations_ranked['travel_time'] = pd.to_datetime(traffic_locations_ranked['travel_time'])\n",
    "traffic_locations_ranked['travel_time'] = traffic_locations_ranked['travel_time'].dt.time"
   ]
  },
  {
   "cell_type": "code",
   "execution_count": null,
   "id": "c3b6927f",
   "metadata": {},
   "outputs": [],
   "source": [
    "traffic_locations_ranked"
   ]
  },
  {
   "cell_type": "code",
   "execution_count": null,
   "id": "c7d2bdd3",
   "metadata": {},
   "outputs": [],
   "source": [
    "traffic_agg"
   ]
  },
  {
   "cell_type": "code",
   "execution_count": null,
   "id": "91de9bb9",
   "metadata": {},
   "outputs": [],
   "source": []
  },
  {
   "cell_type": "code",
   "execution_count": null,
   "id": "295e84c8",
   "metadata": {},
   "outputs": [],
   "source": [
    "traffic_state['2010'] = traffic_state['2010'].str.replace(',', '').astype(int)\n",
    "traffic_state['2011'] = traffic_state['2011'].str.replace(',', '').astype(int)\n",
    "traffic_state['2012'] = traffic_state['2012'].str.replace(',', '').astype(int)\n",
    "traffic_state['2013'] = traffic_state['2013'].str.replace(',', '').astype(int)\n",
    "traffic_state['2014'] = traffic_state['2014'].str.replace(',', '').astype(int)\n",
    "traffic_state['2015'] = traffic_state['2015'].str.replace(',', '').astype(int)\n",
    "traffic_state['2016'] = traffic_state['2016'].str.replace(',', '').astype(int)\n",
    "traffic_state['2017'] = traffic_state['2017'].str.replace(',', '').astype(int)\n",
    "traffic_state['2018'] = traffic_state['2018'].str.replace(',', '').astype(int)\n",
    "traffic_state['2019'] = traffic_state['2019'].str.replace(',', '').astype(int)\n",
    "traffic_state['2020'] = traffic_state['2020'].str.replace(',', '').astype(int)"
   ]
  },
  {
   "cell_type": "code",
   "execution_count": null,
   "id": "1e6aad60",
   "metadata": {},
   "outputs": [],
   "source": [
    "traffic_state"
   ]
  },
  {
   "cell_type": "markdown",
   "id": "4d98578c",
   "metadata": {},
   "source": [
    "# AVG Fatalities per Year"
   ]
  },
  {
   "cell_type": "code",
   "execution_count": null,
   "id": "7100f75f",
   "metadata": {
    "scrolled": true
   },
   "outputs": [],
   "source": [
    "all_traffic['Total Fatalities'].sum()/5"
   ]
  },
  {
   "cell_type": "code",
   "execution_count": null,
   "id": "0202801b",
   "metadata": {},
   "outputs": [],
   "source": [
    "crime = pd.read_csv('../data/crime_locations_rank.csv')"
   ]
  },
  {
   "cell_type": "code",
   "execution_count": null,
   "id": "3f08491c",
   "metadata": {},
   "outputs": [],
   "source": [
    "crime = crime.drop(columns = {'Unnamed: 0'})"
   ]
  },
  {
   "cell_type": "code",
   "execution_count": null,
   "id": "2bb1c203",
   "metadata": {},
   "outputs": [],
   "source": [
    "crime"
   ]
  },
  {
   "cell_type": "code",
   "execution_count": null,
   "id": "262f1126",
   "metadata": {},
   "outputs": [],
   "source": [
    "traffic_locations_ranked"
   ]
  },
  {
   "cell_type": "code",
   "execution_count": null,
   "id": "c0aa7ff4",
   "metadata": {},
   "outputs": [],
   "source": [
    "safety_rating = pd.merge(traffic_locations_ranked, crime,\n",
    "        on='location', how='inner')"
   ]
  },
  {
   "cell_type": "code",
   "execution_count": null,
   "id": "17490884",
   "metadata": {},
   "outputs": [],
   "source": [
    "safety_rating = safety_rating[['location', 'average_rank_x', 'average_rank_y']]\n",
    "safety_rating.columns=['location', 'avg_rank_traffic', 'avg_rank_crime']"
   ]
  },
  {
   "cell_type": "code",
   "execution_count": null,
   "id": "116fd415",
   "metadata": {},
   "outputs": [],
   "source": [
    "safety_rating['safety_rating'] = (safety_rating['avg_rank_traffic']*.2)+(safety_rating['avg_rank_crime']*.8)"
   ]
  },
  {
   "cell_type": "code",
   "execution_count": null,
   "id": "97e8e0d7",
   "metadata": {},
   "outputs": [],
   "source": [
    "safety_rating"
   ]
  },
  {
   "cell_type": "code",
   "execution_count": null,
   "id": "7d5d0b6d",
   "metadata": {},
   "outputs": [],
   "source": []
  }
 ],
 "metadata": {
  "kernelspec": {
   "display_name": "Python 3 (ipykernel)",
   "language": "python",
   "name": "python3"
  },
  "language_info": {
   "codemirror_mode": {
    "name": "ipython",
    "version": 3
   },
   "file_extension": ".py",
   "mimetype": "text/x-python",
   "name": "python",
   "nbconvert_exporter": "python",
   "pygments_lexer": "ipython3",
   "version": "3.9.13"
  }
 },
 "nbformat": 4,
 "nbformat_minor": 5
}
