{
 "cells": [
  {
   "cell_type": "code",
   "execution_count": 1,
   "id": "5a0a78ba",
   "metadata": {},
   "outputs": [],
   "source": [
    "import requests\n",
    "import pandas as pd\n",
    "from bs4 import BeautifulSoup as BS\n",
    "import json\n",
    "import seaborn as sns\n",
    "import re\n",
    "from IPython.core.display import HTML"
   ]
  },
  {
   "cell_type": "markdown",
   "id": "09c8b251",
   "metadata": {},
   "source": [
    "# Gulfport"
   ]
  },
  {
   "cell_type": "code",
   "execution_count": 2,
   "id": "8b86746b",
   "metadata": {},
   "outputs": [],
   "source": [
    "URL = 'https://www.yelp.com/search?cflt=restaurants&find_loc=Gulfport%2C+MS'\n",
    "response = requests.get(URL)"
   ]
  },
  {
   "cell_type": "code",
   "execution_count": 3,
   "id": "71825fad",
   "metadata": {},
   "outputs": [],
   "source": [
    "soup = BS(response.text)"
   ]
  },
  {
   "cell_type": "code",
   "execution_count": 4,
   "id": "b6ab77b2",
   "metadata": {
    "scrolled": true
   },
   "outputs": [
    {
     "data": {
      "text/plain": [
       "[<a class=\"css-1m051bw\" href=\"https://www.yelp.com/city/gulfport-ms-us\">Gulfport, MS</a>,\n",
       " <a class=\"css-1m051bw\" href=\"/search?find_desc=Restaurants&amp;find_loc=Gulfport%2C+MS\" role=\"link\">Restaurants</a>,\n",
       " <a class=\"css-1m051bw\" href=\"/biz/half-shell-oyster-house-gulfport\" name=\"Half Shell Oyster House\" rel=\"noopener\" role=\"link\" target=\"_blank\">Half Shell Oyster House</a>,\n",
       " <a class=\"css-1m051bw\" href=\"/biz/shaggys-gulfport-beach-gulfport-2\" name=\"Shaggy’s Gulfport Beach\" rel=\"noopener\" role=\"link\" target=\"_blank\">Shaggy’s Gulfport Beach</a>,\n",
       " <a class=\"css-1m051bw\" href=\"/biz/the-rackhouse-steaks-and-spirits-gulfport\" name=\"The Rackhouse Steaks &amp; Spirits\" rel=\"noopener\" role=\"link\" target=\"_blank\">The Rackhouse Steaks &amp; Spirits</a>,\n",
       " <a class=\"css-1m051bw\" href=\"/biz/coastline-caribbean-restaurant-gulfport\" name=\"Coastline Caribbean Restaurant\" rel=\"noopener\" role=\"link\" target=\"_blank\">Coastline Caribbean Restaurant</a>,\n",
       " <a class=\"css-1m051bw\" href=\"/biz/claw-daddys-gulfport\" name=\"Claw Daddy’s\" rel=\"noopener\" role=\"link\" target=\"_blank\">Claw Daddy’s</a>,\n",
       " <a class=\"css-1m051bw\" href=\"/biz/the-chimneys-gulfport\" name=\"The Chimneys\" rel=\"noopener\" role=\"link\" target=\"_blank\">The Chimneys</a>,\n",
       " <a class=\"css-1m051bw\" href=\"/biz/murky-waters-blues-and-bbq-gulfport-2\" name=\"Murky Waters Blues &amp; BBQ\" rel=\"noopener\" role=\"link\" target=\"_blank\">Murky Waters Blues &amp; BBQ</a>,\n",
       " <a class=\"css-1m051bw\" href=\"/biz/mamas-seafood-and-grill-gulfport\" name=\"Mama’s Seafood &amp; Grill\" rel=\"noopener\" role=\"link\" target=\"_blank\">Mama’s Seafood &amp; Grill</a>,\n",
       " <a class=\"css-1m051bw\" href=\"/biz/mr-and-mrs-crab-gulfport\" name=\"Mr &amp; Mrs Crab\" rel=\"noopener\" role=\"link\" target=\"_blank\">Mr &amp; Mrs Crab</a>,\n",
       " <a class=\"css-1m051bw\" href=\"/biz/brick-and-spoon-gulfport\" name=\"Brick &amp; Spoon\" rel=\"noopener\" role=\"link\" target=\"_blank\">Brick &amp; Spoon</a>]"
      ]
     },
     "execution_count": 4,
     "metadata": {},
     "output_type": "execute_result"
    }
   ],
   "source": [
    "names = soup.findAll('a', attrs={'class':'css-1m051bw'})\n",
    "names"
   ]
  },
  {
   "cell_type": "code",
   "execution_count": 5,
   "id": "fc4f637c",
   "metadata": {},
   "outputs": [
    {
     "data": {
      "text/plain": [
       "['Half Shell Oyster House',\n",
       " 'Shaggy’s Gulfport Beach',\n",
       " 'The Rackhouse Steaks & Spirits',\n",
       " 'Coastline Caribbean Restaurant',\n",
       " 'Claw Daddy’s',\n",
       " 'The Chimneys',\n",
       " 'Murky Waters Blues & BBQ',\n",
       " 'Mama’s Seafood & Grill',\n",
       " 'Mr & Mrs Crab',\n",
       " 'Brick & Spoon']"
      ]
     },
     "execution_count": 5,
     "metadata": {},
     "output_type": "execute_result"
    }
   ],
   "source": [
    "rest_1 = [x.get('name') for x in names]\n",
    "rest_1 = rest_1[2:]\n",
    "rest_1"
   ]
  },
  {
   "cell_type": "code",
   "execution_count": 6,
   "id": "251986b3",
   "metadata": {},
   "outputs": [
    {
     "data": {
      "text/plain": [
       "['/biz/half-shell-oyster-house-gulfport',\n",
       " '/biz/shaggys-gulfport-beach-gulfport-2',\n",
       " '/biz/the-rackhouse-steaks-and-spirits-gulfport',\n",
       " '/biz/coastline-caribbean-restaurant-gulfport',\n",
       " '/biz/claw-daddys-gulfport',\n",
       " '/biz/the-chimneys-gulfport',\n",
       " '/biz/murky-waters-blues-and-bbq-gulfport-2',\n",
       " '/biz/mamas-seafood-and-grill-gulfport',\n",
       " '/biz/mr-and-mrs-crab-gulfport',\n",
       " '/biz/brick-and-spoon-gulfport']"
      ]
     },
     "execution_count": 6,
     "metadata": {},
     "output_type": "execute_result"
    }
   ],
   "source": [
    "link_1 = [x.get('href') for x in names]\n",
    "link_1 = link_1[2:]\n",
    "link_1"
   ]
  },
  {
   "cell_type": "code",
   "execution_count": 7,
   "id": "fc270aa8",
   "metadata": {},
   "outputs": [],
   "source": [
    "URL = 'https://www.yelp.com/search?cflt=restaurants&find_loc=Gulfport%2C+MS&start=10'\n",
    "response = requests.get(URL)"
   ]
  },
  {
   "cell_type": "code",
   "execution_count": 8,
   "id": "c4a63c04",
   "metadata": {},
   "outputs": [],
   "source": [
    "soup = BS(response.text)"
   ]
  },
  {
   "cell_type": "code",
   "execution_count": 9,
   "id": "28cdc952",
   "metadata": {},
   "outputs": [
    {
     "data": {
      "text/plain": [
       "[<a class=\"css-1m051bw\" href=\"https://www.yelp.com/city/gulfport-ms-us\">Gulfport, MS</a>,\n",
       " <a class=\"css-1m051bw\" href=\"/search?find_desc=Restaurants&amp;find_loc=Gulfport%2C+MS\" role=\"link\">Restaurants</a>,\n",
       " <a class=\"css-1m051bw\" href=\"/biz/lazy-magnolia-gulfport\" name=\"Lazy Magnolia\" rel=\"noopener\" role=\"link\" target=\"_blank\">Lazy Magnolia</a>,\n",
       " <a class=\"css-1m051bw\" href=\"/biz/mangiamo-italian-restraunt-gulfport\" name=\"Mangiamo Italian Restraunt\" rel=\"noopener\" role=\"link\" target=\"_blank\">Mangiamo Italian Restraunt</a>,\n",
       " <a class=\"css-1m051bw\" href=\"/biz/fallons-gourmet-gulfport\" name=\"Fallon’s Gourmet\" rel=\"noopener\" role=\"link\" target=\"_blank\">Fallon’s Gourmet</a>,\n",
       " <a class=\"css-1m051bw\" href=\"/biz/bacchus-on-the-beach-pass-christian\" name=\"Bacchus On The Beach\" rel=\"noopener\" role=\"link\" target=\"_blank\">Bacchus On The Beach</a>,\n",
       " <a class=\"css-1m051bw\" href=\"/biz/beach-blvd-steamer-gulfport-2\" name=\"Beach Blvd Steamer\" rel=\"noopener\" role=\"link\" target=\"_blank\">Beach Blvd Steamer</a>,\n",
       " <a class=\"css-1m051bw\" href=\"/biz/tonys-brick-oven-pizzeria-gulfport\" name=\"Tony’s Brick Oven Pizzeria\" rel=\"noopener\" role=\"link\" target=\"_blank\">Tony’s Brick Oven Pizzeria</a>,\n",
       " <a class=\"css-1m051bw\" href=\"/biz/empanola-biloxi-biloxi\" name=\"Empanola Biloxi\" rel=\"noopener\" role=\"link\" target=\"_blank\">Empanola Biloxi</a>,\n",
       " <a class=\"css-1m051bw\" href=\"/biz/steves-marina-restaurant-long-beach-2\" name=\"Steve’s Marina Restaurant\" rel=\"noopener\" role=\"link\" target=\"_blank\">Steve’s Marina Restaurant</a>,\n",
       " <a class=\"css-1m051bw\" href=\"/biz/bonfire-biloxi\" name=\"Bonfire\" rel=\"noopener\" role=\"link\" target=\"_blank\">Bonfire</a>,\n",
       " <a class=\"css-1m051bw\" href=\"/biz/rebel-dip-drive-in-gulfport\" name=\"Rebel Dip Drive In\" rel=\"noopener\" role=\"link\" target=\"_blank\">Rebel Dip Drive In</a>]"
      ]
     },
     "execution_count": 9,
     "metadata": {},
     "output_type": "execute_result"
    }
   ],
   "source": [
    "names = soup.findAll('a', attrs={'class':'css-1m051bw'})\n",
    "names"
   ]
  },
  {
   "cell_type": "code",
   "execution_count": 10,
   "id": "ff2a883f",
   "metadata": {},
   "outputs": [
    {
     "data": {
      "text/plain": [
       "['Lazy Magnolia',\n",
       " 'Mangiamo Italian Restraunt',\n",
       " 'Fallon’s Gourmet',\n",
       " 'Bacchus On The Beach',\n",
       " 'Beach Blvd Steamer',\n",
       " 'Tony’s Brick Oven Pizzeria',\n",
       " 'Empanola Biloxi',\n",
       " 'Steve’s Marina Restaurant',\n",
       " 'Bonfire',\n",
       " 'Rebel Dip Drive In']"
      ]
     },
     "execution_count": 10,
     "metadata": {},
     "output_type": "execute_result"
    }
   ],
   "source": [
    "rest_2 = [x.get('name') for x in names]\n",
    "rest_2 = rest_2[2:]\n",
    "rest_2"
   ]
  },
  {
   "cell_type": "code",
   "execution_count": 11,
   "id": "4bbc3dc6",
   "metadata": {},
   "outputs": [
    {
     "data": {
      "text/plain": [
       "['/biz/lazy-magnolia-gulfport',\n",
       " '/biz/mangiamo-italian-restraunt-gulfport',\n",
       " '/biz/fallons-gourmet-gulfport',\n",
       " '/biz/bacchus-on-the-beach-pass-christian',\n",
       " '/biz/beach-blvd-steamer-gulfport-2',\n",
       " '/biz/tonys-brick-oven-pizzeria-gulfport',\n",
       " '/biz/empanola-biloxi-biloxi',\n",
       " '/biz/steves-marina-restaurant-long-beach-2',\n",
       " '/biz/bonfire-biloxi',\n",
       " '/biz/rebel-dip-drive-in-gulfport']"
      ]
     },
     "execution_count": 11,
     "metadata": {},
     "output_type": "execute_result"
    }
   ],
   "source": [
    "link_2 = [x.get('href') for x in names]\n",
    "link_2 = link_2[2:]\n",
    "link_2"
   ]
  },
  {
   "cell_type": "code",
   "execution_count": 12,
   "id": "db2809ca",
   "metadata": {},
   "outputs": [],
   "source": [
    "rest = rest_1+rest_2\n",
    "link = link_1+link_2"
   ]
  },
  {
   "cell_type": "code",
   "execution_count": 13,
   "id": "195133a8",
   "metadata": {},
   "outputs": [
    {
     "data": {
      "text/plain": [
       "'https://www.yelp.com'"
      ]
     },
     "execution_count": 13,
     "metadata": {},
     "output_type": "execute_result"
    }
   ],
   "source": [
    "site = 'https://www.yelp.com'\n",
    "site"
   ]
  },
  {
   "cell_type": "code",
   "execution_count": 14,
   "id": "1631839b",
   "metadata": {
    "scrolled": true
   },
   "outputs": [],
   "source": [
    "gulfport_restaurants = pd.DataFrame({'restaurant':rest, 'website': link})"
   ]
  },
  {
   "cell_type": "code",
   "execution_count": 15,
   "id": "dfed1eac",
   "metadata": {},
   "outputs": [],
   "source": [
    "gulfport_restaurants['website'] = site+gulfport_restaurants['website']"
   ]
  },
  {
   "cell_type": "code",
   "execution_count": 16,
   "id": "9b272f08",
   "metadata": {},
   "outputs": [],
   "source": [
    "gulfport_restaurants['location'] = 'Gulfport, MS'"
   ]
  },
  {
   "cell_type": "code",
   "execution_count": 17,
   "id": "d9093575",
   "metadata": {},
   "outputs": [
    {
     "data": {
      "text/html": [
       "<div>\n",
       "<style scoped>\n",
       "    .dataframe tbody tr th:only-of-type {\n",
       "        vertical-align: middle;\n",
       "    }\n",
       "\n",
       "    .dataframe tbody tr th {\n",
       "        vertical-align: top;\n",
       "    }\n",
       "\n",
       "    .dataframe thead th {\n",
       "        text-align: right;\n",
       "    }\n",
       "</style>\n",
       "<table border=\"1\" class=\"dataframe\">\n",
       "  <thead>\n",
       "    <tr style=\"text-align: right;\">\n",
       "      <th></th>\n",
       "      <th>restaurant</th>\n",
       "      <th>website</th>\n",
       "      <th>location</th>\n",
       "    </tr>\n",
       "  </thead>\n",
       "  <tbody>\n",
       "    <tr>\n",
       "      <th>0</th>\n",
       "      <td>Half Shell Oyster House</td>\n",
       "      <td>https://www.yelp.com/biz/half-shell-oyster-hou...</td>\n",
       "      <td>Gulfport, MS</td>\n",
       "    </tr>\n",
       "    <tr>\n",
       "      <th>1</th>\n",
       "      <td>Shaggy’s Gulfport Beach</td>\n",
       "      <td>https://www.yelp.com/biz/shaggys-gulfport-beac...</td>\n",
       "      <td>Gulfport, MS</td>\n",
       "    </tr>\n",
       "    <tr>\n",
       "      <th>2</th>\n",
       "      <td>The Rackhouse Steaks &amp; Spirits</td>\n",
       "      <td>https://www.yelp.com/biz/the-rackhouse-steaks-...</td>\n",
       "      <td>Gulfport, MS</td>\n",
       "    </tr>\n",
       "    <tr>\n",
       "      <th>3</th>\n",
       "      <td>Coastline Caribbean Restaurant</td>\n",
       "      <td>https://www.yelp.com/biz/coastline-caribbean-r...</td>\n",
       "      <td>Gulfport, MS</td>\n",
       "    </tr>\n",
       "    <tr>\n",
       "      <th>4</th>\n",
       "      <td>Claw Daddy’s</td>\n",
       "      <td>https://www.yelp.com/biz/claw-daddys-gulfport</td>\n",
       "      <td>Gulfport, MS</td>\n",
       "    </tr>\n",
       "    <tr>\n",
       "      <th>5</th>\n",
       "      <td>The Chimneys</td>\n",
       "      <td>https://www.yelp.com/biz/the-chimneys-gulfport</td>\n",
       "      <td>Gulfport, MS</td>\n",
       "    </tr>\n",
       "    <tr>\n",
       "      <th>6</th>\n",
       "      <td>Murky Waters Blues &amp; BBQ</td>\n",
       "      <td>https://www.yelp.com/biz/murky-waters-blues-an...</td>\n",
       "      <td>Gulfport, MS</td>\n",
       "    </tr>\n",
       "    <tr>\n",
       "      <th>7</th>\n",
       "      <td>Mama’s Seafood &amp; Grill</td>\n",
       "      <td>https://www.yelp.com/biz/mamas-seafood-and-gri...</td>\n",
       "      <td>Gulfport, MS</td>\n",
       "    </tr>\n",
       "    <tr>\n",
       "      <th>8</th>\n",
       "      <td>Mr &amp; Mrs Crab</td>\n",
       "      <td>https://www.yelp.com/biz/mr-and-mrs-crab-gulfport</td>\n",
       "      <td>Gulfport, MS</td>\n",
       "    </tr>\n",
       "    <tr>\n",
       "      <th>9</th>\n",
       "      <td>Brick &amp; Spoon</td>\n",
       "      <td>https://www.yelp.com/biz/brick-and-spoon-gulfport</td>\n",
       "      <td>Gulfport, MS</td>\n",
       "    </tr>\n",
       "    <tr>\n",
       "      <th>10</th>\n",
       "      <td>Lazy Magnolia</td>\n",
       "      <td>https://www.yelp.com/biz/lazy-magnolia-gulfport</td>\n",
       "      <td>Gulfport, MS</td>\n",
       "    </tr>\n",
       "    <tr>\n",
       "      <th>11</th>\n",
       "      <td>Mangiamo Italian Restraunt</td>\n",
       "      <td>https://www.yelp.com/biz/mangiamo-italian-rest...</td>\n",
       "      <td>Gulfport, MS</td>\n",
       "    </tr>\n",
       "    <tr>\n",
       "      <th>12</th>\n",
       "      <td>Fallon’s Gourmet</td>\n",
       "      <td>https://www.yelp.com/biz/fallons-gourmet-gulfport</td>\n",
       "      <td>Gulfport, MS</td>\n",
       "    </tr>\n",
       "    <tr>\n",
       "      <th>13</th>\n",
       "      <td>Bacchus On The Beach</td>\n",
       "      <td>https://www.yelp.com/biz/bacchus-on-the-beach-...</td>\n",
       "      <td>Gulfport, MS</td>\n",
       "    </tr>\n",
       "    <tr>\n",
       "      <th>14</th>\n",
       "      <td>Beach Blvd Steamer</td>\n",
       "      <td>https://www.yelp.com/biz/beach-blvd-steamer-gu...</td>\n",
       "      <td>Gulfport, MS</td>\n",
       "    </tr>\n",
       "    <tr>\n",
       "      <th>15</th>\n",
       "      <td>Tony’s Brick Oven Pizzeria</td>\n",
       "      <td>https://www.yelp.com/biz/tonys-brick-oven-pizz...</td>\n",
       "      <td>Gulfport, MS</td>\n",
       "    </tr>\n",
       "    <tr>\n",
       "      <th>16</th>\n",
       "      <td>Empanola Biloxi</td>\n",
       "      <td>https://www.yelp.com/biz/empanola-biloxi-biloxi</td>\n",
       "      <td>Gulfport, MS</td>\n",
       "    </tr>\n",
       "    <tr>\n",
       "      <th>17</th>\n",
       "      <td>Steve’s Marina Restaurant</td>\n",
       "      <td>https://www.yelp.com/biz/steves-marina-restaur...</td>\n",
       "      <td>Gulfport, MS</td>\n",
       "    </tr>\n",
       "    <tr>\n",
       "      <th>18</th>\n",
       "      <td>Bonfire</td>\n",
       "      <td>https://www.yelp.com/biz/bonfire-biloxi</td>\n",
       "      <td>Gulfport, MS</td>\n",
       "    </tr>\n",
       "    <tr>\n",
       "      <th>19</th>\n",
       "      <td>Rebel Dip Drive In</td>\n",
       "      <td>https://www.yelp.com/biz/rebel-dip-drive-in-gu...</td>\n",
       "      <td>Gulfport, MS</td>\n",
       "    </tr>\n",
       "  </tbody>\n",
       "</table>\n",
       "</div>"
      ],
      "text/plain": [
       "                        restaurant  \\\n",
       "0          Half Shell Oyster House   \n",
       "1          Shaggy’s Gulfport Beach   \n",
       "2   The Rackhouse Steaks & Spirits   \n",
       "3   Coastline Caribbean Restaurant   \n",
       "4                     Claw Daddy’s   \n",
       "5                     The Chimneys   \n",
       "6         Murky Waters Blues & BBQ   \n",
       "7           Mama’s Seafood & Grill   \n",
       "8                    Mr & Mrs Crab   \n",
       "9                    Brick & Spoon   \n",
       "10                   Lazy Magnolia   \n",
       "11      Mangiamo Italian Restraunt   \n",
       "12                Fallon’s Gourmet   \n",
       "13            Bacchus On The Beach   \n",
       "14              Beach Blvd Steamer   \n",
       "15      Tony’s Brick Oven Pizzeria   \n",
       "16                 Empanola Biloxi   \n",
       "17       Steve’s Marina Restaurant   \n",
       "18                         Bonfire   \n",
       "19              Rebel Dip Drive In   \n",
       "\n",
       "                                              website      location  \n",
       "0   https://www.yelp.com/biz/half-shell-oyster-hou...  Gulfport, MS  \n",
       "1   https://www.yelp.com/biz/shaggys-gulfport-beac...  Gulfport, MS  \n",
       "2   https://www.yelp.com/biz/the-rackhouse-steaks-...  Gulfport, MS  \n",
       "3   https://www.yelp.com/biz/coastline-caribbean-r...  Gulfport, MS  \n",
       "4       https://www.yelp.com/biz/claw-daddys-gulfport  Gulfport, MS  \n",
       "5      https://www.yelp.com/biz/the-chimneys-gulfport  Gulfport, MS  \n",
       "6   https://www.yelp.com/biz/murky-waters-blues-an...  Gulfport, MS  \n",
       "7   https://www.yelp.com/biz/mamas-seafood-and-gri...  Gulfport, MS  \n",
       "8   https://www.yelp.com/biz/mr-and-mrs-crab-gulfport  Gulfport, MS  \n",
       "9   https://www.yelp.com/biz/brick-and-spoon-gulfport  Gulfport, MS  \n",
       "10    https://www.yelp.com/biz/lazy-magnolia-gulfport  Gulfport, MS  \n",
       "11  https://www.yelp.com/biz/mangiamo-italian-rest...  Gulfport, MS  \n",
       "12  https://www.yelp.com/biz/fallons-gourmet-gulfport  Gulfport, MS  \n",
       "13  https://www.yelp.com/biz/bacchus-on-the-beach-...  Gulfport, MS  \n",
       "14  https://www.yelp.com/biz/beach-blvd-steamer-gu...  Gulfport, MS  \n",
       "15  https://www.yelp.com/biz/tonys-brick-oven-pizz...  Gulfport, MS  \n",
       "16    https://www.yelp.com/biz/empanola-biloxi-biloxi  Gulfport, MS  \n",
       "17  https://www.yelp.com/biz/steves-marina-restaur...  Gulfport, MS  \n",
       "18            https://www.yelp.com/biz/bonfire-biloxi  Gulfport, MS  \n",
       "19  https://www.yelp.com/biz/rebel-dip-drive-in-gu...  Gulfport, MS  "
      ]
     },
     "execution_count": 17,
     "metadata": {},
     "output_type": "execute_result"
    }
   ],
   "source": [
    "gulfport_restaurants"
   ]
  },
  {
   "cell_type": "markdown",
   "id": "57532afb",
   "metadata": {},
   "source": [
    "# Isle of Palms"
   ]
  },
  {
   "cell_type": "code",
   "execution_count": 18,
   "id": "7cda1eb5",
   "metadata": {},
   "outputs": [],
   "source": [
    "URL = 'https://www.yelp.com/search?find_desc=Restaurants&find_loc=Isle+of+Palms%2C+SC'\n",
    "response = requests.get(URL)"
   ]
  },
  {
   "cell_type": "code",
   "execution_count": 19,
   "id": "c84dd413",
   "metadata": {},
   "outputs": [],
   "source": [
    "soup = BS(response.text)"
   ]
  },
  {
   "cell_type": "code",
   "execution_count": 20,
   "id": "fcaeba99",
   "metadata": {},
   "outputs": [
    {
     "data": {
      "text/plain": [
       "[<a class=\"css-1m051bw\" href=\"https://www.yelp.com/city/isle-of-palms-sc-us\">Isle of Palms, SC</a>,\n",
       " <a class=\"css-1m051bw\" href=\"/search?find_desc=Restaurants&amp;find_loc=Isle+of+Palms%2C+SC\" role=\"link\">Restaurants</a>,\n",
       " <a class=\"css-1m051bw\" href=\"/biz/acme-lowcountry-kitchen-isle-of-palms-2?osq=Restaurants\" name=\"Acme Lowcountry Kitchen\" rel=\"noopener\" role=\"link\" target=\"_blank\">Acme Lowcountry Kitchen</a>,\n",
       " <a class=\"css-1m051bw\" href=\"/biz/the-obstinate-daughter-sullivans-island-2?osq=Restaurants\" name=\"The Obstinate Daughter\" rel=\"noopener\" role=\"link\" target=\"_blank\">The Obstinate Daughter</a>,\n",
       " <a class=\"css-1m051bw\" href=\"/biz/islander-71-fish-house-and-deck-bar-isle-of-palms?osq=Restaurants\" name=\"Islander 71 Fish House and Deck Bar\" rel=\"noopener\" role=\"link\" target=\"_blank\">Islander 71 Fish House and Deck Bar</a>,\n",
       " <a class=\"css-1m051bw\" href=\"/biz/long-island-cafe-isle-of-palms?osq=Restaurants\" name=\"Long Island Cafe\" rel=\"noopener\" role=\"link\" target=\"_blank\">Long Island Cafe</a>,\n",
       " <a class=\"css-1m051bw\" href=\"/biz/smugglers-island-eats-and-rum-bar-isle-of-palms?osq=Restaurants\" name=\"Smugglers Island Eats and Rum Bar\" rel=\"noopener\" role=\"link\" target=\"_blank\">Smugglers Island Eats and Rum Bar</a>,\n",
       " <a class=\"css-1m051bw\" href=\"/biz/coda-del-pesce-isle-of-palms?osq=Restaurants\" name=\"Coda Del Pesce\" rel=\"noopener\" role=\"link\" target=\"_blank\">Coda Del Pesce</a>,\n",
       " <a class=\"css-1m051bw\" href=\"/biz/the-refuge-isle-of-palms?osq=Restaurants\" name=\"The Refuge\" rel=\"noopener\" role=\"link\" target=\"_blank\">The Refuge</a>,\n",
       " <a class=\"css-1m051bw\" href=\"/biz/papis-taqueria-isle-of-palms?osq=Restaurants\" name=\"Papi’s Taqueria\" rel=\"noopener\" role=\"link\" target=\"_blank\">Papi’s Taqueria</a>,\n",
       " <a class=\"css-1m051bw\" href=\"/biz/oyster-catcher-isle-of-palms-2?osq=Restaurants\" name=\"Oyster Catcher\" rel=\"noopener\" role=\"link\" target=\"_blank\">Oyster Catcher</a>,\n",
       " <a class=\"css-1m051bw\" href=\"/biz/iop-raw-isle-of-palms?osq=Restaurants\" name=\"Iop Raw\" rel=\"noopener\" role=\"link\" target=\"_blank\">Iop Raw</a>]"
      ]
     },
     "execution_count": 20,
     "metadata": {},
     "output_type": "execute_result"
    }
   ],
   "source": [
    "names = soup.findAll('a', attrs={'class':'css-1m051bw'})\n",
    "names"
   ]
  },
  {
   "cell_type": "code",
   "execution_count": 21,
   "id": "967b83cb",
   "metadata": {},
   "outputs": [
    {
     "data": {
      "text/plain": [
       "['Acme Lowcountry Kitchen',\n",
       " 'The Obstinate Daughter',\n",
       " 'Islander 71 Fish House and Deck Bar',\n",
       " 'Long Island Cafe',\n",
       " 'Smugglers Island Eats and Rum Bar',\n",
       " 'Coda Del Pesce',\n",
       " 'The Refuge',\n",
       " 'Papi’s Taqueria',\n",
       " 'Oyster Catcher',\n",
       " 'Iop Raw']"
      ]
     },
     "execution_count": 21,
     "metadata": {},
     "output_type": "execute_result"
    }
   ],
   "source": [
    "rest_1 = [x.get('name') for x in names]\n",
    "rest_1 = rest_1[2:]\n",
    "rest_1"
   ]
  },
  {
   "cell_type": "code",
   "execution_count": 22,
   "id": "2a7b1f70",
   "metadata": {},
   "outputs": [
    {
     "data": {
      "text/plain": [
       "['/biz/acme-lowcountry-kitchen-isle-of-palms-2?osq=Restaurants',\n",
       " '/biz/the-obstinate-daughter-sullivans-island-2?osq=Restaurants',\n",
       " '/biz/islander-71-fish-house-and-deck-bar-isle-of-palms?osq=Restaurants',\n",
       " '/biz/long-island-cafe-isle-of-palms?osq=Restaurants',\n",
       " '/biz/smugglers-island-eats-and-rum-bar-isle-of-palms?osq=Restaurants',\n",
       " '/biz/coda-del-pesce-isle-of-palms?osq=Restaurants',\n",
       " '/biz/the-refuge-isle-of-palms?osq=Restaurants',\n",
       " '/biz/papis-taqueria-isle-of-palms?osq=Restaurants',\n",
       " '/biz/oyster-catcher-isle-of-palms-2?osq=Restaurants',\n",
       " '/biz/iop-raw-isle-of-palms?osq=Restaurants']"
      ]
     },
     "execution_count": 22,
     "metadata": {},
     "output_type": "execute_result"
    }
   ],
   "source": [
    "link_1 = [x.get('href') for x in names]\n",
    "link_1 = link_1[2:]\n",
    "link_1"
   ]
  },
  {
   "cell_type": "code",
   "execution_count": 23,
   "id": "acb6fdc0",
   "metadata": {},
   "outputs": [],
   "source": [
    "URL = 'https://www.yelp.com/search?find_desc=Restaurants&find_loc=Isle+of+Palms%2C+SC&start=10'\n",
    "response = requests.get(URL)"
   ]
  },
  {
   "cell_type": "code",
   "execution_count": 24,
   "id": "0e1fae9d",
   "metadata": {},
   "outputs": [],
   "source": [
    "soup = BS(response.text)"
   ]
  },
  {
   "cell_type": "code",
   "execution_count": 25,
   "id": "f4a61096",
   "metadata": {},
   "outputs": [
    {
     "data": {
      "text/plain": [
       "[<a class=\"css-1m051bw\" href=\"https://www.yelp.com/city/isle-of-palms-sc-us\">Isle of Palms, SC</a>,\n",
       " <a class=\"css-1m051bw\" href=\"/search?find_desc=Restaurants&amp;find_loc=Isle+of+Palms%2C+SC\" role=\"link\">Restaurants</a>,\n",
       " <a class=\"css-1m051bw\" href=\"/biz/sullivan-s-fish-camp-sullivans-island?osq=Restaurants\" name=\"Sullivan’s Fish Camp\" rel=\"noopener\" role=\"link\" target=\"_blank\">Sullivan’s Fish Camp</a>,\n",
       " <a class=\"css-1m051bw\" href=\"/biz/boathouse-at-breach-inlet-isle-of-palms?osq=Restaurants\" name=\"Boathouse At Breach Inlet\" rel=\"noopener\" role=\"link\" target=\"_blank\">Boathouse At Breach Inlet</a>,\n",
       " <a class=\"css-1m051bw\" href=\"/biz/coconut-joes-beach-grill-isle-of-palms?osq=Restaurants\" name=\"Coconut Joe’s Beach Grill\" rel=\"noopener\" role=\"link\" target=\"_blank\">Coconut Joe’s Beach Grill</a>,\n",
       " <a class=\"css-1m051bw\" href=\"/biz/saltworks-dockside-deli-isle-of-palms?osq=Restaurants\" name=\"Saltworks Dockside Deli\" rel=\"noopener\" role=\"link\" target=\"_blank\">Saltworks Dockside Deli</a>,\n",
       " <a class=\"css-1m051bw\" href=\"/biz/poes-tavern-sullivans-island?osq=Restaurants\" name=\"Poe’s Tavern\" rel=\"noopener\" role=\"link\" target=\"_blank\">Poe’s Tavern</a>,\n",
       " <a class=\"css-1m051bw\" href=\"/biz/crave-kitchen-and-cocktails-mount-pleasant-8?osq=Restaurants\" name=\"Crave Kitchen &amp; Cocktails\" rel=\"noopener\" role=\"link\" target=\"_blank\">Crave Kitchen &amp; Cocktails</a>,\n",
       " <a class=\"css-1m051bw\" href=\"/biz/lawrences-seafood-company-isle-of-palms?osq=Restaurants\" name=\"Lawrence’s Seafood Company\" rel=\"noopener\" role=\"link\" target=\"_blank\">Lawrence’s Seafood Company</a>,\n",
       " <a class=\"css-1m051bw\" href=\"/biz/pasture-and-grain-mount-pleasant?osq=Restaurants\" name=\"Pasture &amp; Grain\" rel=\"noopener\" role=\"link\" target=\"_blank\">Pasture &amp; Grain</a>,\n",
       " <a class=\"css-1m051bw\" href=\"/biz/sea-biscuit-cafe-isle-of-palms-2?osq=Restaurants\" name=\"Sea Biscuit Cafe\" rel=\"noopener\" role=\"link\" target=\"_blank\">Sea Biscuit Cafe</a>,\n",
       " <a class=\"css-1m051bw\" href=\"/biz/the-dinghy-isle-of-palms?osq=Restaurants\" name=\"The Dinghy\" rel=\"noopener\" role=\"link\" target=\"_blank\">The Dinghy</a>]"
      ]
     },
     "execution_count": 25,
     "metadata": {},
     "output_type": "execute_result"
    }
   ],
   "source": [
    "names = soup.findAll('a', attrs={'class':'css-1m051bw'})\n",
    "names"
   ]
  },
  {
   "cell_type": "code",
   "execution_count": 26,
   "id": "e14b12b1",
   "metadata": {},
   "outputs": [
    {
     "data": {
      "text/plain": [
       "['Sullivan’s Fish Camp',\n",
       " 'Boathouse At Breach Inlet',\n",
       " 'Coconut Joe’s Beach Grill',\n",
       " 'Saltworks Dockside Deli',\n",
       " 'Poe’s Tavern',\n",
       " 'Crave Kitchen & Cocktails',\n",
       " 'Lawrence’s Seafood Company',\n",
       " 'Pasture & Grain',\n",
       " 'Sea Biscuit Cafe',\n",
       " 'The Dinghy']"
      ]
     },
     "execution_count": 26,
     "metadata": {},
     "output_type": "execute_result"
    }
   ],
   "source": [
    "rest_2 = [x.get('name') for x in names]\n",
    "rest_2 = rest_2[2:]\n",
    "rest_2"
   ]
  },
  {
   "cell_type": "code",
   "execution_count": 27,
   "id": "833e5ffd",
   "metadata": {},
   "outputs": [
    {
     "data": {
      "text/plain": [
       "['/biz/sullivan-s-fish-camp-sullivans-island?osq=Restaurants',\n",
       " '/biz/boathouse-at-breach-inlet-isle-of-palms?osq=Restaurants',\n",
       " '/biz/coconut-joes-beach-grill-isle-of-palms?osq=Restaurants',\n",
       " '/biz/saltworks-dockside-deli-isle-of-palms?osq=Restaurants',\n",
       " '/biz/poes-tavern-sullivans-island?osq=Restaurants',\n",
       " '/biz/crave-kitchen-and-cocktails-mount-pleasant-8?osq=Restaurants',\n",
       " '/biz/lawrences-seafood-company-isle-of-palms?osq=Restaurants',\n",
       " '/biz/pasture-and-grain-mount-pleasant?osq=Restaurants',\n",
       " '/biz/sea-biscuit-cafe-isle-of-palms-2?osq=Restaurants',\n",
       " '/biz/the-dinghy-isle-of-palms?osq=Restaurants']"
      ]
     },
     "execution_count": 27,
     "metadata": {},
     "output_type": "execute_result"
    }
   ],
   "source": [
    "link_2 = [x.get('href') for x in names]\n",
    "link_2 = link_2[2:]\n",
    "link_2"
   ]
  },
  {
   "cell_type": "code",
   "execution_count": 28,
   "id": "2930dd2c",
   "metadata": {},
   "outputs": [],
   "source": [
    "rest = rest_1+rest_2\n",
    "link = link_1+link_2"
   ]
  },
  {
   "cell_type": "code",
   "execution_count": 29,
   "id": "4467d0c3",
   "metadata": {},
   "outputs": [],
   "source": [
    "isle_palms_restaurants = pd.DataFrame({'restaurant':rest, 'website': link})"
   ]
  },
  {
   "cell_type": "code",
   "execution_count": 30,
   "id": "0e33043a",
   "metadata": {},
   "outputs": [],
   "source": [
    "isle_palms_restaurants['website'] = site+isle_palms_restaurants['website']"
   ]
  },
  {
   "cell_type": "code",
   "execution_count": 31,
   "id": "59a12e4a",
   "metadata": {},
   "outputs": [
    {
     "data": {
      "text/html": [
       "<div>\n",
       "<style scoped>\n",
       "    .dataframe tbody tr th:only-of-type {\n",
       "        vertical-align: middle;\n",
       "    }\n",
       "\n",
       "    .dataframe tbody tr th {\n",
       "        vertical-align: top;\n",
       "    }\n",
       "\n",
       "    .dataframe thead th {\n",
       "        text-align: right;\n",
       "    }\n",
       "</style>\n",
       "<table border=\"1\" class=\"dataframe\">\n",
       "  <thead>\n",
       "    <tr style=\"text-align: right;\">\n",
       "      <th></th>\n",
       "      <th>restaurant</th>\n",
       "      <th>website</th>\n",
       "      <th>location</th>\n",
       "    </tr>\n",
       "  </thead>\n",
       "  <tbody>\n",
       "    <tr>\n",
       "      <th>0</th>\n",
       "      <td>Acme Lowcountry Kitchen</td>\n",
       "      <td>https://www.yelp.com/biz/acme-lowcountry-kitch...</td>\n",
       "      <td>Isle of Palms, SC</td>\n",
       "    </tr>\n",
       "    <tr>\n",
       "      <th>1</th>\n",
       "      <td>The Obstinate Daughter</td>\n",
       "      <td>https://www.yelp.com/biz/the-obstinate-daughte...</td>\n",
       "      <td>Isle of Palms, SC</td>\n",
       "    </tr>\n",
       "    <tr>\n",
       "      <th>2</th>\n",
       "      <td>Islander 71 Fish House and Deck Bar</td>\n",
       "      <td>https://www.yelp.com/biz/islander-71-fish-hous...</td>\n",
       "      <td>Isle of Palms, SC</td>\n",
       "    </tr>\n",
       "    <tr>\n",
       "      <th>3</th>\n",
       "      <td>Long Island Cafe</td>\n",
       "      <td>https://www.yelp.com/biz/long-island-cafe-isle...</td>\n",
       "      <td>Isle of Palms, SC</td>\n",
       "    </tr>\n",
       "    <tr>\n",
       "      <th>4</th>\n",
       "      <td>Smugglers Island Eats and Rum Bar</td>\n",
       "      <td>https://www.yelp.com/biz/smugglers-island-eats...</td>\n",
       "      <td>Isle of Palms, SC</td>\n",
       "    </tr>\n",
       "    <tr>\n",
       "      <th>5</th>\n",
       "      <td>Coda Del Pesce</td>\n",
       "      <td>https://www.yelp.com/biz/coda-del-pesce-isle-o...</td>\n",
       "      <td>Isle of Palms, SC</td>\n",
       "    </tr>\n",
       "    <tr>\n",
       "      <th>6</th>\n",
       "      <td>The Refuge</td>\n",
       "      <td>https://www.yelp.com/biz/the-refuge-isle-of-pa...</td>\n",
       "      <td>Isle of Palms, SC</td>\n",
       "    </tr>\n",
       "    <tr>\n",
       "      <th>7</th>\n",
       "      <td>Papi’s Taqueria</td>\n",
       "      <td>https://www.yelp.com/biz/papis-taqueria-isle-o...</td>\n",
       "      <td>Isle of Palms, SC</td>\n",
       "    </tr>\n",
       "    <tr>\n",
       "      <th>8</th>\n",
       "      <td>Oyster Catcher</td>\n",
       "      <td>https://www.yelp.com/biz/oyster-catcher-isle-o...</td>\n",
       "      <td>Isle of Palms, SC</td>\n",
       "    </tr>\n",
       "    <tr>\n",
       "      <th>9</th>\n",
       "      <td>Iop Raw</td>\n",
       "      <td>https://www.yelp.com/biz/iop-raw-isle-of-palms...</td>\n",
       "      <td>Isle of Palms, SC</td>\n",
       "    </tr>\n",
       "    <tr>\n",
       "      <th>10</th>\n",
       "      <td>Sullivan’s Fish Camp</td>\n",
       "      <td>https://www.yelp.com/biz/sullivan-s-fish-camp-...</td>\n",
       "      <td>Isle of Palms, SC</td>\n",
       "    </tr>\n",
       "    <tr>\n",
       "      <th>11</th>\n",
       "      <td>Boathouse At Breach Inlet</td>\n",
       "      <td>https://www.yelp.com/biz/boathouse-at-breach-i...</td>\n",
       "      <td>Isle of Palms, SC</td>\n",
       "    </tr>\n",
       "    <tr>\n",
       "      <th>12</th>\n",
       "      <td>Coconut Joe’s Beach Grill</td>\n",
       "      <td>https://www.yelp.com/biz/coconut-joes-beach-gr...</td>\n",
       "      <td>Isle of Palms, SC</td>\n",
       "    </tr>\n",
       "    <tr>\n",
       "      <th>13</th>\n",
       "      <td>Saltworks Dockside Deli</td>\n",
       "      <td>https://www.yelp.com/biz/saltworks-dockside-de...</td>\n",
       "      <td>Isle of Palms, SC</td>\n",
       "    </tr>\n",
       "    <tr>\n",
       "      <th>14</th>\n",
       "      <td>Poe’s Tavern</td>\n",
       "      <td>https://www.yelp.com/biz/poes-tavern-sullivans...</td>\n",
       "      <td>Isle of Palms, SC</td>\n",
       "    </tr>\n",
       "    <tr>\n",
       "      <th>15</th>\n",
       "      <td>Crave Kitchen &amp; Cocktails</td>\n",
       "      <td>https://www.yelp.com/biz/crave-kitchen-and-coc...</td>\n",
       "      <td>Isle of Palms, SC</td>\n",
       "    </tr>\n",
       "    <tr>\n",
       "      <th>16</th>\n",
       "      <td>Lawrence’s Seafood Company</td>\n",
       "      <td>https://www.yelp.com/biz/lawrences-seafood-com...</td>\n",
       "      <td>Isle of Palms, SC</td>\n",
       "    </tr>\n",
       "    <tr>\n",
       "      <th>17</th>\n",
       "      <td>Pasture &amp; Grain</td>\n",
       "      <td>https://www.yelp.com/biz/pasture-and-grain-mou...</td>\n",
       "      <td>Isle of Palms, SC</td>\n",
       "    </tr>\n",
       "    <tr>\n",
       "      <th>18</th>\n",
       "      <td>Sea Biscuit Cafe</td>\n",
       "      <td>https://www.yelp.com/biz/sea-biscuit-cafe-isle...</td>\n",
       "      <td>Isle of Palms, SC</td>\n",
       "    </tr>\n",
       "    <tr>\n",
       "      <th>19</th>\n",
       "      <td>The Dinghy</td>\n",
       "      <td>https://www.yelp.com/biz/the-dinghy-isle-of-pa...</td>\n",
       "      <td>Isle of Palms, SC</td>\n",
       "    </tr>\n",
       "  </tbody>\n",
       "</table>\n",
       "</div>"
      ],
      "text/plain": [
       "                             restaurant  \\\n",
       "0               Acme Lowcountry Kitchen   \n",
       "1                The Obstinate Daughter   \n",
       "2   Islander 71 Fish House and Deck Bar   \n",
       "3                      Long Island Cafe   \n",
       "4     Smugglers Island Eats and Rum Bar   \n",
       "5                        Coda Del Pesce   \n",
       "6                            The Refuge   \n",
       "7                       Papi’s Taqueria   \n",
       "8                        Oyster Catcher   \n",
       "9                               Iop Raw   \n",
       "10                 Sullivan’s Fish Camp   \n",
       "11            Boathouse At Breach Inlet   \n",
       "12            Coconut Joe’s Beach Grill   \n",
       "13              Saltworks Dockside Deli   \n",
       "14                         Poe’s Tavern   \n",
       "15            Crave Kitchen & Cocktails   \n",
       "16           Lawrence’s Seafood Company   \n",
       "17                      Pasture & Grain   \n",
       "18                     Sea Biscuit Cafe   \n",
       "19                           The Dinghy   \n",
       "\n",
       "                                              website           location  \n",
       "0   https://www.yelp.com/biz/acme-lowcountry-kitch...  Isle of Palms, SC  \n",
       "1   https://www.yelp.com/biz/the-obstinate-daughte...  Isle of Palms, SC  \n",
       "2   https://www.yelp.com/biz/islander-71-fish-hous...  Isle of Palms, SC  \n",
       "3   https://www.yelp.com/biz/long-island-cafe-isle...  Isle of Palms, SC  \n",
       "4   https://www.yelp.com/biz/smugglers-island-eats...  Isle of Palms, SC  \n",
       "5   https://www.yelp.com/biz/coda-del-pesce-isle-o...  Isle of Palms, SC  \n",
       "6   https://www.yelp.com/biz/the-refuge-isle-of-pa...  Isle of Palms, SC  \n",
       "7   https://www.yelp.com/biz/papis-taqueria-isle-o...  Isle of Palms, SC  \n",
       "8   https://www.yelp.com/biz/oyster-catcher-isle-o...  Isle of Palms, SC  \n",
       "9   https://www.yelp.com/biz/iop-raw-isle-of-palms...  Isle of Palms, SC  \n",
       "10  https://www.yelp.com/biz/sullivan-s-fish-camp-...  Isle of Palms, SC  \n",
       "11  https://www.yelp.com/biz/boathouse-at-breach-i...  Isle of Palms, SC  \n",
       "12  https://www.yelp.com/biz/coconut-joes-beach-gr...  Isle of Palms, SC  \n",
       "13  https://www.yelp.com/biz/saltworks-dockside-de...  Isle of Palms, SC  \n",
       "14  https://www.yelp.com/biz/poes-tavern-sullivans...  Isle of Palms, SC  \n",
       "15  https://www.yelp.com/biz/crave-kitchen-and-coc...  Isle of Palms, SC  \n",
       "16  https://www.yelp.com/biz/lawrences-seafood-com...  Isle of Palms, SC  \n",
       "17  https://www.yelp.com/biz/pasture-and-grain-mou...  Isle of Palms, SC  \n",
       "18  https://www.yelp.com/biz/sea-biscuit-cafe-isle...  Isle of Palms, SC  \n",
       "19  https://www.yelp.com/biz/the-dinghy-isle-of-pa...  Isle of Palms, SC  "
      ]
     },
     "execution_count": 31,
     "metadata": {},
     "output_type": "execute_result"
    }
   ],
   "source": [
    "isle_palms_restaurants['location'] = 'Isle of Palms, SC'\n",
    "isle_palms_restaurants"
   ]
  },
  {
   "cell_type": "markdown",
   "id": "1af37026",
   "metadata": {},
   "source": [
    "# Panama City"
   ]
  },
  {
   "cell_type": "code",
   "execution_count": 32,
   "id": "d8f57f43",
   "metadata": {},
   "outputs": [],
   "source": [
    "URL = 'https://www.yelp.com/search?find_desc=Restaurants&find_loc=Panama+City+Beach%2C+FL'\n",
    "response = requests.get(URL)"
   ]
  },
  {
   "cell_type": "code",
   "execution_count": 33,
   "id": "cf1d764f",
   "metadata": {},
   "outputs": [],
   "source": [
    "soup = BS(response.text)"
   ]
  },
  {
   "cell_type": "code",
   "execution_count": 34,
   "id": "438e0607",
   "metadata": {},
   "outputs": [
    {
     "data": {
      "text/plain": [
       "[<a class=\"css-1m051bw\" href=\"https://www.yelp.com/city/panama-city-beach-fl-us\">Panama City Beach, FL</a>,\n",
       " <a class=\"css-1m051bw\" href=\"/search?find_desc=Restaurants&amp;find_loc=Panama+City+Beach%2C+FL\" role=\"link\">Restaurants</a>,\n",
       " <a class=\"css-1m051bw\" href=\"/biz/hookd-pier-bar-and-grill-panama-city-beach?osq=Restaurants\" name=\"Hook’d Pier Bar &amp; Grill\" rel=\"noopener\" role=\"link\" target=\"_blank\">Hook’d Pier Bar &amp; Grill</a>,\n",
       " <a class=\"css-1m051bw\" href=\"/biz/runaway-island-panama-city-beach-6?osq=Restaurants\" name=\"Runaway Island\" rel=\"noopener\" role=\"link\" target=\"_blank\">Runaway Island</a>,\n",
       " <a class=\"css-1m051bw\" href=\"/biz/dees-hang-out-panama-city-beach?osq=Restaurants\" name=\"Dee’s Hang Out\" rel=\"noopener\" role=\"link\" target=\"_blank\">Dee’s Hang Out</a>,\n",
       " <a class=\"css-1m051bw\" href=\"/biz/dustys-oyster-bar-panama-city-beach?osq=Restaurants\" name=\"Dusty’s Oyster Bar\" rel=\"noopener\" role=\"link\" target=\"_blank\">Dusty’s Oyster Bar</a>,\n",
       " <a class=\"css-1m051bw\" href=\"/biz/pineapple-willys-panama-city-beach-4?osq=Restaurants\" name=\"Pineapple Willy’s\" rel=\"noopener\" role=\"link\" target=\"_blank\">Pineapple Willy’s</a>,\n",
       " <a class=\"css-1m051bw\" href=\"/biz/saltwater-grill-panama-city-beach?osq=Restaurants\" name=\"Saltwater Grill\" rel=\"noopener\" role=\"link\" target=\"_blank\">Saltwater Grill</a>,\n",
       " <a class=\"css-1m051bw\" href=\"/biz/bayou-bills-crab-house-panama-city-beach-5?osq=Restaurants\" name=\"Bayou Bill’s Crab House\" rel=\"noopener\" role=\"link\" target=\"_blank\">Bayou Bill’s Crab House</a>,\n",
       " <a class=\"css-1m051bw\" href=\"/biz/american-charlie-grill-and-tavern-panama-city-beach?osq=Restaurants\" name=\"American Charlie Grill &amp; Tavern\" rel=\"noopener\" role=\"link\" target=\"_blank\">American Charlie Grill &amp; Tavern</a>,\n",
       " <a class=\"css-1m051bw\" href=\"/biz/sharkys-beachfront-restaurant-panama-city-beach-2?osq=Restaurants\" name=\"Sharky’s Beachfront Restaurant\" rel=\"noopener\" role=\"link\" target=\"_blank\">Sharky’s Beachfront Restaurant</a>,\n",
       " <a class=\"css-1m051bw\" href=\"/biz/bella-roma-tuscan-grill-panama-city-beach?osq=Restaurants\" name=\"Bella Roma Tuscan Grill\" rel=\"noopener\" role=\"link\" target=\"_blank\">Bella Roma Tuscan Grill</a>]"
      ]
     },
     "execution_count": 34,
     "metadata": {},
     "output_type": "execute_result"
    }
   ],
   "source": [
    "names = soup.findAll('a', attrs={'class':'css-1m051bw'})\n",
    "names"
   ]
  },
  {
   "cell_type": "code",
   "execution_count": 35,
   "id": "9d6fc427",
   "metadata": {},
   "outputs": [
    {
     "data": {
      "text/plain": [
       "['Hook’d Pier Bar & Grill',\n",
       " 'Runaway Island',\n",
       " 'Dee’s Hang Out',\n",
       " 'Dusty’s Oyster Bar',\n",
       " 'Pineapple Willy’s',\n",
       " 'Saltwater Grill',\n",
       " 'Bayou Bill’s Crab House',\n",
       " 'American Charlie Grill & Tavern',\n",
       " 'Sharky’s Beachfront Restaurant',\n",
       " 'Bella Roma Tuscan Grill']"
      ]
     },
     "execution_count": 35,
     "metadata": {},
     "output_type": "execute_result"
    }
   ],
   "source": [
    "rest_1 = [x.get('name') for x in names]\n",
    "rest_1 = rest_1[2:]\n",
    "rest_1"
   ]
  },
  {
   "cell_type": "code",
   "execution_count": 36,
   "id": "285a0ba5",
   "metadata": {},
   "outputs": [
    {
     "data": {
      "text/plain": [
       "['/biz/hookd-pier-bar-and-grill-panama-city-beach?osq=Restaurants',\n",
       " '/biz/runaway-island-panama-city-beach-6?osq=Restaurants',\n",
       " '/biz/dees-hang-out-panama-city-beach?osq=Restaurants',\n",
       " '/biz/dustys-oyster-bar-panama-city-beach?osq=Restaurants',\n",
       " '/biz/pineapple-willys-panama-city-beach-4?osq=Restaurants',\n",
       " '/biz/saltwater-grill-panama-city-beach?osq=Restaurants',\n",
       " '/biz/bayou-bills-crab-house-panama-city-beach-5?osq=Restaurants',\n",
       " '/biz/american-charlie-grill-and-tavern-panama-city-beach?osq=Restaurants',\n",
       " '/biz/sharkys-beachfront-restaurant-panama-city-beach-2?osq=Restaurants',\n",
       " '/biz/bella-roma-tuscan-grill-panama-city-beach?osq=Restaurants']"
      ]
     },
     "execution_count": 36,
     "metadata": {},
     "output_type": "execute_result"
    }
   ],
   "source": [
    "link_1 = [x.get('href') for x in names]\n",
    "link_1 = link_1[2:]\n",
    "link_1"
   ]
  },
  {
   "cell_type": "code",
   "execution_count": 37,
   "id": "1a5db06a",
   "metadata": {},
   "outputs": [],
   "source": [
    "URL = 'https://www.yelp.com/search?find_desc=Restaurants&find_loc=Panama+City+Beach%2C+FL&start=10'\n",
    "response = requests.get(URL)"
   ]
  },
  {
   "cell_type": "code",
   "execution_count": 38,
   "id": "686bb555",
   "metadata": {},
   "outputs": [],
   "source": [
    "soup = BS(response.text)"
   ]
  },
  {
   "cell_type": "code",
   "execution_count": 39,
   "id": "99d82eed",
   "metadata": {},
   "outputs": [
    {
     "data": {
      "text/plain": [
       "[<a class=\"css-1m051bw\" href=\"https://www.yelp.com/city/panama-city-beach-fl-us\">Panama City Beach, FL</a>,\n",
       " <a class=\"css-1m051bw\" href=\"/search?find_desc=Restaurants&amp;find_loc=Panama+City+Beach%2C+FL\" role=\"link\">Restaurants</a>,\n",
       " <a class=\"css-1m051bw\" href=\"/biz/diegos-burrito-factory-panama-city-beach?osq=Restaurants\" name=\"Diego’s Burrito Factory\" rel=\"noopener\" role=\"link\" target=\"_blank\">Diego’s Burrito Factory</a>,\n",
       " <a class=\"css-1m051bw\" href=\"/biz/dat-cajun-place-panama-city-beach-2?osq=Restaurants\" name=\"Dat Cajun Place\" rel=\"noopener\" role=\"link\" target=\"_blank\">Dat Cajun Place</a>,\n",
       " <a class=\"css-1m051bw\" href=\"/biz/firefly-panama-city-beach?osq=Restaurants\" name=\"Firefly\" rel=\"noopener\" role=\"link\" target=\"_blank\">Firefly</a>,\n",
       " <a class=\"css-1m051bw\" href=\"/biz/local-steamer-seafood-market-panama-city-beach?osq=Restaurants\" name=\"Local Steamer Seafood Market\" rel=\"noopener\" role=\"link\" target=\"_blank\">Local Steamer Seafood Market</a>,\n",
       " <a class=\"css-1m051bw\" href=\"/biz/mikes-cafe-and-oyster-bar-panama-city-beach?osq=Restaurants\" name=\"Mike’s Cafe and Oyster Bar\" rel=\"noopener\" role=\"link\" target=\"_blank\">Mike’s Cafe and Oyster Bar</a>,\n",
       " <a class=\"css-1m051bw\" href=\"/biz/harpoon-harrys-beachfront-restaurant-panama-city-beach?osq=Restaurants\" name=\"Harpoon Harry’s Beachfront Restaurant\" rel=\"noopener\" role=\"link\" target=\"_blank\">Harpoon Harry’s Beachfront Restaurant</a>,\n",
       " <a class=\"css-1m051bw\" href=\"/biz/the-craft-bar-pcb-panama-city-beach?osq=Restaurants\" name=\"The Craft Bar - PCB\" rel=\"noopener\" role=\"link\" target=\"_blank\">The Craft Bar - PCB</a>,\n",
       " <a class=\"css-1m051bw\" href=\"/biz/coconut-charlies-beach-bar-and-grill-panama-city-beach-2?osq=Restaurants\" name=\"Coconut Charlie’s Beach Bar &amp; Grill\" rel=\"noopener\" role=\"link\" target=\"_blank\">Coconut Charlie’s Beach Bar &amp; Grill</a>,\n",
       " <a class=\"css-1m051bw\" href=\"/biz/the-wharf-buffet-panama-city-beach-2?osq=Restaurants\" name=\"The Wharf Buffet\" rel=\"noopener\" role=\"link\" target=\"_blank\">The Wharf Buffet</a>,\n",
       " <a class=\"css-1m051bw\" href=\"/biz/something-salty-panama-city-beach?osq=Restaurants\" name=\"Something Salty\" rel=\"noopener\" role=\"link\" target=\"_blank\">Something Salty</a>]"
      ]
     },
     "execution_count": 39,
     "metadata": {},
     "output_type": "execute_result"
    }
   ],
   "source": [
    "names = soup.findAll('a', attrs={'class':'css-1m051bw'})\n",
    "names"
   ]
  },
  {
   "cell_type": "code",
   "execution_count": 40,
   "id": "55392336",
   "metadata": {},
   "outputs": [
    {
     "data": {
      "text/plain": [
       "['Diego’s Burrito Factory',\n",
       " 'Dat Cajun Place',\n",
       " 'Firefly',\n",
       " 'Local Steamer Seafood Market',\n",
       " 'Mike’s Cafe and Oyster Bar',\n",
       " 'Harpoon Harry’s Beachfront Restaurant',\n",
       " 'The Craft Bar - PCB',\n",
       " 'Coconut Charlie’s Beach Bar & Grill',\n",
       " 'The Wharf Buffet',\n",
       " 'Something Salty']"
      ]
     },
     "execution_count": 40,
     "metadata": {},
     "output_type": "execute_result"
    }
   ],
   "source": [
    "rest_2 = [x.get('name') for x in names]\n",
    "rest_2 = rest_2[2:]\n",
    "rest_2"
   ]
  },
  {
   "cell_type": "code",
   "execution_count": 41,
   "id": "6886ab71",
   "metadata": {},
   "outputs": [
    {
     "data": {
      "text/plain": [
       "['/biz/diegos-burrito-factory-panama-city-beach?osq=Restaurants',\n",
       " '/biz/dat-cajun-place-panama-city-beach-2?osq=Restaurants',\n",
       " '/biz/firefly-panama-city-beach?osq=Restaurants',\n",
       " '/biz/local-steamer-seafood-market-panama-city-beach?osq=Restaurants',\n",
       " '/biz/mikes-cafe-and-oyster-bar-panama-city-beach?osq=Restaurants',\n",
       " '/biz/harpoon-harrys-beachfront-restaurant-panama-city-beach?osq=Restaurants',\n",
       " '/biz/the-craft-bar-pcb-panama-city-beach?osq=Restaurants',\n",
       " '/biz/coconut-charlies-beach-bar-and-grill-panama-city-beach-2?osq=Restaurants',\n",
       " '/biz/the-wharf-buffet-panama-city-beach-2?osq=Restaurants',\n",
       " '/biz/something-salty-panama-city-beach?osq=Restaurants']"
      ]
     },
     "execution_count": 41,
     "metadata": {},
     "output_type": "execute_result"
    }
   ],
   "source": [
    "link_2 = [x.get('href') for x in names]\n",
    "link_2 = link_2[2:]\n",
    "link_2"
   ]
  },
  {
   "cell_type": "code",
   "execution_count": 42,
   "id": "a8553066",
   "metadata": {},
   "outputs": [],
   "source": [
    "rest = rest_1+rest_2\n",
    "link = link_1+link_2"
   ]
  },
  {
   "cell_type": "code",
   "execution_count": 43,
   "id": "d8afabf4",
   "metadata": {},
   "outputs": [],
   "source": [
    "panama_restaurants = pd.DataFrame({'restaurant':rest, 'website': link})"
   ]
  },
  {
   "cell_type": "code",
   "execution_count": 44,
   "id": "0fdbae22",
   "metadata": {},
   "outputs": [],
   "source": [
    "panama_restaurants['website'] = site+panama_restaurants['website']"
   ]
  },
  {
   "cell_type": "code",
   "execution_count": 45,
   "id": "5516fb0e",
   "metadata": {},
   "outputs": [
    {
     "data": {
      "text/html": [
       "<div>\n",
       "<style scoped>\n",
       "    .dataframe tbody tr th:only-of-type {\n",
       "        vertical-align: middle;\n",
       "    }\n",
       "\n",
       "    .dataframe tbody tr th {\n",
       "        vertical-align: top;\n",
       "    }\n",
       "\n",
       "    .dataframe thead th {\n",
       "        text-align: right;\n",
       "    }\n",
       "</style>\n",
       "<table border=\"1\" class=\"dataframe\">\n",
       "  <thead>\n",
       "    <tr style=\"text-align: right;\">\n",
       "      <th></th>\n",
       "      <th>restaurant</th>\n",
       "      <th>website</th>\n",
       "      <th>location</th>\n",
       "    </tr>\n",
       "  </thead>\n",
       "  <tbody>\n",
       "    <tr>\n",
       "      <th>0</th>\n",
       "      <td>Hook’d Pier Bar &amp; Grill</td>\n",
       "      <td>https://www.yelp.com/biz/hookd-pier-bar-and-gr...</td>\n",
       "      <td>Panama City Beach, FL</td>\n",
       "    </tr>\n",
       "    <tr>\n",
       "      <th>1</th>\n",
       "      <td>Runaway Island</td>\n",
       "      <td>https://www.yelp.com/biz/runaway-island-panama...</td>\n",
       "      <td>Panama City Beach, FL</td>\n",
       "    </tr>\n",
       "    <tr>\n",
       "      <th>2</th>\n",
       "      <td>Dee’s Hang Out</td>\n",
       "      <td>https://www.yelp.com/biz/dees-hang-out-panama-...</td>\n",
       "      <td>Panama City Beach, FL</td>\n",
       "    </tr>\n",
       "    <tr>\n",
       "      <th>3</th>\n",
       "      <td>Dusty’s Oyster Bar</td>\n",
       "      <td>https://www.yelp.com/biz/dustys-oyster-bar-pan...</td>\n",
       "      <td>Panama City Beach, FL</td>\n",
       "    </tr>\n",
       "    <tr>\n",
       "      <th>4</th>\n",
       "      <td>Pineapple Willy’s</td>\n",
       "      <td>https://www.yelp.com/biz/pineapple-willys-pana...</td>\n",
       "      <td>Panama City Beach, FL</td>\n",
       "    </tr>\n",
       "    <tr>\n",
       "      <th>5</th>\n",
       "      <td>Saltwater Grill</td>\n",
       "      <td>https://www.yelp.com/biz/saltwater-grill-panam...</td>\n",
       "      <td>Panama City Beach, FL</td>\n",
       "    </tr>\n",
       "    <tr>\n",
       "      <th>6</th>\n",
       "      <td>Bayou Bill’s Crab House</td>\n",
       "      <td>https://www.yelp.com/biz/bayou-bills-crab-hous...</td>\n",
       "      <td>Panama City Beach, FL</td>\n",
       "    </tr>\n",
       "    <tr>\n",
       "      <th>7</th>\n",
       "      <td>American Charlie Grill &amp; Tavern</td>\n",
       "      <td>https://www.yelp.com/biz/american-charlie-gril...</td>\n",
       "      <td>Panama City Beach, FL</td>\n",
       "    </tr>\n",
       "    <tr>\n",
       "      <th>8</th>\n",
       "      <td>Sharky’s Beachfront Restaurant</td>\n",
       "      <td>https://www.yelp.com/biz/sharkys-beachfront-re...</td>\n",
       "      <td>Panama City Beach, FL</td>\n",
       "    </tr>\n",
       "    <tr>\n",
       "      <th>9</th>\n",
       "      <td>Bella Roma Tuscan Grill</td>\n",
       "      <td>https://www.yelp.com/biz/bella-roma-tuscan-gri...</td>\n",
       "      <td>Panama City Beach, FL</td>\n",
       "    </tr>\n",
       "    <tr>\n",
       "      <th>10</th>\n",
       "      <td>Diego’s Burrito Factory</td>\n",
       "      <td>https://www.yelp.com/biz/diegos-burrito-factor...</td>\n",
       "      <td>Panama City Beach, FL</td>\n",
       "    </tr>\n",
       "    <tr>\n",
       "      <th>11</th>\n",
       "      <td>Dat Cajun Place</td>\n",
       "      <td>https://www.yelp.com/biz/dat-cajun-place-panam...</td>\n",
       "      <td>Panama City Beach, FL</td>\n",
       "    </tr>\n",
       "    <tr>\n",
       "      <th>12</th>\n",
       "      <td>Firefly</td>\n",
       "      <td>https://www.yelp.com/biz/firefly-panama-city-b...</td>\n",
       "      <td>Panama City Beach, FL</td>\n",
       "    </tr>\n",
       "    <tr>\n",
       "      <th>13</th>\n",
       "      <td>Local Steamer Seafood Market</td>\n",
       "      <td>https://www.yelp.com/biz/local-steamer-seafood...</td>\n",
       "      <td>Panama City Beach, FL</td>\n",
       "    </tr>\n",
       "    <tr>\n",
       "      <th>14</th>\n",
       "      <td>Mike’s Cafe and Oyster Bar</td>\n",
       "      <td>https://www.yelp.com/biz/mikes-cafe-and-oyster...</td>\n",
       "      <td>Panama City Beach, FL</td>\n",
       "    </tr>\n",
       "    <tr>\n",
       "      <th>15</th>\n",
       "      <td>Harpoon Harry’s Beachfront Restaurant</td>\n",
       "      <td>https://www.yelp.com/biz/harpoon-harrys-beachf...</td>\n",
       "      <td>Panama City Beach, FL</td>\n",
       "    </tr>\n",
       "    <tr>\n",
       "      <th>16</th>\n",
       "      <td>The Craft Bar - PCB</td>\n",
       "      <td>https://www.yelp.com/biz/the-craft-bar-pcb-pan...</td>\n",
       "      <td>Panama City Beach, FL</td>\n",
       "    </tr>\n",
       "    <tr>\n",
       "      <th>17</th>\n",
       "      <td>Coconut Charlie’s Beach Bar &amp; Grill</td>\n",
       "      <td>https://www.yelp.com/biz/coconut-charlies-beac...</td>\n",
       "      <td>Panama City Beach, FL</td>\n",
       "    </tr>\n",
       "    <tr>\n",
       "      <th>18</th>\n",
       "      <td>The Wharf Buffet</td>\n",
       "      <td>https://www.yelp.com/biz/the-wharf-buffet-pana...</td>\n",
       "      <td>Panama City Beach, FL</td>\n",
       "    </tr>\n",
       "    <tr>\n",
       "      <th>19</th>\n",
       "      <td>Something Salty</td>\n",
       "      <td>https://www.yelp.com/biz/something-salty-panam...</td>\n",
       "      <td>Panama City Beach, FL</td>\n",
       "    </tr>\n",
       "  </tbody>\n",
       "</table>\n",
       "</div>"
      ],
      "text/plain": [
       "                               restaurant  \\\n",
       "0                 Hook’d Pier Bar & Grill   \n",
       "1                          Runaway Island   \n",
       "2                          Dee’s Hang Out   \n",
       "3                      Dusty’s Oyster Bar   \n",
       "4                       Pineapple Willy’s   \n",
       "5                         Saltwater Grill   \n",
       "6                 Bayou Bill’s Crab House   \n",
       "7         American Charlie Grill & Tavern   \n",
       "8          Sharky’s Beachfront Restaurant   \n",
       "9                 Bella Roma Tuscan Grill   \n",
       "10                Diego’s Burrito Factory   \n",
       "11                        Dat Cajun Place   \n",
       "12                                Firefly   \n",
       "13           Local Steamer Seafood Market   \n",
       "14             Mike’s Cafe and Oyster Bar   \n",
       "15  Harpoon Harry’s Beachfront Restaurant   \n",
       "16                    The Craft Bar - PCB   \n",
       "17    Coconut Charlie’s Beach Bar & Grill   \n",
       "18                       The Wharf Buffet   \n",
       "19                        Something Salty   \n",
       "\n",
       "                                              website               location  \n",
       "0   https://www.yelp.com/biz/hookd-pier-bar-and-gr...  Panama City Beach, FL  \n",
       "1   https://www.yelp.com/biz/runaway-island-panama...  Panama City Beach, FL  \n",
       "2   https://www.yelp.com/biz/dees-hang-out-panama-...  Panama City Beach, FL  \n",
       "3   https://www.yelp.com/biz/dustys-oyster-bar-pan...  Panama City Beach, FL  \n",
       "4   https://www.yelp.com/biz/pineapple-willys-pana...  Panama City Beach, FL  \n",
       "5   https://www.yelp.com/biz/saltwater-grill-panam...  Panama City Beach, FL  \n",
       "6   https://www.yelp.com/biz/bayou-bills-crab-hous...  Panama City Beach, FL  \n",
       "7   https://www.yelp.com/biz/american-charlie-gril...  Panama City Beach, FL  \n",
       "8   https://www.yelp.com/biz/sharkys-beachfront-re...  Panama City Beach, FL  \n",
       "9   https://www.yelp.com/biz/bella-roma-tuscan-gri...  Panama City Beach, FL  \n",
       "10  https://www.yelp.com/biz/diegos-burrito-factor...  Panama City Beach, FL  \n",
       "11  https://www.yelp.com/biz/dat-cajun-place-panam...  Panama City Beach, FL  \n",
       "12  https://www.yelp.com/biz/firefly-panama-city-b...  Panama City Beach, FL  \n",
       "13  https://www.yelp.com/biz/local-steamer-seafood...  Panama City Beach, FL  \n",
       "14  https://www.yelp.com/biz/mikes-cafe-and-oyster...  Panama City Beach, FL  \n",
       "15  https://www.yelp.com/biz/harpoon-harrys-beachf...  Panama City Beach, FL  \n",
       "16  https://www.yelp.com/biz/the-craft-bar-pcb-pan...  Panama City Beach, FL  \n",
       "17  https://www.yelp.com/biz/coconut-charlies-beac...  Panama City Beach, FL  \n",
       "18  https://www.yelp.com/biz/the-wharf-buffet-pana...  Panama City Beach, FL  \n",
       "19  https://www.yelp.com/biz/something-salty-panam...  Panama City Beach, FL  "
      ]
     },
     "execution_count": 45,
     "metadata": {},
     "output_type": "execute_result"
    }
   ],
   "source": [
    "panama_restaurants['location'] = 'Panama City Beach, FL'\n",
    "panama_restaurants"
   ]
  },
  {
   "cell_type": "markdown",
   "id": "7bba0d50",
   "metadata": {},
   "source": [
    "# Dauphin Island"
   ]
  },
  {
   "cell_type": "code",
   "execution_count": 46,
   "id": "ebeac3d8",
   "metadata": {},
   "outputs": [],
   "source": [
    "URL = 'https://www.yelp.com/search?find_desc=Restaurants&find_loc=Dauphin+Island%2C+AL'\n",
    "response = requests.get(URL)"
   ]
  },
  {
   "cell_type": "code",
   "execution_count": 47,
   "id": "a5f762d9",
   "metadata": {},
   "outputs": [],
   "source": [
    "soup = BS(response.text)"
   ]
  },
  {
   "cell_type": "code",
   "execution_count": 48,
   "id": "2186b91a",
   "metadata": {},
   "outputs": [
    {
     "data": {
      "text/plain": [
       "[<a class=\"css-1m051bw\" href=\"https://www.yelp.com/city/dauphin-island-al-us\">Dauphin Island, AL</a>,\n",
       " <a class=\"css-1m051bw\" href=\"/search?find_desc=Restaurants&amp;find_loc=Dauphin+Island%2C+AL\" role=\"link\">Restaurants</a>,\n",
       " <a class=\"css-1m051bw\" href=\"/biz/dockside-seafood-restaurant-dauphin-island?osq=Restaurants\" name=\"Dockside Seafood Restaurant\" rel=\"noopener\" role=\"link\" target=\"_blank\">Dockside Seafood Restaurant</a>,\n",
       " <a class=\"css-1m051bw\" href=\"/biz/dinner-s-ready-dauphin-island?osq=Restaurants\" name=\"Dinner’s Ready\" rel=\"noopener\" role=\"link\" target=\"_blank\">Dinner’s Ready</a>,\n",
       " <a class=\"css-1m051bw\" href=\"/biz/island-chevron-and-grill-dauphin-island?osq=Restaurants\" name=\"Island Chevron &amp; Grill\" rel=\"noopener\" role=\"link\" target=\"_blank\">Island Chevron &amp; Grill</a>,\n",
       " <a class=\"css-1m051bw\" href=\"/biz/pirates-bar-and-grill-dauphin-island-2?osq=Restaurants\" name=\"Pirate’s Bar and Grill\" rel=\"noopener\" role=\"link\" target=\"_blank\">Pirate’s Bar and Grill</a>,\n",
       " <a class=\"css-1m051bw\" href=\"/biz/islanders-restaurant-and-bar-dauphin-island?osq=Restaurants\" name=\"Islanders Restaurant &amp; Bar\" rel=\"noopener\" role=\"link\" target=\"_blank\">Islanders Restaurant &amp; Bar</a>,\n",
       " <a class=\"css-1m051bw\" href=\"/biz/captn-snappers-marina-bar-and-grill-dauphin-island?osq=Restaurants\" name=\"Capt’n Snapper’s Marina Bar &amp; Grill\" rel=\"noopener\" role=\"link\" target=\"_blank\">Capt’n Snapper’s Marina Bar &amp; Grill</a>,\n",
       " <a class=\"css-1m051bw\" href=\"/biz/pirates-pizza-and-wings-dauphin-island?osq=Restaurants\" name=\"Pirate’s Pizza &amp; Wings\" rel=\"noopener\" role=\"link\" target=\"_blank\">Pirate’s Pizza &amp; Wings</a>,\n",
       " <a class=\"css-1m051bw\" href=\"/biz/miguels-beachn-baja-dauphin-island-2?osq=Restaurants\" name=\"Miguel’s Beach’n Baja\" rel=\"noopener\" role=\"link\" target=\"_blank\">Miguel’s Beach’n Baja</a>,\n",
       " <a class=\"css-1m051bw\" href=\"/biz/reel-deal-bbq-and-seafood-dauphin-island?osq=Restaurants\" name=\"Reel Deal BBQ &amp; Seafood\" rel=\"noopener\" role=\"link\" target=\"_blank\">Reel Deal BBQ &amp; Seafood</a>,\n",
       " <a class=\"css-1m051bw\" href=\"/biz/doritys-bar-and-grill-dauphin-island?osq=Restaurants\" name=\"Dority’s Bar &amp; Grill\" rel=\"noopener\" role=\"link\" target=\"_blank\">Dority’s Bar &amp; Grill</a>]"
      ]
     },
     "execution_count": 48,
     "metadata": {},
     "output_type": "execute_result"
    }
   ],
   "source": [
    "names = soup.findAll('a', attrs={'class':'css-1m051bw'})\n",
    "names"
   ]
  },
  {
   "cell_type": "code",
   "execution_count": 49,
   "id": "b18f6d3c",
   "metadata": {},
   "outputs": [
    {
     "data": {
      "text/plain": [
       "['Dockside Seafood Restaurant',\n",
       " 'Dinner’s Ready',\n",
       " 'Island Chevron & Grill',\n",
       " 'Pirate’s Bar and Grill',\n",
       " 'Islanders Restaurant & Bar',\n",
       " 'Capt’n Snapper’s Marina Bar & Grill',\n",
       " 'Pirate’s Pizza & Wings',\n",
       " 'Miguel’s Beach’n Baja',\n",
       " 'Reel Deal BBQ & Seafood',\n",
       " 'Dority’s Bar & Grill']"
      ]
     },
     "execution_count": 49,
     "metadata": {},
     "output_type": "execute_result"
    }
   ],
   "source": [
    "rest_1 = [x.get('name') for x in names]\n",
    "rest_1 = rest_1[2:]\n",
    "rest_1"
   ]
  },
  {
   "cell_type": "code",
   "execution_count": 50,
   "id": "589856b9",
   "metadata": {},
   "outputs": [
    {
     "data": {
      "text/plain": [
       "['/biz/dockside-seafood-restaurant-dauphin-island?osq=Restaurants',\n",
       " '/biz/dinner-s-ready-dauphin-island?osq=Restaurants',\n",
       " '/biz/island-chevron-and-grill-dauphin-island?osq=Restaurants',\n",
       " '/biz/pirates-bar-and-grill-dauphin-island-2?osq=Restaurants',\n",
       " '/biz/islanders-restaurant-and-bar-dauphin-island?osq=Restaurants',\n",
       " '/biz/captn-snappers-marina-bar-and-grill-dauphin-island?osq=Restaurants',\n",
       " '/biz/pirates-pizza-and-wings-dauphin-island?osq=Restaurants',\n",
       " '/biz/miguels-beachn-baja-dauphin-island-2?osq=Restaurants',\n",
       " '/biz/reel-deal-bbq-and-seafood-dauphin-island?osq=Restaurants',\n",
       " '/biz/doritys-bar-and-grill-dauphin-island?osq=Restaurants']"
      ]
     },
     "execution_count": 50,
     "metadata": {},
     "output_type": "execute_result"
    }
   ],
   "source": [
    "link_1 = [x.get('href') for x in names]\n",
    "link_1 = link_1[2:]\n",
    "link_1"
   ]
  },
  {
   "cell_type": "code",
   "execution_count": 51,
   "id": "511bd273",
   "metadata": {},
   "outputs": [],
   "source": [
    "URL = 'https://www.yelp.com/search?find_desc=Restaurants&find_loc=Dauphin+Island%2C+AL&start=10'\n",
    "response = requests.get(URL)"
   ]
  },
  {
   "cell_type": "code",
   "execution_count": 52,
   "id": "4629c2a3",
   "metadata": {},
   "outputs": [],
   "source": [
    "soup = BS(response.text)"
   ]
  },
  {
   "cell_type": "code",
   "execution_count": 53,
   "id": "198e08ae",
   "metadata": {},
   "outputs": [
    {
     "data": {
      "text/plain": [
       "[<a class=\"css-1m051bw\" href=\"https://www.yelp.com/city/dauphin-island-al-us\">Dauphin Island, AL</a>,\n",
       " <a class=\"css-1m051bw\" href=\"/search?find_desc=Restaurants&amp;find_loc=Dauphin+Island%2C+AL\" role=\"link\">Restaurants</a>,\n",
       " <a class=\"css-1m051bw\" href=\"/biz/island-rainbow-pizza-dauphin-island?osq=Restaurants\" name=\"Island Rainbow Pizza\" rel=\"noopener\" role=\"link\" target=\"_blank\">Island Rainbow Pizza</a>,\n",
       " <a class=\"css-1m051bw\" href=\"/biz/lighthouse-bakery-dauphin-island-2?osq=Restaurants\" name=\"Lighthouse Bakery\" rel=\"noopener\" role=\"link\" target=\"_blank\">Lighthouse Bakery</a>,\n",
       " <a class=\"css-1m051bw\" href=\"/biz/subway-dauphin-island-2?osq=Restaurants\" name=\"Subway\" rel=\"noopener\" role=\"link\" target=\"_blank\">Subway</a>]"
      ]
     },
     "execution_count": 53,
     "metadata": {},
     "output_type": "execute_result"
    }
   ],
   "source": [
    "names = soup.findAll('a', attrs={'class':'css-1m051bw'})\n",
    "names"
   ]
  },
  {
   "cell_type": "code",
   "execution_count": 54,
   "id": "cf2e6e92",
   "metadata": {},
   "outputs": [
    {
     "data": {
      "text/plain": [
       "['Island Rainbow Pizza', 'Lighthouse Bakery', 'Subway']"
      ]
     },
     "execution_count": 54,
     "metadata": {},
     "output_type": "execute_result"
    }
   ],
   "source": [
    "rest_2 = [x.get('name') for x in names]\n",
    "rest_2 = rest_2[2:]\n",
    "rest_2"
   ]
  },
  {
   "cell_type": "code",
   "execution_count": 55,
   "id": "7c3f1f84",
   "metadata": {},
   "outputs": [
    {
     "data": {
      "text/plain": [
       "['/biz/island-rainbow-pizza-dauphin-island?osq=Restaurants',\n",
       " '/biz/lighthouse-bakery-dauphin-island-2?osq=Restaurants',\n",
       " '/biz/subway-dauphin-island-2?osq=Restaurants']"
      ]
     },
     "execution_count": 55,
     "metadata": {},
     "output_type": "execute_result"
    }
   ],
   "source": [
    "link_2 = [x.get('href') for x in names]\n",
    "link_2 = link_2[2:]\n",
    "link_2"
   ]
  },
  {
   "cell_type": "code",
   "execution_count": 56,
   "id": "8d571bba",
   "metadata": {},
   "outputs": [],
   "source": [
    "rest = rest_1+rest_2\n",
    "link = link_1+link_2"
   ]
  },
  {
   "cell_type": "code",
   "execution_count": 57,
   "id": "62a9fd02",
   "metadata": {},
   "outputs": [],
   "source": [
    "dauphin_restaurants = pd.DataFrame({'restaurant':rest, 'website': link})"
   ]
  },
  {
   "cell_type": "code",
   "execution_count": 58,
   "id": "f057f03f",
   "metadata": {},
   "outputs": [],
   "source": [
    "dauphin_restaurants['website'] = site+panama_restaurants['website']"
   ]
  },
  {
   "cell_type": "code",
   "execution_count": 59,
   "id": "345628e4",
   "metadata": {},
   "outputs": [
    {
     "data": {
      "text/html": [
       "<div>\n",
       "<style scoped>\n",
       "    .dataframe tbody tr th:only-of-type {\n",
       "        vertical-align: middle;\n",
       "    }\n",
       "\n",
       "    .dataframe tbody tr th {\n",
       "        vertical-align: top;\n",
       "    }\n",
       "\n",
       "    .dataframe thead th {\n",
       "        text-align: right;\n",
       "    }\n",
       "</style>\n",
       "<table border=\"1\" class=\"dataframe\">\n",
       "  <thead>\n",
       "    <tr style=\"text-align: right;\">\n",
       "      <th></th>\n",
       "      <th>restaurant</th>\n",
       "      <th>website</th>\n",
       "      <th>location</th>\n",
       "    </tr>\n",
       "  </thead>\n",
       "  <tbody>\n",
       "    <tr>\n",
       "      <th>0</th>\n",
       "      <td>Dockside Seafood Restaurant</td>\n",
       "      <td>https://www.yelp.comhttps://www.yelp.com/biz/h...</td>\n",
       "      <td>Dauphin Island, AL</td>\n",
       "    </tr>\n",
       "    <tr>\n",
       "      <th>1</th>\n",
       "      <td>Dinner’s Ready</td>\n",
       "      <td>https://www.yelp.comhttps://www.yelp.com/biz/r...</td>\n",
       "      <td>Dauphin Island, AL</td>\n",
       "    </tr>\n",
       "    <tr>\n",
       "      <th>2</th>\n",
       "      <td>Island Chevron &amp; Grill</td>\n",
       "      <td>https://www.yelp.comhttps://www.yelp.com/biz/d...</td>\n",
       "      <td>Dauphin Island, AL</td>\n",
       "    </tr>\n",
       "    <tr>\n",
       "      <th>3</th>\n",
       "      <td>Pirate’s Bar and Grill</td>\n",
       "      <td>https://www.yelp.comhttps://www.yelp.com/biz/d...</td>\n",
       "      <td>Dauphin Island, AL</td>\n",
       "    </tr>\n",
       "    <tr>\n",
       "      <th>4</th>\n",
       "      <td>Islanders Restaurant &amp; Bar</td>\n",
       "      <td>https://www.yelp.comhttps://www.yelp.com/biz/p...</td>\n",
       "      <td>Dauphin Island, AL</td>\n",
       "    </tr>\n",
       "    <tr>\n",
       "      <th>5</th>\n",
       "      <td>Capt’n Snapper’s Marina Bar &amp; Grill</td>\n",
       "      <td>https://www.yelp.comhttps://www.yelp.com/biz/s...</td>\n",
       "      <td>Dauphin Island, AL</td>\n",
       "    </tr>\n",
       "    <tr>\n",
       "      <th>6</th>\n",
       "      <td>Pirate’s Pizza &amp; Wings</td>\n",
       "      <td>https://www.yelp.comhttps://www.yelp.com/biz/b...</td>\n",
       "      <td>Dauphin Island, AL</td>\n",
       "    </tr>\n",
       "    <tr>\n",
       "      <th>7</th>\n",
       "      <td>Miguel’s Beach’n Baja</td>\n",
       "      <td>https://www.yelp.comhttps://www.yelp.com/biz/a...</td>\n",
       "      <td>Dauphin Island, AL</td>\n",
       "    </tr>\n",
       "    <tr>\n",
       "      <th>8</th>\n",
       "      <td>Reel Deal BBQ &amp; Seafood</td>\n",
       "      <td>https://www.yelp.comhttps://www.yelp.com/biz/s...</td>\n",
       "      <td>Dauphin Island, AL</td>\n",
       "    </tr>\n",
       "    <tr>\n",
       "      <th>9</th>\n",
       "      <td>Dority’s Bar &amp; Grill</td>\n",
       "      <td>https://www.yelp.comhttps://www.yelp.com/biz/b...</td>\n",
       "      <td>Dauphin Island, AL</td>\n",
       "    </tr>\n",
       "    <tr>\n",
       "      <th>10</th>\n",
       "      <td>Island Rainbow Pizza</td>\n",
       "      <td>https://www.yelp.comhttps://www.yelp.com/biz/d...</td>\n",
       "      <td>Dauphin Island, AL</td>\n",
       "    </tr>\n",
       "    <tr>\n",
       "      <th>11</th>\n",
       "      <td>Lighthouse Bakery</td>\n",
       "      <td>https://www.yelp.comhttps://www.yelp.com/biz/d...</td>\n",
       "      <td>Dauphin Island, AL</td>\n",
       "    </tr>\n",
       "    <tr>\n",
       "      <th>12</th>\n",
       "      <td>Subway</td>\n",
       "      <td>https://www.yelp.comhttps://www.yelp.com/biz/f...</td>\n",
       "      <td>Dauphin Island, AL</td>\n",
       "    </tr>\n",
       "  </tbody>\n",
       "</table>\n",
       "</div>"
      ],
      "text/plain": [
       "                             restaurant  \\\n",
       "0           Dockside Seafood Restaurant   \n",
       "1                        Dinner’s Ready   \n",
       "2                Island Chevron & Grill   \n",
       "3                Pirate’s Bar and Grill   \n",
       "4            Islanders Restaurant & Bar   \n",
       "5   Capt’n Snapper’s Marina Bar & Grill   \n",
       "6                Pirate’s Pizza & Wings   \n",
       "7                 Miguel’s Beach’n Baja   \n",
       "8               Reel Deal BBQ & Seafood   \n",
       "9                  Dority’s Bar & Grill   \n",
       "10                 Island Rainbow Pizza   \n",
       "11                    Lighthouse Bakery   \n",
       "12                               Subway   \n",
       "\n",
       "                                              website            location  \n",
       "0   https://www.yelp.comhttps://www.yelp.com/biz/h...  Dauphin Island, AL  \n",
       "1   https://www.yelp.comhttps://www.yelp.com/biz/r...  Dauphin Island, AL  \n",
       "2   https://www.yelp.comhttps://www.yelp.com/biz/d...  Dauphin Island, AL  \n",
       "3   https://www.yelp.comhttps://www.yelp.com/biz/d...  Dauphin Island, AL  \n",
       "4   https://www.yelp.comhttps://www.yelp.com/biz/p...  Dauphin Island, AL  \n",
       "5   https://www.yelp.comhttps://www.yelp.com/biz/s...  Dauphin Island, AL  \n",
       "6   https://www.yelp.comhttps://www.yelp.com/biz/b...  Dauphin Island, AL  \n",
       "7   https://www.yelp.comhttps://www.yelp.com/biz/a...  Dauphin Island, AL  \n",
       "8   https://www.yelp.comhttps://www.yelp.com/biz/s...  Dauphin Island, AL  \n",
       "9   https://www.yelp.comhttps://www.yelp.com/biz/b...  Dauphin Island, AL  \n",
       "10  https://www.yelp.comhttps://www.yelp.com/biz/d...  Dauphin Island, AL  \n",
       "11  https://www.yelp.comhttps://www.yelp.com/biz/d...  Dauphin Island, AL  \n",
       "12  https://www.yelp.comhttps://www.yelp.com/biz/f...  Dauphin Island, AL  "
      ]
     },
     "execution_count": 59,
     "metadata": {},
     "output_type": "execute_result"
    }
   ],
   "source": [
    "dauphin_restaurants['location'] = 'Dauphin Island, AL'\n",
    "dauphin_restaurants"
   ]
  },
  {
   "cell_type": "markdown",
   "id": "8f0a15c1",
   "metadata": {},
   "source": [
    "# Orange Beach"
   ]
  },
  {
   "cell_type": "code",
   "execution_count": 60,
   "id": "2e5f20d0",
   "metadata": {},
   "outputs": [],
   "source": [
    "URL = 'https://www.yelp.com/search?find_desc=Restaurants&find_loc=Orange+Beach%2C+AL'\n",
    "response = requests.get(URL)"
   ]
  },
  {
   "cell_type": "code",
   "execution_count": 61,
   "id": "50fce83d",
   "metadata": {},
   "outputs": [],
   "source": [
    "soup = BS(response.text)"
   ]
  },
  {
   "cell_type": "code",
   "execution_count": 62,
   "id": "4b392086",
   "metadata": {},
   "outputs": [
    {
     "data": {
      "text/plain": [
       "[<a class=\"css-1m051bw\" href=\"https://www.yelp.com/city/orange-beach-al-us\">Orange Beach, AL</a>,\n",
       " <a class=\"css-1m051bw\" href=\"/search?find_desc=Restaurants&amp;find_loc=Orange+Beach%2C+AL\" role=\"link\">Restaurants</a>,\n",
       " <a class=\"css-1m051bw\" href=\"/biz/coastal-orange-beach-orange-beach?osq=Restaurants\" name=\"COASTAL Orange Beach\" rel=\"noopener\" role=\"link\" target=\"_blank\">COASTAL Orange Beach</a>,\n",
       " <a class=\"css-1m051bw\" href=\"/biz/zekes-restaurant-orange-beach?osq=Restaurants\" name=\"Zeke’s Restaurant\" rel=\"noopener\" role=\"link\" target=\"_blank\">Zeke’s Restaurant</a>,\n",
       " <a class=\"css-1m051bw\" href=\"/biz/lunas-eat-and-drink-orange-beach?osq=Restaurants\" name=\"Luna’s Eat &amp; Drink\" rel=\"noopener\" role=\"link\" target=\"_blank\">Luna’s Eat &amp; Drink</a>,\n",
       " <a class=\"css-1m051bw\" href=\"/biz/cobalt-the-restaurant-orange-beach-5?osq=Restaurants\" name=\"Cobalt The Restaurant\" rel=\"noopener\" role=\"link\" target=\"_blank\">Cobalt The Restaurant</a>,\n",
       " <a class=\"css-1m051bw\" href=\"/biz/the-gulf-orange-beach-orange-beach?osq=Restaurants\" name=\"The Gulf - Orange Beach\" rel=\"noopener\" role=\"link\" target=\"_blank\">The Gulf - Orange Beach</a>,\n",
       " <a class=\"css-1m051bw\" href=\"/biz/mile-marker-158-dockside-orange-beach?osq=Restaurants\" name=\"Mile Marker 158 Dockside\" rel=\"noopener\" role=\"link\" target=\"_blank\">Mile Marker 158 Dockside</a>,\n",
       " <a class=\"css-1m051bw\" href=\"/biz/wolf-bay-at-orange-beach-orange-beach-3?osq=Restaurants\" name=\"Wolf Bay at Orange Beach\" rel=\"noopener\" role=\"link\" target=\"_blank\">Wolf Bay at Orange Beach</a>,\n",
       " <a class=\"css-1m051bw\" href=\"/biz/fresh-off-the-boat-oba-orange-beach?osq=Restaurants\" name=\"Fresh Off The Boat OBA\" rel=\"noopener\" role=\"link\" target=\"_blank\">Fresh Off The Boat OBA</a>,\n",
       " <a class=\"css-1m051bw\" href=\"/biz/docs-seafood-shack-and-oyster-bar-orange-beach?osq=Restaurants\" name=\"Doc’s Seafood Shack &amp; Oyster Bar\" rel=\"noopener\" role=\"link\" target=\"_blank\">Doc’s Seafood Shack &amp; Oyster Bar</a>,\n",
       " <a class=\"css-1m051bw\" href=\"/biz/big-fish-restaurant-and-bar-orange-beach?osq=Restaurants\" name=\"Big Fish Restaurant &amp; Bar\" rel=\"noopener\" role=\"link\" target=\"_blank\">Big Fish Restaurant &amp; Bar</a>]"
      ]
     },
     "execution_count": 62,
     "metadata": {},
     "output_type": "execute_result"
    }
   ],
   "source": [
    "names = soup.findAll('a', attrs={'class':'css-1m051bw'})\n",
    "names"
   ]
  },
  {
   "cell_type": "code",
   "execution_count": 63,
   "id": "fdb6a334",
   "metadata": {},
   "outputs": [
    {
     "data": {
      "text/plain": [
       "['COASTAL Orange Beach',\n",
       " 'Zeke’s Restaurant',\n",
       " 'Luna’s Eat & Drink',\n",
       " 'Cobalt The Restaurant',\n",
       " 'The Gulf - Orange Beach',\n",
       " 'Mile Marker 158 Dockside',\n",
       " 'Wolf Bay at Orange Beach',\n",
       " 'Fresh Off The Boat OBA',\n",
       " 'Doc’s Seafood Shack & Oyster Bar',\n",
       " 'Big Fish Restaurant & Bar']"
      ]
     },
     "execution_count": 63,
     "metadata": {},
     "output_type": "execute_result"
    }
   ],
   "source": [
    "rest_1 = [x.get('name') for x in names]\n",
    "rest_1 = rest_1[2:]\n",
    "rest_1"
   ]
  },
  {
   "cell_type": "code",
   "execution_count": 64,
   "id": "0d6f6aa6",
   "metadata": {},
   "outputs": [
    {
     "data": {
      "text/plain": [
       "['/biz/coastal-orange-beach-orange-beach?osq=Restaurants',\n",
       " '/biz/zekes-restaurant-orange-beach?osq=Restaurants',\n",
       " '/biz/lunas-eat-and-drink-orange-beach?osq=Restaurants',\n",
       " '/biz/cobalt-the-restaurant-orange-beach-5?osq=Restaurants',\n",
       " '/biz/the-gulf-orange-beach-orange-beach?osq=Restaurants',\n",
       " '/biz/mile-marker-158-dockside-orange-beach?osq=Restaurants',\n",
       " '/biz/wolf-bay-at-orange-beach-orange-beach-3?osq=Restaurants',\n",
       " '/biz/fresh-off-the-boat-oba-orange-beach?osq=Restaurants',\n",
       " '/biz/docs-seafood-shack-and-oyster-bar-orange-beach?osq=Restaurants',\n",
       " '/biz/big-fish-restaurant-and-bar-orange-beach?osq=Restaurants']"
      ]
     },
     "execution_count": 64,
     "metadata": {},
     "output_type": "execute_result"
    }
   ],
   "source": [
    "link_1 = [x.get('href') for x in names]\n",
    "link_1 = link_1[2:]\n",
    "link_1"
   ]
  },
  {
   "cell_type": "code",
   "execution_count": 65,
   "id": "abfea54b",
   "metadata": {},
   "outputs": [],
   "source": [
    "URL = 'https://www.yelp.com/search?find_desc=Restaurants&find_loc=Orange+Beach%2C+AL&start=10'\n",
    "response = requests.get(URL)"
   ]
  },
  {
   "cell_type": "code",
   "execution_count": 66,
   "id": "7a8782ad",
   "metadata": {},
   "outputs": [],
   "source": [
    "soup = BS(response.text)"
   ]
  },
  {
   "cell_type": "code",
   "execution_count": 67,
   "id": "e538cb04",
   "metadata": {},
   "outputs": [
    {
     "data": {
      "text/plain": [
       "[<a class=\"css-1m051bw\" href=\"https://www.yelp.com/city/orange-beach-al-us\">Orange Beach, AL</a>,\n",
       " <a class=\"css-1m051bw\" href=\"/search?find_desc=Restaurants&amp;find_loc=Orange+Beach%2C+AL\" role=\"link\">Restaurants</a>,\n",
       " <a class=\"css-1m051bw\" href=\"/biz/gts-on-the-bay-orange-beach-3?osq=Restaurants\" name=\"GTs On The Bay\" rel=\"noopener\" role=\"link\" target=\"_blank\">GTs On The Bay</a>,\n",
       " <a class=\"css-1m051bw\" href=\"/biz/avenue-pub-orange-beach-orange-beach-2?osq=Restaurants\" name=\"Avenue Pub - Orange Beach\" rel=\"noopener\" role=\"link\" target=\"_blank\">Avenue Pub - Orange Beach</a>,\n",
       " <a class=\"css-1m051bw\" href=\"/biz/voyagers-orange-beach?osq=Restaurants\" name=\"Voyagers\" rel=\"noopener\" role=\"link\" target=\"_blank\">Voyagers</a>,\n",
       " <a class=\"css-1m051bw\" href=\"/biz/brick-and-spoon-orange-beach-orange-beach?osq=Restaurants\" name=\"Brick &amp; Spoon - Orange Beach\" rel=\"noopener\" role=\"link\" target=\"_blank\">Brick &amp; Spoon - Orange Beach</a>,\n",
       " <a class=\"css-1m051bw\" href=\"/biz/cosmos-restaurant-and-bar-orange-beach?osq=Restaurants\" name=\"Cosmo’s Restaurant &amp; Bar\" rel=\"noopener\" role=\"link\" target=\"_blank\">Cosmo’s Restaurant &amp; Bar</a>,\n",
       " <a class=\"css-1m051bw\" href=\"/biz/louisiana-lagniappe-orange-beach?osq=Restaurants\" name=\"Louisiana Lagniappe\" rel=\"noopener\" role=\"link\" target=\"_blank\">Louisiana Lagniappe</a>,\n",
       " <a class=\"css-1m051bw\" href=\"/biz/big-mikes-steakhouse-orange-beach?osq=Restaurants\" name=\"Big Mike’s Steakhouse\" rel=\"noopener\" role=\"link\" target=\"_blank\">Big Mike’s Steakhouse</a>,\n",
       " <a class=\"css-1m051bw\" href=\"/biz/villaggio-grille-orange-beach-3?osq=Restaurants\" name=\"Villaggio Grille\" rel=\"noopener\" role=\"link\" target=\"_blank\">Villaggio Grille</a>,\n",
       " <a class=\"css-1m051bw\" href=\"/biz/flora-bama-lounge-and-oyster-bar-perdido-key-2?osq=Restaurants\" name=\"Flora-Bama Lounge &amp; Oyster Bar\" rel=\"noopener\" role=\"link\" target=\"_blank\">Flora-Bama Lounge &amp; Oyster Bar</a>,\n",
       " <a class=\"css-1m051bw\" href=\"/biz/fishers-at-orange-beach-marina-upstairs-orange-beach-2?osq=Restaurants\" name=\"Fisher’s at Orange Beach Marina - Upstairs\" rel=\"noopener\" role=\"link\" target=\"_blank\">Fisher’s at Orange Beach Marina - Upstairs</a>]"
      ]
     },
     "execution_count": 67,
     "metadata": {},
     "output_type": "execute_result"
    }
   ],
   "source": [
    "names = soup.findAll('a', attrs={'class':'css-1m051bw'})\n",
    "names"
   ]
  },
  {
   "cell_type": "code",
   "execution_count": 68,
   "id": "c2537385",
   "metadata": {},
   "outputs": [
    {
     "data": {
      "text/plain": [
       "['GTs On The Bay',\n",
       " 'Avenue Pub - Orange Beach',\n",
       " 'Voyagers',\n",
       " 'Brick & Spoon - Orange Beach',\n",
       " 'Cosmo’s Restaurant & Bar',\n",
       " 'Louisiana Lagniappe',\n",
       " 'Big Mike’s Steakhouse',\n",
       " 'Villaggio Grille',\n",
       " 'Flora-Bama Lounge & Oyster Bar',\n",
       " 'Fisher’s at Orange Beach Marina - Upstairs']"
      ]
     },
     "execution_count": 68,
     "metadata": {},
     "output_type": "execute_result"
    }
   ],
   "source": [
    "rest_2 = [x.get('name') for x in names]\n",
    "rest_2 = rest_2[2:]\n",
    "rest_2"
   ]
  },
  {
   "cell_type": "code",
   "execution_count": 69,
   "id": "758594ad",
   "metadata": {},
   "outputs": [
    {
     "data": {
      "text/plain": [
       "['/biz/gts-on-the-bay-orange-beach-3?osq=Restaurants',\n",
       " '/biz/avenue-pub-orange-beach-orange-beach-2?osq=Restaurants',\n",
       " '/biz/voyagers-orange-beach?osq=Restaurants',\n",
       " '/biz/brick-and-spoon-orange-beach-orange-beach?osq=Restaurants',\n",
       " '/biz/cosmos-restaurant-and-bar-orange-beach?osq=Restaurants',\n",
       " '/biz/louisiana-lagniappe-orange-beach?osq=Restaurants',\n",
       " '/biz/big-mikes-steakhouse-orange-beach?osq=Restaurants',\n",
       " '/biz/villaggio-grille-orange-beach-3?osq=Restaurants',\n",
       " '/biz/flora-bama-lounge-and-oyster-bar-perdido-key-2?osq=Restaurants',\n",
       " '/biz/fishers-at-orange-beach-marina-upstairs-orange-beach-2?osq=Restaurants']"
      ]
     },
     "execution_count": 69,
     "metadata": {},
     "output_type": "execute_result"
    }
   ],
   "source": [
    "link_2 = [x.get('href') for x in names]\n",
    "link_2 = link_2[2:]\n",
    "link_2"
   ]
  },
  {
   "cell_type": "code",
   "execution_count": 70,
   "id": "78b312cb",
   "metadata": {},
   "outputs": [],
   "source": [
    "rest = rest_1+rest_2\n",
    "link = link_1+link_2"
   ]
  },
  {
   "cell_type": "code",
   "execution_count": 71,
   "id": "c3d24d40",
   "metadata": {},
   "outputs": [],
   "source": [
    "orange_restaurants = pd.DataFrame({'restaurant':rest, 'website': link})"
   ]
  },
  {
   "cell_type": "code",
   "execution_count": 72,
   "id": "a1b9e63c",
   "metadata": {},
   "outputs": [],
   "source": [
    "orange_restaurants['website'] = site+panama_restaurants['website']"
   ]
  },
  {
   "cell_type": "code",
   "execution_count": 73,
   "id": "db68eb04",
   "metadata": {},
   "outputs": [
    {
     "data": {
      "text/html": [
       "<div>\n",
       "<style scoped>\n",
       "    .dataframe tbody tr th:only-of-type {\n",
       "        vertical-align: middle;\n",
       "    }\n",
       "\n",
       "    .dataframe tbody tr th {\n",
       "        vertical-align: top;\n",
       "    }\n",
       "\n",
       "    .dataframe thead th {\n",
       "        text-align: right;\n",
       "    }\n",
       "</style>\n",
       "<table border=\"1\" class=\"dataframe\">\n",
       "  <thead>\n",
       "    <tr style=\"text-align: right;\">\n",
       "      <th></th>\n",
       "      <th>restaurant</th>\n",
       "      <th>website</th>\n",
       "      <th>location</th>\n",
       "    </tr>\n",
       "  </thead>\n",
       "  <tbody>\n",
       "    <tr>\n",
       "      <th>0</th>\n",
       "      <td>COASTAL Orange Beach</td>\n",
       "      <td>https://www.yelp.comhttps://www.yelp.com/biz/h...</td>\n",
       "      <td>Orange Beach, AL</td>\n",
       "    </tr>\n",
       "    <tr>\n",
       "      <th>1</th>\n",
       "      <td>Zeke’s Restaurant</td>\n",
       "      <td>https://www.yelp.comhttps://www.yelp.com/biz/r...</td>\n",
       "      <td>Orange Beach, AL</td>\n",
       "    </tr>\n",
       "    <tr>\n",
       "      <th>2</th>\n",
       "      <td>Luna’s Eat &amp; Drink</td>\n",
       "      <td>https://www.yelp.comhttps://www.yelp.com/biz/d...</td>\n",
       "      <td>Orange Beach, AL</td>\n",
       "    </tr>\n",
       "    <tr>\n",
       "      <th>3</th>\n",
       "      <td>Cobalt The Restaurant</td>\n",
       "      <td>https://www.yelp.comhttps://www.yelp.com/biz/d...</td>\n",
       "      <td>Orange Beach, AL</td>\n",
       "    </tr>\n",
       "    <tr>\n",
       "      <th>4</th>\n",
       "      <td>The Gulf - Orange Beach</td>\n",
       "      <td>https://www.yelp.comhttps://www.yelp.com/biz/p...</td>\n",
       "      <td>Orange Beach, AL</td>\n",
       "    </tr>\n",
       "    <tr>\n",
       "      <th>5</th>\n",
       "      <td>Mile Marker 158 Dockside</td>\n",
       "      <td>https://www.yelp.comhttps://www.yelp.com/biz/s...</td>\n",
       "      <td>Orange Beach, AL</td>\n",
       "    </tr>\n",
       "    <tr>\n",
       "      <th>6</th>\n",
       "      <td>Wolf Bay at Orange Beach</td>\n",
       "      <td>https://www.yelp.comhttps://www.yelp.com/biz/b...</td>\n",
       "      <td>Orange Beach, AL</td>\n",
       "    </tr>\n",
       "    <tr>\n",
       "      <th>7</th>\n",
       "      <td>Fresh Off The Boat OBA</td>\n",
       "      <td>https://www.yelp.comhttps://www.yelp.com/biz/a...</td>\n",
       "      <td>Orange Beach, AL</td>\n",
       "    </tr>\n",
       "    <tr>\n",
       "      <th>8</th>\n",
       "      <td>Doc’s Seafood Shack &amp; Oyster Bar</td>\n",
       "      <td>https://www.yelp.comhttps://www.yelp.com/biz/s...</td>\n",
       "      <td>Orange Beach, AL</td>\n",
       "    </tr>\n",
       "    <tr>\n",
       "      <th>9</th>\n",
       "      <td>Big Fish Restaurant &amp; Bar</td>\n",
       "      <td>https://www.yelp.comhttps://www.yelp.com/biz/b...</td>\n",
       "      <td>Orange Beach, AL</td>\n",
       "    </tr>\n",
       "    <tr>\n",
       "      <th>10</th>\n",
       "      <td>GTs On The Bay</td>\n",
       "      <td>https://www.yelp.comhttps://www.yelp.com/biz/d...</td>\n",
       "      <td>Orange Beach, AL</td>\n",
       "    </tr>\n",
       "    <tr>\n",
       "      <th>11</th>\n",
       "      <td>Avenue Pub - Orange Beach</td>\n",
       "      <td>https://www.yelp.comhttps://www.yelp.com/biz/d...</td>\n",
       "      <td>Orange Beach, AL</td>\n",
       "    </tr>\n",
       "    <tr>\n",
       "      <th>12</th>\n",
       "      <td>Voyagers</td>\n",
       "      <td>https://www.yelp.comhttps://www.yelp.com/biz/f...</td>\n",
       "      <td>Orange Beach, AL</td>\n",
       "    </tr>\n",
       "    <tr>\n",
       "      <th>13</th>\n",
       "      <td>Brick &amp; Spoon - Orange Beach</td>\n",
       "      <td>https://www.yelp.comhttps://www.yelp.com/biz/l...</td>\n",
       "      <td>Orange Beach, AL</td>\n",
       "    </tr>\n",
       "    <tr>\n",
       "      <th>14</th>\n",
       "      <td>Cosmo’s Restaurant &amp; Bar</td>\n",
       "      <td>https://www.yelp.comhttps://www.yelp.com/biz/m...</td>\n",
       "      <td>Orange Beach, AL</td>\n",
       "    </tr>\n",
       "    <tr>\n",
       "      <th>15</th>\n",
       "      <td>Louisiana Lagniappe</td>\n",
       "      <td>https://www.yelp.comhttps://www.yelp.com/biz/h...</td>\n",
       "      <td>Orange Beach, AL</td>\n",
       "    </tr>\n",
       "    <tr>\n",
       "      <th>16</th>\n",
       "      <td>Big Mike’s Steakhouse</td>\n",
       "      <td>https://www.yelp.comhttps://www.yelp.com/biz/t...</td>\n",
       "      <td>Orange Beach, AL</td>\n",
       "    </tr>\n",
       "    <tr>\n",
       "      <th>17</th>\n",
       "      <td>Villaggio Grille</td>\n",
       "      <td>https://www.yelp.comhttps://www.yelp.com/biz/c...</td>\n",
       "      <td>Orange Beach, AL</td>\n",
       "    </tr>\n",
       "    <tr>\n",
       "      <th>18</th>\n",
       "      <td>Flora-Bama Lounge &amp; Oyster Bar</td>\n",
       "      <td>https://www.yelp.comhttps://www.yelp.com/biz/t...</td>\n",
       "      <td>Orange Beach, AL</td>\n",
       "    </tr>\n",
       "    <tr>\n",
       "      <th>19</th>\n",
       "      <td>Fisher’s at Orange Beach Marina - Upstairs</td>\n",
       "      <td>https://www.yelp.comhttps://www.yelp.com/biz/s...</td>\n",
       "      <td>Orange Beach, AL</td>\n",
       "    </tr>\n",
       "  </tbody>\n",
       "</table>\n",
       "</div>"
      ],
      "text/plain": [
       "                                    restaurant  \\\n",
       "0                         COASTAL Orange Beach   \n",
       "1                            Zeke’s Restaurant   \n",
       "2                           Luna’s Eat & Drink   \n",
       "3                        Cobalt The Restaurant   \n",
       "4                      The Gulf - Orange Beach   \n",
       "5                     Mile Marker 158 Dockside   \n",
       "6                     Wolf Bay at Orange Beach   \n",
       "7                       Fresh Off The Boat OBA   \n",
       "8             Doc’s Seafood Shack & Oyster Bar   \n",
       "9                    Big Fish Restaurant & Bar   \n",
       "10                              GTs On The Bay   \n",
       "11                   Avenue Pub - Orange Beach   \n",
       "12                                    Voyagers   \n",
       "13                Brick & Spoon - Orange Beach   \n",
       "14                    Cosmo’s Restaurant & Bar   \n",
       "15                         Louisiana Lagniappe   \n",
       "16                       Big Mike’s Steakhouse   \n",
       "17                            Villaggio Grille   \n",
       "18              Flora-Bama Lounge & Oyster Bar   \n",
       "19  Fisher’s at Orange Beach Marina - Upstairs   \n",
       "\n",
       "                                              website          location  \n",
       "0   https://www.yelp.comhttps://www.yelp.com/biz/h...  Orange Beach, AL  \n",
       "1   https://www.yelp.comhttps://www.yelp.com/biz/r...  Orange Beach, AL  \n",
       "2   https://www.yelp.comhttps://www.yelp.com/biz/d...  Orange Beach, AL  \n",
       "3   https://www.yelp.comhttps://www.yelp.com/biz/d...  Orange Beach, AL  \n",
       "4   https://www.yelp.comhttps://www.yelp.com/biz/p...  Orange Beach, AL  \n",
       "5   https://www.yelp.comhttps://www.yelp.com/biz/s...  Orange Beach, AL  \n",
       "6   https://www.yelp.comhttps://www.yelp.com/biz/b...  Orange Beach, AL  \n",
       "7   https://www.yelp.comhttps://www.yelp.com/biz/a...  Orange Beach, AL  \n",
       "8   https://www.yelp.comhttps://www.yelp.com/biz/s...  Orange Beach, AL  \n",
       "9   https://www.yelp.comhttps://www.yelp.com/biz/b...  Orange Beach, AL  \n",
       "10  https://www.yelp.comhttps://www.yelp.com/biz/d...  Orange Beach, AL  \n",
       "11  https://www.yelp.comhttps://www.yelp.com/biz/d...  Orange Beach, AL  \n",
       "12  https://www.yelp.comhttps://www.yelp.com/biz/f...  Orange Beach, AL  \n",
       "13  https://www.yelp.comhttps://www.yelp.com/biz/l...  Orange Beach, AL  \n",
       "14  https://www.yelp.comhttps://www.yelp.com/biz/m...  Orange Beach, AL  \n",
       "15  https://www.yelp.comhttps://www.yelp.com/biz/h...  Orange Beach, AL  \n",
       "16  https://www.yelp.comhttps://www.yelp.com/biz/t...  Orange Beach, AL  \n",
       "17  https://www.yelp.comhttps://www.yelp.com/biz/c...  Orange Beach, AL  \n",
       "18  https://www.yelp.comhttps://www.yelp.com/biz/t...  Orange Beach, AL  \n",
       "19  https://www.yelp.comhttps://www.yelp.com/biz/s...  Orange Beach, AL  "
      ]
     },
     "execution_count": 73,
     "metadata": {},
     "output_type": "execute_result"
    }
   ],
   "source": [
    "orange_restaurants['location'] = 'Orange Beach, AL'\n",
    "orange_restaurants"
   ]
  },
  {
   "cell_type": "markdown",
   "id": "b4935176",
   "metadata": {},
   "source": [
    "# Miramar Beach"
   ]
  },
  {
   "cell_type": "code",
   "execution_count": 74,
   "id": "4dd4680b",
   "metadata": {},
   "outputs": [],
   "source": [
    "URL = 'https://www.yelp.com/search?find_desc=Restaurants&find_loc=Miramar+Beach%2C+FL'\n",
    "response = requests.get(URL)"
   ]
  },
  {
   "cell_type": "code",
   "execution_count": 75,
   "id": "63bbdd9a",
   "metadata": {},
   "outputs": [],
   "source": [
    "soup = BS(response.text)"
   ]
  },
  {
   "cell_type": "code",
   "execution_count": 76,
   "id": "3dba2922",
   "metadata": {},
   "outputs": [
    {
     "data": {
      "text/plain": [
       "[<a class=\"css-1m051bw\" href=\"https://www.yelp.com/city/miramar-beach-fl-us\">Miramar Beach, FL</a>,\n",
       " <a class=\"css-1m051bw\" href=\"/search?find_desc=Restaurants&amp;find_loc=Miramar+Beach%2C+FL\" role=\"link\">Restaurants</a>,\n",
       " <a class=\"css-1m051bw\" href=\"/biz/surf-hut-destin?osq=Restaurants\" name=\"Surf Hut\" rel=\"noopener\" role=\"link\" target=\"_blank\">Surf Hut</a>,\n",
       " <a class=\"css-1m051bw\" href=\"/biz/slick-lips-seafood-and-oyster-house-sandestin?osq=Restaurants\" name=\"Slick Lips Seafood and Oyster House\" rel=\"noopener\" role=\"link\" target=\"_blank\">Slick Lips Seafood and Oyster House</a>,\n",
       " <a class=\"css-1m051bw\" href=\"/biz/louis-louis-santa-rosa-beach?osq=Restaurants\" name=\"Louis Louis\" rel=\"noopener\" role=\"link\" target=\"_blank\">Louis Louis</a>,\n",
       " <a class=\"css-1m051bw\" href=\"/biz/tommy-bahama-restaurant-bar-store-sandestin-sandestin-3?osq=Restaurants\" name=\"Tommy Bahama Restaurant | Bar | Store - Sandestin\" rel=\"noopener\" role=\"link\" target=\"_blank\">Tommy Bahama Restaurant | Bar | Store - Sandestin</a>,\n",
       " <a class=\"css-1m051bw\" href=\"/biz/pompano-joes-destin?osq=Restaurants\" name=\"Pompano Joe’s\" rel=\"noopener\" role=\"link\" target=\"_blank\">Pompano Joe’s</a>,\n",
       " <a class=\"css-1m051bw\" href=\"/biz/bijoux-miramar-beach?osq=Restaurants\" name=\"Bijoux\" rel=\"noopener\" role=\"link\" target=\"_blank\">Bijoux</a>,\n",
       " <a class=\"css-1m051bw\" href=\"/biz/austons-on-98-miramar-beach?osq=Restaurants\" name=\"Austons on 98\" rel=\"noopener\" role=\"link\" target=\"_blank\">Austons on 98</a>,\n",
       " <a class=\"css-1m051bw\" href=\"/biz/acme-oyster-house-miramar-beach-3?osq=Restaurants\" name=\"Acme Oyster House\" rel=\"noopener\" role=\"link\" target=\"_blank\">Acme Oyster House</a>,\n",
       " <a class=\"css-1m051bw\" href=\"/biz/the-beach-house-miramar-beach?osq=Restaurants\" name=\"The Beach House\" rel=\"noopener\" role=\"link\" target=\"_blank\">The Beach House</a>,\n",
       " <a class=\"css-1m051bw\" href=\"/biz/fatboys-miramar-beach-miramar-beach?osq=Restaurants\" name=\"Fatboys - Miramar Beach\" rel=\"noopener\" role=\"link\" target=\"_blank\">Fatboys - Miramar Beach</a>]"
      ]
     },
     "execution_count": 76,
     "metadata": {},
     "output_type": "execute_result"
    }
   ],
   "source": [
    "names = soup.findAll('a', attrs={'class':'css-1m051bw'})\n",
    "names"
   ]
  },
  {
   "cell_type": "code",
   "execution_count": 77,
   "id": "b771397f",
   "metadata": {},
   "outputs": [
    {
     "data": {
      "text/plain": [
       "['Surf Hut',\n",
       " 'Slick Lips Seafood and Oyster House',\n",
       " 'Louis Louis',\n",
       " 'Tommy Bahama Restaurant | Bar | Store - Sandestin',\n",
       " 'Pompano Joe’s',\n",
       " 'Bijoux',\n",
       " 'Austons on 98',\n",
       " 'Acme Oyster House',\n",
       " 'The Beach House',\n",
       " 'Fatboys - Miramar Beach']"
      ]
     },
     "execution_count": 77,
     "metadata": {},
     "output_type": "execute_result"
    }
   ],
   "source": [
    "rest_1 = [x.get('name') for x in names]\n",
    "rest_1 = rest_1[2:]\n",
    "rest_1"
   ]
  },
  {
   "cell_type": "code",
   "execution_count": 78,
   "id": "ea8f222a",
   "metadata": {},
   "outputs": [
    {
     "data": {
      "text/plain": [
       "['/biz/surf-hut-destin?osq=Restaurants',\n",
       " '/biz/slick-lips-seafood-and-oyster-house-sandestin?osq=Restaurants',\n",
       " '/biz/louis-louis-santa-rosa-beach?osq=Restaurants',\n",
       " '/biz/tommy-bahama-restaurant-bar-store-sandestin-sandestin-3?osq=Restaurants',\n",
       " '/biz/pompano-joes-destin?osq=Restaurants',\n",
       " '/biz/bijoux-miramar-beach?osq=Restaurants',\n",
       " '/biz/austons-on-98-miramar-beach?osq=Restaurants',\n",
       " '/biz/acme-oyster-house-miramar-beach-3?osq=Restaurants',\n",
       " '/biz/the-beach-house-miramar-beach?osq=Restaurants',\n",
       " '/biz/fatboys-miramar-beach-miramar-beach?osq=Restaurants']"
      ]
     },
     "execution_count": 78,
     "metadata": {},
     "output_type": "execute_result"
    }
   ],
   "source": [
    "link_1 = [x.get('href') for x in names]\n",
    "link_1 = link_1[2:]\n",
    "link_1"
   ]
  },
  {
   "cell_type": "code",
   "execution_count": 79,
   "id": "39cec6fe",
   "metadata": {},
   "outputs": [],
   "source": [
    "URL = 'https://www.yelp.com/search?find_desc=Restaurants&find_loc=Miramar+Beach%2C+FL&start=10'\n",
    "response = requests.get(URL)"
   ]
  },
  {
   "cell_type": "code",
   "execution_count": 80,
   "id": "17d937de",
   "metadata": {},
   "outputs": [],
   "source": [
    "soup = BS(response.text)"
   ]
  },
  {
   "cell_type": "code",
   "execution_count": 81,
   "id": "47ebed9c",
   "metadata": {},
   "outputs": [
    {
     "data": {
      "text/plain": [
       "[<a class=\"css-1m051bw\" href=\"https://www.yelp.com/city/miramar-beach-fl-us\">Miramar Beach, FL</a>,\n",
       " <a class=\"css-1m051bw\" href=\"/search?find_desc=Restaurants&amp;find_loc=Miramar+Beach%2C+FL\" role=\"link\">Restaurants</a>,\n",
       " <a class=\"css-1m051bw\" href=\"/biz/pascalli-kitchen-miramar-beach?osq=Restaurants\" name=\"Pascalli Kitchen\" rel=\"noopener\" role=\"link\" target=\"_blank\">Pascalli Kitchen</a>,\n",
       " <a class=\"css-1m051bw\" href=\"/biz/commelfo-restaurant-miramar-beach-2?osq=Restaurants\" name=\"Commelfo Restaurant\" rel=\"noopener\" role=\"link\" target=\"_blank\">Commelfo Restaurant</a>,\n",
       " <a class=\"css-1m051bw\" href=\"/biz/stinkys-fish-camp-santa-rosa-beach?osq=Restaurants\" name=\"Stinky’s Fish Camp\" rel=\"noopener\" role=\"link\" target=\"_blank\">Stinky’s Fish Camp</a>,\n",
       " <a class=\"css-1m051bw\" href=\"/biz/the-craft-bar-grand-blvd-miramar-beach?osq=Restaurants\" name=\"The Craft Bar - Grand Blvd\" rel=\"noopener\" role=\"link\" target=\"_blank\">The Craft Bar - Grand Blvd</a>,\n",
       " <a class=\"css-1m051bw\" href=\"/biz/maple-street-biscuit-company-miramar-beach-miramar-beach-2?osq=Restaurants\" name=\"Maple Street Biscuit Company - Miramar Beach\" rel=\"noopener\" role=\"link\" target=\"_blank\">Maple Street Biscuit Company - Miramar Beach</a>,\n",
       " <a class=\"css-1m051bw\" href=\"/biz/lulus-destin-destin?osq=Restaurants\" name=\"LuLu’s Destin\" rel=\"noopener\" role=\"link\" target=\"_blank\">LuLu’s Destin</a>,\n",
       " <a class=\"css-1m051bw\" href=\"/biz/mezcal-mexican-grill-miramar-beach-3?osq=Restaurants\" name=\"Mezcal Mexican Grill\" rel=\"noopener\" role=\"link\" target=\"_blank\">Mezcal Mexican Grill</a>,\n",
       " <a class=\"css-1m051bw\" href=\"/biz/skippers-dock-and-steamer-destin?osq=Restaurants\" name=\"Skippers Dock &amp; Steamer\" rel=\"noopener\" role=\"link\" target=\"_blank\">Skippers Dock &amp; Steamer</a>,\n",
       " <a class=\"css-1m051bw\" href=\"/biz/lost-pizza-co-miramar-beach?osq=Restaurants\" name=\"Lost Pizza Co.\" rel=\"noopener\" role=\"link\" target=\"_blank\">Lost Pizza Co.</a>,\n",
       " <a class=\"css-1m051bw\" href=\"/biz/bitterroot-destin?osq=Restaurants\" name=\"Bitterroot\" rel=\"noopener\" role=\"link\" target=\"_blank\">Bitterroot</a>]"
      ]
     },
     "execution_count": 81,
     "metadata": {},
     "output_type": "execute_result"
    }
   ],
   "source": [
    "names = soup.findAll('a', attrs={'class':'css-1m051bw'})\n",
    "names"
   ]
  },
  {
   "cell_type": "code",
   "execution_count": 82,
   "id": "3969186f",
   "metadata": {},
   "outputs": [
    {
     "data": {
      "text/plain": [
       "['Pascalli Kitchen',\n",
       " 'Commelfo Restaurant',\n",
       " 'Stinky’s Fish Camp',\n",
       " 'The Craft Bar - Grand Blvd',\n",
       " 'Maple Street Biscuit Company - Miramar Beach',\n",
       " 'LuLu’s Destin',\n",
       " 'Mezcal Mexican Grill',\n",
       " 'Skippers Dock & Steamer',\n",
       " 'Lost Pizza Co.',\n",
       " 'Bitterroot']"
      ]
     },
     "execution_count": 82,
     "metadata": {},
     "output_type": "execute_result"
    }
   ],
   "source": [
    "rest_2 = [x.get('name') for x in names]\n",
    "rest_2 = rest_2[2:]\n",
    "rest_2"
   ]
  },
  {
   "cell_type": "code",
   "execution_count": 83,
   "id": "952b57e5",
   "metadata": {},
   "outputs": [
    {
     "data": {
      "text/plain": [
       "['/biz/pascalli-kitchen-miramar-beach?osq=Restaurants',\n",
       " '/biz/commelfo-restaurant-miramar-beach-2?osq=Restaurants',\n",
       " '/biz/stinkys-fish-camp-santa-rosa-beach?osq=Restaurants',\n",
       " '/biz/the-craft-bar-grand-blvd-miramar-beach?osq=Restaurants',\n",
       " '/biz/maple-street-biscuit-company-miramar-beach-miramar-beach-2?osq=Restaurants',\n",
       " '/biz/lulus-destin-destin?osq=Restaurants',\n",
       " '/biz/mezcal-mexican-grill-miramar-beach-3?osq=Restaurants',\n",
       " '/biz/skippers-dock-and-steamer-destin?osq=Restaurants',\n",
       " '/biz/lost-pizza-co-miramar-beach?osq=Restaurants',\n",
       " '/biz/bitterroot-destin?osq=Restaurants']"
      ]
     },
     "execution_count": 83,
     "metadata": {},
     "output_type": "execute_result"
    }
   ],
   "source": [
    "link_2 = [x.get('href') for x in names]\n",
    "link_2 = link_2[2:]\n",
    "link_2"
   ]
  },
  {
   "cell_type": "code",
   "execution_count": 84,
   "id": "da9d3f5a",
   "metadata": {},
   "outputs": [],
   "source": [
    "rest = rest_1+rest_2\n",
    "link = link_1+link_2"
   ]
  },
  {
   "cell_type": "code",
   "execution_count": 85,
   "id": "9ae096ee",
   "metadata": {},
   "outputs": [],
   "source": [
    "miramar_restaurants = pd.DataFrame({'restaurant':rest, 'website': link})"
   ]
  },
  {
   "cell_type": "code",
   "execution_count": 86,
   "id": "1220701a",
   "metadata": {},
   "outputs": [],
   "source": [
    "miramar_restaurants['website'] = site+miramar_restaurants['website']"
   ]
  },
  {
   "cell_type": "code",
   "execution_count": 87,
   "id": "9b1b0cc0",
   "metadata": {},
   "outputs": [
    {
     "data": {
      "text/html": [
       "<div>\n",
       "<style scoped>\n",
       "    .dataframe tbody tr th:only-of-type {\n",
       "        vertical-align: middle;\n",
       "    }\n",
       "\n",
       "    .dataframe tbody tr th {\n",
       "        vertical-align: top;\n",
       "    }\n",
       "\n",
       "    .dataframe thead th {\n",
       "        text-align: right;\n",
       "    }\n",
       "</style>\n",
       "<table border=\"1\" class=\"dataframe\">\n",
       "  <thead>\n",
       "    <tr style=\"text-align: right;\">\n",
       "      <th></th>\n",
       "      <th>restaurant</th>\n",
       "      <th>website</th>\n",
       "      <th>location</th>\n",
       "    </tr>\n",
       "  </thead>\n",
       "  <tbody>\n",
       "    <tr>\n",
       "      <th>0</th>\n",
       "      <td>Surf Hut</td>\n",
       "      <td>https://www.yelp.com/biz/surf-hut-destin?osq=R...</td>\n",
       "      <td>Miramar Beach, FL</td>\n",
       "    </tr>\n",
       "    <tr>\n",
       "      <th>1</th>\n",
       "      <td>Slick Lips Seafood and Oyster House</td>\n",
       "      <td>https://www.yelp.com/biz/slick-lips-seafood-an...</td>\n",
       "      <td>Miramar Beach, FL</td>\n",
       "    </tr>\n",
       "    <tr>\n",
       "      <th>2</th>\n",
       "      <td>Louis Louis</td>\n",
       "      <td>https://www.yelp.com/biz/louis-louis-santa-ros...</td>\n",
       "      <td>Miramar Beach, FL</td>\n",
       "    </tr>\n",
       "    <tr>\n",
       "      <th>3</th>\n",
       "      <td>Tommy Bahama Restaurant | Bar | Store - Sandestin</td>\n",
       "      <td>https://www.yelp.com/biz/tommy-bahama-restaura...</td>\n",
       "      <td>Miramar Beach, FL</td>\n",
       "    </tr>\n",
       "    <tr>\n",
       "      <th>4</th>\n",
       "      <td>Pompano Joe’s</td>\n",
       "      <td>https://www.yelp.com/biz/pompano-joes-destin?o...</td>\n",
       "      <td>Miramar Beach, FL</td>\n",
       "    </tr>\n",
       "    <tr>\n",
       "      <th>5</th>\n",
       "      <td>Bijoux</td>\n",
       "      <td>https://www.yelp.com/biz/bijoux-miramar-beach?...</td>\n",
       "      <td>Miramar Beach, FL</td>\n",
       "    </tr>\n",
       "    <tr>\n",
       "      <th>6</th>\n",
       "      <td>Austons on 98</td>\n",
       "      <td>https://www.yelp.com/biz/austons-on-98-miramar...</td>\n",
       "      <td>Miramar Beach, FL</td>\n",
       "    </tr>\n",
       "    <tr>\n",
       "      <th>7</th>\n",
       "      <td>Acme Oyster House</td>\n",
       "      <td>https://www.yelp.com/biz/acme-oyster-house-mir...</td>\n",
       "      <td>Miramar Beach, FL</td>\n",
       "    </tr>\n",
       "    <tr>\n",
       "      <th>8</th>\n",
       "      <td>The Beach House</td>\n",
       "      <td>https://www.yelp.com/biz/the-beach-house-miram...</td>\n",
       "      <td>Miramar Beach, FL</td>\n",
       "    </tr>\n",
       "    <tr>\n",
       "      <th>9</th>\n",
       "      <td>Fatboys - Miramar Beach</td>\n",
       "      <td>https://www.yelp.com/biz/fatboys-miramar-beach...</td>\n",
       "      <td>Miramar Beach, FL</td>\n",
       "    </tr>\n",
       "    <tr>\n",
       "      <th>10</th>\n",
       "      <td>Pascalli Kitchen</td>\n",
       "      <td>https://www.yelp.com/biz/pascalli-kitchen-mira...</td>\n",
       "      <td>Miramar Beach, FL</td>\n",
       "    </tr>\n",
       "    <tr>\n",
       "      <th>11</th>\n",
       "      <td>Commelfo Restaurant</td>\n",
       "      <td>https://www.yelp.com/biz/commelfo-restaurant-m...</td>\n",
       "      <td>Miramar Beach, FL</td>\n",
       "    </tr>\n",
       "    <tr>\n",
       "      <th>12</th>\n",
       "      <td>Stinky’s Fish Camp</td>\n",
       "      <td>https://www.yelp.com/biz/stinkys-fish-camp-san...</td>\n",
       "      <td>Miramar Beach, FL</td>\n",
       "    </tr>\n",
       "    <tr>\n",
       "      <th>13</th>\n",
       "      <td>The Craft Bar - Grand Blvd</td>\n",
       "      <td>https://www.yelp.com/biz/the-craft-bar-grand-b...</td>\n",
       "      <td>Miramar Beach, FL</td>\n",
       "    </tr>\n",
       "    <tr>\n",
       "      <th>14</th>\n",
       "      <td>Maple Street Biscuit Company - Miramar Beach</td>\n",
       "      <td>https://www.yelp.com/biz/maple-street-biscuit-...</td>\n",
       "      <td>Miramar Beach, FL</td>\n",
       "    </tr>\n",
       "    <tr>\n",
       "      <th>15</th>\n",
       "      <td>LuLu’s Destin</td>\n",
       "      <td>https://www.yelp.com/biz/lulus-destin-destin?o...</td>\n",
       "      <td>Miramar Beach, FL</td>\n",
       "    </tr>\n",
       "    <tr>\n",
       "      <th>16</th>\n",
       "      <td>Mezcal Mexican Grill</td>\n",
       "      <td>https://www.yelp.com/biz/mezcal-mexican-grill-...</td>\n",
       "      <td>Miramar Beach, FL</td>\n",
       "    </tr>\n",
       "    <tr>\n",
       "      <th>17</th>\n",
       "      <td>Skippers Dock &amp; Steamer</td>\n",
       "      <td>https://www.yelp.com/biz/skippers-dock-and-ste...</td>\n",
       "      <td>Miramar Beach, FL</td>\n",
       "    </tr>\n",
       "    <tr>\n",
       "      <th>18</th>\n",
       "      <td>Lost Pizza Co.</td>\n",
       "      <td>https://www.yelp.com/biz/lost-pizza-co-miramar...</td>\n",
       "      <td>Miramar Beach, FL</td>\n",
       "    </tr>\n",
       "    <tr>\n",
       "      <th>19</th>\n",
       "      <td>Bitterroot</td>\n",
       "      <td>https://www.yelp.com/biz/bitterroot-destin?osq...</td>\n",
       "      <td>Miramar Beach, FL</td>\n",
       "    </tr>\n",
       "  </tbody>\n",
       "</table>\n",
       "</div>"
      ],
      "text/plain": [
       "                                           restaurant  \\\n",
       "0                                            Surf Hut   \n",
       "1                 Slick Lips Seafood and Oyster House   \n",
       "2                                         Louis Louis   \n",
       "3   Tommy Bahama Restaurant | Bar | Store - Sandestin   \n",
       "4                                       Pompano Joe’s   \n",
       "5                                              Bijoux   \n",
       "6                                       Austons on 98   \n",
       "7                                   Acme Oyster House   \n",
       "8                                     The Beach House   \n",
       "9                             Fatboys - Miramar Beach   \n",
       "10                                   Pascalli Kitchen   \n",
       "11                                Commelfo Restaurant   \n",
       "12                                 Stinky’s Fish Camp   \n",
       "13                         The Craft Bar - Grand Blvd   \n",
       "14       Maple Street Biscuit Company - Miramar Beach   \n",
       "15                                      LuLu’s Destin   \n",
       "16                               Mezcal Mexican Grill   \n",
       "17                            Skippers Dock & Steamer   \n",
       "18                                     Lost Pizza Co.   \n",
       "19                                         Bitterroot   \n",
       "\n",
       "                                              website           location  \n",
       "0   https://www.yelp.com/biz/surf-hut-destin?osq=R...  Miramar Beach, FL  \n",
       "1   https://www.yelp.com/biz/slick-lips-seafood-an...  Miramar Beach, FL  \n",
       "2   https://www.yelp.com/biz/louis-louis-santa-ros...  Miramar Beach, FL  \n",
       "3   https://www.yelp.com/biz/tommy-bahama-restaura...  Miramar Beach, FL  \n",
       "4   https://www.yelp.com/biz/pompano-joes-destin?o...  Miramar Beach, FL  \n",
       "5   https://www.yelp.com/biz/bijoux-miramar-beach?...  Miramar Beach, FL  \n",
       "6   https://www.yelp.com/biz/austons-on-98-miramar...  Miramar Beach, FL  \n",
       "7   https://www.yelp.com/biz/acme-oyster-house-mir...  Miramar Beach, FL  \n",
       "8   https://www.yelp.com/biz/the-beach-house-miram...  Miramar Beach, FL  \n",
       "9   https://www.yelp.com/biz/fatboys-miramar-beach...  Miramar Beach, FL  \n",
       "10  https://www.yelp.com/biz/pascalli-kitchen-mira...  Miramar Beach, FL  \n",
       "11  https://www.yelp.com/biz/commelfo-restaurant-m...  Miramar Beach, FL  \n",
       "12  https://www.yelp.com/biz/stinkys-fish-camp-san...  Miramar Beach, FL  \n",
       "13  https://www.yelp.com/biz/the-craft-bar-grand-b...  Miramar Beach, FL  \n",
       "14  https://www.yelp.com/biz/maple-street-biscuit-...  Miramar Beach, FL  \n",
       "15  https://www.yelp.com/biz/lulus-destin-destin?o...  Miramar Beach, FL  \n",
       "16  https://www.yelp.com/biz/mezcal-mexican-grill-...  Miramar Beach, FL  \n",
       "17  https://www.yelp.com/biz/skippers-dock-and-ste...  Miramar Beach, FL  \n",
       "18  https://www.yelp.com/biz/lost-pizza-co-miramar...  Miramar Beach, FL  \n",
       "19  https://www.yelp.com/biz/bitterroot-destin?osq...  Miramar Beach, FL  "
      ]
     },
     "execution_count": 87,
     "metadata": {},
     "output_type": "execute_result"
    }
   ],
   "source": [
    "miramar_restaurants['location'] = 'Miramar Beach, FL'\n",
    "miramar_restaurants"
   ]
  },
  {
   "cell_type": "markdown",
   "id": "8b3c71e5",
   "metadata": {},
   "source": [
    "# Tybee Island"
   ]
  },
  {
   "cell_type": "code",
   "execution_count": 88,
   "id": "6ab6c084",
   "metadata": {},
   "outputs": [],
   "source": [
    "URL = 'https://www.yelp.com/search?find_desc=Restaurants&find_loc=Tybee+Island%2C+GA'\n",
    "response = requests.get(URL)"
   ]
  },
  {
   "cell_type": "code",
   "execution_count": 89,
   "id": "000a3656",
   "metadata": {},
   "outputs": [],
   "source": [
    "soup = BS(response.text)"
   ]
  },
  {
   "cell_type": "code",
   "execution_count": 90,
   "id": "9cb28b20",
   "metadata": {},
   "outputs": [
    {
     "data": {
      "text/plain": [
       "[<a class=\"css-1m051bw\" href=\"https://www.yelp.com/city/tybee-island-ga-us\">Tybee Island, GA</a>,\n",
       " <a class=\"css-1m051bw\" href=\"/search?find_desc=Restaurants&amp;find_loc=Tybee+Island%2C+GA\" role=\"link\">Restaurants</a>,\n",
       " <a class=\"css-1m051bw\" href=\"/biz/the-deck-tybee-island?osq=Restaurants\" name=\"The Deck\" rel=\"noopener\" role=\"link\" target=\"_blank\">The Deck</a>,\n",
       " <a class=\"css-1m051bw\" href=\"/biz/salt-island-fish-and-beer-tybee-island?osq=Restaurants\" name=\"Salt Island Fish &amp; Beer\" rel=\"noopener\" role=\"link\" target=\"_blank\">Salt Island Fish &amp; Beer</a>,\n",
       " <a class=\"css-1m051bw\" href=\"/biz/the-crab-shack-tybee-island-3?osq=Restaurants\" name=\"The Crab Shack\" rel=\"noopener\" role=\"link\" target=\"_blank\">The Crab Shack</a>,\n",
       " <a class=\"css-1m051bw\" href=\"/biz/sundae-cafe-tybee-island?osq=Restaurants\" name=\"Sundae Cafe\" rel=\"noopener\" role=\"link\" target=\"_blank\">Sundae Cafe</a>,\n",
       " <a class=\"css-1m051bw\" href=\"/biz/bubba-gumbos-tybee-island?osq=Restaurants\" name=\"Bubba Gumbo’s\" rel=\"noopener\" role=\"link\" target=\"_blank\">Bubba Gumbo’s</a>,\n",
       " <a class=\"css-1m051bw\" href=\"/biz/cocos-sunset-grille-tybee-island?osq=Restaurants\" name=\"Coco’s Sunset Grille\" rel=\"noopener\" role=\"link\" target=\"_blank\">Coco’s Sunset Grille</a>,\n",
       " <a class=\"css-1m051bw\" href=\"/biz/sea-wolf-tybee-tybee-island?osq=Restaurants\" name=\"Sea Wolf Tybee\" rel=\"noopener\" role=\"link\" target=\"_blank\">Sea Wolf Tybee</a>,\n",
       " <a class=\"css-1m051bw\" href=\"/biz/huc-a-poos-tybee-island-2?osq=Restaurants\" name=\"Huc A Poos\" rel=\"noopener\" role=\"link\" target=\"_blank\">Huc A Poos</a>,\n",
       " <a class=\"css-1m051bw\" href=\"/biz/the-tybee-bakery-featuring-cafe-miss-korea-tybee-island?osq=Restaurants\" name=\"The Tybee Bakery Featuring Cafe Miss Korea\" rel=\"noopener\" role=\"link\" target=\"_blank\">The Tybee Bakery Featuring Cafe Miss Korea</a>,\n",
       " <a class=\"css-1m051bw\" href=\"/biz/chamacos-tacos-and-surf-tybee-island?osq=Restaurants\" name=\"Chamacos Tacos &amp; Surf\" rel=\"noopener\" role=\"link\" target=\"_blank\">Chamacos Tacos &amp; Surf</a>]"
      ]
     },
     "execution_count": 90,
     "metadata": {},
     "output_type": "execute_result"
    }
   ],
   "source": [
    "names = soup.findAll('a', attrs={'class':'css-1m051bw'})\n",
    "names"
   ]
  },
  {
   "cell_type": "code",
   "execution_count": 91,
   "id": "5e10c1bb",
   "metadata": {},
   "outputs": [
    {
     "data": {
      "text/plain": [
       "['The Deck',\n",
       " 'Salt Island Fish & Beer',\n",
       " 'The Crab Shack',\n",
       " 'Sundae Cafe',\n",
       " 'Bubba Gumbo’s',\n",
       " 'Coco’s Sunset Grille',\n",
       " 'Sea Wolf Tybee',\n",
       " 'Huc A Poos',\n",
       " 'The Tybee Bakery Featuring Cafe Miss Korea',\n",
       " 'Chamacos Tacos & Surf']"
      ]
     },
     "execution_count": 91,
     "metadata": {},
     "output_type": "execute_result"
    }
   ],
   "source": [
    "rest_1 = [x.get('name') for x in names]\n",
    "rest_1 = rest_1[2:]\n",
    "rest_1"
   ]
  },
  {
   "cell_type": "code",
   "execution_count": 92,
   "id": "64a7dc86",
   "metadata": {},
   "outputs": [
    {
     "data": {
      "text/plain": [
       "['/biz/the-deck-tybee-island?osq=Restaurants',\n",
       " '/biz/salt-island-fish-and-beer-tybee-island?osq=Restaurants',\n",
       " '/biz/the-crab-shack-tybee-island-3?osq=Restaurants',\n",
       " '/biz/sundae-cafe-tybee-island?osq=Restaurants',\n",
       " '/biz/bubba-gumbos-tybee-island?osq=Restaurants',\n",
       " '/biz/cocos-sunset-grille-tybee-island?osq=Restaurants',\n",
       " '/biz/sea-wolf-tybee-tybee-island?osq=Restaurants',\n",
       " '/biz/huc-a-poos-tybee-island-2?osq=Restaurants',\n",
       " '/biz/the-tybee-bakery-featuring-cafe-miss-korea-tybee-island?osq=Restaurants',\n",
       " '/biz/chamacos-tacos-and-surf-tybee-island?osq=Restaurants']"
      ]
     },
     "execution_count": 92,
     "metadata": {},
     "output_type": "execute_result"
    }
   ],
   "source": [
    "link_1 = [x.get('href') for x in names]\n",
    "link_1 = link_1[2:]\n",
    "link_1"
   ]
  },
  {
   "cell_type": "code",
   "execution_count": 93,
   "id": "be5a3d13",
   "metadata": {},
   "outputs": [],
   "source": [
    "URL = 'https://www.yelp.com/search?find_desc=Restaurants&find_loc=Tybee+Island%2C+GA&start=10'\n",
    "response = requests.get(URL)"
   ]
  },
  {
   "cell_type": "code",
   "execution_count": 94,
   "id": "16dd0447",
   "metadata": {},
   "outputs": [],
   "source": [
    "soup = BS(response.text)"
   ]
  },
  {
   "cell_type": "code",
   "execution_count": 95,
   "id": "6777bf41",
   "metadata": {},
   "outputs": [
    {
     "data": {
      "text/plain": [
       "[<a class=\"css-1m051bw\" href=\"https://www.yelp.com/city/tybee-island-ga-us\">Tybee Island, GA</a>,\n",
       " <a class=\"css-1m051bw\" href=\"/search?find_desc=Restaurants&amp;find_loc=Tybee+Island%2C+GA\" role=\"link\">Restaurants</a>,\n",
       " <a class=\"css-1m051bw\" href=\"/biz/a-js-dockside-restaurant-tybee-island?osq=Restaurants\" name=\"A-J’s Dockside Restaurant\" rel=\"noopener\" role=\"link\" target=\"_blank\">A-J’s Dockside Restaurant</a>,\n",
       " <a class=\"css-1m051bw\" href=\"/biz/agave-bar-and-grill-tybee-island?osq=Restaurants\" name=\"Agave Bar And Grill\" rel=\"noopener\" role=\"link\" target=\"_blank\">Agave Bar And Grill</a>,\n",
       " <a class=\"css-1m051bw\" href=\"/biz/stingrays-seafood-tybee-island-2?osq=Restaurants\" name=\"StingRay’s Seafood\" rel=\"noopener\" role=\"link\" target=\"_blank\">StingRay’s Seafood</a>,\n",
       " <a class=\"css-1m051bw\" href=\"/biz/north-beach-bar-and-grill-tybee-island?osq=Restaurants\" name=\"North Beach Bar and Grill\" rel=\"noopener\" role=\"link\" target=\"_blank\">North Beach Bar and Grill</a>,\n",
       " <a class=\"css-1m051bw\" href=\"/biz/cockspur-grill-tybee-island?osq=Restaurants\" name=\"Cockspur Grill\" rel=\"noopener\" role=\"link\" target=\"_blank\">Cockspur Grill</a>,\n",
       " <a class=\"css-1m051bw\" href=\"/biz/mi-vida-tybee-island?osq=Restaurants\" name=\"Mi Vida\" rel=\"noopener\" role=\"link\" target=\"_blank\">Mi Vida</a>,\n",
       " <a class=\"css-1m051bw\" href=\"/biz/pier-16-tybee-island?osq=Restaurants\" name=\"Pier 16\" rel=\"noopener\" role=\"link\" target=\"_blank\">Pier 16</a>,\n",
       " <a class=\"css-1m051bw\" href=\"/biz/ripe-ingredients-tybee-island-3?osq=Restaurants\" name=\"Ripe Ingredients\" rel=\"noopener\" role=\"link\" target=\"_blank\">Ripe Ingredients</a>,\n",
       " <a class=\"css-1m051bw\" href=\"/biz/raw-ingredients-tybee-island?osq=Restaurants\" name=\"Raw Ingredients\" rel=\"noopener\" role=\"link\" target=\"_blank\">Raw Ingredients</a>,\n",
       " <a class=\"css-1m051bw\" href=\"/biz/spankys-beachside-tybee-island?osq=Restaurants\" name=\"Spanky’s Beachside\" rel=\"noopener\" role=\"link\" target=\"_blank\">Spanky’s Beachside</a>]"
      ]
     },
     "execution_count": 95,
     "metadata": {},
     "output_type": "execute_result"
    }
   ],
   "source": [
    "names = soup.findAll('a', attrs={'class':'css-1m051bw'})\n",
    "names"
   ]
  },
  {
   "cell_type": "code",
   "execution_count": 96,
   "id": "98368842",
   "metadata": {},
   "outputs": [
    {
     "data": {
      "text/plain": [
       "['A-J’s Dockside Restaurant',\n",
       " 'Agave Bar And Grill',\n",
       " 'StingRay’s Seafood',\n",
       " 'North Beach Bar and Grill',\n",
       " 'Cockspur Grill',\n",
       " 'Mi Vida',\n",
       " 'Pier 16',\n",
       " 'Ripe Ingredients',\n",
       " 'Raw Ingredients',\n",
       " 'Spanky’s Beachside']"
      ]
     },
     "execution_count": 96,
     "metadata": {},
     "output_type": "execute_result"
    }
   ],
   "source": [
    "rest_2 = [x.get('name') for x in names]\n",
    "rest_2 = rest_2[2:]\n",
    "rest_2"
   ]
  },
  {
   "cell_type": "code",
   "execution_count": 97,
   "id": "1bbca53c",
   "metadata": {},
   "outputs": [
    {
     "data": {
      "text/plain": [
       "['/biz/a-js-dockside-restaurant-tybee-island?osq=Restaurants',\n",
       " '/biz/agave-bar-and-grill-tybee-island?osq=Restaurants',\n",
       " '/biz/stingrays-seafood-tybee-island-2?osq=Restaurants',\n",
       " '/biz/north-beach-bar-and-grill-tybee-island?osq=Restaurants',\n",
       " '/biz/cockspur-grill-tybee-island?osq=Restaurants',\n",
       " '/biz/mi-vida-tybee-island?osq=Restaurants',\n",
       " '/biz/pier-16-tybee-island?osq=Restaurants',\n",
       " '/biz/ripe-ingredients-tybee-island-3?osq=Restaurants',\n",
       " '/biz/raw-ingredients-tybee-island?osq=Restaurants',\n",
       " '/biz/spankys-beachside-tybee-island?osq=Restaurants']"
      ]
     },
     "execution_count": 97,
     "metadata": {},
     "output_type": "execute_result"
    }
   ],
   "source": [
    "link_2 = [x.get('href') for x in names]\n",
    "link_2 = link_2[2:]\n",
    "link_2"
   ]
  },
  {
   "cell_type": "code",
   "execution_count": 98,
   "id": "01eea106",
   "metadata": {},
   "outputs": [],
   "source": [
    "rest = rest_1+rest_2\n",
    "link = link_1+link_2"
   ]
  },
  {
   "cell_type": "code",
   "execution_count": 99,
   "id": "579f041d",
   "metadata": {},
   "outputs": [],
   "source": [
    "tybee_restaurants = pd.DataFrame({'restaurant':rest, 'website': link})"
   ]
  },
  {
   "cell_type": "code",
   "execution_count": 100,
   "id": "19e8840c",
   "metadata": {},
   "outputs": [],
   "source": [
    "tybee_restaurants['website'] = site+tybee_restaurants['website']"
   ]
  },
  {
   "cell_type": "code",
   "execution_count": 101,
   "id": "8848f06e",
   "metadata": {},
   "outputs": [
    {
     "data": {
      "text/html": [
       "<div>\n",
       "<style scoped>\n",
       "    .dataframe tbody tr th:only-of-type {\n",
       "        vertical-align: middle;\n",
       "    }\n",
       "\n",
       "    .dataframe tbody tr th {\n",
       "        vertical-align: top;\n",
       "    }\n",
       "\n",
       "    .dataframe thead th {\n",
       "        text-align: right;\n",
       "    }\n",
       "</style>\n",
       "<table border=\"1\" class=\"dataframe\">\n",
       "  <thead>\n",
       "    <tr style=\"text-align: right;\">\n",
       "      <th></th>\n",
       "      <th>restaurant</th>\n",
       "      <th>website</th>\n",
       "      <th>location</th>\n",
       "    </tr>\n",
       "  </thead>\n",
       "  <tbody>\n",
       "    <tr>\n",
       "      <th>0</th>\n",
       "      <td>The Deck</td>\n",
       "      <td>https://www.yelp.com/biz/the-deck-tybee-island...</td>\n",
       "      <td>Tybee Island, GA</td>\n",
       "    </tr>\n",
       "    <tr>\n",
       "      <th>1</th>\n",
       "      <td>Salt Island Fish &amp; Beer</td>\n",
       "      <td>https://www.yelp.com/biz/salt-island-fish-and-...</td>\n",
       "      <td>Tybee Island, GA</td>\n",
       "    </tr>\n",
       "    <tr>\n",
       "      <th>2</th>\n",
       "      <td>The Crab Shack</td>\n",
       "      <td>https://www.yelp.com/biz/the-crab-shack-tybee-...</td>\n",
       "      <td>Tybee Island, GA</td>\n",
       "    </tr>\n",
       "    <tr>\n",
       "      <th>3</th>\n",
       "      <td>Sundae Cafe</td>\n",
       "      <td>https://www.yelp.com/biz/sundae-cafe-tybee-isl...</td>\n",
       "      <td>Tybee Island, GA</td>\n",
       "    </tr>\n",
       "    <tr>\n",
       "      <th>4</th>\n",
       "      <td>Bubba Gumbo’s</td>\n",
       "      <td>https://www.yelp.com/biz/bubba-gumbos-tybee-is...</td>\n",
       "      <td>Tybee Island, GA</td>\n",
       "    </tr>\n",
       "    <tr>\n",
       "      <th>5</th>\n",
       "      <td>Coco’s Sunset Grille</td>\n",
       "      <td>https://www.yelp.com/biz/cocos-sunset-grille-t...</td>\n",
       "      <td>Tybee Island, GA</td>\n",
       "    </tr>\n",
       "    <tr>\n",
       "      <th>6</th>\n",
       "      <td>Sea Wolf Tybee</td>\n",
       "      <td>https://www.yelp.com/biz/sea-wolf-tybee-tybee-...</td>\n",
       "      <td>Tybee Island, GA</td>\n",
       "    </tr>\n",
       "    <tr>\n",
       "      <th>7</th>\n",
       "      <td>Huc A Poos</td>\n",
       "      <td>https://www.yelp.com/biz/huc-a-poos-tybee-isla...</td>\n",
       "      <td>Tybee Island, GA</td>\n",
       "    </tr>\n",
       "    <tr>\n",
       "      <th>8</th>\n",
       "      <td>The Tybee Bakery Featuring Cafe Miss Korea</td>\n",
       "      <td>https://www.yelp.com/biz/the-tybee-bakery-feat...</td>\n",
       "      <td>Tybee Island, GA</td>\n",
       "    </tr>\n",
       "    <tr>\n",
       "      <th>9</th>\n",
       "      <td>Chamacos Tacos &amp; Surf</td>\n",
       "      <td>https://www.yelp.com/biz/chamacos-tacos-and-su...</td>\n",
       "      <td>Tybee Island, GA</td>\n",
       "    </tr>\n",
       "    <tr>\n",
       "      <th>10</th>\n",
       "      <td>A-J’s Dockside Restaurant</td>\n",
       "      <td>https://www.yelp.com/biz/a-js-dockside-restaur...</td>\n",
       "      <td>Tybee Island, GA</td>\n",
       "    </tr>\n",
       "    <tr>\n",
       "      <th>11</th>\n",
       "      <td>Agave Bar And Grill</td>\n",
       "      <td>https://www.yelp.com/biz/agave-bar-and-grill-t...</td>\n",
       "      <td>Tybee Island, GA</td>\n",
       "    </tr>\n",
       "    <tr>\n",
       "      <th>12</th>\n",
       "      <td>StingRay’s Seafood</td>\n",
       "      <td>https://www.yelp.com/biz/stingrays-seafood-tyb...</td>\n",
       "      <td>Tybee Island, GA</td>\n",
       "    </tr>\n",
       "    <tr>\n",
       "      <th>13</th>\n",
       "      <td>North Beach Bar and Grill</td>\n",
       "      <td>https://www.yelp.com/biz/north-beach-bar-and-g...</td>\n",
       "      <td>Tybee Island, GA</td>\n",
       "    </tr>\n",
       "    <tr>\n",
       "      <th>14</th>\n",
       "      <td>Cockspur Grill</td>\n",
       "      <td>https://www.yelp.com/biz/cockspur-grill-tybee-...</td>\n",
       "      <td>Tybee Island, GA</td>\n",
       "    </tr>\n",
       "    <tr>\n",
       "      <th>15</th>\n",
       "      <td>Mi Vida</td>\n",
       "      <td>https://www.yelp.com/biz/mi-vida-tybee-island?...</td>\n",
       "      <td>Tybee Island, GA</td>\n",
       "    </tr>\n",
       "    <tr>\n",
       "      <th>16</th>\n",
       "      <td>Pier 16</td>\n",
       "      <td>https://www.yelp.com/biz/pier-16-tybee-island?...</td>\n",
       "      <td>Tybee Island, GA</td>\n",
       "    </tr>\n",
       "    <tr>\n",
       "      <th>17</th>\n",
       "      <td>Ripe Ingredients</td>\n",
       "      <td>https://www.yelp.com/biz/ripe-ingredients-tybe...</td>\n",
       "      <td>Tybee Island, GA</td>\n",
       "    </tr>\n",
       "    <tr>\n",
       "      <th>18</th>\n",
       "      <td>Raw Ingredients</td>\n",
       "      <td>https://www.yelp.com/biz/raw-ingredients-tybee...</td>\n",
       "      <td>Tybee Island, GA</td>\n",
       "    </tr>\n",
       "    <tr>\n",
       "      <th>19</th>\n",
       "      <td>Spanky’s Beachside</td>\n",
       "      <td>https://www.yelp.com/biz/spankys-beachside-tyb...</td>\n",
       "      <td>Tybee Island, GA</td>\n",
       "    </tr>\n",
       "  </tbody>\n",
       "</table>\n",
       "</div>"
      ],
      "text/plain": [
       "                                    restaurant  \\\n",
       "0                                     The Deck   \n",
       "1                      Salt Island Fish & Beer   \n",
       "2                               The Crab Shack   \n",
       "3                                  Sundae Cafe   \n",
       "4                                Bubba Gumbo’s   \n",
       "5                         Coco’s Sunset Grille   \n",
       "6                               Sea Wolf Tybee   \n",
       "7                                   Huc A Poos   \n",
       "8   The Tybee Bakery Featuring Cafe Miss Korea   \n",
       "9                        Chamacos Tacos & Surf   \n",
       "10                   A-J’s Dockside Restaurant   \n",
       "11                         Agave Bar And Grill   \n",
       "12                          StingRay’s Seafood   \n",
       "13                   North Beach Bar and Grill   \n",
       "14                              Cockspur Grill   \n",
       "15                                     Mi Vida   \n",
       "16                                     Pier 16   \n",
       "17                            Ripe Ingredients   \n",
       "18                             Raw Ingredients   \n",
       "19                          Spanky’s Beachside   \n",
       "\n",
       "                                              website          location  \n",
       "0   https://www.yelp.com/biz/the-deck-tybee-island...  Tybee Island, GA  \n",
       "1   https://www.yelp.com/biz/salt-island-fish-and-...  Tybee Island, GA  \n",
       "2   https://www.yelp.com/biz/the-crab-shack-tybee-...  Tybee Island, GA  \n",
       "3   https://www.yelp.com/biz/sundae-cafe-tybee-isl...  Tybee Island, GA  \n",
       "4   https://www.yelp.com/biz/bubba-gumbos-tybee-is...  Tybee Island, GA  \n",
       "5   https://www.yelp.com/biz/cocos-sunset-grille-t...  Tybee Island, GA  \n",
       "6   https://www.yelp.com/biz/sea-wolf-tybee-tybee-...  Tybee Island, GA  \n",
       "7   https://www.yelp.com/biz/huc-a-poos-tybee-isla...  Tybee Island, GA  \n",
       "8   https://www.yelp.com/biz/the-tybee-bakery-feat...  Tybee Island, GA  \n",
       "9   https://www.yelp.com/biz/chamacos-tacos-and-su...  Tybee Island, GA  \n",
       "10  https://www.yelp.com/biz/a-js-dockside-restaur...  Tybee Island, GA  \n",
       "11  https://www.yelp.com/biz/agave-bar-and-grill-t...  Tybee Island, GA  \n",
       "12  https://www.yelp.com/biz/stingrays-seafood-tyb...  Tybee Island, GA  \n",
       "13  https://www.yelp.com/biz/north-beach-bar-and-g...  Tybee Island, GA  \n",
       "14  https://www.yelp.com/biz/cockspur-grill-tybee-...  Tybee Island, GA  \n",
       "15  https://www.yelp.com/biz/mi-vida-tybee-island?...  Tybee Island, GA  \n",
       "16  https://www.yelp.com/biz/pier-16-tybee-island?...  Tybee Island, GA  \n",
       "17  https://www.yelp.com/biz/ripe-ingredients-tybe...  Tybee Island, GA  \n",
       "18  https://www.yelp.com/biz/raw-ingredients-tybee...  Tybee Island, GA  \n",
       "19  https://www.yelp.com/biz/spankys-beachside-tyb...  Tybee Island, GA  "
      ]
     },
     "execution_count": 101,
     "metadata": {},
     "output_type": "execute_result"
    }
   ],
   "source": [
    "tybee_restaurants['location'] = 'Tybee Island, GA'\n",
    "tybee_restaurants"
   ]
  },
  {
   "cell_type": "markdown",
   "id": "3f273748",
   "metadata": {},
   "source": [
    "# All Restaurants"
   ]
  },
  {
   "cell_type": "code",
   "execution_count": 102,
   "id": "3a6e5f2c",
   "metadata": {},
   "outputs": [
    {
     "data": {
      "text/html": [
       "<div>\n",
       "<style scoped>\n",
       "    .dataframe tbody tr th:only-of-type {\n",
       "        vertical-align: middle;\n",
       "    }\n",
       "\n",
       "    .dataframe tbody tr th {\n",
       "        vertical-align: top;\n",
       "    }\n",
       "\n",
       "    .dataframe thead th {\n",
       "        text-align: right;\n",
       "    }\n",
       "</style>\n",
       "<table border=\"1\" class=\"dataframe\">\n",
       "  <thead>\n",
       "    <tr style=\"text-align: right;\">\n",
       "      <th></th>\n",
       "      <th>restaurant</th>\n",
       "      <th>website</th>\n",
       "      <th>location</th>\n",
       "    </tr>\n",
       "  </thead>\n",
       "  <tbody>\n",
       "    <tr>\n",
       "      <th>0</th>\n",
       "      <td>Dockside Seafood Restaurant</td>\n",
       "      <td>https://www.yelp.comhttps://www.yelp.com/biz/h...</td>\n",
       "      <td>Dauphin Island, AL</td>\n",
       "    </tr>\n",
       "    <tr>\n",
       "      <th>1</th>\n",
       "      <td>Dinner’s Ready</td>\n",
       "      <td>https://www.yelp.comhttps://www.yelp.com/biz/r...</td>\n",
       "      <td>Dauphin Island, AL</td>\n",
       "    </tr>\n",
       "    <tr>\n",
       "      <th>2</th>\n",
       "      <td>Island Chevron &amp; Grill</td>\n",
       "      <td>https://www.yelp.comhttps://www.yelp.com/biz/d...</td>\n",
       "      <td>Dauphin Island, AL</td>\n",
       "    </tr>\n",
       "    <tr>\n",
       "      <th>3</th>\n",
       "      <td>Pirate’s Bar and Grill</td>\n",
       "      <td>https://www.yelp.comhttps://www.yelp.com/biz/d...</td>\n",
       "      <td>Dauphin Island, AL</td>\n",
       "    </tr>\n",
       "    <tr>\n",
       "      <th>4</th>\n",
       "      <td>Islanders Restaurant &amp; Bar</td>\n",
       "      <td>https://www.yelp.comhttps://www.yelp.com/biz/p...</td>\n",
       "      <td>Dauphin Island, AL</td>\n",
       "    </tr>\n",
       "    <tr>\n",
       "      <th>...</th>\n",
       "      <td>...</td>\n",
       "      <td>...</td>\n",
       "      <td>...</td>\n",
       "    </tr>\n",
       "    <tr>\n",
       "      <th>128</th>\n",
       "      <td>Mi Vida</td>\n",
       "      <td>https://www.yelp.com/biz/mi-vida-tybee-island?...</td>\n",
       "      <td>Tybee Island, GA</td>\n",
       "    </tr>\n",
       "    <tr>\n",
       "      <th>129</th>\n",
       "      <td>Pier 16</td>\n",
       "      <td>https://www.yelp.com/biz/pier-16-tybee-island?...</td>\n",
       "      <td>Tybee Island, GA</td>\n",
       "    </tr>\n",
       "    <tr>\n",
       "      <th>130</th>\n",
       "      <td>Ripe Ingredients</td>\n",
       "      <td>https://www.yelp.com/biz/ripe-ingredients-tybe...</td>\n",
       "      <td>Tybee Island, GA</td>\n",
       "    </tr>\n",
       "    <tr>\n",
       "      <th>131</th>\n",
       "      <td>Raw Ingredients</td>\n",
       "      <td>https://www.yelp.com/biz/raw-ingredients-tybee...</td>\n",
       "      <td>Tybee Island, GA</td>\n",
       "    </tr>\n",
       "    <tr>\n",
       "      <th>132</th>\n",
       "      <td>Spanky’s Beachside</td>\n",
       "      <td>https://www.yelp.com/biz/spankys-beachside-tyb...</td>\n",
       "      <td>Tybee Island, GA</td>\n",
       "    </tr>\n",
       "  </tbody>\n",
       "</table>\n",
       "<p>133 rows × 3 columns</p>\n",
       "</div>"
      ],
      "text/plain": [
       "                      restaurant  \\\n",
       "0    Dockside Seafood Restaurant   \n",
       "1                 Dinner’s Ready   \n",
       "2         Island Chevron & Grill   \n",
       "3         Pirate’s Bar and Grill   \n",
       "4     Islanders Restaurant & Bar   \n",
       "..                           ...   \n",
       "128                      Mi Vida   \n",
       "129                      Pier 16   \n",
       "130             Ripe Ingredients   \n",
       "131              Raw Ingredients   \n",
       "132           Spanky’s Beachside   \n",
       "\n",
       "                                               website            location  \n",
       "0    https://www.yelp.comhttps://www.yelp.com/biz/h...  Dauphin Island, AL  \n",
       "1    https://www.yelp.comhttps://www.yelp.com/biz/r...  Dauphin Island, AL  \n",
       "2    https://www.yelp.comhttps://www.yelp.com/biz/d...  Dauphin Island, AL  \n",
       "3    https://www.yelp.comhttps://www.yelp.com/biz/d...  Dauphin Island, AL  \n",
       "4    https://www.yelp.comhttps://www.yelp.com/biz/p...  Dauphin Island, AL  \n",
       "..                                                 ...                 ...  \n",
       "128  https://www.yelp.com/biz/mi-vida-tybee-island?...    Tybee Island, GA  \n",
       "129  https://www.yelp.com/biz/pier-16-tybee-island?...    Tybee Island, GA  \n",
       "130  https://www.yelp.com/biz/ripe-ingredients-tybe...    Tybee Island, GA  \n",
       "131  https://www.yelp.com/biz/raw-ingredients-tybee...    Tybee Island, GA  \n",
       "132  https://www.yelp.com/biz/spankys-beachside-tyb...    Tybee Island, GA  \n",
       "\n",
       "[133 rows x 3 columns]"
      ]
     },
     "execution_count": 102,
     "metadata": {},
     "output_type": "execute_result"
    }
   ],
   "source": [
    "all_restaurants = pd.merge(dauphin_restaurants, gulfport_restaurants,\n",
    "                            on=['restaurant', 'website', 'location'],\n",
    "                            how='outer')\n",
    "all_restaurants = pd.merge(all_restaurants, isle_palms_restaurants,\n",
    "                            on=['restaurant', 'website', 'location'],\n",
    "                            how='outer')\n",
    "all_restaurants = pd.merge(all_restaurants, miramar_restaurants,\n",
    "                            on=['restaurant', 'website', 'location'],\n",
    "                            how='outer')\n",
    "all_restaurants = pd.merge(all_restaurants, orange_restaurants,\n",
    "                            on=['restaurant', 'website', 'location'],\n",
    "                            how='outer')\n",
    "all_restaurants = pd.merge(all_restaurants, panama_restaurants,\n",
    "                            on=['restaurant', 'website', 'location'],\n",
    "                            how='outer')\n",
    "all_restaurants = pd.merge(all_restaurants, tybee_restaurants,\n",
    "                            on=['restaurant', 'website', 'location'],\n",
    "                            how='outer')\n",
    "all_restaurants"
   ]
  }
 ],
 "metadata": {
  "kernelspec": {
   "display_name": "Python 3 (ipykernel)",
   "language": "python",
   "name": "python3"
  },
  "language_info": {
   "codemirror_mode": {
    "name": "ipython",
    "version": 3
   },
   "file_extension": ".py",
   "mimetype": "text/x-python",
   "name": "python",
   "nbconvert_exporter": "python",
   "pygments_lexer": "ipython3",
   "version": "3.9.13"
  }
 },
 "nbformat": 4,
 "nbformat_minor": 5
}
