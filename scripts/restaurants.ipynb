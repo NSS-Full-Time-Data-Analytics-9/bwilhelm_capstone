{
 "cells": [
  {
   "cell_type": "code",
   "execution_count": 1,
   "id": "4cbe08b5",
   "metadata": {},
   "outputs": [],
   "source": [
    "import requests\n",
    "import pandas as pd\n",
    "from bs4 import BeautifulSoup as BS\n",
    "import json\n",
    "import seaborn as sns\n",
    "import re\n",
    "from IPython.core.display import HTML"
   ]
  },
  {
   "cell_type": "markdown",
   "id": "b3cd2e3a",
   "metadata": {},
   "source": [
    "# Dauphin Island Restaurants"
   ]
  },
  {
   "cell_type": "code",
   "execution_count": 2,
   "id": "7fc8a725",
   "metadata": {},
   "outputs": [],
   "source": [
    "URL = 'https://www.townofdauphinisland.org/restaurants'\n",
    "response = requests.get(URL)"
   ]
  },
  {
   "cell_type": "code",
   "execution_count": 3,
   "id": "7017de49",
   "metadata": {},
   "outputs": [],
   "source": [
    "soup = BS(response.text)"
   ]
  },
  {
   "cell_type": "code",
   "execution_count": 4,
   "id": "7728dc93",
   "metadata": {
    "scrolled": true
   },
   "outputs": [
    {
     "data": {
      "text/plain": [
       "[<span class=\"mHZSwn\">top of page</span>,\n",
       " <span style=\"color:#4C6EAB;\"><span style=\"font-size:56px;\">Restaurants</span></span>,\n",
       " <span style=\"font-size:56px;\">Restaurants</span>,\n",
       " <span style=\"font-size:16px;\">Our mouthwatering seafood is harvested locally and includes delicious shrimp, oysters, fish  and crab. There are also great choices for sandwiches, scrumptious pastries and coffee. Whatever you and your family are craving, you’ll find it on Dauphin Island.</span>,\n",
       " <span style=\"font-size:20px;\">BGH Cafe</span>,\n",
       " <span class=\"M3I7Z2 wixui-button__label\">Read More</span>,\n",
       " <span style=\"font-size:20px;\">Circle K</span>,\n",
       " <span class=\"M3I7Z2 wixui-button__label\">Read More</span>,\n",
       " <span style=\"font-size:20px;\">Dockside Seafood</span>,\n",
       " <span class=\"M3I7Z2 wixui-button__label\">Read More</span>,\n",
       " <span style=\"font-size:20px;\">Foxy’s Waffle Bar and Sugar Den</span>,\n",
       " <span class=\"M3I7Z2 wixui-button__label\">Read More</span>,\n",
       " <span style=\"font-size:20px;\">Island Rainbow, LLC</span>,\n",
       " <span class=\"M3I7Z2 wixui-button__label\">Read More</span>,\n",
       " <span style=\"font-size:20px;\">Lighthouse Bakery</span>,\n",
       " <span class=\"M3I7Z2 wixui-button__label\">Read More</span>,\n",
       " <span style=\"font-size:20px;\">Pelican Pub</span>,\n",
       " <span class=\"M3I7Z2 wixui-button__label\">Read More</span>,\n",
       " <span style=\"font-size:20px;\">Pirates Pizza &amp; Wings</span>,\n",
       " <span class=\"M3I7Z2 wixui-button__label\">Read More</span>,\n",
       " <span style=\"font-size:20px;\">Skinner Seafood</span>,\n",
       " <span class=\"M3I7Z2 wixui-button__label\">Read More</span>,\n",
       " <span style=\"font-size:20px;\">Captain Snapper's</span>,\n",
       " <span class=\"M3I7Z2 wixui-button__label\">Read More</span>,\n",
       " <span style=\"font-size:20px;\">Dinner's Ready</span>,\n",
       " <span class=\"M3I7Z2 wixui-button__label\">Read More</span>,\n",
       " <span style=\"font-size:20px;\">Dority's Bar &amp; Grill</span>,\n",
       " <span class=\"M3I7Z2 wixui-button__label\">Read More</span>,\n",
       " <span style=\"font-size:20px;\">Island Chevron &amp; Grill</span>,\n",
       " <span class=\"M3I7Z2 wixui-button__label\">Read More</span>,\n",
       " <span style=\"font-size:20px;\">Islander’s Restaurant &amp; Bar</span>,\n",
       " <span class=\"M3I7Z2 wixui-button__label\">Read More</span>,\n",
       " <span style=\"font-size:20px;\">Miguel's Beach'n Baja</span>,\n",
       " <span class=\"M3I7Z2 wixui-button__label\">Read More</span>,\n",
       " <span style=\"font-size:20px;\">Pirates Bar &amp; Grill</span>,\n",
       " <span class=\"M3I7Z2 wixui-button__label\">Read More</span>,\n",
       " <span style=\"font-size:20px;\">Reel Deal BBQ &amp; Seafood</span>,\n",
       " <span class=\"M3I7Z2 wixui-button__label\">Read More</span>,\n",
       " <span style=\"text-decoration:underline;\"><a href=\"tel:+1-251-861-5525\">(251) 861-5525</a></span>,\n",
       " <span style=\"text-decoration:underline;\"><a href=\"mailto:jmclester@townofdauphinisland.org\" target=\"_self\">email</a></span>,\n",
       " <span class=\"M3I7Z2 wixui-button__label\">View Map &amp; Directions</span>,\n",
       " <span class=\"M3I7Z2 wixui-button__label\">Hurricane Re-Entry Passes</span>,\n",
       " <span style=\"text-decoration:underline;\"><a href=\"tel:251-861-5525\">(251) 861-5525</a></span>,\n",
       " <span class=\"M3I7Z2 wixui-button__label\">Emergency Information</span>,\n",
       " <span class=\"M3I7Z2 wixui-button__label\">Get Directions</span>,\n",
       " <span class=\"mHZSwn\">bottom of page</span>]"
      ]
     },
     "execution_count": 4,
     "metadata": {},
     "output_type": "execute_result"
    }
   ],
   "source": [
    "restaurants = soup.findAll('span')\n",
    "restaurants"
   ]
  },
  {
   "cell_type": "code",
   "execution_count": 5,
   "id": "8d8243c4",
   "metadata": {},
   "outputs": [],
   "source": [
    "restaurants_list = []\n",
    "\n",
    "for x in soup.select('span'):\n",
    "    restaurants_list.append(x.text)"
   ]
  },
  {
   "cell_type": "code",
   "execution_count": 6,
   "id": "6dd85e12",
   "metadata": {},
   "outputs": [
    {
     "data": {
      "text/plain": [
       "['BGH Cafe',\n",
       " 'Read More',\n",
       " 'Circle K',\n",
       " 'Read More',\n",
       " 'Dockside Seafood',\n",
       " 'Read More',\n",
       " 'Foxy’s Waffle Bar and Sugar Den',\n",
       " 'Read More',\n",
       " 'Island Rainbow, LLC',\n",
       " 'Read More',\n",
       " 'Lighthouse Bakery',\n",
       " 'Read More',\n",
       " 'Pelican Pub',\n",
       " 'Read More',\n",
       " 'Pirates Pizza & Wings',\n",
       " 'Read More',\n",
       " 'Skinner Seafood',\n",
       " 'Read More',\n",
       " \"Captain Snapper's\",\n",
       " 'Read More',\n",
       " \"Dinner's Ready\",\n",
       " 'Read More',\n",
       " \"Dority's Bar & Grill\",\n",
       " 'Read More',\n",
       " 'Island Chevron & Grill',\n",
       " 'Read More',\n",
       " 'Islander’s Restaurant & Bar',\n",
       " 'Read More',\n",
       " \"Miguel's Beach'n Baja\",\n",
       " 'Read More',\n",
       " 'Pirates Bar & Grill',\n",
       " 'Read More',\n",
       " 'Reel Deal BBQ & Seafood',\n",
       " 'Read More',\n",
       " '(251) 861-5525',\n",
       " 'email',\n",
       " 'View Map & Directions',\n",
       " 'Hurricane Re-Entry Passes',\n",
       " '(251) 861-5525',\n",
       " 'Emergency Information',\n",
       " 'Get Directions',\n",
       " 'bottom of page']"
      ]
     },
     "execution_count": 6,
     "metadata": {},
     "output_type": "execute_result"
    }
   ],
   "source": [
    "restaurants_list = restaurants_list[4:]\n",
    "restaurants_list"
   ]
  },
  {
   "cell_type": "code",
   "execution_count": 7,
   "id": "94664680",
   "metadata": {},
   "outputs": [],
   "source": [
    "restaurants_list = restaurants_list[:-9]"
   ]
  },
  {
   "cell_type": "code",
   "execution_count": 8,
   "id": "d7a0ca5b",
   "metadata": {},
   "outputs": [
    {
     "data": {
      "text/html": [
       "<div>\n",
       "<style scoped>\n",
       "    .dataframe tbody tr th:only-of-type {\n",
       "        vertical-align: middle;\n",
       "    }\n",
       "\n",
       "    .dataframe tbody tr th {\n",
       "        vertical-align: top;\n",
       "    }\n",
       "\n",
       "    .dataframe thead th {\n",
       "        text-align: right;\n",
       "    }\n",
       "</style>\n",
       "<table border=\"1\" class=\"dataframe\">\n",
       "  <thead>\n",
       "    <tr style=\"text-align: right;\">\n",
       "      <th></th>\n",
       "      <th>restaurant</th>\n",
       "    </tr>\n",
       "  </thead>\n",
       "  <tbody>\n",
       "    <tr>\n",
       "      <th>0</th>\n",
       "      <td>BGH Cafe</td>\n",
       "    </tr>\n",
       "    <tr>\n",
       "      <th>1</th>\n",
       "      <td>Circle K</td>\n",
       "    </tr>\n",
       "    <tr>\n",
       "      <th>2</th>\n",
       "      <td>Dockside Seafood</td>\n",
       "    </tr>\n",
       "    <tr>\n",
       "      <th>3</th>\n",
       "      <td>Foxy’s Waffle Bar and Sugar Den</td>\n",
       "    </tr>\n",
       "    <tr>\n",
       "      <th>4</th>\n",
       "      <td>Island Rainbow, LLC</td>\n",
       "    </tr>\n",
       "    <tr>\n",
       "      <th>5</th>\n",
       "      <td>Lighthouse Bakery</td>\n",
       "    </tr>\n",
       "    <tr>\n",
       "      <th>6</th>\n",
       "      <td>Pelican Pub</td>\n",
       "    </tr>\n",
       "    <tr>\n",
       "      <th>7</th>\n",
       "      <td>Pirates Pizza &amp; Wings</td>\n",
       "    </tr>\n",
       "    <tr>\n",
       "      <th>8</th>\n",
       "      <td>Skinner Seafood</td>\n",
       "    </tr>\n",
       "    <tr>\n",
       "      <th>9</th>\n",
       "      <td>Captain Snapper's</td>\n",
       "    </tr>\n",
       "    <tr>\n",
       "      <th>10</th>\n",
       "      <td>Dinner's Ready</td>\n",
       "    </tr>\n",
       "    <tr>\n",
       "      <th>11</th>\n",
       "      <td>Dority's Bar &amp; Grill</td>\n",
       "    </tr>\n",
       "    <tr>\n",
       "      <th>12</th>\n",
       "      <td>Island Chevron &amp; Grill</td>\n",
       "    </tr>\n",
       "    <tr>\n",
       "      <th>13</th>\n",
       "      <td>Islander’s Restaurant &amp; Bar</td>\n",
       "    </tr>\n",
       "    <tr>\n",
       "      <th>14</th>\n",
       "      <td>Miguel's Beach'n Baja</td>\n",
       "    </tr>\n",
       "    <tr>\n",
       "      <th>15</th>\n",
       "      <td>Pirates Bar &amp; Grill</td>\n",
       "    </tr>\n",
       "    <tr>\n",
       "      <th>16</th>\n",
       "      <td>Reel Deal BBQ &amp; Seafood</td>\n",
       "    </tr>\n",
       "  </tbody>\n",
       "</table>\n",
       "</div>"
      ],
      "text/plain": [
       "                         restaurant\n",
       "0                          BGH Cafe\n",
       "1                          Circle K\n",
       "2                  Dockside Seafood\n",
       "3   Foxy’s Waffle Bar and Sugar Den\n",
       "4               Island Rainbow, LLC\n",
       "5                 Lighthouse Bakery\n",
       "6                       Pelican Pub\n",
       "7             Pirates Pizza & Wings\n",
       "8                   Skinner Seafood\n",
       "9                 Captain Snapper's\n",
       "10                   Dinner's Ready\n",
       "11             Dority's Bar & Grill\n",
       "12           Island Chevron & Grill\n",
       "13      Islander’s Restaurant & Bar\n",
       "14            Miguel's Beach'n Baja\n",
       "15              Pirates Bar & Grill\n",
       "16          Reel Deal BBQ & Seafood"
      ]
     },
     "execution_count": 8,
     "metadata": {},
     "output_type": "execute_result"
    }
   ],
   "source": [
    "dauphin_restaurants = pd.DataFrame({'restaurant' :restaurants_list})\n",
    "dauphin_restaurants = dauphin_restaurants[dauphin_restaurants['restaurant'].str.contains('Read More')==False].reset_index(drop=True)\n",
    "dauphin_restaurants"
   ]
  },
  {
   "cell_type": "code",
   "execution_count": null,
   "id": "45ed6344",
   "metadata": {},
   "outputs": [],
   "source": []
  }
 ],
 "metadata": {
  "kernelspec": {
   "display_name": "Python 3 (ipykernel)",
   "language": "python",
   "name": "python3"
  },
  "language_info": {
   "codemirror_mode": {
    "name": "ipython",
    "version": 3
   },
   "file_extension": ".py",
   "mimetype": "text/x-python",
   "name": "python",
   "nbconvert_exporter": "python",
   "pygments_lexer": "ipython3",
   "version": "3.9.13"
  }
 },
 "nbformat": 4,
 "nbformat_minor": 5
}
