{
 "cells": [
  {
   "cell_type": "code",
   "execution_count": 1,
   "id": "031a383d",
   "metadata": {},
   "outputs": [],
   "source": [
    "import requests\n",
    "import pandas as pd\n",
    "from bs4 import BeautifulSoup as BS\n",
    "import json\n",
    "import seaborn as sns\n",
    "import re\n",
    "from IPython.core.display import HTML"
   ]
  },
  {
   "cell_type": "code",
   "execution_count": 2,
   "id": "5e622d6b",
   "metadata": {},
   "outputs": [],
   "source": [
    "URL = 'https://destinationpanamacity.com/restaurants/'"
   ]
  },
  {
   "cell_type": "code",
   "execution_count": 3,
   "id": "e3077a46",
   "metadata": {},
   "outputs": [],
   "source": [
    "response = requests.get(URL)"
   ]
  },
  {
   "cell_type": "code",
   "execution_count": 4,
   "id": "8ae077fa",
   "metadata": {},
   "outputs": [],
   "source": [
    "soup = BS(response.text)"
   ]
  },
  {
   "cell_type": "markdown",
   "id": "5c3ac97b",
   "metadata": {},
   "source": [
    "# Restaurant Names"
   ]
  },
  {
   "cell_type": "code",
   "execution_count": 5,
   "id": "f2ea1429",
   "metadata": {
    "scrolled": true
   },
   "outputs": [
    {
     "data": {
      "text/plain": [
       "[<h2 class=\"loc-list__title\">Alice’s on Bayview</h2>,\n",
       " <h2 class=\"loc-list__title\">Aloha Poke Sushi &amp; Hibachi</h2>,\n",
       " <h2 class=\"loc-list__title\">Amavida Coffee &amp; Tea</h2>,\n",
       " <h2 class=\"loc-list__title\">Apna Restaurant</h2>,\n",
       " <h2 class=\"loc-list__title\">Applebee’s Neighborhood Grill &amp; Bar</h2>,\n",
       " <h2 class=\"loc-list__title\">Barberitos Southwestern Grille and Cantina</h2>,\n",
       " <h2 class=\"loc-list__title\">Barefoot on the Bay</h2>,\n",
       " <h2 class=\"loc-list__title\">Bayou Joe’s Marina &amp; Grill</h2>,\n",
       " <h2 class=\"loc-list__title\">Bellini Cafe and Cocktail Lounge</h2>,\n",
       " <h2 class=\"loc-list__title\">Big Mama’s on the Bayou</h2>,\n",
       " <h2 class=\"loc-list__title\">Buddy Gandy’s Seafood Market</h2>,\n",
       " <h2 class=\"loc-list__title\">Caffe del Mundo</h2>,\n",
       " <h2 class=\"loc-list__title\">Cahall’s Deli</h2>,\n",
       " <h2 class=\"loc-list__title\">Captain’s Table Fish House</h2>,\n",
       " <h2 class=\"loc-list__title\">Charlie Coram’s Place</h2>,\n",
       " <h2 class=\"loc-list__title\">Chicken Salad Chick</h2>,\n",
       " <h2 class=\"loc-list__title\">Chili’s Bar &amp; Grill</h2>,\n",
       " <h2 class=\"loc-list__title\">China Wok Great Food Fast</h2>,\n",
       " <h2 class=\"loc-list__title\">Chipotle Mexican Grill</h2>,\n",
       " <h2 class=\"loc-list__title\">Chow Time Grill &amp; Buffet</h2>,\n",
       " <h2 class=\"loc-list__title\">Copper Tap Grille</h2>,\n",
       " <h2 class=\"loc-list__title\">Cracker Barrel Old Country Store</h2>,\n",
       " <h2 class=\"loc-list__title\">Crafty Crab Panama City</h2>,\n",
       " <h2 class=\"loc-list__title\">Dan-D-Donuts &amp; Deli</h2>,\n",
       " <h2 class=\"loc-list__title\">Downtown Slice House</h2>,\n",
       " <h2 class=\"loc-list__title\">El Jalisco</h2>,\n",
       " <h2 class=\"loc-list__title\">El Weirdo – TacoPub</h2>,\n",
       " <h2 class=\"loc-list__title\">Enzo’s Pizza and Grill</h2>,\n",
       " <h2 class=\"loc-list__title\">Fat &amp; Weird Cookie</h2>,\n",
       " <h2 class=\"loc-list__title\">Ferrucci Ristorante</h2>,\n",
       " <h2 class=\"loc-list__title\">Fin’s Japanese Sushi &amp; Grill</h2>,\n",
       " <h2 class=\"loc-list__title\">Finns Island Style Grub</h2>,\n",
       " <h2 class=\"loc-list__title\">Five Guys Burgers and Fries</h2>,\n",
       " <h2 class=\"loc-list__title\">Gamo’s Pizza</h2>,\n",
       " <h2 class=\"loc-list__title\">Gene’s Oyster Bar</h2>,\n",
       " <h2 class=\"loc-list__title\">Granny Cantrell’s</h2>,\n",
       " <h2 class=\"loc-list__title\">Gyro Cafe</h2>,\n",
       " <h2 class=\"loc-list__title\">Harrison’s Kitchen &amp; Bar</h2>,\n",
       " <h2 class=\"loc-list__title\">Havana Night Restaurant &amp; Bakery</h2>,\n",
       " <h2 class=\"loc-list__title\">Havana1980</h2>,\n",
       " <h2 class=\"loc-list__title\">History Class Brewing Company</h2>,\n",
       " <h2 class=\"loc-list__title\">Holi Indian Grill</h2>,\n",
       " <h2 class=\"loc-list__title\">House of Henry</h2>,\n",
       " <h2 class=\"loc-list__title\">Hunt’s Oyster Bar</h2>,\n",
       " <h2 class=\"loc-list__title\">Jamaican Food Store and Cafe</h2>,\n",
       " <h2 class=\"loc-list__title\">Jin Jin 88</h2>,\n",
       " <h2 class=\"loc-list__title\">John Holley Dining Room</h2>,\n",
       " <h2 class=\"loc-list__title\">Josiah’s Southern Cooking</h2>,\n",
       " <h2 class=\"loc-list__title\">La Michoacana Restaurant</h2>,\n",
       " <h2 class=\"loc-list__title\">Lone Star Boil House &amp; Raw Bar</h2>,\n",
       " <h2 class=\"loc-list__title\">Los Antojitos</h2>,\n",
       " <h2 class=\"loc-list__title\">Los Rancheros</h2>,\n",
       " <h2 class=\"loc-list__title\">Luna Muna CafeBar</h2>,\n",
       " <h2 class=\"loc-list__title\">Maddie’s La Casita</h2>,\n",
       " <h2 class=\"loc-list__title\">Major’s Smokehouse</h2>,\n",
       " <h2 class=\"loc-list__title\">Millies</h2>,\n",
       " <h2 class=\"loc-list__title\">Mission BBQ</h2>,\n",
       " <h2 class=\"loc-list__title\">Moe’s Southwestern Grill</h2>,\n",
       " <h2 class=\"loc-list__title\">Mosey’s Downtown</h2>,\n",
       " <h2 class=\"loc-list__title\">My Thai Asian Bistro</h2>,\n",
       " <h2 class=\"loc-list__title\">New York’s Famous Pizza &amp; Pasta</h2>,\n",
       " <h2 class=\"loc-list__title\">Newk’s Eatery</h2>,\n",
       " <h2 class=\"loc-list__title\">No Name Lounge</h2>,\n",
       " <h2 class=\"loc-list__title\">O’Charley’s</h2>,\n",
       " <h2 class=\"loc-list__title\">Ocean Oriental Market</h2>,\n",
       " <h2 class=\"loc-list__title\">Olive Garden</h2>,\n",
       " <h2 class=\"loc-list__title\">Outback Steakhouse</h2>,\n",
       " <h2 class=\"loc-list__title\">Pana Roma Pizza &amp; Pasta</h2>,\n",
       " <h2 class=\"loc-list__title\">Panaderia La Real</h2>,\n",
       " <h2 class=\"loc-list__title\">Pepper’s Mexican Grill</h2>,\n",
       " <h2 class=\"loc-list__title\">Persis Biryani Indian Grill</h2>,\n",
       " <h2 class=\"loc-list__title\">Pizza Amore</h2>,\n",
       " <h2 class=\"loc-list__title\">Ramon’s Pizza</h2>,\n",
       " <h2 class=\"loc-list__title\">Red Lobster</h2>,\n",
       " <h2 class=\"loc-list__title\">Red’s Pizza</h2>,\n",
       " <h2 class=\"loc-list__title\">Slim Chickens</h2>,\n",
       " <h2 class=\"loc-list__title\">Somethin’s Cookin’</h2>,\n",
       " <h2 class=\"loc-list__title\">St. Andrews Slice House</h2>,\n",
       " <h2 class=\"loc-list__title\">Sugar Buzzed</h2>,\n",
       " <h2 class=\"loc-list__title\">Taco Casa</h2>,\n",
       " <h2 class=\"loc-list__title\">Tally-Ho Drive In</h2>,\n",
       " <h2 class=\"loc-list__title\">Tarpon Dock Seafood Market</h2>,\n",
       " <h2 class=\"loc-list__title\">Taziki’s Mediterranean Cafe</h2>,\n",
       " <h2 class=\"loc-list__title\">TGI Fridays</h2>,\n",
       " <h2 class=\"loc-list__title\">Thai Basil Bar &amp; Restaurant</h2>,\n",
       " <h2 class=\"loc-list__title\">The Bagel Maker</h2>,\n",
       " <h2 class=\"loc-list__title\">The Bistro Southern Cafeteria</h2>,\n",
       " <h2 class=\"loc-list__title\">The Crazy Donkey Mexican Grill</h2>,\n",
       " <h2 class=\"loc-list__title\">The Place Downtown</h2>,\n",
       " <h2 class=\"loc-list__title\">The Press</h2>,\n",
       " <h2 class=\"loc-list__title\">The Shrimp Boat Restaurant</h2>,\n",
       " <h2 class=\"loc-list__title\">Tokyo Steak House</h2>,\n",
       " <h2 class=\"loc-list__title\">Tom’s Hot Dogs</h2>,\n",
       " <h2 class=\"loc-list__title\">Trigo San Francisco Style Deli</h2>,\n",
       " <h2 class=\"loc-list__title\">Tudor’s Biscuit World</h2>,\n",
       " <h2 class=\"loc-list__title\">Uncle Ernie’s Bayfront Grill</h2>,\n",
       " <h2 class=\"loc-list__title\">Waffle Shoppe</h2>]"
      ]
     },
     "execution_count": 5,
     "metadata": {},
     "output_type": "execute_result"
    }
   ],
   "source": [
    "names = soup.findAll('h2')\n",
    "names"
   ]
  },
  {
   "cell_type": "code",
   "execution_count": 6,
   "id": "853cf64e",
   "metadata": {},
   "outputs": [],
   "source": [
    "names = []\n",
    "\n",
    "for x in soup.select('h2'):\n",
    "    names.append(x.text)"
   ]
  },
  {
   "cell_type": "code",
   "execution_count": 7,
   "id": "ba66a1cc",
   "metadata": {},
   "outputs": [
    {
     "data": {
      "text/html": [
       "<div>\n",
       "<style scoped>\n",
       "    .dataframe tbody tr th:only-of-type {\n",
       "        vertical-align: middle;\n",
       "    }\n",
       "\n",
       "    .dataframe tbody tr th {\n",
       "        vertical-align: top;\n",
       "    }\n",
       "\n",
       "    .dataframe thead th {\n",
       "        text-align: right;\n",
       "    }\n",
       "</style>\n",
       "<table border=\"1\" class=\"dataframe\">\n",
       "  <thead>\n",
       "    <tr style=\"text-align: right;\">\n",
       "      <th></th>\n",
       "      <th>restaurant</th>\n",
       "    </tr>\n",
       "  </thead>\n",
       "  <tbody>\n",
       "    <tr>\n",
       "      <th>0</th>\n",
       "      <td>Alice’s on Bayview</td>\n",
       "    </tr>\n",
       "    <tr>\n",
       "      <th>1</th>\n",
       "      <td>Aloha Poke Sushi &amp; Hibachi</td>\n",
       "    </tr>\n",
       "    <tr>\n",
       "      <th>2</th>\n",
       "      <td>Amavida Coffee &amp; Tea</td>\n",
       "    </tr>\n",
       "    <tr>\n",
       "      <th>3</th>\n",
       "      <td>Apna Restaurant</td>\n",
       "    </tr>\n",
       "    <tr>\n",
       "      <th>4</th>\n",
       "      <td>Applebee’s Neighborhood Grill &amp; Bar</td>\n",
       "    </tr>\n",
       "    <tr>\n",
       "      <th>...</th>\n",
       "      <td>...</td>\n",
       "    </tr>\n",
       "    <tr>\n",
       "      <th>92</th>\n",
       "      <td>Tom’s Hot Dogs</td>\n",
       "    </tr>\n",
       "    <tr>\n",
       "      <th>93</th>\n",
       "      <td>Trigo San Francisco Style Deli</td>\n",
       "    </tr>\n",
       "    <tr>\n",
       "      <th>94</th>\n",
       "      <td>Tudor’s Biscuit World</td>\n",
       "    </tr>\n",
       "    <tr>\n",
       "      <th>95</th>\n",
       "      <td>Uncle Ernie’s Bayfront Grill</td>\n",
       "    </tr>\n",
       "    <tr>\n",
       "      <th>96</th>\n",
       "      <td>Waffle Shoppe</td>\n",
       "    </tr>\n",
       "  </tbody>\n",
       "</table>\n",
       "<p>97 rows × 1 columns</p>\n",
       "</div>"
      ],
      "text/plain": [
       "                             restaurant\n",
       "0                    Alice’s on Bayview\n",
       "1            Aloha Poke Sushi & Hibachi\n",
       "2                  Amavida Coffee & Tea\n",
       "3                       Apna Restaurant\n",
       "4   Applebee’s Neighborhood Grill & Bar\n",
       "..                                  ...\n",
       "92                       Tom’s Hot Dogs\n",
       "93       Trigo San Francisco Style Deli\n",
       "94                Tudor’s Biscuit World\n",
       "95         Uncle Ernie’s Bayfront Grill\n",
       "96                        Waffle Shoppe\n",
       "\n",
       "[97 rows x 1 columns]"
      ]
     },
     "execution_count": 7,
     "metadata": {},
     "output_type": "execute_result"
    }
   ],
   "source": [
    "panama_restaurants = pd.DataFrame({'restaurant':names})\n",
    "panama_restaurants"
   ]
  },
  {
   "cell_type": "code",
   "execution_count": null,
   "id": "161ef565",
   "metadata": {},
   "outputs": [],
   "source": []
  }
 ],
 "metadata": {
  "kernelspec": {
   "display_name": "Python 3 (ipykernel)",
   "language": "python",
   "name": "python3"
  },
  "language_info": {
   "codemirror_mode": {
    "name": "ipython",
    "version": 3
   },
   "file_extension": ".py",
   "mimetype": "text/x-python",
   "name": "python",
   "nbconvert_exporter": "python",
   "pygments_lexer": "ipython3",
   "version": "3.9.13"
  }
 },
 "nbformat": 4,
 "nbformat_minor": 5
}
