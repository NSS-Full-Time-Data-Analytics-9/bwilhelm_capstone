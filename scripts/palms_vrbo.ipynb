{
 "cells": [
  {
   "cell_type": "code",
   "execution_count": 1,
   "id": "c3ef63e0",
   "metadata": {},
   "outputs": [],
   "source": [
    "import requests\n",
    "import pandas as pd\n",
    "from bs4 import BeautifulSoup as BS\n",
    "import json\n",
    "import seaborn as sns\n",
    "import re\n",
    "from IPython.core.display import HTML"
   ]
  },
  {
   "cell_type": "code",
   "execution_count": 2,
   "id": "043b51b3",
   "metadata": {},
   "outputs": [],
   "source": [
    "palms = pd.read_csv('../data/palms_may6_vrbo.csv')"
   ]
  },
  {
   "cell_type": "code",
   "execution_count": 3,
   "id": "d7ff0fcc",
   "metadata": {},
   "outputs": [],
   "source": [
    "palms = palms.drop_duplicates('data.results.listings.listingId')"
   ]
  },
  {
   "cell_type": "code",
   "execution_count": 4,
   "id": "d2c11579",
   "metadata": {},
   "outputs": [],
   "source": [
    "palms = palms.rename(columns={'data.results.listings.bedrooms':'bedrooms', 'data.results.listings.propertyType':'type',\n",
    "       'data.results.listings.sleeps':'sleeps', 'data.results.listings.petsAllowed':'pets_allowed',\n",
    "       'data.results.listings.averageRating':'rating',\n",
    "       'data.results.listings.reviewCount':'review_count',\n",
    "       'data.results.listings.bathrooms.full':'full_bathrooms',\n",
    "       'data.results.listings.bathrooms.half':'half_bathrooms',\n",
    "        'data.results.listings.prices.perNight.roundedFormattedAmount':'cost_night',\n",
    "       'data.results.listings.geoCode.latitude':'latitude',\n",
    "       'data.results.listings.geoCode.longitude':'longitude'})"
   ]
  },
  {
   "cell_type": "code",
   "execution_count": 5,
   "id": "82d952f7",
   "metadata": {},
   "outputs": [],
   "source": [
    "palms = palms.drop(columns = {'data.results.listings.virtualTourBadge',\n",
    "       'data.results.listings.listingId',\n",
    "       'data.results.listings.detailPageUrl',\n",
    "       'data.results.listings.instantBookable',\n",
    "       'data.results.listings.listingNumber',\n",
    "       'data.results.listings.propertyId',\n",
    "        'data.results.listings.__typename',\n",
    "        'data.results.listings.minStayRange.minStayHigh',\n",
    "       'data.results.listings.minStayRange.minStayLow',\n",
    "       'data.results.listings.minStayRange.__typename',\n",
    "       'data.results.listings.propertyMetadata.headline',\n",
    "       'data.results.listings.propertyMetadata.__typename',\n",
    "       'data.results.listings.unitMetadata.unitName',\n",
    "       'data.results.listings.unitMetadata.__typename',\n",
    "        'data.results.listings.bathrooms.toiletOnly',\n",
    "       'data.results.listings.bathrooms.__typename',\n",
    "       'data.results.listings.spaces.__typename',\n",
    "       'data.results.listings.spaces.spacesSummary.bedCountDisplay',\n",
    "       'data.results.listings.spaces.spacesSummary.__typename',\n",
    "       'data.results.listings.spaces.spacesSummary.area.areaValue',\n",
    "       'data.results.listings.spaces.spacesSummary.area.__typename',\n",
    "       'data.results.listings.geoDistance.text',\n",
    "       'data.results.listings.geoDistance.relationType',\n",
    "       'data.results.listings.geoDistance.__typename',\n",
    "       'data.results.listings.priceSummary.priceAccurate',\n",
    "       'data.results.listings.priceSummary.priceTypeId',\n",
    "       'data.results.listings.priceSummary.edapEventJson',\n",
    "       'data.results.listings.priceSummary.formattedAmount',\n",
    "       'data.results.listings.priceSummary.roundedFormattedAmount',\n",
    "       'data.results.listings.priceSummary.pricePeriodDescription',\n",
    "       'data.results.listings.priceSummary.__typename',\n",
    "       'data.results.listings.priceSummarySecondary.priceTypeId',\n",
    "       'data.results.listings.priceSummarySecondary.edapEventJson',\n",
    "       'data.results.listings.priceSummarySecondary.formattedAmount',\n",
    "       'data.results.listings.priceSummarySecondary.roundedFormattedAmount',\n",
    "       'data.results.listings.priceSummarySecondary.pricePeriodDescription',\n",
    "       'data.results.listings.priceSummarySecondary.__typename',\n",
    "       'data.results.listings.priceLabel.priceTypeId',\n",
    "       'data.results.listings.priceLabel.pricePeriodDescription',\n",
    "       'data.results.listings.priceLabel.__typename',\n",
    "       'data.results.listings.prices.mainPrice',\n",
    "       'data.results.listings.prices.__typename',\n",
    "       'data.results.listings.prices.perNight.amount',\n",
    "       'data.results.listings.prices.perNight.formattedAmount',\n",
    "         'data.results.listings.prices.perNight.pricePeriodDescription',\n",
    "       'data.results.listings.prices.perNight.__typename',\n",
    "       'data.results.listings.prices.total.amount',\n",
    "       'data.results.listings.prices.total.formattedAmount',\n",
    "       'data.results.listings.prices.total.roundedFormattedAmount',\n",
    "       'data.results.listings.prices.total.pricePeriodDescription',\n",
    "       'data.results.listings.prices.total.__typename',\n",
    "        'data.results.listings.geoCode.__typename',\n",
    "       'data.results.listings.amenitiesBadges[0].id',\n",
    "       'data.results.listings.amenitiesBadges[0].name',\n",
    "       'data.results.listings.amenitiesBadges[0].helpText',\n",
    "       'data.results.listings.amenitiesBadges[0].__typename',\n",
    "       'data.results.listings.images[0].altText',\n",
    "       'data.results.listings.images[0].c6_uri',\n",
    "       'data.results.listings.images[0].c9_uri',\n",
    "       'data.results.listings.images[0].mab',\n",
    "       'data.results.listings.images[0].__typename',\n",
    "       'data.results.listings.rankedBadges[0].id',\n",
    "       'data.results.listings.rankedBadges[0].name',\n",
    "       'data.results.listings.rankedBadges[0].helpText',\n",
    "       'data.results.listings.rankedBadges[0].__typename',\n",
    "       'data.results.listings.superlativesBadges[0].id',\n",
    "       'data.results.listings.superlativesBadges[0].name',\n",
    "       'data.results.listings.superlativesBadges[0].helpText',\n",
    "       'data.results.listings.superlativesBadges[0].__typename',\n",
    "       'data.results.listings.virtualTourBadge.id',\n",
    "       'data.results.listings.virtualTourBadge.name',\n",
    "       'data.results.listings.virtualTourBadge.helpText',\n",
    "       'data.results.listings.virtualTourBadge.__typename',\n",
    "       'data.results.listings.images[0].mab.banditId',\n",
    "       'data.results.listings.images[0].mab.payloadId',\n",
    "       'data.results.listings.images[0].mab.campaignId',\n",
    "       'data.results.listings.images[0].mab.cached',\n",
    "       'data.results.listings.images[0].mab.arm',\n",
    "       'data.results.listings.images[0].mab.__typename',\n",
    "       'data.results.listings.webRatingBadges[0].id',\n",
    "       'data.results.listings.webRatingBadges[0].name',\n",
    "       'data.results.listings.webRatingBadges[0].helpText',\n",
    "       'data.results.listings.webRatingBadges[0].__typename', 'data.results.id',\n",
    "       'data.results.propertyRedirectUrl', 'data.results.__typename',\n",
    "       'data.results.resultCount', 'data.results.page',\n",
    "       'data.results.pageSize', 'data.results.pageCount',\n",
    "       'data.results.queryUUID', 'data.results.pinnedListing',\n",
    "       'data.results.fromRecord', 'data.results.toRecord',\n",
    "       'data.results.internalTools', 'data.results.typeaheadSuggestion.name',\n",
    "       'data.results.typeaheadSuggestion.uuid',\n",
    "       'data.results.typeaheadSuggestion.term',\n",
    "       'data.results.typeaheadSuggestion.__typename',\n",
    "       'data.results.geography.name', 'data.results.geography.lbsId',\n",
    "       'data.results.geography.gaiaId', 'data.results.geography.isGeocoded',\n",
    "       'data.results.geography.shouldShowMapCentralPin',\n",
    "       'data.results.geography.__typename',\n",
    "       'data.results.geography.description',\n",
    "       'data.results.geography.primaryGeoType',\n",
    "       'data.results.geography.location.latitude',\n",
    "       'data.results.geography.location.longitude',\n",
    "       'data.results.geography.location.__typename',\n",
    "       'data.results.geography.breadcrumbs[0].name',\n",
    "       'data.results.geography.breadcrumbs[0].countryCode',\n",
    "       'data.results.geography.breadcrumbs[0].primaryGeoType',\n",
    "       'data.results.geography.breadcrumbs[0].__typename',\n",
    "       'data.results.geography.breadcrumbs[0].location.latitude',\n",
    "       'data.results.geography.breadcrumbs[0].location.longitude',\n",
    "       'data.results.geography.breadcrumbs[0].location.__typename',\n",
    "       'data.results.destination.__typename',\n",
    "       'data.results.destination.breadcrumbs[0].name',\n",
    "       'data.results.destination.breadcrumbs[0].url',\n",
    "       'data.results.destination.breadcrumbs[0].__typename',\n",
    "       'data.results.destinationMessage.iconText',\n",
    "       'data.results.destinationMessage.__typename',\n",
    "       'data.results.destinationMessage.iconTitleText.title',\n",
    "       'data.results.destinationMessage.iconTitleText.message',\n",
    "       'data.results.destinationMessage.iconTitleText.icon',\n",
    "       'data.results.destinationMessage.iconTitleText.messageValueType',\n",
    "       'data.results.destinationMessage.iconTitleText.link',\n",
    "       'data.results.destinationMessage.iconTitleText.__typename',\n",
    "       'data.results.percentBooked.currentPercentBooked',\n",
    "       'data.results.percentBooked.__typename', 'data.results.parsedParams.q',\n",
    "       'data.results.parsedParams.sort',\n",
    "       'data.results.parsedParams.__typename',\n",
    "       'data.results.parsedParams.coreFilters.adults',\n",
    "       'data.results.parsedParams.coreFilters.children',\n",
    "       'data.results.parsedParams.coreFilters.pets',\n",
    "       'data.results.parsedParams.coreFilters.minBedrooms',\n",
    "       'data.results.parsedParams.coreFilters.maxBedrooms',\n",
    "       'data.results.parsedParams.coreFilters.minBathrooms',\n",
    "       'data.results.parsedParams.coreFilters.maxBathrooms',\n",
    "       'data.results.parsedParams.coreFilters.minNightlyPrice',\n",
    "       'data.results.parsedParams.coreFilters.maxNightlyPrice',\n",
    "       'data.results.parsedParams.coreFilters.minSleeps',\n",
    "       'data.results.parsedParams.coreFilters.__typename',\n",
    "       'data.results.parsedParams.dates.arrivalDate',\n",
    "       'data.results.parsedParams.dates.departureDate',\n",
    "       'data.results.parsedParams.dates.__typename',\n",
    "       'data.results.mapViewport.neLat', 'data.results.mapViewport.neLong',\n",
    "       'data.results.mapViewport.swLat', 'data.results.mapViewport.swLong',\n",
    "       'data.results.mapViewport.__typename',\n",
    "       'data.results.globalMessages.alert',\n",
    "       'data.results.globalMessages.__typename',\n",
    "       'data.results.globalMessages.banner',\n",
    "       'data.results.filterGroups[0].__typename',\n",
    "       'data.results.filterGroups[0].groupInfo.id',\n",
    "       'data.results.filterGroups[0].groupInfo.name',\n",
    "       'data.results.filterGroups[0].groupInfo.__typename',\n",
    "       'data.results.filterGroups[0].filters[0].count',\n",
    "       'data.results.filterGroups[0].filters[0].checked',\n",
    "       'data.results.filterGroups[0].filters[0].__typename',\n",
    "       'data.results.filterGroups[0].filters[0].filter.id',\n",
    "       'data.results.filterGroups[0].filters[0].filter.name',\n",
    "       'data.results.filterGroups[0].filters[0].filter.refineByQueryArgument',\n",
    "       'data.results.filterGroups[0].filters[0].filter.description',\n",
    "       'data.results.filterGroups[0].filters[0].filter.__typename',\n",
    "       'data.results.filterGroups[0].filters[0].filter.groupId',\n",
    "        'data.results.listings.prices.label'})"
   ]
  },
  {
   "cell_type": "code",
   "execution_count": 6,
   "id": "f5d754d4",
   "metadata": {},
   "outputs": [
    {
     "name": "stderr",
     "output_type": "stream",
     "text": [
      "C:\\Users\\bswil\\AppData\\Local\\Temp\\ipykernel_13532\\3685218847.py:1: FutureWarning: The default value of regex will change from True to False in a future version. In addition, single character regular expressions will *not* be treated as literal strings when regex=True.\n",
      "  palms['cost_night'] = palms['cost_night'].str.replace('$', '')\n"
     ]
    }
   ],
   "source": [
    "palms['cost_night'] = palms['cost_night'].str.replace('$', '')"
   ]
  },
  {
   "cell_type": "code",
   "execution_count": 7,
   "id": "e61dabc6",
   "metadata": {},
   "outputs": [],
   "source": [
    "palms['cost_night'] = palms['cost_night'].str.replace(',', '')"
   ]
  },
  {
   "cell_type": "code",
   "execution_count": 8,
   "id": "06fb9863",
   "metadata": {},
   "outputs": [],
   "source": [
    "palms['cost_night'] = palms['cost_night'].astype(int)"
   ]
  },
  {
   "cell_type": "code",
   "execution_count": 9,
   "id": "f652a5ee",
   "metadata": {},
   "outputs": [],
   "source": [
    "palms['half_bathrooms'] = palms['half_bathrooms']/2"
   ]
  },
  {
   "cell_type": "code",
   "execution_count": 10,
   "id": "67302b1f",
   "metadata": {},
   "outputs": [],
   "source": [
    "palms['bathrooms'] = palms['full_bathrooms']+palms['half_bathrooms']"
   ]
  },
  {
   "cell_type": "code",
   "execution_count": 11,
   "id": "862600eb",
   "metadata": {},
   "outputs": [],
   "source": [
    "palms = palms.drop(columns={'full_bathrooms', 'half_bathrooms'})"
   ]
  },
  {
   "cell_type": "code",
   "execution_count": 12,
   "id": "91c67a46",
   "metadata": {},
   "outputs": [],
   "source": [
    "palms['checkin_month'] = '5'\n",
    "palms['checkin_day'] = '6'"
   ]
  },
  {
   "cell_type": "code",
   "execution_count": 13,
   "id": "033146b8",
   "metadata": {},
   "outputs": [],
   "source": [
    "palms['location'] = 'Isle of Palms'"
   ]
  },
  {
   "cell_type": "code",
   "execution_count": null,
   "id": "2b775657",
   "metadata": {
    "scrolled": false
   },
   "outputs": [],
   "source": []
  },
  {
   "cell_type": "code",
   "execution_count": null,
   "id": "d1b4c34d",
   "metadata": {},
   "outputs": [],
   "source": []
  }
 ],
 "metadata": {
  "kernelspec": {
   "display_name": "Python 3 (ipykernel)",
   "language": "python",
   "name": "python3"
  },
  "language_info": {
   "codemirror_mode": {
    "name": "ipython",
    "version": 3
   },
   "file_extension": ".py",
   "mimetype": "text/x-python",
   "name": "python",
   "nbconvert_exporter": "python",
   "pygments_lexer": "ipython3",
   "version": "3.9.13"
  }
 },
 "nbformat": 4,
 "nbformat_minor": 5
}
